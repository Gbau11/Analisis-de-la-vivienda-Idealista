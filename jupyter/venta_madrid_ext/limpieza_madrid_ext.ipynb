{
 "cells": [
  {
   "cell_type": "code",
   "execution_count": 1,
   "id": "b03f9104",
   "metadata": {},
   "outputs": [],
   "source": [
    "import pandas as pd\n",
    "import numpy as np\n",
    "pd.set_option('display.max_columns', None)\n",
    "pd.set_option('display.max_rows', 200)"
   ]
  },
  {
   "cell_type": "code",
   "execution_count": 2,
   "id": "4e07c013",
   "metadata": {},
   "outputs": [],
   "source": [
    "corredorhenares_0_240k = pd.read_csv('../../data_madrid_ext/corredorhenares_0_240k.csv')\n",
    "corredorhenares_240k_max = pd.read_csv('../../data_madrid_ext/corredorhenares_240k_max.csv')\n",
    "noroeste_400k_800k = pd.read_csv('../../data_madrid_ext/noroeste_400k_800k.csv')\n",
    "noroeste_800k_max = pd.read_csv('../../data_madrid_ext/noroeste_800k_max.csv')\n",
    "noroeste_min_400k = pd.read_csv('../../data_madrid_ext/noroeste_min_400k.csv')\n",
    "norte_397k_max = pd.read_csv('../../data_madrid_ext/norte_397k_max.csv')\n",
    "suroeste_total = pd.read_csv('../../data_madrid_ext/suroeste_total.csv')\n",
    "norte_min_397k = pd.read_csv('../../data_madrid_ext/norte_min_397k.csv')\n",
    "sur_0_220k = pd.read_csv('../../data_madrid_ext/sur_0_220k.csv')\n",
    "sur_220k_max = pd.read_csv('../../data_madrid_ext/sur_220k_max.csv')\n",
    "sureste_total = pd.read_csv('../../data_madrid_ext/sureste_total.csv')"
   ]
  },
  {
   "cell_type": "code",
   "execution_count": null,
   "id": "3350187b",
   "metadata": {},
   "outputs": [],
   "source": [
    "corredorhenares_0_240k.shape, corredorhenares_240k_max.shape, noroeste_400k_800k.shape, noroeste_800k_max.shape\n"
   ]
  },
  {
   "cell_type": "code",
   "execution_count": null,
   "id": "415f909b",
   "metadata": {},
   "outputs": [],
   "source": [
    "corredorhenares_0_240k.columns, corredorhenares_240k_max.columns, noroeste_400k_800k.columns, noroeste_800k_max.columns"
   ]
  },
  {
   "cell_type": "code",
   "execution_count": null,
   "id": "626b2a8f",
   "metadata": {},
   "outputs": [],
   "source": [
    "noroeste_min_400k.shape, norte_397k_max.shape, suroeste_total.shape, norte_min_397k.shape"
   ]
  },
  {
   "cell_type": "code",
   "execution_count": null,
   "id": "25815493",
   "metadata": {},
   "outputs": [],
   "source": [
    "noroeste_min_400k.columns, norte_397k_max.columns, suroeste_total.columns, norte_min_397k.columns"
   ]
  },
  {
   "cell_type": "code",
   "execution_count": null,
   "id": "81c58373",
   "metadata": {},
   "outputs": [],
   "source": [
    "sur_0_220k.shape, sur_220k_max.shape, sureste_total.shape"
   ]
  },
  {
   "cell_type": "code",
   "execution_count": null,
   "id": "72a4dc69",
   "metadata": {},
   "outputs": [],
   "source": [
    "sur_0_220k.columns, sur_220k_max.columns, sureste_total.columns"
   ]
  },
  {
   "cell_type": "code",
   "execution_count": 3,
   "id": "ae4b14b1",
   "metadata": {},
   "outputs": [],
   "source": [
    "columnas_interesantes = ['item-link', 'item-link href', 'item-price', 'item-detail', 'item-detail 2', 'item-detail 3']\n",
    "columnas_interesantes2 = ['item-link', 'item-link href', 'item-price', 'item-detail', 'item-detail 2']"
   ]
  },
  {
   "cell_type": "code",
   "execution_count": 4,
   "id": "d7c2ae4a",
   "metadata": {},
   "outputs": [],
   "source": [
    "corredorhenares_0_240k = corredorhenares_0_240k.loc[:, columnas_interesantes]\n",
    "corredorhenares_240k_max = corredorhenares_240k_max.loc[:, columnas_interesantes]\n",
    "noroeste_400k_800k = noroeste_400k_800k.loc[:, columnas_interesantes]\n",
    "noroeste_800k_max = noroeste_800k_max.loc[:, columnas_interesantes]\n",
    "noroeste_min_400k = noroeste_min_400k.loc[:, columnas_interesantes]\n",
    "norte_397k_max = norte_397k_max.loc[:, columnas_interesantes]\n",
    "suroeste_total = suroeste_total.loc[:, columnas_interesantes]\n",
    "norte_min_397k = norte_min_397k.loc[:, columnas_interesantes2]\n",
    "sur_0_220k = sur_0_220k.loc[:, columnas_interesantes]\n",
    "sur_220k_max = sur_220k_max.loc[:, columnas_interesantes]\n",
    "sureste_total = sureste_total.loc[:, columnas_interesantes2]"
   ]
  },
  {
   "cell_type": "code",
   "execution_count": 5,
   "id": "89c4d2eb",
   "metadata": {},
   "outputs": [],
   "source": [
    "norte_min_397k['item-detail 3'] = None\n",
    "sureste_total['item-detail 3'] = None"
   ]
  },
  {
   "cell_type": "code",
   "execution_count": 6,
   "id": "a0a0a9e4",
   "metadata": {},
   "outputs": [],
   "source": [
    "corredorhenares_0_240k['zona'] = 'ext_corredorhenares'\n",
    "corredorhenares_240k_max['zona'] = 'ext_corredorhenares'\n",
    "noroeste_400k_800k['zona'] = 'ext_noroeste'\n",
    "noroeste_800k_max['zona'] = 'ext_noroeste'\n",
    "noroeste_min_400k['zona'] = 'ext_noroeste'\n",
    "norte_397k_max['zona'] = 'ext_norte'\n",
    "suroeste_total['zona'] = 'ext_suroeste'\n",
    "norte_min_397k['zona'] = 'ext_norte'\n",
    "sur_0_220k['zona'] = 'ext_sur'\n",
    "sur_220k_max['zona'] = 'ext_sur'\n",
    "sureste_total['zona'] = 'ext_sureste'"
   ]
  },
  {
   "cell_type": "code",
   "execution_count": 7,
   "id": "292ba619",
   "metadata": {},
   "outputs": [],
   "source": [
    "corredorhenares_0_240k['item-price'] = corredorhenares_0_240k['item-price'] * 1000"
   ]
  },
  {
   "cell_type": "code",
   "execution_count": 13,
   "id": "57ad1741",
   "metadata": {},
   "outputs": [],
   "source": [
    "noroeste_400k_800k['item-price'] = noroeste_400k_800k['item-price'] *1000"
   ]
  },
  {
   "cell_type": "code",
   "execution_count": 16,
   "id": "98a8c540",
   "metadata": {},
   "outputs": [],
   "source": [
    "noroeste_min_400k['item-price'] = noroeste_min_400k['item-price'] *1000"
   ]
  },
  {
   "cell_type": "code",
   "execution_count": 20,
   "id": "47f5a260",
   "metadata": {},
   "outputs": [],
   "source": [
    "norte_min_397k['item-price'] = norte_min_397k['item-price'] *1000"
   ]
  },
  {
   "cell_type": "code",
   "execution_count": 21,
   "id": "03c12efb",
   "metadata": {},
   "outputs": [
    {
     "data": {
      "text/html": [
       "<div>\n",
       "<style scoped>\n",
       "    .dataframe tbody tr th:only-of-type {\n",
       "        vertical-align: middle;\n",
       "    }\n",
       "\n",
       "    .dataframe tbody tr th {\n",
       "        vertical-align: top;\n",
       "    }\n",
       "\n",
       "    .dataframe thead th {\n",
       "        text-align: right;\n",
       "    }\n",
       "</style>\n",
       "<table border=\"1\" class=\"dataframe\">\n",
       "  <thead>\n",
       "    <tr style=\"text-align: right;\">\n",
       "      <th></th>\n",
       "      <th>item-link</th>\n",
       "      <th>item-link href</th>\n",
       "      <th>item-price</th>\n",
       "      <th>item-detail</th>\n",
       "      <th>item-detail 2</th>\n",
       "      <th>item-detail 3</th>\n",
       "      <th>zona</th>\n",
       "    </tr>\n",
       "  </thead>\n",
       "  <tbody>\n",
       "    <tr>\n",
       "      <th>0</th>\n",
       "      <td>Piso en calle de la estrella denébola, 8, Parl...</td>\n",
       "      <td>https://www.idealista.com/inmueble/104188529/</td>\n",
       "      <td>850.000</td>\n",
       "      <td>3 hab.</td>\n",
       "      <td>109 m²</td>\n",
       "      <td>Planta 1ª exterior con ascensor</td>\n",
       "      <td>ext_sur</td>\n",
       "    </tr>\n",
       "    <tr>\n",
       "      <th>1</th>\n",
       "      <td>Piso en plaza San José, Cuevas - Ilustración, ...</td>\n",
       "      <td>https://www.idealista.com/inmueble/96964177/</td>\n",
       "      <td>34.500</td>\n",
       "      <td>1 hab.</td>\n",
       "      <td>54 m²</td>\n",
       "      <td>Bajo sin ascensor</td>\n",
       "      <td>ext_sur</td>\n",
       "    </tr>\n",
       "    <tr>\n",
       "      <th>2</th>\n",
       "      <td>Piso en calle del Monte Tabor, Parque Inlasa, ...</td>\n",
       "      <td>https://www.idealista.com/inmueble/103882424/</td>\n",
       "      <td>57.408</td>\n",
       "      <td>3 hab.</td>\n",
       "      <td>63 m²</td>\n",
       "      <td>exterior sin ascensor</td>\n",
       "      <td>ext_sur</td>\n",
       "    </tr>\n",
       "    <tr>\n",
       "      <th>3</th>\n",
       "      <td>Chalet adosado en calle Palomero, 78, Cuevas -...</td>\n",
       "      <td>https://www.idealista.com/inmueble/101431816/</td>\n",
       "      <td>59.000</td>\n",
       "      <td>3 hab.</td>\n",
       "      <td>120 m²</td>\n",
       "      <td>NaN</td>\n",
       "      <td>ext_sur</td>\n",
       "    </tr>\n",
       "    <tr>\n",
       "      <th>4</th>\n",
       "      <td>Piso en vereda del Prado, s/n, Cuevas - Ilustr...</td>\n",
       "      <td>https://www.idealista.com/inmueble/99495403/</td>\n",
       "      <td>59.000</td>\n",
       "      <td>3 hab.</td>\n",
       "      <td>80 m²</td>\n",
       "      <td>Bajo con ascensor</td>\n",
       "      <td>ext_sur</td>\n",
       "    </tr>\n",
       "    <tr>\n",
       "      <th>...</th>\n",
       "      <td>...</td>\n",
       "      <td>...</td>\n",
       "      <td>...</td>\n",
       "      <td>...</td>\n",
       "      <td>...</td>\n",
       "      <td>...</td>\n",
       "      <td>...</td>\n",
       "    </tr>\n",
       "    <tr>\n",
       "      <th>2189</th>\n",
       "      <td>Dúplex en Serranillos del Valle</td>\n",
       "      <td>https://www.idealista.com/inmueble/101441309/</td>\n",
       "      <td>220.000</td>\n",
       "      <td>2 hab.</td>\n",
       "      <td>120 m²</td>\n",
       "      <td>Planta 1ª exterior sin ascensor</td>\n",
       "      <td>ext_sur</td>\n",
       "    </tr>\n",
       "    <tr>\n",
       "      <th>2190</th>\n",
       "      <td>Piso en Hospital, Valdemoro</td>\n",
       "      <td>https://www.idealista.com/inmueble/103343136/</td>\n",
       "      <td>220.000</td>\n",
       "      <td>2 hab.</td>\n",
       "      <td>66 m²</td>\n",
       "      <td>Bajo exterior</td>\n",
       "      <td>ext_sur</td>\n",
       "    </tr>\n",
       "    <tr>\n",
       "      <th>2191</th>\n",
       "      <td>Piso en Centro, Móstoles</td>\n",
       "      <td>https://www.idealista.com/inmueble/103818141/</td>\n",
       "      <td>220.000</td>\n",
       "      <td>3 hab.</td>\n",
       "      <td>95 m²</td>\n",
       "      <td>Planta 1ª exterior con ascensor</td>\n",
       "      <td>ext_sur</td>\n",
       "    </tr>\n",
       "    <tr>\n",
       "      <th>2192</th>\n",
       "      <td>Piso en Centro, Fuenlabrada</td>\n",
       "      <td>https://www.idealista.com/inmueble/101782146/</td>\n",
       "      <td>220.000</td>\n",
       "      <td>4 hab.</td>\n",
       "      <td>128 m²</td>\n",
       "      <td>Planta 1ª sin ascensor</td>\n",
       "      <td>ext_sur</td>\n",
       "    </tr>\n",
       "    <tr>\n",
       "      <th>2193</th>\n",
       "      <td>Piso en Centro, Móstoles</td>\n",
       "      <td>https://www.idealista.com/inmueble/102723894/</td>\n",
       "      <td>220.000</td>\n",
       "      <td>4 hab.</td>\n",
       "      <td>125 m²</td>\n",
       "      <td>Planta 2ª exterior con ascensor</td>\n",
       "      <td>ext_sur</td>\n",
       "    </tr>\n",
       "  </tbody>\n",
       "</table>\n",
       "<p>2194 rows × 7 columns</p>\n",
       "</div>"
      ],
      "text/plain": [
       "                                              item-link  \\\n",
       "0     Piso en calle de la estrella denébola, 8, Parl...   \n",
       "1     Piso en plaza San José, Cuevas - Ilustración, ...   \n",
       "2     Piso en calle del Monte Tabor, Parque Inlasa, ...   \n",
       "3     Chalet adosado en calle Palomero, 78, Cuevas -...   \n",
       "4     Piso en vereda del Prado, s/n, Cuevas - Ilustr...   \n",
       "...                                                 ...   \n",
       "2189                    Dúplex en Serranillos del Valle   \n",
       "2190                        Piso en Hospital, Valdemoro   \n",
       "2191                           Piso en Centro, Móstoles   \n",
       "2192                        Piso en Centro, Fuenlabrada   \n",
       "2193                           Piso en Centro, Móstoles   \n",
       "\n",
       "                                     item-link href  item-price item-detail  \\\n",
       "0     https://www.idealista.com/inmueble/104188529/     850.000      3 hab.   \n",
       "1      https://www.idealista.com/inmueble/96964177/      34.500      1 hab.   \n",
       "2     https://www.idealista.com/inmueble/103882424/      57.408      3 hab.   \n",
       "3     https://www.idealista.com/inmueble/101431816/      59.000      3 hab.   \n",
       "4      https://www.idealista.com/inmueble/99495403/      59.000      3 hab.   \n",
       "...                                             ...         ...         ...   \n",
       "2189  https://www.idealista.com/inmueble/101441309/     220.000      2 hab.   \n",
       "2190  https://www.idealista.com/inmueble/103343136/     220.000      2 hab.   \n",
       "2191  https://www.idealista.com/inmueble/103818141/     220.000      3 hab.   \n",
       "2192  https://www.idealista.com/inmueble/101782146/     220.000      4 hab.   \n",
       "2193  https://www.idealista.com/inmueble/102723894/     220.000      4 hab.   \n",
       "\n",
       "     item-detail 2                    item-detail 3     zona  \n",
       "0           109 m²  Planta 1ª exterior con ascensor  ext_sur  \n",
       "1            54 m²                Bajo sin ascensor  ext_sur  \n",
       "2            63 m²            exterior sin ascensor  ext_sur  \n",
       "3           120 m²                              NaN  ext_sur  \n",
       "4            80 m²                Bajo con ascensor  ext_sur  \n",
       "...            ...                              ...      ...  \n",
       "2189        120 m²  Planta 1ª exterior sin ascensor  ext_sur  \n",
       "2190         66 m²                    Bajo exterior  ext_sur  \n",
       "2191         95 m²  Planta 1ª exterior con ascensor  ext_sur  \n",
       "2192        128 m²           Planta 1ª sin ascensor  ext_sur  \n",
       "2193        125 m²  Planta 2ª exterior con ascensor  ext_sur  \n",
       "\n",
       "[2194 rows x 7 columns]"
      ]
     },
     "execution_count": 21,
     "metadata": {},
     "output_type": "execute_result"
    }
   ],
   "source": [
    "sur_0_220k"
   ]
  },
  {
   "cell_type": "code",
   "execution_count": null,
   "id": "79a14870",
   "metadata": {},
   "outputs": [],
   "source": []
  },
  {
   "cell_type": "code",
   "execution_count": null,
   "id": "e2fce8e1",
   "metadata": {},
   "outputs": [],
   "source": []
  },
  {
   "cell_type": "code",
   "execution_count": null,
   "id": "d63dd689",
   "metadata": {},
   "outputs": [],
   "source": [
    "lst_madrid_ext = [corredorhenares_0_240k,corredorhenares_240k_max,noroeste_400k_800k,noroeste_800k_max,noroeste_min_400k,norte_397k_max,suroeste_total,norte_min_397k,sur_0_220k,sur_220k_max,sureste_total]"
   ]
  },
  {
   "cell_type": "code",
   "execution_count": null,
   "id": "55b7cf16",
   "metadata": {
    "scrolled": true
   },
   "outputs": [],
   "source": [
    "chamartin = pd.concat(lst_madrid_ext)\n",
    "\n",
    "chamartin"
   ]
  },
  {
   "cell_type": "code",
   "execution_count": null,
   "id": "a573e551",
   "metadata": {
    "scrolled": true
   },
   "outputs": [],
   "source": [
    "chamartin.isna().sum()"
   ]
  },
  {
   "cell_type": "code",
   "execution_count": null,
   "id": "2f68d21e",
   "metadata": {},
   "outputs": [],
   "source": [
    "num_filas_duplicadas = chamartin.duplicated().sum()\n",
    "\n",
    "print(\"Número de filas duplicadas:\", num_filas_duplicadas)"
   ]
  },
  {
   "cell_type": "code",
   "execution_count": null,
   "id": "e6964e31",
   "metadata": {},
   "outputs": [],
   "source": [
    "chamartin = chamartin.drop_duplicates()"
   ]
  },
  {
   "cell_type": "code",
   "execution_count": null,
   "id": "5a4eff1b",
   "metadata": {},
   "outputs": [],
   "source": [
    "chamartin.isna().sum()"
   ]
  },
  {
   "cell_type": "code",
   "execution_count": null,
   "id": "76946b1f",
   "metadata": {},
   "outputs": [],
   "source": [
    "chamartin.reset_index(drop=True, inplace=True)"
   ]
  },
  {
   "cell_type": "code",
   "execution_count": null,
   "id": "aba3257c",
   "metadata": {
    "scrolled": true
   },
   "outputs": [],
   "source": [
    "chamartin = chamartin.dropna(subset=['item-link', 'item-link href', 'item-price', 'item-detail', 'item-detail 2'])"
   ]
  },
  {
   "cell_type": "code",
   "execution_count": null,
   "id": "1a5163f5",
   "metadata": {},
   "outputs": [],
   "source": [
    "chamartin"
   ]
  },
  {
   "cell_type": "code",
   "execution_count": null,
   "id": "f717365f",
   "metadata": {},
   "outputs": [],
   "source": [
    "chamartin.reset_index(drop=True, inplace=True)"
   ]
  },
  {
   "cell_type": "code",
   "execution_count": null,
   "id": "6494f32d",
   "metadata": {},
   "outputs": [],
   "source": [
    "chamartin['item-link'] = chamartin['item-link'].str.lower()"
   ]
  },
  {
   "cell_type": "code",
   "execution_count": null,
   "id": "de7b993b",
   "metadata": {},
   "outputs": [],
   "source": [
    "\"\"\"chamartin['item-link'] = chamartin.apply(lambda row: '1' if 'chalet' in str(row['item-link']) else row['item-link'], axis=1)\n",
    "chamartin['item-link'] = chamartin.apply(lambda row: '1' if 'casa' in str(row['item-link']) else row['item-link'], axis=1)\n",
    "chamartin['item-link'] = chamartin.apply(lambda row: '1' if 'finca' in str(row['item-link']) else row['item-detail 3'], axis=1)\n",
    "chamartin['item-link'] = chamartin.apply(lambda row: '0' if 'piso' in str(row['item-link']) else row['item-link'], axis=1)\n",
    "chamartin['item-link'] = chamartin.apply(lambda row: '2' if 'ático' in str(row['item-link']) else row['item-link'], axis=1)\n",
    "chamartin['item-link'] = chamartin.apply(lambda row: '3' if 'duplex' in str(row['item-link']) else row['item-link'], axis=1)\n",
    "chamartin['item-link'] = chamartin.apply(lambda row: '4' if 'estudio' in str(row['item-link']) else row['item-link'], axis=1)\n",
    "\"\"\""
   ]
  },
  {
   "cell_type": "code",
   "execution_count": null,
   "id": "a3e90601",
   "metadata": {},
   "outputs": [],
   "source": [
    "chamartin.isna().sum()"
   ]
  },
  {
   "cell_type": "code",
   "execution_count": null,
   "id": "5381a77b",
   "metadata": {},
   "outputs": [],
   "source": [
    "chamartin"
   ]
  },
  {
   "cell_type": "code",
   "execution_count": null,
   "id": "679f1801",
   "metadata": {},
   "outputs": [],
   "source": [
    "chamartin['item-detail 2'].unique()"
   ]
  },
  {
   "cell_type": "code",
   "execution_count": null,
   "id": "faf0871d",
   "metadata": {
    "scrolled": true
   },
   "outputs": [],
   "source": [
    "chamartin['item-detail'].value_counts()"
   ]
  },
  {
   "cell_type": "code",
   "execution_count": null,
   "id": "214890ce",
   "metadata": {},
   "outputs": [],
   "source": [
    "filas_con_nulos = chamartin[chamartin.isnull().any(axis=1)]\n",
    "\n",
    "filas_con_nulos"
   ]
  },
  {
   "cell_type": "code",
   "execution_count": null,
   "id": "33d1026a",
   "metadata": {
    "scrolled": true
   },
   "outputs": [],
   "source": [
    "mask = ~chamartin['item-detail 2'].str.contains('m²', na=False)\n",
    "\n",
    "chamartin['nueva_columna'] = chamartin.loc[mask, 'item-detail 2']\n",
    "\n",
    "chamartin.loc[mask, 'item-detail 2'] = None"
   ]
  },
  {
   "cell_type": "code",
   "execution_count": null,
   "id": "51ad732c",
   "metadata": {},
   "outputs": [],
   "source": [
    "mask = ~chamartin['item-detail'].str.contains('hab', na=False)\n",
    "\n",
    "chamartin['nueva_columna2'] = chamartin.loc[mask, 'item-detail']\n",
    "\n",
    "chamartin.loc[mask, 'item-detail'] = None"
   ]
  },
  {
   "cell_type": "code",
   "execution_count": null,
   "id": "26673482",
   "metadata": {
    "scrolled": true
   },
   "outputs": [],
   "source": [
    "chamartin.isna().sum()"
   ]
  },
  {
   "cell_type": "code",
   "execution_count": null,
   "id": "b9ca8598",
   "metadata": {},
   "outputs": [],
   "source": [
    "chamartin"
   ]
  },
  {
   "cell_type": "code",
   "execution_count": null,
   "id": "819caf5f",
   "metadata": {},
   "outputs": [],
   "source": [
    "chamartin['superficie'] = chamartin['item-detail 2'].combine_first(chamartin['nueva_columna2'])\n",
    "\n",
    "chamartin.drop(columns=['item-detail 2', 'nueva_columna2'], inplace=True)"
   ]
  },
  {
   "cell_type": "code",
   "execution_count": null,
   "id": "ad022766",
   "metadata": {},
   "outputs": [],
   "source": [
    "chamartin.isna().sum()"
   ]
  },
  {
   "cell_type": "code",
   "execution_count": null,
   "id": "2a881775",
   "metadata": {},
   "outputs": [],
   "source": [
    "chamartin['item-detail 3'].unique()"
   ]
  },
  {
   "cell_type": "code",
   "execution_count": null,
   "id": "fdb8fff3",
   "metadata": {
    "scrolled": true
   },
   "outputs": [],
   "source": [
    "chamartin"
   ]
  },
  {
   "cell_type": "code",
   "execution_count": null,
   "id": "5d6ff8d5",
   "metadata": {},
   "outputs": [],
   "source": [
    "chamartin['detalles'] = chamartin['item-detail 3'].combine_first(chamartin['nueva_columna'])\n",
    "\n",
    "chamartin.drop(columns=['item-detail 3', 'nueva_columna'], inplace=True)"
   ]
  },
  {
   "cell_type": "code",
   "execution_count": null,
   "id": "daf5c6a1",
   "metadata": {},
   "outputs": [],
   "source": [
    "chamartin"
   ]
  },
  {
   "cell_type": "code",
   "execution_count": null,
   "id": "a3d6f68d",
   "metadata": {
    "scrolled": true
   },
   "outputs": [],
   "source": [
    "chamartin.isna().sum()"
   ]
  },
  {
   "cell_type": "code",
   "execution_count": null,
   "id": "d464290a",
   "metadata": {},
   "outputs": [],
   "source": [
    "chamartin['superficie'] = chamartin['superficie'].astype(str)\n",
    "\n",
    "chamartin['superficie'] = chamartin['superficie'].str.replace('m²', '')\n",
    "\n",
    "chamartin['superficie'] = chamartin['superficie'].str.replace('.', '')\n",
    "\n",
    "chamartin['superficie'] = pd.to_numeric(chamartin['superficie'])"
   ]
  },
  {
   "cell_type": "code",
   "execution_count": null,
   "id": "762df733",
   "metadata": {},
   "outputs": [],
   "source": [
    "chamartin.rename(columns={\n",
    "    'item-link': 'descripcion',\n",
    "    'item-link href': 'link',\n",
    "    'item-price': 'precio',\n",
    "    'item-detail': 'habitaciones',\n",
    "}, inplace=True)"
   ]
  },
  {
   "cell_type": "code",
   "execution_count": null,
   "id": "b22e7bf1",
   "metadata": {},
   "outputs": [],
   "source": []
  },
  {
   "cell_type": "code",
   "execution_count": null,
   "id": "2b17b934",
   "metadata": {},
   "outputs": [],
   "source": [
    "chamartin['precio'] = chamartin['precio'].astype(str).str.replace('.', '')\n",
    "\n",
    "chamartin['precio'] = chamartin['precio'].astype(int)\n",
    "\n",
    "#chamartin['habitaciones'] = chamartin['habitaciones'].astype(int)"
   ]
  },
  {
   "cell_type": "code",
   "execution_count": null,
   "id": "bb1205e8",
   "metadata": {},
   "outputs": [],
   "source": [
    "chamartin['detalles'].fillna('chalet', inplace=True)"
   ]
  },
  {
   "cell_type": "code",
   "execution_count": null,
   "id": "b201ac34",
   "metadata": {},
   "outputs": [],
   "source": [
    "sin_ascensor = chamartin['detalles'].str.contains('sin ascensor', case=False, regex=True)\n",
    "\n",
    "con_ascensor = chamartin['detalles'].str.contains('con ascensor', case=False, regex=True)\n",
    "\n",
    "chalet = chamartin['detalles'].str.contains('chalet', case=False, regex=True)\n",
    "\n",
    "chamartin['ascensor'] = ''\n",
    "\n",
    "chamartin.loc[sin_ascensor, 'ascensor'] = 0\n",
    "\n",
    "chamartin.loc[con_ascensor, 'ascensor'] = 1\n",
    "\n",
    "chamartin.loc[chalet, 'ascensor'] = 2"
   ]
  },
  {
   "cell_type": "code",
   "execution_count": null,
   "id": "459c6fbc",
   "metadata": {},
   "outputs": [],
   "source": [
    "condi = ~chamartin['ascensor'].astype(str).isin(['0', '1', '2'])\n",
    "\n",
    "chamartin.loc[condi, 'ascensor'] = 3\n",
    "\n",
    "chamartin['ascensor'] = chamartin['ascensor'].astype(int)"
   ]
  },
  {
   "cell_type": "code",
   "execution_count": null,
   "id": "c763fd30",
   "metadata": {
    "scrolled": true
   },
   "outputs": [],
   "source": [
    "chamartin['detalles'].value_counts()"
   ]
  },
  {
   "cell_type": "code",
   "execution_count": null,
   "id": "6fbf33e0",
   "metadata": {},
   "outputs": [],
   "source": [
    "interior = chamartin['detalles'].str.contains('interior', case=False, regex=True)\n",
    "\n",
    "exterior = chamartin['detalles'].str.contains('exterior', case=False, regex=True)\n",
    "\n",
    "chalet = chamartin['detalles'].str.contains('chalet', case=False, regex=True)\n",
    "\n",
    "chamartin['caract'] = ''\n",
    "\n",
    "chamartin.loc[interior, 'caract'] = 0\n",
    "\n",
    "chamartin.loc[exterior, 'caract'] = 1\n",
    "\n",
    "chamartin.loc[chalet, 'caract'] = 2"
   ]
  },
  {
   "cell_type": "code",
   "execution_count": null,
   "id": "6dcd8b6a",
   "metadata": {},
   "outputs": [],
   "source": [
    "condi = ~chamartin['caract'].astype(str).isin(['0', '1', '2'])\n",
    "\n",
    "chamartin.loc[condi, 'caract'] = 3\n",
    "\n",
    "chamartin['caract'] = chamartin['caract'].astype(int)"
   ]
  },
  {
   "cell_type": "code",
   "execution_count": null,
   "id": "2df8a22e",
   "metadata": {
    "scrolled": true
   },
   "outputs": [],
   "source": [
    "chamartin.caract.value_counts()"
   ]
  },
  {
   "cell_type": "code",
   "execution_count": null,
   "id": "54e4d80d",
   "metadata": {},
   "outputs": [],
   "source": [
    "filas_con_nulos = chamartin[chamartin.isnull().any(axis=1)]\n",
    "filas_con_nulos"
   ]
  },
  {
   "cell_type": "code",
   "execution_count": null,
   "id": "4975b09a",
   "metadata": {},
   "outputs": [],
   "source": [
    "chamartin.habitaciones.fillna(1, inplace=True)"
   ]
  },
  {
   "cell_type": "code",
   "execution_count": null,
   "id": "5687ec1b",
   "metadata": {
    "scrolled": true
   },
   "outputs": [],
   "source": [
    "chamartin.isna().sum()"
   ]
  },
  {
   "cell_type": "code",
   "execution_count": null,
   "id": "ea813ff6",
   "metadata": {},
   "outputs": [],
   "source": [
    "chamartin"
   ]
  },
  {
   "cell_type": "code",
   "execution_count": null,
   "id": "636af90e",
   "metadata": {},
   "outputs": [],
   "source": [
    "chamartin['habitaciones'] = chamartin['habitaciones'].astype(str)\n",
    "\n",
    "chamartin['habitaciones'] = chamartin['habitaciones'].str.replace('hab.', '')\n",
    "\n",
    "chamartin['habitaciones'] = pd.to_numeric(chamartin['habitaciones'])"
   ]
  },
  {
   "cell_type": "code",
   "execution_count": null,
   "id": "fc0d6963",
   "metadata": {},
   "outputs": [],
   "source": [
    "chamartin.head(50)"
   ]
  },
  {
   "cell_type": "code",
   "execution_count": null,
   "id": "7dd25010",
   "metadata": {},
   "outputs": [],
   "source": [
    "condiciones = {\n",
    "    'chalet': -4, 'sótano': -2, 'entreplanta': -1, 'bajo': 0, '10': 10,\n",
    "    '11': 11, '12': 12, '13': 13, '14': 14, '15': 15, '16': 16, '17': 17,\n",
    "    '18': 18, '19': 19, '20': 20, '21': 21, '22': 22, '23': 23, '24': 24, \n",
    "    '25': 25, '26': 26, '27': 27, '28': 28, '29': 29, '30': 30\n",
    "}\n",
    "\n",
    "chamartin['planta'] = None\n",
    "\n",
    "for condicion, valor in condiciones.items():\n",
    "\n",
    "    mask = chamartin['detalles'].str.contains(condicion, case=False, na=False)\n",
    "\n",
    "    chamartin.loc[mask, 'planta'] = valor"
   ]
  },
  {
   "cell_type": "code",
   "execution_count": null,
   "id": "d3785c9d",
   "metadata": {},
   "outputs": [],
   "source": [
    "words_to_remove = ['sótano', 'entreplanta', 'bajo', '10ª', '11ª', '12ª', '13ª', '14ª', '15ª', '16ª', '17ª',\n",
    "                   '18ª', '19ª', '20ª', '21ª', '22ª', '23ª', '24ª', '25ª', '26ª', '27ª', '28ª', '29ª', '30ª' \n",
    "                  ]\n",
    "\n",
    "# Crear la expresión regular para buscar las palabras en la lista\n",
    "pattern = '|'.join(r'\\b{}\\b'.format(word) for word in words_to_remove)\n",
    "\n",
    "# Aplicar el reemplazo en la columna 'col1'\n",
    "chamartin['detalles'] = chamartin['detalles'].str.replace(pattern, '', regex=True)"
   ]
  },
  {
   "cell_type": "code",
   "execution_count": null,
   "id": "c528d711",
   "metadata": {},
   "outputs": [],
   "source": [
    "condicion2 = {'1': 1, '2': 2, '3': 3, '4': 4,\n",
    "    '5': 5, '6': 6, '7': 7, '8': 8, '9': 9,\n",
    "}\n",
    "\n",
    "chamartin['planta2'] = None\n",
    "\n",
    "for condicion, valor in condicion2.items():\n",
    "\n",
    "    mask2 = chamartin['detalles'].str.contains(condicion, case=False, na=False)\n",
    "\n",
    "    chamartin.loc[mask2, 'planta2'] = valor"
   ]
  },
  {
   "cell_type": "code",
   "execution_count": null,
   "id": "d2b541d5",
   "metadata": {},
   "outputs": [],
   "source": [
    "chamartin.isna().sum()"
   ]
  },
  {
   "cell_type": "code",
   "execution_count": null,
   "id": "cec3882f",
   "metadata": {},
   "outputs": [],
   "source": [
    "chamartin['plantas'] = chamartin['planta'].combine_first(chamartin['planta2'])\n",
    "\n",
    "chamartin.drop(columns=['planta', 'planta2'], inplace=True)"
   ]
  },
  {
   "cell_type": "code",
   "execution_count": null,
   "id": "f2aa67c9",
   "metadata": {},
   "outputs": [],
   "source": [
    "chamartin.head(50)"
   ]
  },
  {
   "cell_type": "code",
   "execution_count": null,
   "id": "b3eb39dc",
   "metadata": {},
   "outputs": [],
   "source": [
    "filas_con_nulos = chamartin[chamartin.isnull().any(axis=1)]\n",
    "filas_con_nulos"
   ]
  },
  {
   "cell_type": "code",
   "execution_count": null,
   "id": "eb4a3e92",
   "metadata": {},
   "outputs": [],
   "source": [
    "chamartin['plantas'].fillna(-3, inplace=True)"
   ]
  },
  {
   "cell_type": "code",
   "execution_count": null,
   "id": "48c4c075",
   "metadata": {},
   "outputs": [],
   "source": [
    "chamartin.plantas.value_counts()"
   ]
  },
  {
   "cell_type": "code",
   "execution_count": null,
   "id": "ff94f6e6",
   "metadata": {},
   "outputs": [],
   "source": [
    "chamartin.drop(columns='detalles',inplace=True)"
   ]
  },
  {
   "cell_type": "code",
   "execution_count": null,
   "id": "d292e586",
   "metadata": {},
   "outputs": [],
   "source": [
    "chamartin['descripcion'] = chamartin['descripcion'].str.lower()"
   ]
  },
  {
   "cell_type": "code",
   "execution_count": null,
   "id": "0bd09f85",
   "metadata": {
    "scrolled": true
   },
   "outputs": [],
   "source": [
    "chamartin['descripcion'].value_counts().head(100)"
   ]
  },
  {
   "cell_type": "code",
   "execution_count": null,
   "id": "7fe3b237",
   "metadata": {},
   "outputs": [],
   "source": [
    "mappings = {'piso': 0, 'chalet': 1, 'ático': 2, 'dúplex': 3, 'estudio': 4, 'finca': 1, 'caserón': 1,\n",
    "            'torre': 1, 'cortijo': 1, 'casa': 1, 'palacio': 1}\n",
    "\n",
    "chamartin['descripcion'] = chamartin['descripcion'].replace(mappings, regex=True)"
   ]
  },
  {
   "cell_type": "code",
   "execution_count": null,
   "id": "638609f9",
   "metadata": {},
   "outputs": [],
   "source": [
    "chamartin[(chamartin['descripcion']==0) & (chamartin['plantas']==-4)]"
   ]
  },
  {
   "cell_type": "code",
   "execution_count": null,
   "id": "aee2353e",
   "metadata": {},
   "outputs": [],
   "source": [
    "chamartin.loc[(chamartin['descripcion'] == 0) & (chamartin['plantas'] == -4), 'ascensor'] = 3"
   ]
  },
  {
   "cell_type": "code",
   "execution_count": null,
   "id": "22f39abf",
   "metadata": {},
   "outputs": [],
   "source": [
    "chamartin.loc[(chamartin['descripcion'] == 0) & (chamartin['plantas'] == -4), 'caract'] = 3"
   ]
  },
  {
   "cell_type": "code",
   "execution_count": null,
   "id": "3efb0f09",
   "metadata": {},
   "outputs": [],
   "source": [
    "chamartin.loc[(chamartin['descripcion'] == 0) & (chamartin['plantas'] == -4), 'plantas'] = 3"
   ]
  },
  {
   "cell_type": "code",
   "execution_count": null,
   "id": "c5bf03d4",
   "metadata": {
    "scrolled": true
   },
   "outputs": [],
   "source": [
    "chamartin[(chamartin['descripcion']==3) & (chamartin['plantas']==-4)]"
   ]
  },
  {
   "cell_type": "code",
   "execution_count": null,
   "id": "bddda69c",
   "metadata": {},
   "outputs": [],
   "source": [
    "chamartin.loc[(chamartin['descripcion'] == 3) & (chamartin['plantas'] == -4), 'ascensor'] = 3"
   ]
  },
  {
   "cell_type": "code",
   "execution_count": null,
   "id": "8760b116",
   "metadata": {},
   "outputs": [],
   "source": [
    "chamartin.loc[(chamartin['descripcion'] == 3) & (chamartin['plantas'] == -4), 'caract'] = 3"
   ]
  },
  {
   "cell_type": "code",
   "execution_count": null,
   "id": "88f66af3",
   "metadata": {},
   "outputs": [],
   "source": [
    "chamartin.loc[(chamartin['descripcion'] == 3) & (chamartin['plantas'] == -4), 'plantas'] = 3"
   ]
  },
  {
   "cell_type": "code",
   "execution_count": null,
   "id": "72c98df4",
   "metadata": {
    "scrolled": true
   },
   "outputs": [],
   "source": [
    "chamartin[(chamartin['descripcion']==2) & (chamartin['plantas']==-4)]"
   ]
  },
  {
   "cell_type": "code",
   "execution_count": null,
   "id": "34a3a6de",
   "metadata": {},
   "outputs": [],
   "source": [
    "chamartin.loc[(chamartin['descripcion'] == 2) & (chamartin['plantas'] == -4), 'ascensor'] = 3"
   ]
  },
  {
   "cell_type": "code",
   "execution_count": null,
   "id": "9b7f336e",
   "metadata": {},
   "outputs": [],
   "source": [
    "chamartin.loc[(chamartin['descripcion'] == 2) & (chamartin['plantas'] == -4), 'caract'] = 3"
   ]
  },
  {
   "cell_type": "code",
   "execution_count": null,
   "id": "81a28dca",
   "metadata": {},
   "outputs": [],
   "source": [
    "chamartin.loc[(chamartin['descripcion'] == 2) & (chamartin['plantas'] == -4), 'plantas'] = 3"
   ]
  },
  {
   "cell_type": "code",
   "execution_count": null,
   "id": "a28d3e24",
   "metadata": {},
   "outputs": [],
   "source": []
  },
  {
   "cell_type": "code",
   "execution_count": null,
   "id": "31a5ac8a",
   "metadata": {},
   "outputs": [],
   "source": [
    "chamartin['descripcion'].value_counts()"
   ]
  },
  {
   "cell_type": "code",
   "execution_count": null,
   "id": "075ec10d",
   "metadata": {},
   "outputs": [],
   "source": [
    "chamartin['plantas'].value_counts()"
   ]
  },
  {
   "cell_type": "code",
   "execution_count": null,
   "id": "22164700",
   "metadata": {},
   "outputs": [],
   "source": [
    "chamartin['caract'].value_counts()"
   ]
  },
  {
   "cell_type": "code",
   "execution_count": null,
   "id": "c31ec705",
   "metadata": {},
   "outputs": [],
   "source": [
    "chamartin['ascensor'].value_counts()"
   ]
  },
  {
   "cell_type": "code",
   "execution_count": null,
   "id": "c551c3a7",
   "metadata": {},
   "outputs": [],
   "source": [
    "chamartin"
   ]
  },
  {
   "cell_type": "code",
   "execution_count": null,
   "id": "76668894",
   "metadata": {},
   "outputs": [],
   "source": [
    "madrid_ext = chamartin.drop(columns='link')"
   ]
  },
  {
   "cell_type": "code",
   "execution_count": null,
   "id": "219726c7",
   "metadata": {
    "scrolled": true
   },
   "outputs": [],
   "source": [
    "nuevo_orden_columnas = ['descripcion', 'zona', 'precio','superficie','habitaciones','plantas','caract','ascensor']\n",
    "\n",
    "madrid_ext = madrid_ext[nuevo_orden_columnas]\n",
    "\n",
    "madrid_ext"
   ]
  },
  {
   "cell_type": "code",
   "execution_count": null,
   "id": "d7be7944",
   "metadata": {
    "scrolled": true
   },
   "outputs": [],
   "source": [
    "madrid_ext[madrid_ext['precio']<15000]"
   ]
  },
  {
   "cell_type": "code",
   "execution_count": null,
   "id": "fd872cb9",
   "metadata": {},
   "outputs": [],
   "source": [
    "df1 = madrid_ext[madrid_ext['zona']=='ext_norte']"
   ]
  },
  {
   "cell_type": "code",
   "execution_count": null,
   "id": "a67ab254",
   "metadata": {},
   "outputs": [],
   "source": [
    "df1"
   ]
  },
  {
   "cell_type": "code",
   "execution_count": null,
   "id": "9e855713",
   "metadata": {},
   "outputs": [],
   "source": [
    "df1.sort_values(by='precio').tail(200)"
   ]
  },
  {
   "cell_type": "code",
   "execution_count": null,
   "id": "71ff6380",
   "metadata": {},
   "outputs": [],
   "source": [
    "#madrid_ext.loc[madrid_ext['precio'] < 15000, 'precio'] *= 100"
   ]
  },
  {
   "cell_type": "code",
   "execution_count": null,
   "id": "4a39a16a",
   "metadata": {},
   "outputs": [],
   "source": [
    "madrid_ext.to_csv('madrid_ext_compra_03.2024.csv', index=False)"
   ]
  }
 ],
 "metadata": {
  "kernelspec": {
   "display_name": "Python 3 (ipykernel)",
   "language": "python",
   "name": "python3"
  },
  "language_info": {
   "codemirror_mode": {
    "name": "ipython",
    "version": 3
   },
   "file_extension": ".py",
   "mimetype": "text/x-python",
   "name": "python",
   "nbconvert_exporter": "python",
   "pygments_lexer": "ipython3",
   "version": "3.11.5"
  }
 },
 "nbformat": 4,
 "nbformat_minor": 5
}
