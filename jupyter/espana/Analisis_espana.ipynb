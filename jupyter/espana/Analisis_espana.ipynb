{
 "cells": [
  {
   "cell_type": "code",
   "execution_count": 1,
   "id": "5ca7e979",
   "metadata": {},
   "outputs": [],
   "source": [
    "import pandas as pd"
   ]
  },
  {
   "cell_type": "code",
   "execution_count": 2,
   "id": "b9116bc6",
   "metadata": {},
   "outputs": [],
   "source": [
    "df1 = pd.read_csv('../../espana_compra.csv')\n",
    "df2 = pd.read_csv('../../espana_alquiler.csv')"
   ]
  },
  {
   "cell_type": "code",
   "execution_count": 4,
   "id": "8abf0f85",
   "metadata": {},
   "outputs": [],
   "source": [
    "df1 = df1.drop(columns=['table__cell 2','table__cell 3','table__cell 4','table__cell 5','table__cell 6','table__cell 7','icon-elbow href'])\n",
    "df2 = df2.drop(columns=['table__cell 2','table__cell 3','table__cell 4','table__cell 5','table__cell 6','table__cell 7','icon-elbow href'])"
   ]
  },
  {
   "cell_type": "code",
   "execution_count": 5,
   "id": "7e80d515",
   "metadata": {},
   "outputs": [],
   "source": [
    "df1 = df1.drop(df1.index[0])\n",
    "df2 = df2.drop(df2.index[0])"
   ]
  },
  {
   "cell_type": "code",
   "execution_count": 6,
   "id": "25dd6caf",
   "metadata": {},
   "outputs": [
    {
     "data": {
      "text/html": [
       "<div>\n",
       "<style scoped>\n",
       "    .dataframe tbody tr th:only-of-type {\n",
       "        vertical-align: middle;\n",
       "    }\n",
       "\n",
       "    .dataframe tbody tr th {\n",
       "        vertical-align: top;\n",
       "    }\n",
       "\n",
       "    .dataframe thead th {\n",
       "        text-align: right;\n",
       "    }\n",
       "</style>\n",
       "<table border=\"1\" class=\"dataframe\">\n",
       "  <thead>\n",
       "    <tr style=\"text-align: right;\">\n",
       "      <th></th>\n",
       "      <th>table__cell</th>\n",
       "      <th>icon-elbow</th>\n",
       "    </tr>\n",
       "  </thead>\n",
       "  <tbody>\n",
       "    <tr>\n",
       "      <th>1</th>\n",
       "      <td>2.083 €/m2</td>\n",
       "      <td>Andalucía</td>\n",
       "    </tr>\n",
       "    <tr>\n",
       "      <th>2</th>\n",
       "      <td>1.204 €/m2</td>\n",
       "      <td>Almería provincia</td>\n",
       "    </tr>\n",
       "    <tr>\n",
       "      <th>3</th>\n",
       "      <td>1.393 €/m2</td>\n",
       "      <td>Almería</td>\n",
       "    </tr>\n",
       "    <tr>\n",
       "      <th>4</th>\n",
       "      <td>1.816 €/m2</td>\n",
       "      <td>Cádiz provincia</td>\n",
       "    </tr>\n",
       "    <tr>\n",
       "      <th>5</th>\n",
       "      <td>2.814 €/m2</td>\n",
       "      <td>Cádiz</td>\n",
       "    </tr>\n",
       "    <tr>\n",
       "      <th>...</th>\n",
       "      <td>...</td>\n",
       "      <td>...</td>\n",
       "    </tr>\n",
       "    <tr>\n",
       "      <th>118</th>\n",
       "      <td>1.205 €/m2</td>\n",
       "      <td>Murcia provincia</td>\n",
       "    </tr>\n",
       "    <tr>\n",
       "      <th>119</th>\n",
       "      <td>1.269 €/m2</td>\n",
       "      <td>Murcia</td>\n",
       "    </tr>\n",
       "    <tr>\n",
       "      <th>120</th>\n",
       "      <td>1.688 €/m2</td>\n",
       "      <td>Navarra</td>\n",
       "    </tr>\n",
       "    <tr>\n",
       "      <th>121</th>\n",
       "      <td>1.688 €/m2</td>\n",
       "      <td>Navarra</td>\n",
       "    </tr>\n",
       "    <tr>\n",
       "      <th>122</th>\n",
       "      <td>2.632 €/m2</td>\n",
       "      <td>Pamplona/Iruña</td>\n",
       "    </tr>\n",
       "  </tbody>\n",
       "</table>\n",
       "<p>122 rows × 2 columns</p>\n",
       "</div>"
      ],
      "text/plain": [
       "    table__cell         icon-elbow\n",
       "1    2.083 €/m2          Andalucía\n",
       "2    1.204 €/m2  Almería provincia\n",
       "3    1.393 €/m2            Almería\n",
       "4    1.816 €/m2    Cádiz provincia\n",
       "5    2.814 €/m2              Cádiz\n",
       "..          ...                ...\n",
       "118  1.205 €/m2   Murcia provincia\n",
       "119  1.269 €/m2             Murcia\n",
       "120  1.688 €/m2            Navarra\n",
       "121  1.688 €/m2            Navarra\n",
       "122  2.632 €/m2     Pamplona/Iruña\n",
       "\n",
       "[122 rows x 2 columns]"
      ]
     },
     "execution_count": 6,
     "metadata": {},
     "output_type": "execute_result"
    }
   ],
   "source": [
    "df1"
   ]
  },
  {
   "cell_type": "code",
   "execution_count": 7,
   "id": "1600c6b3",
   "metadata": {},
   "outputs": [],
   "source": [
    "nuevas_nombres = {'table__cell': 'precio', 'icon-elbow': 'provincia'}\n",
    "df1 = df1.rename(columns=nuevas_nombres)\n",
    "df2 = df2.rename(columns=nuevas_nombres)\n",
    "\n",
    "df1 = df1.reindex(columns=['provincia', 'precio'])\n",
    "df2 = df2.reindex(columns=['provincia', 'precio'])"
   ]
  },
  {
   "cell_type": "code",
   "execution_count": 8,
   "id": "aa9dceea",
   "metadata": {},
   "outputs": [],
   "source": [
    "df1['precio'] = df1['precio'].str.replace('€/m2', '')\n",
    "df2['precio'] = df2['precio'].str.replace('€/m2', '')"
   ]
  },
  {
   "cell_type": "code",
   "execution_count": 9,
   "id": "2f2ce515",
   "metadata": {},
   "outputs": [],
   "source": [
    "df1['precio'] = df1['precio'].str.replace('.', '').astype(int)\n",
    "df2['precio'] = df2['precio'].str.replace(',', '.').astype(float)"
   ]
  },
  {
   "cell_type": "code",
   "execution_count": 10,
   "id": "f833b5c7",
   "metadata": {
    "scrolled": true
   },
   "outputs": [
    {
     "data": {
      "text/html": [
       "<div>\n",
       "<style scoped>\n",
       "    .dataframe tbody tr th:only-of-type {\n",
       "        vertical-align: middle;\n",
       "    }\n",
       "\n",
       "    .dataframe tbody tr th {\n",
       "        vertical-align: top;\n",
       "    }\n",
       "\n",
       "    .dataframe thead th {\n",
       "        text-align: right;\n",
       "    }\n",
       "</style>\n",
       "<table border=\"1\" class=\"dataframe\">\n",
       "  <thead>\n",
       "    <tr style=\"text-align: right;\">\n",
       "      <th></th>\n",
       "      <th>provincia</th>\n",
       "      <th>precio</th>\n",
       "    </tr>\n",
       "  </thead>\n",
       "  <tbody>\n",
       "    <tr>\n",
       "      <th>1</th>\n",
       "      <td>Andalucía</td>\n",
       "      <td>2083</td>\n",
       "    </tr>\n",
       "    <tr>\n",
       "      <th>2</th>\n",
       "      <td>Almería provincia</td>\n",
       "      <td>1204</td>\n",
       "    </tr>\n",
       "    <tr>\n",
       "      <th>3</th>\n",
       "      <td>Almería</td>\n",
       "      <td>1393</td>\n",
       "    </tr>\n",
       "    <tr>\n",
       "      <th>4</th>\n",
       "      <td>Cádiz provincia</td>\n",
       "      <td>1816</td>\n",
       "    </tr>\n",
       "    <tr>\n",
       "      <th>5</th>\n",
       "      <td>Cádiz</td>\n",
       "      <td>2814</td>\n",
       "    </tr>\n",
       "    <tr>\n",
       "      <th>...</th>\n",
       "      <td>...</td>\n",
       "      <td>...</td>\n",
       "    </tr>\n",
       "    <tr>\n",
       "      <th>118</th>\n",
       "      <td>Murcia provincia</td>\n",
       "      <td>1205</td>\n",
       "    </tr>\n",
       "    <tr>\n",
       "      <th>119</th>\n",
       "      <td>Murcia</td>\n",
       "      <td>1269</td>\n",
       "    </tr>\n",
       "    <tr>\n",
       "      <th>120</th>\n",
       "      <td>Navarra</td>\n",
       "      <td>1688</td>\n",
       "    </tr>\n",
       "    <tr>\n",
       "      <th>121</th>\n",
       "      <td>Navarra</td>\n",
       "      <td>1688</td>\n",
       "    </tr>\n",
       "    <tr>\n",
       "      <th>122</th>\n",
       "      <td>Pamplona/Iruña</td>\n",
       "      <td>2632</td>\n",
       "    </tr>\n",
       "  </tbody>\n",
       "</table>\n",
       "<p>122 rows × 2 columns</p>\n",
       "</div>"
      ],
      "text/plain": [
       "             provincia  precio\n",
       "1            Andalucía    2083\n",
       "2    Almería provincia    1204\n",
       "3              Almería    1393\n",
       "4      Cádiz provincia    1816\n",
       "5                Cádiz    2814\n",
       "..                 ...     ...\n",
       "118   Murcia provincia    1205\n",
       "119             Murcia    1269\n",
       "120            Navarra    1688\n",
       "121            Navarra    1688\n",
       "122     Pamplona/Iruña    2632\n",
       "\n",
       "[122 rows x 2 columns]"
      ]
     },
     "execution_count": 10,
     "metadata": {},
     "output_type": "execute_result"
    }
   ],
   "source": [
    "df1"
   ]
  },
  {
   "cell_type": "code",
   "execution_count": 11,
   "id": "720ea486",
   "metadata": {},
   "outputs": [],
   "source": [
    "import unicodedata\n",
    "\n",
    "df1['provincia'] = df1['provincia'].apply(lambda x: unicodedata.normalize('NFKD', x).encode('ASCII', 'ignore').decode('utf-8'))\n",
    "df2['provincia'] = df2['provincia'].apply(lambda x: unicodedata.normalize('NFKD', x).encode('ASCII', 'ignore').decode('utf-8'))"
   ]
  },
  {
   "cell_type": "code",
   "execution_count": null,
   "id": "0d2284a9",
   "metadata": {},
   "outputs": [],
   "source": [
    "df01 = df1[~df1['provincia'].str.contains('provincia', case=False, na=False)]\n",
    "df02 = df2[~df2['provincia'].str.contains('provincia', case=False, na=False)]"
   ]
  },
  {
   "cell_type": "code",
   "execution_count": 12,
   "id": "e780d5fc",
   "metadata": {},
   "outputs": [],
   "source": [
    "df1 = df1[df1['provincia'].str.contains('provincia', case=False, na=False)]\n",
    "df2 = df2[df2['provincia'].str.contains('provincia', case=False, na=False)]"
   ]
  },
  {
   "cell_type": "code",
   "execution_count": 13,
   "id": "3d2fadea",
   "metadata": {},
   "outputs": [],
   "source": [
    "df1 = df1.reset_index(drop=True)\n",
    "df2 = df2.reset_index(drop=True)"
   ]
  },
  {
   "cell_type": "code",
   "execution_count": 14,
   "id": "254115c6",
   "metadata": {},
   "outputs": [],
   "source": [
    "df1['provincia'] = df1['provincia'].str.replace('provincia', '')\n",
    "df2['provincia'] = df2['provincia'].str.replace('provincia', '')"
   ]
  },
  {
   "cell_type": "code",
   "execution_count": 17,
   "id": "e6bfcc59",
   "metadata": {},
   "outputs": [],
   "source": [
    "provincias_faltantes = [\n",
    "    'La Rioja', 'Asturias', 'Cantabria', 'Valencia', 'Alicante', 'Castellon',\n",
    "    'Guipuzcoa', 'Vizcaya', 'Islas Baleares', 'Las Palmas', 'Navarra', 'Ceuta'\n",
    "]\n"
   ]
  },
  {
   "cell_type": "code",
   "execution_count": 19,
   "id": "61587a71",
   "metadata": {},
   "outputs": [
    {
     "data": {
      "text/html": [
       "<div>\n",
       "<style scoped>\n",
       "    .dataframe tbody tr th:only-of-type {\n",
       "        vertical-align: middle;\n",
       "    }\n",
       "\n",
       "    .dataframe tbody tr th {\n",
       "        vertical-align: top;\n",
       "    }\n",
       "\n",
       "    .dataframe thead th {\n",
       "        text-align: right;\n",
       "    }\n",
       "</style>\n",
       "<table border=\"1\" class=\"dataframe\">\n",
       "  <thead>\n",
       "    <tr style=\"text-align: right;\">\n",
       "      <th></th>\n",
       "      <th>provincia</th>\n",
       "      <th>precio</th>\n",
       "    </tr>\n",
       "  </thead>\n",
       "  <tbody>\n",
       "  </tbody>\n",
       "</table>\n",
       "</div>"
      ],
      "text/plain": [
       "Empty DataFrame\n",
       "Columns: [provincia, precio]\n",
       "Index: []"
      ]
     },
     "execution_count": 19,
     "metadata": {},
     "output_type": "execute_result"
    }
   ],
   "source": [
    "nuevo_df02"
   ]
  },
  {
   "cell_type": "code",
   "execution_count": null,
   "id": "ed64a1e0",
   "metadata": {},
   "outputs": [],
   "source": [
    "df1.provincia.unique()"
   ]
  },
  {
   "cell_type": "code",
   "execution_count": null,
   "id": "c377967c",
   "metadata": {},
   "outputs": [],
   "source": []
  }
 ],
 "metadata": {
  "kernelspec": {
   "display_name": "Python 3 (ipykernel)",
   "language": "python",
   "name": "python3"
  },
  "language_info": {
   "codemirror_mode": {
    "name": "ipython",
    "version": 3
   },
   "file_extension": ".py",
   "mimetype": "text/x-python",
   "name": "python",
   "nbconvert_exporter": "python",
   "pygments_lexer": "ipython3",
   "version": "3.11.5"
  }
 },
 "nbformat": 4,
 "nbformat_minor": 5
}
