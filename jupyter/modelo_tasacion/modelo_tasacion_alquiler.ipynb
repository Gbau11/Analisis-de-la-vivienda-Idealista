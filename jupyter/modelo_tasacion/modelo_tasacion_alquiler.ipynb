{
 "cells": [
  {
   "cell_type": "code",
   "execution_count": 1,
   "id": "b0d422cb",
   "metadata": {},
   "outputs": [],
   "source": [
    "import pandas as pd\n",
    "import numpy as np\n",
    "pd.set_option('display.max_columns', None)\n",
    "pd.set_option('display.max_rows', 200)\n",
    "from datetime import datetime\n",
    "import warnings\n",
    "warnings.filterwarnings('ignore')\n",
    "import pylab as plt\n",
    "import seaborn as sns\n",
    "from sklearn.model_selection import train_test_split as tts\n",
    "from sklearn.preprocessing import StandardScaler\n",
    "from sklearn.svm import SVR\n",
    "from sklearn.ensemble import RandomForestRegressor as RFR  \n",
    "from sklearn.tree import ExtraTreeRegressor as ETR\n",
    "from xgboost import XGBRegressor as XGBR\n",
    "from sklearn.metrics import mean_squared_error as mse"
   ]
  },
  {
   "cell_type": "code",
   "execution_count": 2,
   "id": "acc41b54",
   "metadata": {},
   "outputs": [],
   "source": [
    "mad_total = pd.read_csv('../analisis_exploratorio/mad_total_limp.csv')\n",
    "mad_centro = pd.read_csv('../analisis_exploratorio/mad_int_limp.csv')\n",
    "mad_exterior = pd.read_csv('../analisis_exploratorio/mad_ext_limp.csv')\n",
    "alquiler = pd.read_csv('../analisis_exploratorio/alquiler_limp.csv')"
   ]
  },
  {
   "cell_type": "code",
   "execution_count": 3,
   "id": "09afb4da",
   "metadata": {
    "scrolled": true
   },
   "outputs": [
    {
     "data": {
      "text/html": [
       "<div>\n",
       "<style scoped>\n",
       "    .dataframe tbody tr th:only-of-type {\n",
       "        vertical-align: middle;\n",
       "    }\n",
       "\n",
       "    .dataframe tbody tr th {\n",
       "        vertical-align: top;\n",
       "    }\n",
       "\n",
       "    .dataframe thead th {\n",
       "        text-align: right;\n",
       "    }\n",
       "</style>\n",
       "<table border=\"1\" class=\"dataframe\">\n",
       "  <thead>\n",
       "    <tr style=\"text-align: right;\">\n",
       "      <th></th>\n",
       "      <th>descripcion</th>\n",
       "      <th>zona</th>\n",
       "      <th>distrito</th>\n",
       "      <th>precio</th>\n",
       "      <th>superficie</th>\n",
       "      <th>habitaciones</th>\n",
       "      <th>plantas</th>\n",
       "      <th>caract</th>\n",
       "      <th>ascensor</th>\n",
       "      <th>garaje</th>\n",
       "      <th>€/m2</th>\n",
       "      <th>distrito_€/m2</th>\n",
       "      <th>media_alq</th>\n",
       "    </tr>\n",
       "  </thead>\n",
       "  <tbody>\n",
       "    <tr>\n",
       "      <th>0</th>\n",
       "      <td>4</td>\n",
       "      <td>central</td>\n",
       "      <td>arganzuela</td>\n",
       "      <td>600.0</td>\n",
       "      <td>25</td>\n",
       "      <td>0</td>\n",
       "      <td>3</td>\n",
       "      <td>3</td>\n",
       "      <td>3</td>\n",
       "      <td>0</td>\n",
       "      <td>24.000000</td>\n",
       "      <td>21.037674</td>\n",
       "      <td>1530.949664</td>\n",
       "    </tr>\n",
       "    <tr>\n",
       "      <th>1</th>\n",
       "      <td>0</td>\n",
       "      <td>central</td>\n",
       "      <td>arganzuela</td>\n",
       "      <td>700.0</td>\n",
       "      <td>35</td>\n",
       "      <td>2</td>\n",
       "      <td>0</td>\n",
       "      <td>1</td>\n",
       "      <td>0</td>\n",
       "      <td>0</td>\n",
       "      <td>20.000000</td>\n",
       "      <td>21.037674</td>\n",
       "      <td>1530.949664</td>\n",
       "    </tr>\n",
       "    <tr>\n",
       "      <th>2</th>\n",
       "      <td>0</td>\n",
       "      <td>central</td>\n",
       "      <td>arganzuela</td>\n",
       "      <td>790.0</td>\n",
       "      <td>40</td>\n",
       "      <td>1</td>\n",
       "      <td>1</td>\n",
       "      <td>0</td>\n",
       "      <td>1</td>\n",
       "      <td>0</td>\n",
       "      <td>19.750000</td>\n",
       "      <td>21.037674</td>\n",
       "      <td>1530.949664</td>\n",
       "    </tr>\n",
       "    <tr>\n",
       "      <th>3</th>\n",
       "      <td>4</td>\n",
       "      <td>central</td>\n",
       "      <td>arganzuela</td>\n",
       "      <td>800.0</td>\n",
       "      <td>40</td>\n",
       "      <td>0</td>\n",
       "      <td>3</td>\n",
       "      <td>3</td>\n",
       "      <td>3</td>\n",
       "      <td>0</td>\n",
       "      <td>20.000000</td>\n",
       "      <td>21.037674</td>\n",
       "      <td>1530.949664</td>\n",
       "    </tr>\n",
       "    <tr>\n",
       "      <th>4</th>\n",
       "      <td>0</td>\n",
       "      <td>central</td>\n",
       "      <td>arganzuela</td>\n",
       "      <td>800.0</td>\n",
       "      <td>35</td>\n",
       "      <td>1</td>\n",
       "      <td>4</td>\n",
       "      <td>0</td>\n",
       "      <td>1</td>\n",
       "      <td>0</td>\n",
       "      <td>22.857143</td>\n",
       "      <td>21.037674</td>\n",
       "      <td>1530.949664</td>\n",
       "    </tr>\n",
       "    <tr>\n",
       "      <th>...</th>\n",
       "      <td>...</td>\n",
       "      <td>...</td>\n",
       "      <td>...</td>\n",
       "      <td>...</td>\n",
       "      <td>...</td>\n",
       "      <td>...</td>\n",
       "      <td>...</td>\n",
       "      <td>...</td>\n",
       "      <td>...</td>\n",
       "      <td>...</td>\n",
       "      <td>...</td>\n",
       "      <td>...</td>\n",
       "      <td>...</td>\n",
       "    </tr>\n",
       "    <tr>\n",
       "      <th>8177</th>\n",
       "      <td>0</td>\n",
       "      <td>central</td>\n",
       "      <td>villaverde</td>\n",
       "      <td>1465.0</td>\n",
       "      <td>45</td>\n",
       "      <td>1</td>\n",
       "      <td>6</td>\n",
       "      <td>1</td>\n",
       "      <td>1</td>\n",
       "      <td>0</td>\n",
       "      <td>32.555556</td>\n",
       "      <td>15.340223</td>\n",
       "      <td>1022.743902</td>\n",
       "    </tr>\n",
       "    <tr>\n",
       "      <th>8178</th>\n",
       "      <td>3</td>\n",
       "      <td>central</td>\n",
       "      <td>villaverde</td>\n",
       "      <td>1475.0</td>\n",
       "      <td>64</td>\n",
       "      <td>2</td>\n",
       "      <td>5</td>\n",
       "      <td>1</td>\n",
       "      <td>1</td>\n",
       "      <td>0</td>\n",
       "      <td>23.046875</td>\n",
       "      <td>15.340223</td>\n",
       "      <td>1022.743902</td>\n",
       "    </tr>\n",
       "    <tr>\n",
       "      <th>8179</th>\n",
       "      <td>0</td>\n",
       "      <td>central</td>\n",
       "      <td>villaverde</td>\n",
       "      <td>1500.0</td>\n",
       "      <td>90</td>\n",
       "      <td>4</td>\n",
       "      <td>6</td>\n",
       "      <td>1</td>\n",
       "      <td>1</td>\n",
       "      <td>0</td>\n",
       "      <td>16.666667</td>\n",
       "      <td>15.340223</td>\n",
       "      <td>1022.743902</td>\n",
       "    </tr>\n",
       "    <tr>\n",
       "      <th>8180</th>\n",
       "      <td>0</td>\n",
       "      <td>central</td>\n",
       "      <td>villaverde</td>\n",
       "      <td>1895.0</td>\n",
       "      <td>80</td>\n",
       "      <td>2</td>\n",
       "      <td>0</td>\n",
       "      <td>1</td>\n",
       "      <td>1</td>\n",
       "      <td>0</td>\n",
       "      <td>23.687500</td>\n",
       "      <td>15.340223</td>\n",
       "      <td>1022.743902</td>\n",
       "    </tr>\n",
       "    <tr>\n",
       "      <th>8181</th>\n",
       "      <td>0</td>\n",
       "      <td>central</td>\n",
       "      <td>villaverde</td>\n",
       "      <td>2300.0</td>\n",
       "      <td>65</td>\n",
       "      <td>2</td>\n",
       "      <td>1</td>\n",
       "      <td>3</td>\n",
       "      <td>0</td>\n",
       "      <td>0</td>\n",
       "      <td>35.384615</td>\n",
       "      <td>15.340223</td>\n",
       "      <td>1022.743902</td>\n",
       "    </tr>\n",
       "  </tbody>\n",
       "</table>\n",
       "<p>8182 rows × 13 columns</p>\n",
       "</div>"
      ],
      "text/plain": [
       "      descripcion     zona    distrito  precio  superficie  habitaciones  \\\n",
       "0               4  central  arganzuela   600.0          25             0   \n",
       "1               0  central  arganzuela   700.0          35             2   \n",
       "2               0  central  arganzuela   790.0          40             1   \n",
       "3               4  central  arganzuela   800.0          40             0   \n",
       "4               0  central  arganzuela   800.0          35             1   \n",
       "...           ...      ...         ...     ...         ...           ...   \n",
       "8177            0  central  villaverde  1465.0          45             1   \n",
       "8178            3  central  villaverde  1475.0          64             2   \n",
       "8179            0  central  villaverde  1500.0          90             4   \n",
       "8180            0  central  villaverde  1895.0          80             2   \n",
       "8181            0  central  villaverde  2300.0          65             2   \n",
       "\n",
       "      plantas  caract  ascensor  garaje       €/m2  distrito_€/m2    media_alq  \n",
       "0           3       3         3       0  24.000000      21.037674  1530.949664  \n",
       "1           0       1         0       0  20.000000      21.037674  1530.949664  \n",
       "2           1       0         1       0  19.750000      21.037674  1530.949664  \n",
       "3           3       3         3       0  20.000000      21.037674  1530.949664  \n",
       "4           4       0         1       0  22.857143      21.037674  1530.949664  \n",
       "...       ...     ...       ...     ...        ...            ...          ...  \n",
       "8177        6       1         1       0  32.555556      15.340223  1022.743902  \n",
       "8178        5       1         1       0  23.046875      15.340223  1022.743902  \n",
       "8179        6       1         1       0  16.666667      15.340223  1022.743902  \n",
       "8180        0       1         1       0  23.687500      15.340223  1022.743902  \n",
       "8181        1       3         0       0  35.384615      15.340223  1022.743902  \n",
       "\n",
       "[8182 rows x 13 columns]"
      ]
     },
     "execution_count": 3,
     "metadata": {},
     "output_type": "execute_result"
    }
   ],
   "source": [
    "alquiler"
   ]
  },
  {
   "cell_type": "code",
   "execution_count": 4,
   "id": "6f2067c6",
   "metadata": {},
   "outputs": [
    {
     "data": {
      "text/plain": [
       "distrito\n",
       "centro                 1263\n",
       "barrio de salamanca     957\n",
       "noroeste                693\n",
       "norte                   658\n",
       "chamberi                582\n",
       "chamartin               516\n",
       "tetuan                  507\n",
       "retiro                  299\n",
       "arganzuela              298\n",
       "moncloa                 264\n",
       "sur                     258\n",
       "hortaleza               245\n",
       "fuencarral              242\n",
       "ciudad lineal           207\n",
       "corredor de henares     182\n",
       "san blas                143\n",
       "latina                  137\n",
       "carabanchel             122\n",
       "puente de vallecas      105\n",
       "sureste                  91\n",
       "villaverde               82\n",
       "usera                    70\n",
       "vicalvaro                70\n",
       "villa de vallecas        67\n",
       "suroeste                 66\n",
       "barajas                  30\n",
       "moratalaz                28\n",
       "Name: count, dtype: int64"
      ]
     },
     "execution_count": 4,
     "metadata": {},
     "output_type": "execute_result"
    }
   ],
   "source": [
    "alquiler.distrito.value_counts()"
   ]
  },
  {
   "cell_type": "code",
   "execution_count": 5,
   "id": "32a8ab02",
   "metadata": {},
   "outputs": [],
   "source": [
    "#df1 = alquiler\n",
    "df1 = alquiler[alquiler['distrito']=='moncloa']"
   ]
  },
  {
   "cell_type": "code",
   "execution_count": 6,
   "id": "8c531128",
   "metadata": {},
   "outputs": [
    {
     "data": {
      "image/png": "[encoded data removed]",
      "text/plain": [
       "<Figure size 640x480 with 1 Axes>"
      ]
     },
     "metadata": {},
     "output_type": "display_data"
    }
   ],
   "source": [
    "sns.boxplot(x=df1['precio'])\n",
    "plt.show()"
   ]
  },
  {
   "cell_type": "code",
   "execution_count": 7,
   "id": "fd46408f",
   "metadata": {},
   "outputs": [],
   "source": [
    "df1 = df1.drop(columns=['distrito_€/m2','€/m2','zona','distrito','media_alq','garaje','caract'])\n",
    "#df1 = df1.drop(columns=['distrito_€/m2','€/m2','media_alq'])\n",
    "#df1 = df1.drop(columns=['distrito_€/m2','€/m2','media_alq','garaje','ascensor','caract'])"
   ]
  },
  {
   "cell_type": "code",
   "execution_count": 8,
   "id": "eb520fb3",
   "metadata": {},
   "outputs": [],
   "source": [
    "X = df1.drop('precio', axis=1)\n",
    "\n",
    "y = df1.precio"
   ]
  },
  {
   "cell_type": "code",
   "execution_count": 9,
   "id": "dcc45af3",
   "metadata": {},
   "outputs": [
    {
     "data": {
      "text/plain": [
       "((211, 5), (53, 5), (211,), (53,))"
      ]
     },
     "execution_count": 9,
     "metadata": {},
     "output_type": "execute_result"
    }
   ],
   "source": [
    "X_train, X_test, y_train, y_test = tts(X, y,\n",
    "                                      train_size=0.8,\n",
    "                                      test_size=0.2,\n",
    "                                      random_state=42)\n",
    "\n",
    "X_train.shape, X_test.shape, y_train.shape, y_test.shape"
   ]
  },
  {
   "cell_type": "code",
   "execution_count": 10,
   "id": "64e91cd5",
   "metadata": {},
   "outputs": [
    {
     "data": {
      "text/plain": [
       "\"X = pd.get_dummies(X, columns=['distrito'], dtype=int, drop_first=True)\\n\\nX_train = pd.get_dummies(X_train, columns=['distrito'], dtype=int, drop_first=True)\\n\\nX_test = pd.get_dummies(X_test, columns=['distrito'], dtype=int, drop_first=True)\""
      ]
     },
     "execution_count": 10,
     "metadata": {},
     "output_type": "execute_result"
    }
   ],
   "source": [
    "\"\"\"X = pd.get_dummies(X, columns=['distrito'], dtype=int, drop_first=True)\n",
    "\n",
    "X_train = pd.get_dummies(X_train, columns=['distrito'], dtype=int, drop_first=True)\n",
    "\n",
    "X_test = pd.get_dummies(X_test, columns=['distrito'], dtype=int, drop_first=True)\"\"\""
   ]
  },
  {
   "cell_type": "code",
   "execution_count": 11,
   "id": "6833d403",
   "metadata": {},
   "outputs": [
    {
     "data": {
      "text/plain": [
       "\"X = pd.get_dummies(X, columns=['zona'], dtype=int, drop_first=True)\\n\\nX_train = pd.get_dummies(X_train, columns=['zona'], dtype=int, drop_first=True)\\n\\nX_test = pd.get_dummies(X_test, columns=['zona'], dtype=int, drop_first=True)\""
      ]
     },
     "execution_count": 11,
     "metadata": {},
     "output_type": "execute_result"
    }
   ],
   "source": [
    "\"\"\"X = pd.get_dummies(X, columns=['zona'], dtype=int, drop_first=True)\n",
    "\n",
    "X_train = pd.get_dummies(X_train, columns=['zona'], dtype=int, drop_first=True)\n",
    "\n",
    "X_test = pd.get_dummies(X_test, columns=['zona'], dtype=int, drop_first=True)\"\"\""
   ]
  },
  {
   "cell_type": "code",
   "execution_count": 12,
   "id": "517028dd",
   "metadata": {},
   "outputs": [
    {
     "data": {
      "text/plain": [
       "751.3605061128635"
      ]
     },
     "execution_count": 12,
     "metadata": {},
     "output_type": "execute_result"
    }
   ],
   "source": [
    "rfr = RFR(n_estimators=500, random_state=20)\n",
    "\n",
    "rfr.fit(X_train, y_train)\n",
    "\n",
    "y_pred = rfr.predict(X_test)\n",
    "\n",
    "mse(y_test, y_pred, squared=False)"
   ]
  },
  {
   "cell_type": "code",
   "execution_count": 13,
   "id": "96b6d8d0",
   "metadata": {},
   "outputs": [
    {
     "name": "stdout",
     "output_type": "stream",
     "text": [
      "Test accuracy: 0.5846\n"
     ]
    }
   ],
   "source": [
    "print(f\"Test accuracy: {rfr.score(X_test, y_test):0.4f}\")"
   ]
  },
  {
   "cell_type": "code",
   "execution_count": 14,
   "id": "a74120b9",
   "metadata": {},
   "outputs": [
    {
     "data": {
      "text/plain": [
       "2344.992424242424"
      ]
     },
     "execution_count": 14,
     "metadata": {},
     "output_type": "execute_result"
    }
   ],
   "source": [
    "df1.precio.mean()"
   ]
  },
  {
   "cell_type": "code",
   "execution_count": 15,
   "id": "5b1cf6e7",
   "metadata": {},
   "outputs": [
    {
     "data": {
      "text/plain": [
       "32.041063260816244"
      ]
     },
     "execution_count": 15,
     "metadata": {},
     "output_type": "execute_result"
    }
   ],
   "source": [
    "mse(y_test, y_pred, squared=False)*100/df1.precio.mean()"
   ]
  },
  {
   "cell_type": "code",
   "execution_count": 16,
   "id": "ef0e3c2d",
   "metadata": {},
   "outputs": [
    {
     "data": {
      "text/plain": [
       "{'descripcion': 0.3047371017516011,\n",
       " 'superficie': 80.22505657183167,\n",
       " 'habitaciones': 14.082357101086048,\n",
       " 'plantas': 5.101895385030998,\n",
       " 'ascensor': 0.28595384029967547}"
      ]
     },
     "execution_count": 16,
     "metadata": {},
     "output_type": "execute_result"
    }
   ],
   "source": [
    "dict(zip(X.columns, rfr.feature_importances_*100))"
   ]
  },
  {
   "cell_type": "code",
   "execution_count": 17,
   "id": "6584fbeb",
   "metadata": {},
   "outputs": [
    {
     "data": {
      "text/plain": [
       "820.5837952368593"
      ]
     },
     "execution_count": 17,
     "metadata": {},
     "output_type": "execute_result"
    }
   ],
   "source": [
    "xgbr=XGBR(random_state=42)\n",
    "\n",
    "xgbr.fit(X_train, y_train)\n",
    "\n",
    "y_pred = xgbr.predict(X_test)\n",
    "\n",
    "mse(y_test, y_pred, squared=False)"
   ]
  },
  {
   "cell_type": "code",
   "execution_count": 18,
   "id": "bf659817",
   "metadata": {},
   "outputs": [
    {
     "name": "stdout",
     "output_type": "stream",
     "text": [
      "Test accuracy: 0.5045\n"
     ]
    }
   ],
   "source": [
    "print(f\"Test accuracy: {xgbr.score(X_test, y_test):0.4f}\")"
   ]
  },
  {
   "cell_type": "code",
   "execution_count": 19,
   "id": "7ba6ffe1",
   "metadata": {},
   "outputs": [
    {
     "data": {
      "text/plain": [
       "2344.992424242424"
      ]
     },
     "execution_count": 19,
     "metadata": {},
     "output_type": "execute_result"
    }
   ],
   "source": [
    "df1.precio.mean()"
   ]
  },
  {
   "cell_type": "code",
   "execution_count": 20,
   "id": "30f554be",
   "metadata": {},
   "outputs": [
    {
     "data": {
      "text/plain": [
       "34.99302542531488"
      ]
     },
     "execution_count": 20,
     "metadata": {},
     "output_type": "execute_result"
    }
   ],
   "source": [
    "mse(y_test, y_pred, squared=False)*100/df1.precio.mean()"
   ]
  },
  {
   "cell_type": "code",
   "execution_count": 21,
   "id": "784f3290",
   "metadata": {},
   "outputs": [
    {
     "data": {
      "text/plain": [
       "{'descripcion': 1.9579785,\n",
       " 'superficie': 84.22611,\n",
       " 'habitaciones': 2.7255697,\n",
       " 'plantas': 9.706321,\n",
       " 'ascensor': 1.3840117}"
      ]
     },
     "execution_count": 21,
     "metadata": {},
     "output_type": "execute_result"
    }
   ],
   "source": [
    "dict(zip(X.columns, xgbr.feature_importances_*100))"
   ]
  },
  {
   "cell_type": "code",
   "execution_count": null,
   "id": "1e46280f",
   "metadata": {},
   "outputs": [],
   "source": []
  },
  {
   "cell_type": "code",
   "execution_count": null,
   "id": "bd07fe0c",
   "metadata": {},
   "outputs": [],
   "source": []
  },
  {
   "cell_type": "code",
   "execution_count": 22,
   "id": "50c334f7",
   "metadata": {},
   "outputs": [],
   "source": [
    "X1 = df1.drop(columns='precio')\n",
    "y1 = df1.precio"
   ]
  },
  {
   "cell_type": "code",
   "execution_count": 23,
   "id": "785fbc68",
   "metadata": {},
   "outputs": [
    {
     "data": {
      "text/plain": [
       "76.3203316626658"
      ]
     },
     "execution_count": 23,
     "metadata": {},
     "output_type": "execute_result"
    }
   ],
   "source": [
    "xgbr=XGBR(random_state=42)\n",
    "xgbr.fit(X1, y1)\n",
    "y1_pred = xgbr.predict(X1)\n",
    "mse(y1_pred, y1, squared=False)"
   ]
  },
  {
   "cell_type": "code",
   "execution_count": 24,
   "id": "b2f60c72",
   "metadata": {},
   "outputs": [
    {
     "data": {
      "text/plain": [
       "{'descripcion': 1.9043941,\n",
       " 'superficie': 76.97457,\n",
       " 'habitaciones': 9.780954,\n",
       " 'plantas': 10.151677,\n",
       " 'ascensor': 1.1884015}"
      ]
     },
     "execution_count": 24,
     "metadata": {},
     "output_type": "execute_result"
    }
   ],
   "source": [
    "dict(zip(X.columns, xgbr.feature_importances_*100))"
   ]
  },
  {
   "cell_type": "code",
   "execution_count": 25,
   "id": "4003eff7",
   "metadata": {},
   "outputs": [
    {
     "data": {
      "text/plain": [
       "2344.992424242424"
      ]
     },
     "execution_count": 25,
     "metadata": {},
     "output_type": "execute_result"
    }
   ],
   "source": [
    "df1.precio.mean()"
   ]
  },
  {
   "cell_type": "code",
   "execution_count": 26,
   "id": "8f76b2c1",
   "metadata": {},
   "outputs": [
    {
     "name": "stdout",
     "output_type": "stream",
     "text": [
      "Test accuracy: 0.9988\n"
     ]
    }
   ],
   "source": [
    "print(f\"Test accuracy: {xgbr.score(X1, y1):0.4f}\")"
   ]
  },
  {
   "cell_type": "code",
   "execution_count": 27,
   "id": "662abb8a",
   "metadata": {},
   "outputs": [
    {
     "data": {
      "text/plain": [
       "3.2546088794859083"
      ]
     },
     "execution_count": 27,
     "metadata": {},
     "output_type": "execute_result"
    }
   ],
   "source": [
    "mse(y1_pred, y1, squared=False)*100/df1.precio.mean()"
   ]
  }
 ],
 "metadata": {
  "kernelspec": {
   "display_name": "Python 3 (ipykernel)",
   "language": "python",
   "name": "python3"
  },
  "language_info": {
   "codemirror_mode": {
    "name": "ipython",
    "version": 3
   },
   "file_extension": ".py",
   "mimetype": "text/x-python",
   "name": "python",
   "nbconvert_exporter": "python",
   "pygments_lexer": "ipython3",
   "version": "3.11.5"
  }
 },
 "nbformat": 4,
 "nbformat_minor": 5
}
