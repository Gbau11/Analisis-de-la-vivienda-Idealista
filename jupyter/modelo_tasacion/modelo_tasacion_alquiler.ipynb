{
 "cells": [
  {
   "cell_type": "code",
   "execution_count": 1,
   "id": "4b12d0d6",
   "metadata": {},
   "outputs": [],
   "source": [
    "import pandas as pd\n",
    "import numpy as np\n",
    "pd.set_option('display.max_columns', None)\n",
    "pd.set_option('display.max_rows', 200)\n",
    "from datetime import datetime\n",
    "import warnings\n",
    "warnings.filterwarnings('ignore')\n",
    "import pylab as plt\n",
    "import seaborn as sns\n",
    "from sklearn.model_selection import train_test_split as tts\n",
    "from sklearn.preprocessing import StandardScaler\n",
    "from sklearn.svm import SVR\n",
    "from sklearn.ensemble import RandomForestRegressor as RFR  \n",
    "from sklearn.tree import ExtraTreeRegressor as ETR\n",
    "from xgboost import XGBRegressor as XGBR\n",
    "from sklearn.metrics import mean_squared_error as mse"
   ]
  },
  {
   "cell_type": "code",
   "execution_count": 2,
   "id": "390cabf2",
   "metadata": {},
   "outputs": [],
   "source": [
    "mad_total = pd.read_csv('../analisis_exploratorio/mad_total_limp.csv')\n",
    "mad_centro = pd.read_csv('../analisis_exploratorio/mad_int_limp.csv')\n",
    "mad_exterior = pd.read_csv('../analisis_exploratorio/mad_ext_limp.csv')\n",
    "alquiler = pd.read_csv('../analisis_exploratorio/alquiler_limp.csv')"
   ]
  },
  {
   "cell_type": "code",
   "execution_count": 3,
   "id": "c6ab5aa5",
   "metadata": {
    "scrolled": true
   },
   "outputs": [
    {
     "data": {
      "text/html": [
       "<div>\n",
       "<style scoped>\n",
       "    .dataframe tbody tr th:only-of-type {\n",
       "        vertical-align: middle;\n",
       "    }\n",
       "\n",
       "    .dataframe tbody tr th {\n",
       "        vertical-align: top;\n",
       "    }\n",
       "\n",
       "    .dataframe thead th {\n",
       "        text-align: right;\n",
       "    }\n",
       "</style>\n",
       "<table border=\"1\" class=\"dataframe\">\n",
       "  <thead>\n",
       "    <tr style=\"text-align: right;\">\n",
       "      <th></th>\n",
       "      <th>descripcion</th>\n",
       "      <th>zona</th>\n",
       "      <th>distrito</th>\n",
       "      <th>precio</th>\n",
       "      <th>superficie</th>\n",
       "      <th>habitaciones</th>\n",
       "      <th>plantas</th>\n",
       "      <th>caract</th>\n",
       "      <th>ascensor</th>\n",
       "      <th>garaje</th>\n",
       "      <th>€/m2</th>\n",
       "      <th>distrito_€/m2</th>\n",
       "      <th>media_alq</th>\n",
       "    </tr>\n",
       "  </thead>\n",
       "  <tbody>\n",
       "    <tr>\n",
       "      <th>0</th>\n",
       "      <td>4</td>\n",
       "      <td>central</td>\n",
       "      <td>arganzuela</td>\n",
       "      <td>600.0</td>\n",
       "      <td>25</td>\n",
       "      <td>0</td>\n",
       "      <td>3</td>\n",
       "      <td>3</td>\n",
       "      <td>3</td>\n",
       "      <td>0</td>\n",
       "      <td>24.000000</td>\n",
       "      <td>21.037674</td>\n",
       "      <td>1530.949664</td>\n",
       "    </tr>\n",
       "    <tr>\n",
       "      <th>1</th>\n",
       "      <td>0</td>\n",
       "      <td>central</td>\n",
       "      <td>arganzuela</td>\n",
       "      <td>700.0</td>\n",
       "      <td>35</td>\n",
       "      <td>2</td>\n",
       "      <td>0</td>\n",
       "      <td>1</td>\n",
       "      <td>0</td>\n",
       "      <td>0</td>\n",
       "      <td>20.000000</td>\n",
       "      <td>21.037674</td>\n",
       "      <td>1530.949664</td>\n",
       "    </tr>\n",
       "    <tr>\n",
       "      <th>2</th>\n",
       "      <td>0</td>\n",
       "      <td>central</td>\n",
       "      <td>arganzuela</td>\n",
       "      <td>790.0</td>\n",
       "      <td>40</td>\n",
       "      <td>1</td>\n",
       "      <td>1</td>\n",
       "      <td>0</td>\n",
       "      <td>1</td>\n",
       "      <td>0</td>\n",
       "      <td>19.750000</td>\n",
       "      <td>21.037674</td>\n",
       "      <td>1530.949664</td>\n",
       "    </tr>\n",
       "    <tr>\n",
       "      <th>3</th>\n",
       "      <td>4</td>\n",
       "      <td>central</td>\n",
       "      <td>arganzuela</td>\n",
       "      <td>800.0</td>\n",
       "      <td>40</td>\n",
       "      <td>0</td>\n",
       "      <td>3</td>\n",
       "      <td>3</td>\n",
       "      <td>3</td>\n",
       "      <td>0</td>\n",
       "      <td>20.000000</td>\n",
       "      <td>21.037674</td>\n",
       "      <td>1530.949664</td>\n",
       "    </tr>\n",
       "    <tr>\n",
       "      <th>4</th>\n",
       "      <td>0</td>\n",
       "      <td>central</td>\n",
       "      <td>arganzuela</td>\n",
       "      <td>800.0</td>\n",
       "      <td>35</td>\n",
       "      <td>1</td>\n",
       "      <td>4</td>\n",
       "      <td>0</td>\n",
       "      <td>1</td>\n",
       "      <td>0</td>\n",
       "      <td>22.857143</td>\n",
       "      <td>21.037674</td>\n",
       "      <td>1530.949664</td>\n",
       "    </tr>\n",
       "    <tr>\n",
       "      <th>...</th>\n",
       "      <td>...</td>\n",
       "      <td>...</td>\n",
       "      <td>...</td>\n",
       "      <td>...</td>\n",
       "      <td>...</td>\n",
       "      <td>...</td>\n",
       "      <td>...</td>\n",
       "      <td>...</td>\n",
       "      <td>...</td>\n",
       "      <td>...</td>\n",
       "      <td>...</td>\n",
       "      <td>...</td>\n",
       "      <td>...</td>\n",
       "    </tr>\n",
       "    <tr>\n",
       "      <th>8177</th>\n",
       "      <td>0</td>\n",
       "      <td>central</td>\n",
       "      <td>villaverde</td>\n",
       "      <td>1465.0</td>\n",
       "      <td>45</td>\n",
       "      <td>1</td>\n",
       "      <td>6</td>\n",
       "      <td>1</td>\n",
       "      <td>1</td>\n",
       "      <td>0</td>\n",
       "      <td>32.555556</td>\n",
       "      <td>15.340223</td>\n",
       "      <td>1022.743902</td>\n",
       "    </tr>\n",
       "    <tr>\n",
       "      <th>8178</th>\n",
       "      <td>3</td>\n",
       "      <td>central</td>\n",
       "      <td>villaverde</td>\n",
       "      <td>1475.0</td>\n",
       "      <td>64</td>\n",
       "      <td>2</td>\n",
       "      <td>5</td>\n",
       "      <td>1</td>\n",
       "      <td>1</td>\n",
       "      <td>0</td>\n",
       "      <td>23.046875</td>\n",
       "      <td>15.340223</td>\n",
       "      <td>1022.743902</td>\n",
       "    </tr>\n",
       "    <tr>\n",
       "      <th>8179</th>\n",
       "      <td>0</td>\n",
       "      <td>central</td>\n",
       "      <td>villaverde</td>\n",
       "      <td>1500.0</td>\n",
       "      <td>90</td>\n",
       "      <td>4</td>\n",
       "      <td>6</td>\n",
       "      <td>1</td>\n",
       "      <td>1</td>\n",
       "      <td>0</td>\n",
       "      <td>16.666667</td>\n",
       "      <td>15.340223</td>\n",
       "      <td>1022.743902</td>\n",
       "    </tr>\n",
       "    <tr>\n",
       "      <th>8180</th>\n",
       "      <td>0</td>\n",
       "      <td>central</td>\n",
       "      <td>villaverde</td>\n",
       "      <td>1895.0</td>\n",
       "      <td>80</td>\n",
       "      <td>2</td>\n",
       "      <td>0</td>\n",
       "      <td>1</td>\n",
       "      <td>1</td>\n",
       "      <td>0</td>\n",
       "      <td>23.687500</td>\n",
       "      <td>15.340223</td>\n",
       "      <td>1022.743902</td>\n",
       "    </tr>\n",
       "    <tr>\n",
       "      <th>8181</th>\n",
       "      <td>0</td>\n",
       "      <td>central</td>\n",
       "      <td>villaverde</td>\n",
       "      <td>2300.0</td>\n",
       "      <td>65</td>\n",
       "      <td>2</td>\n",
       "      <td>1</td>\n",
       "      <td>3</td>\n",
       "      <td>0</td>\n",
       "      <td>0</td>\n",
       "      <td>35.384615</td>\n",
       "      <td>15.340223</td>\n",
       "      <td>1022.743902</td>\n",
       "    </tr>\n",
       "  </tbody>\n",
       "</table>\n",
       "<p>8182 rows × 13 columns</p>\n",
       "</div>"
      ],
      "text/plain": [
       "      descripcion     zona    distrito  precio  superficie  habitaciones  \\\n",
       "0               4  central  arganzuela   600.0          25             0   \n",
       "1               0  central  arganzuela   700.0          35             2   \n",
       "2               0  central  arganzuela   790.0          40             1   \n",
       "3               4  central  arganzuela   800.0          40             0   \n",
       "4               0  central  arganzuela   800.0          35             1   \n",
       "...           ...      ...         ...     ...         ...           ...   \n",
       "8177            0  central  villaverde  1465.0          45             1   \n",
       "8178            3  central  villaverde  1475.0          64             2   \n",
       "8179            0  central  villaverde  1500.0          90             4   \n",
       "8180            0  central  villaverde  1895.0          80             2   \n",
       "8181            0  central  villaverde  2300.0          65             2   \n",
       "\n",
       "      plantas  caract  ascensor  garaje       €/m2  distrito_€/m2    media_alq  \n",
       "0           3       3         3       0  24.000000      21.037674  1530.949664  \n",
       "1           0       1         0       0  20.000000      21.037674  1530.949664  \n",
       "2           1       0         1       0  19.750000      21.037674  1530.949664  \n",
       "3           3       3         3       0  20.000000      21.037674  1530.949664  \n",
       "4           4       0         1       0  22.857143      21.037674  1530.949664  \n",
       "...       ...     ...       ...     ...        ...            ...          ...  \n",
       "8177        6       1         1       0  32.555556      15.340223  1022.743902  \n",
       "8178        5       1         1       0  23.046875      15.340223  1022.743902  \n",
       "8179        6       1         1       0  16.666667      15.340223  1022.743902  \n",
       "8180        0       1         1       0  23.687500      15.340223  1022.743902  \n",
       "8181        1       3         0       0  35.384615      15.340223  1022.743902  \n",
       "\n",
       "[8182 rows x 13 columns]"
      ]
     },
     "execution_count": 3,
     "metadata": {},
     "output_type": "execute_result"
    }
   ],
   "source": [
    "alquiler"
   ]
  },
  {
   "cell_type": "code",
   "execution_count": 4,
   "id": "411079b8",
   "metadata": {},
   "outputs": [
    {
     "data": {
      "text/plain": [
       "distrito\n",
       "centro                 1263\n",
       "barrio de salamanca     957\n",
       "noroeste                693\n",
       "norte                   658\n",
       "chamberi                582\n",
       "chamartin               516\n",
       "tetuan                  507\n",
       "retiro                  299\n",
       "arganzuela              298\n",
       "moncloa                 264\n",
       "sur                     258\n",
       "hortaleza               245\n",
       "fuencarral              242\n",
       "ciudad lineal           207\n",
       "corredor de henares     182\n",
       "san blas                143\n",
       "latina                  137\n",
       "carabanchel             122\n",
       "puente de vallecas      105\n",
       "sureste                  91\n",
       "villaverde               82\n",
       "usera                    70\n",
       "vicalvaro                70\n",
       "villa de vallecas        67\n",
       "suroeste                 66\n",
       "barajas                  30\n",
       "moratalaz                28\n",
       "Name: count, dtype: int64"
      ]
     },
     "execution_count": 4,
     "metadata": {},
     "output_type": "execute_result"
    }
   ],
   "source": [
    "alquiler.distrito.value_counts()"
   ]
  },
  {
   "cell_type": "code",
   "execution_count": 5,
   "id": "3615b484",
   "metadata": {},
   "outputs": [],
   "source": [
    "#df1 = alquiler\n",
    "df1 = alquiler[alquiler['distrito']=='sureste']"
   ]
  },
  {
   "cell_type": "code",
   "execution_count": 6,
   "id": "0e8e1813",
   "metadata": {},
   "outputs": [
    {
     "data": {
      "image/png": "[encoded data removed]",
      "text/plain": [
       "<Figure size 640x480 with 1 Axes>"
      ]
     },
     "metadata": {},
     "output_type": "display_data"
    }
   ],
   "source": [
    "sns.boxplot(x=df1['precio'])\n",
    "plt.show()"
   ]
  },
  {
   "cell_type": "code",
   "execution_count": 7,
   "id": "ca740c9c",
   "metadata": {},
   "outputs": [],
   "source": [
    "df1 = df1.drop(columns=['distrito_€/m2','€/m2','zona','distrito','media_alq','garaje'])\n",
    "#df1 = df1.drop(columns=['distrito_€/m2','€/m2','media_alq'])\n",
    "#df1 = df1.drop(columns=['distrito_€/m2','€/m2','media_alq','garaje','ascensor','caract'])"
   ]
  },
  {
   "cell_type": "code",
   "execution_count": 8,
   "id": "c45444d5",
   "metadata": {},
   "outputs": [],
   "source": [
    "X = df1.drop('precio', axis=1)\n",
    "\n",
    "y = df1.precio"
   ]
  },
  {
   "cell_type": "code",
   "execution_count": 9,
   "id": "f2df4bf5",
   "metadata": {},
   "outputs": [
    {
     "data": {
      "text/plain": [
       "((72, 6), (19, 6), (72,), (19,))"
      ]
     },
     "execution_count": 9,
     "metadata": {},
     "output_type": "execute_result"
    }
   ],
   "source": [
    "X_train, X_test, y_train, y_test = tts(X, y,\n",
    "                                      train_size=0.8,\n",
    "                                      test_size=0.2,\n",
    "                                      random_state=42)\n",
    "\n",
    "X_train.shape, X_test.shape, y_train.shape, y_test.shape"
   ]
  },
  {
   "cell_type": "code",
   "execution_count": 10,
   "id": "0b1816f9",
   "metadata": {},
   "outputs": [
    {
     "data": {
      "text/plain": [
       "\"X = pd.get_dummies(X, columns=['distrito'], dtype=int, drop_first=True)\\n\\nX_train = pd.get_dummies(X_train, columns=['distrito'], dtype=int, drop_first=True)\\n\\nX_test = pd.get_dummies(X_test, columns=['distrito'], dtype=int, drop_first=True)\""
      ]
     },
     "execution_count": 10,
     "metadata": {},
     "output_type": "execute_result"
    }
   ],
   "source": [
    "\"\"\"X = pd.get_dummies(X, columns=['distrito'], dtype=int, drop_first=True)\n",
    "\n",
    "X_train = pd.get_dummies(X_train, columns=['distrito'], dtype=int, drop_first=True)\n",
    "\n",
    "X_test = pd.get_dummies(X_test, columns=['distrito'], dtype=int, drop_first=True)\"\"\""
   ]
  },
  {
   "cell_type": "code",
   "execution_count": 11,
   "id": "b19b8417",
   "metadata": {},
   "outputs": [
    {
     "data": {
      "text/plain": [
       "\"X = pd.get_dummies(X, columns=['zona'], dtype=int, drop_first=True)\\n\\nX_train = pd.get_dummies(X_train, columns=['zona'], dtype=int, drop_first=True)\\n\\nX_test = pd.get_dummies(X_test, columns=['zona'], dtype=int, drop_first=True)\""
      ]
     },
     "execution_count": 11,
     "metadata": {},
     "output_type": "execute_result"
    }
   ],
   "source": [
    "\"\"\"X = pd.get_dummies(X, columns=['zona'], dtype=int, drop_first=True)\n",
    "\n",
    "X_train = pd.get_dummies(X_train, columns=['zona'], dtype=int, drop_first=True)\n",
    "\n",
    "X_test = pd.get_dummies(X_test, columns=['zona'], dtype=int, drop_first=True)\"\"\""
   ]
  },
  {
   "cell_type": "code",
   "execution_count": 12,
   "id": "ddcdee60",
   "metadata": {},
   "outputs": [
    {
     "data": {
      "text/plain": [
       "321.7728549132045"
      ]
     },
     "execution_count": 12,
     "metadata": {},
     "output_type": "execute_result"
    }
   ],
   "source": [
    "rfr = RFR(n_estimators=500, random_state=20)\n",
    "\n",
    "rfr.fit(X_train, y_train)\n",
    "\n",
    "y_pred = rfr.predict(X_test)\n",
    "\n",
    "mse(y_test, y_pred, squared=False)"
   ]
  },
  {
   "cell_type": "code",
   "execution_count": 13,
   "id": "30fc1c27",
   "metadata": {},
   "outputs": [
    {
     "name": "stdout",
     "output_type": "stream",
     "text": [
      "Test accuracy: 0.6606\n"
     ]
    }
   ],
   "source": [
    "print(f\"Test accuracy: {rfr.score(X_test, y_test):0.4f}\")"
   ]
  },
  {
   "cell_type": "code",
   "execution_count": 14,
   "id": "3b5101db",
   "metadata": {},
   "outputs": [
    {
     "data": {
      "text/plain": [
       "1140.3736263736264"
      ]
     },
     "execution_count": 14,
     "metadata": {},
     "output_type": "execute_result"
    }
   ],
   "source": [
    "df1.precio.mean()"
   ]
  },
  {
   "cell_type": "code",
   "execution_count": 15,
   "id": "ae0013be",
   "metadata": {},
   "outputs": [
    {
     "data": {
      "text/plain": [
       "28.21644130235089"
      ]
     },
     "execution_count": 15,
     "metadata": {},
     "output_type": "execute_result"
    }
   ],
   "source": [
    "mse(y_test, y_pred, squared=False)*100/df1.precio.mean()"
   ]
  },
  {
   "cell_type": "code",
   "execution_count": 16,
   "id": "d31bd8a8",
   "metadata": {},
   "outputs": [
    {
     "data": {
      "text/plain": [
       "{'descripcion': 0.9926515996581549,\n",
       " 'superficie': 45.27197485621897,\n",
       " 'habitaciones': 44.342184509129126,\n",
       " 'plantas': 8.295265870583643,\n",
       " 'caract': 0.6078586236051348,\n",
       " 'ascensor': 0.49006454080497075}"
      ]
     },
     "execution_count": 16,
     "metadata": {},
     "output_type": "execute_result"
    }
   ],
   "source": [
    "dict(zip(X.columns, rfr.feature_importances_*100))"
   ]
  },
  {
   "cell_type": "code",
   "execution_count": 17,
   "id": "65e62033",
   "metadata": {},
   "outputs": [
    {
     "data": {
      "text/plain": [
       "317.38763702598567"
      ]
     },
     "execution_count": 17,
     "metadata": {},
     "output_type": "execute_result"
    }
   ],
   "source": [
    "xgbr=XGBR(random_state=42)\n",
    "\n",
    "xgbr.fit(X_train, y_train)\n",
    "\n",
    "y_pred = xgbr.predict(X_test)\n",
    "\n",
    "mse(y_test, y_pred, squared=False)"
   ]
  },
  {
   "cell_type": "code",
   "execution_count": 18,
   "id": "64e9548f",
   "metadata": {},
   "outputs": [
    {
     "name": "stdout",
     "output_type": "stream",
     "text": [
      "Test accuracy: 0.6698\n"
     ]
    }
   ],
   "source": [
    "print(f\"Test accuracy: {xgbr.score(X_test, y_test):0.4f}\")"
   ]
  },
  {
   "cell_type": "code",
   "execution_count": 19,
   "id": "7ce6aba6",
   "metadata": {},
   "outputs": [
    {
     "data": {
      "text/plain": [
       "1140.3736263736264"
      ]
     },
     "execution_count": 19,
     "metadata": {},
     "output_type": "execute_result"
    }
   ],
   "source": [
    "df1.precio.mean()"
   ]
  },
  {
   "cell_type": "code",
   "execution_count": 20,
   "id": "b243694e",
   "metadata": {},
   "outputs": [
    {
     "data": {
      "text/plain": [
       "27.831899097427772"
      ]
     },
     "execution_count": 20,
     "metadata": {},
     "output_type": "execute_result"
    }
   ],
   "source": [
    "mse(y_test, y_pred, squared=False)*100/df1.precio.mean()"
   ]
  },
  {
   "cell_type": "code",
   "execution_count": 21,
   "id": "48356c92",
   "metadata": {},
   "outputs": [
    {
     "data": {
      "text/plain": [
       "{'descripcion': 0.8012717,\n",
       " 'superficie': 4.7338476,\n",
       " 'habitaciones': 82.41664,\n",
       " 'plantas': 6.675246,\n",
       " 'caract': 5.019359,\n",
       " 'ascensor': 0.35362875}"
      ]
     },
     "execution_count": 21,
     "metadata": {},
     "output_type": "execute_result"
    }
   ],
   "source": [
    "dict(zip(X.columns, xgbr.feature_importances_*100))"
   ]
  },
  {
   "cell_type": "code",
   "execution_count": null,
   "id": "8cbdf0bc",
   "metadata": {},
   "outputs": [],
   "source": []
  },
  {
   "cell_type": "code",
   "execution_count": null,
   "id": "1a7f5ed0",
   "metadata": {},
   "outputs": [],
   "source": []
  },
  {
   "cell_type": "code",
   "execution_count": 22,
   "id": "7702a26b",
   "metadata": {},
   "outputs": [],
   "source": [
    "X1 = df1.drop(columns='precio')\n",
    "y1 = df1.precio"
   ]
  },
  {
   "cell_type": "code",
   "execution_count": 23,
   "id": "be88022a",
   "metadata": {},
   "outputs": [
    {
     "data": {
      "text/plain": [
       "57.21975119384231"
      ]
     },
     "execution_count": 23,
     "metadata": {},
     "output_type": "execute_result"
    }
   ],
   "source": [
    "xgbr=XGBR(random_state=42)\n",
    "xgbr.fit(X1, y1)\n",
    "y1_pred = xgbr.predict(X1)\n",
    "mse(y1_pred, y1, squared=False)"
   ]
  },
  {
   "cell_type": "code",
   "execution_count": 24,
   "id": "f2a75cb0",
   "metadata": {},
   "outputs": [
    {
     "data": {
      "text/plain": [
       "{'descripcion': 3.815843,\n",
       " 'superficie': 18.775423,\n",
       " 'habitaciones': 64.60652,\n",
       " 'plantas': 8.827091,\n",
       " 'caract': 2.9171808,\n",
       " 'ascensor': 1.0579277}"
      ]
     },
     "execution_count": 24,
     "metadata": {},
     "output_type": "execute_result"
    }
   ],
   "source": [
    "dict(zip(X.columns, xgbr.feature_importances_*100))"
   ]
  },
  {
   "cell_type": "code",
   "execution_count": 25,
   "id": "10987984",
   "metadata": {},
   "outputs": [
    {
     "data": {
      "text/plain": [
       "1140.3736263736264"
      ]
     },
     "execution_count": 25,
     "metadata": {},
     "output_type": "execute_result"
    }
   ],
   "source": [
    "df1.precio.mean()"
   ]
  },
  {
   "cell_type": "code",
   "execution_count": 26,
   "id": "3d0a55da",
   "metadata": {},
   "outputs": [
    {
     "name": "stdout",
     "output_type": "stream",
     "text": [
      "Test accuracy: 0.9921\n"
     ]
    }
   ],
   "source": [
    "print(f\"Test accuracy: {xgbr.score(X1, y1):0.4f}\")"
   ]
  },
  {
   "cell_type": "code",
   "execution_count": 27,
   "id": "653dd75f",
   "metadata": {},
   "outputs": [
    {
     "data": {
      "text/plain": [
       "5.017631929615945"
      ]
     },
     "execution_count": 27,
     "metadata": {},
     "output_type": "execute_result"
    }
   ],
   "source": [
    "mse(y1_pred, y1, squared=False)*100/df1.precio.mean()"
   ]
  }
 ],
 "metadata": {
  "kernelspec": {
   "display_name": "Python 3 (ipykernel)",
   "language": "python",
   "name": "python3"
  },
  "language_info": {
   "codemirror_mode": {
    "name": "ipython",
    "version": 3
   },
   "file_extension": ".py",
   "mimetype": "text/x-python",
   "name": "python",
   "nbconvert_exporter": "python",
   "pygments_lexer": "ipython3",
   "version": "3.11.5"
  }
 },
 "nbformat": 4,
 "nbformat_minor": 5
}
