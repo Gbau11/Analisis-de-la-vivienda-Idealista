{
 "cells": [
  {
   "cell_type": "code",
   "execution_count": 1,
   "id": "30bc3eb4",
   "metadata": {},
   "outputs": [],
   "source": [
    "import pandas as pd\n",
    "import numpy as np\n",
    "pd.set_option('display.max_columns', None)\n",
    "pd.set_option('display.max_rows', 200)\n",
    "from datetime import datetime\n",
    "import warnings\n",
    "warnings.filterwarnings('ignore')\n",
    "import pylab as plt\n",
    "import seaborn as sns\n",
    "from sklearn.model_selection import train_test_split as tts\n",
    "from sklearn.preprocessing import StandardScaler\n",
    "from sklearn.linear_model import LinearRegression as LinReg  \n",
    "from sklearn.linear_model import Lasso       \n",
    "from sklearn.linear_model import Ridge      \n",
    "from sklearn.linear_model import ElasticNet\n",
    "from sklearn.svm import SVR\n",
    "from sklearn.ensemble import RandomForestRegressor as RFR  \n",
    "from sklearn.tree import ExtraTreeRegressor as ETR\n"
   ]
  },
  {
   "cell_type": "code",
   "execution_count": 2,
   "id": "bff64e9c",
   "metadata": {},
   "outputs": [],
   "source": [
    "#%pip install lazypredict"
   ]
  },
  {
   "cell_type": "code",
   "execution_count": 3,
   "id": "451351bf",
   "metadata": {},
   "outputs": [
    {
     "data": {
      "text/plain": [
       "'%pip install xgboost\\n\\n%pip install catboost\\n\\n%pip install lightgbm'"
      ]
     },
     "execution_count": 3,
     "metadata": {},
     "output_type": "execute_result"
    }
   ],
   "source": [
    "\"\"\"%pip install xgboost\n",
    "\n",
    "%pip install catboost\n",
    "\n",
    "%pip install lightgbm\"\"\""
   ]
  },
  {
   "cell_type": "code",
   "execution_count": 4,
   "id": "d7b13d7c",
   "metadata": {},
   "outputs": [],
   "source": [
    "from catboost import CatBoostRegressor as CTR\n",
    "from lightgbm import LGBMRegressor as LGBMR\n",
    "from sklearn.ensemble import GradientBoostingRegressor as GBR\n",
    "from xgboost import XGBRegressor as XGBR\n",
    "from lazypredict.Supervised import LazyRegressor "
   ]
  },
  {
   "cell_type": "code",
   "execution_count": 5,
   "id": "ac63be00",
   "metadata": {},
   "outputs": [],
   "source": [
    "mad_total = pd.read_csv('../analisis_exploratorio/mad_total_limp.csv')"
   ]
  },
  {
   "cell_type": "code",
   "execution_count": 6,
   "id": "05519ded",
   "metadata": {},
   "outputs": [],
   "source": [
    "mad_centro = pd.read_csv('../analisis_exploratorio/mad_int_limp.csv')"
   ]
  },
  {
   "cell_type": "code",
   "execution_count": 7,
   "id": "6f12c97e",
   "metadata": {},
   "outputs": [],
   "source": [
    "mad_exterior = pd.read_csv('../analisis_exploratorio/mad_ext_limp.csv')"
   ]
  },
  {
   "cell_type": "code",
   "execution_count": 8,
   "id": "d362bed5",
   "metadata": {},
   "outputs": [],
   "source": [
    "alquiler = pd.read_csv('../analisis_exploratorio/alquiler_limp.csv')"
   ]
  },
  {
   "cell_type": "code",
   "execution_count": null,
   "id": "6f468c9b",
   "metadata": {},
   "outputs": [],
   "source": []
  },
  {
   "cell_type": "code",
   "execution_count": null,
   "id": "969df70f",
   "metadata": {},
   "outputs": [],
   "source": []
  },
  {
   "cell_type": "code",
   "execution_count": 9,
   "id": "6a68bf94",
   "metadata": {},
   "outputs": [
    {
     "data": {
      "text/html": [
       "<div>\n",
       "<style scoped>\n",
       "    .dataframe tbody tr th:only-of-type {\n",
       "        vertical-align: middle;\n",
       "    }\n",
       "\n",
       "    .dataframe tbody tr th {\n",
       "        vertical-align: top;\n",
       "    }\n",
       "\n",
       "    .dataframe thead th {\n",
       "        text-align: right;\n",
       "    }\n",
       "</style>\n",
       "<table border=\"1\" class=\"dataframe\">\n",
       "  <thead>\n",
       "    <tr style=\"text-align: right;\">\n",
       "      <th></th>\n",
       "      <th>descripcion</th>\n",
       "      <th>zona</th>\n",
       "      <th>distrito</th>\n",
       "      <th>precio</th>\n",
       "      <th>superficie</th>\n",
       "      <th>habitaciones</th>\n",
       "      <th>plantas</th>\n",
       "      <th>caract</th>\n",
       "      <th>ascensor</th>\n",
       "      <th>€/m2</th>\n",
       "      <th>distrito_€/m2</th>\n",
       "      <th>media_alq</th>\n",
       "    </tr>\n",
       "  </thead>\n",
       "  <tbody>\n",
       "    <tr>\n",
       "      <th>0</th>\n",
       "      <td>0</td>\n",
       "      <td>central</td>\n",
       "      <td>villaverde</td>\n",
       "      <td>26100</td>\n",
       "      <td>59</td>\n",
       "      <td>2</td>\n",
       "      <td>3</td>\n",
       "      <td>3</td>\n",
       "      <td>0</td>\n",
       "      <td>442.37</td>\n",
       "      <td>2109.77</td>\n",
       "      <td>1022.74</td>\n",
       "    </tr>\n",
       "    <tr>\n",
       "      <th>1</th>\n",
       "      <td>0</td>\n",
       "      <td>central</td>\n",
       "      <td>villaverde</td>\n",
       "      <td>50600</td>\n",
       "      <td>53</td>\n",
       "      <td>3</td>\n",
       "      <td>2</td>\n",
       "      <td>3</td>\n",
       "      <td>3</td>\n",
       "      <td>954.72</td>\n",
       "      <td>2109.77</td>\n",
       "      <td>1022.74</td>\n",
       "    </tr>\n",
       "    <tr>\n",
       "      <th>2</th>\n",
       "      <td>0</td>\n",
       "      <td>central</td>\n",
       "      <td>villaverde</td>\n",
       "      <td>51700</td>\n",
       "      <td>60</td>\n",
       "      <td>3</td>\n",
       "      <td>3</td>\n",
       "      <td>1</td>\n",
       "      <td>0</td>\n",
       "      <td>861.67</td>\n",
       "      <td>2109.77</td>\n",
       "      <td>1022.74</td>\n",
       "    </tr>\n",
       "    <tr>\n",
       "      <th>3</th>\n",
       "      <td>0</td>\n",
       "      <td>central</td>\n",
       "      <td>villaverde</td>\n",
       "      <td>51700</td>\n",
       "      <td>60</td>\n",
       "      <td>3</td>\n",
       "      <td>3</td>\n",
       "      <td>3</td>\n",
       "      <td>0</td>\n",
       "      <td>861.67</td>\n",
       "      <td>2109.77</td>\n",
       "      <td>1022.74</td>\n",
       "    </tr>\n",
       "    <tr>\n",
       "      <th>4</th>\n",
       "      <td>0</td>\n",
       "      <td>central</td>\n",
       "      <td>villaverde</td>\n",
       "      <td>51700</td>\n",
       "      <td>59</td>\n",
       "      <td>3</td>\n",
       "      <td>4</td>\n",
       "      <td>1</td>\n",
       "      <td>0</td>\n",
       "      <td>876.27</td>\n",
       "      <td>2109.77</td>\n",
       "      <td>1022.74</td>\n",
       "    </tr>\n",
       "    <tr>\n",
       "      <th>...</th>\n",
       "      <td>...</td>\n",
       "      <td>...</td>\n",
       "      <td>...</td>\n",
       "      <td>...</td>\n",
       "      <td>...</td>\n",
       "      <td>...</td>\n",
       "      <td>...</td>\n",
       "      <td>...</td>\n",
       "      <td>...</td>\n",
       "      <td>...</td>\n",
       "      <td>...</td>\n",
       "      <td>...</td>\n",
       "    </tr>\n",
       "    <tr>\n",
       "      <th>35779</th>\n",
       "      <td>1</td>\n",
       "      <td>exterior</td>\n",
       "      <td>sureste</td>\n",
       "      <td>1400000</td>\n",
       "      <td>805</td>\n",
       "      <td>12</td>\n",
       "      <td>-4</td>\n",
       "      <td>2</td>\n",
       "      <td>2</td>\n",
       "      <td>1739.13</td>\n",
       "      <td>1291.27</td>\n",
       "      <td>1140.37</td>\n",
       "    </tr>\n",
       "    <tr>\n",
       "      <th>35780</th>\n",
       "      <td>1</td>\n",
       "      <td>exterior</td>\n",
       "      <td>sureste</td>\n",
       "      <td>1400000</td>\n",
       "      <td>950</td>\n",
       "      <td>10</td>\n",
       "      <td>-4</td>\n",
       "      <td>2</td>\n",
       "      <td>2</td>\n",
       "      <td>1473.68</td>\n",
       "      <td>1291.27</td>\n",
       "      <td>1140.37</td>\n",
       "    </tr>\n",
       "    <tr>\n",
       "      <th>35781</th>\n",
       "      <td>1</td>\n",
       "      <td>exterior</td>\n",
       "      <td>sureste</td>\n",
       "      <td>1500000</td>\n",
       "      <td>500</td>\n",
       "      <td>5</td>\n",
       "      <td>-4</td>\n",
       "      <td>2</td>\n",
       "      <td>2</td>\n",
       "      <td>3000.00</td>\n",
       "      <td>1291.27</td>\n",
       "      <td>1140.37</td>\n",
       "    </tr>\n",
       "    <tr>\n",
       "      <th>35782</th>\n",
       "      <td>1</td>\n",
       "      <td>exterior</td>\n",
       "      <td>sureste</td>\n",
       "      <td>2000000</td>\n",
       "      <td>3000</td>\n",
       "      <td>1</td>\n",
       "      <td>-4</td>\n",
       "      <td>2</td>\n",
       "      <td>2</td>\n",
       "      <td>666.67</td>\n",
       "      <td>1291.27</td>\n",
       "      <td>1140.37</td>\n",
       "    </tr>\n",
       "    <tr>\n",
       "      <th>35783</th>\n",
       "      <td>1</td>\n",
       "      <td>exterior</td>\n",
       "      <td>sureste</td>\n",
       "      <td>2100000</td>\n",
       "      <td>600</td>\n",
       "      <td>7</td>\n",
       "      <td>-4</td>\n",
       "      <td>2</td>\n",
       "      <td>2</td>\n",
       "      <td>3500.00</td>\n",
       "      <td>1291.27</td>\n",
       "      <td>1140.37</td>\n",
       "    </tr>\n",
       "  </tbody>\n",
       "</table>\n",
       "<p>35784 rows × 12 columns</p>\n",
       "</div>"
      ],
      "text/plain": [
       "       descripcion      zona    distrito   precio  superficie  habitaciones  \\\n",
       "0                0   central  villaverde    26100          59             2   \n",
       "1                0   central  villaverde    50600          53             3   \n",
       "2                0   central  villaverde    51700          60             3   \n",
       "3                0   central  villaverde    51700          60             3   \n",
       "4                0   central  villaverde    51700          59             3   \n",
       "...            ...       ...         ...      ...         ...           ...   \n",
       "35779            1  exterior     sureste  1400000         805            12   \n",
       "35780            1  exterior     sureste  1400000         950            10   \n",
       "35781            1  exterior     sureste  1500000         500             5   \n",
       "35782            1  exterior     sureste  2000000        3000             1   \n",
       "35783            1  exterior     sureste  2100000         600             7   \n",
       "\n",
       "       plantas  caract  ascensor    €/m2  distrito_€/m2  media_alq  \n",
       "0            3       3         0  442.37        2109.77    1022.74  \n",
       "1            2       3         3  954.72        2109.77    1022.74  \n",
       "2            3       1         0  861.67        2109.77    1022.74  \n",
       "3            3       3         0  861.67        2109.77    1022.74  \n",
       "4            4       1         0  876.27        2109.77    1022.74  \n",
       "...        ...     ...       ...     ...            ...        ...  \n",
       "35779       -4       2         2 1739.13        1291.27    1140.37  \n",
       "35780       -4       2         2 1473.68        1291.27    1140.37  \n",
       "35781       -4       2         2 3000.00        1291.27    1140.37  \n",
       "35782       -4       2         2  666.67        1291.27    1140.37  \n",
       "35783       -4       2         2 3500.00        1291.27    1140.37  \n",
       "\n",
       "[35784 rows x 12 columns]"
      ]
     },
     "execution_count": 9,
     "metadata": {},
     "output_type": "execute_result"
    }
   ],
   "source": [
    "mad_total"
   ]
  },
  {
   "cell_type": "code",
   "execution_count": 10,
   "id": "00927b11",
   "metadata": {},
   "outputs": [],
   "source": [
    "modelo_num = mad_total.drop(columns=['distrito_€/m2','€/m2','zona','distrito'])"
   ]
  },
  {
   "cell_type": "code",
   "execution_count": 11,
   "id": "0d4b97e5",
   "metadata": {},
   "outputs": [],
   "source": [
    "modelo = mad_total.drop(columns=['distrito_€/m2','€/m2'])"
   ]
  },
  {
   "cell_type": "code",
   "execution_count": 12,
   "id": "e7820a5e",
   "metadata": {
    "scrolled": false
   },
   "outputs": [
    {
     "data": {
      "image/png": "[encoded data removed]",
      "text/plain": [
       "<Figure size 1500x1000 with 2 Axes>"
      ]
     },
     "metadata": {},
     "output_type": "display_data"
    }
   ],
   "source": [
    "plt.figure(figsize=(15, 10))\n",
    "\n",
    "sns.set(style='white')\n",
    "\n",
    "mask=np.triu(np.ones_like(modelo_num.corr(method='spearman'), dtype=bool))\n",
    "\n",
    "cmap=sns.diverging_palette(0, 10, as_cmap=True)\n",
    "\n",
    "\n",
    "sns.heatmap(modelo_num.corr(method='spearman'),\n",
    "           mask=mask,\n",
    "          cmap=cmap,\n",
    "          center=0,\n",
    "          square=True,\n",
    "          annot=True,\n",
    "          linewidths=0.5,\n",
    "          cbar_kws={'shrink': 0.5});"
   ]
  },
  {
   "cell_type": "code",
   "execution_count": 13,
   "id": "28c61de6",
   "metadata": {},
   "outputs": [],
   "source": [
    "X = modelo.drop('precio', axis=1)\n",
    "\n",
    "y = modelo.precio"
   ]
  },
  {
   "cell_type": "code",
   "execution_count": 14,
   "id": "3b98eee8",
   "metadata": {},
   "outputs": [],
   "source": [
    "X = X.drop(columns=['media_alq','caract'])"
   ]
  },
  {
   "cell_type": "code",
   "execution_count": 15,
   "id": "f8d531da",
   "metadata": {},
   "outputs": [
    {
     "data": {
      "text/plain": [
       "((28627, 7), (7157, 7), (28627,), (7157,))"
      ]
     },
     "execution_count": 15,
     "metadata": {},
     "output_type": "execute_result"
    }
   ],
   "source": [
    "X_train, X_test, y_train, y_test = tts(X, y,\n",
    "                                      train_size=0.8,\n",
    "                                      test_size=0.2,\n",
    "                                      random_state=42)\n",
    "\n",
    "X_train.shape, X_test.shape, y_train.shape, y_test.shape"
   ]
  },
  {
   "cell_type": "code",
   "execution_count": 16,
   "id": "28f15a3f",
   "metadata": {},
   "outputs": [
    {
     "data": {
      "text/plain": [
       "'from lazypredict.Supervised import LazyRegressor\\n\\nreg = LazyRegressor(verbose=0, ignore_warnings=True, custom_metric=None)\\n\\nmodels, predictions = reg.fit(X_train, X_test, y_train, y_test)\\n\\nprint(models)'"
      ]
     },
     "execution_count": 16,
     "metadata": {},
     "output_type": "execute_result"
    }
   ],
   "source": [
    "\"\"\"from lazypredict.Supervised import LazyRegressor\n",
    "\n",
    "reg = LazyRegressor(verbose=0, ignore_warnings=True, custom_metric=None)\n",
    "\n",
    "models, predictions = reg.fit(X_train, X_test, y_train, y_test)\n",
    "\n",
    "print(models)\"\"\""
   ]
  },
  {
   "cell_type": "code",
   "execution_count": 17,
   "id": "fc00f99f",
   "metadata": {},
   "outputs": [],
   "source": [
    "X = pd.get_dummies(X, columns=['zona'], dtype=int, drop_first=True)\n",
    "\n",
    "X_train = pd.get_dummies(X_train, columns=['zona'], dtype=int, drop_first=True)\n",
    "\n",
    "X_test = pd.get_dummies(X_test, columns=['zona'], dtype=int, drop_first=True)"
   ]
  },
  {
   "cell_type": "code",
   "execution_count": 18,
   "id": "c65bcfc2",
   "metadata": {},
   "outputs": [],
   "source": [
    "X = pd.get_dummies(X, columns=['distrito'], dtype=int, drop_first=True)\n",
    "\n",
    "X_train = pd.get_dummies(X_train, columns=['distrito'], dtype=int, drop_first=True)\n",
    "\n",
    "X_test = pd.get_dummies(X_test, columns=['distrito'], dtype=int, drop_first=True)"
   ]
  },
  {
   "cell_type": "code",
   "execution_count": 19,
   "id": "13225fd6",
   "metadata": {},
   "outputs": [
    {
     "data": {
      "text/html": [
       "<div>\n",
       "<style scoped>\n",
       "    .dataframe tbody tr th:only-of-type {\n",
       "        vertical-align: middle;\n",
       "    }\n",
       "\n",
       "    .dataframe tbody tr th {\n",
       "        vertical-align: top;\n",
       "    }\n",
       "\n",
       "    .dataframe thead th {\n",
       "        text-align: right;\n",
       "    }\n",
       "</style>\n",
       "<table border=\"1\" class=\"dataframe\">\n",
       "  <thead>\n",
       "    <tr style=\"text-align: right;\">\n",
       "      <th></th>\n",
       "      <th>descripcion</th>\n",
       "      <th>superficie</th>\n",
       "      <th>habitaciones</th>\n",
       "      <th>plantas</th>\n",
       "      <th>ascensor</th>\n",
       "      <th>zona_exterior</th>\n",
       "      <th>distrito_barajas</th>\n",
       "      <th>distrito_barrio de salamanca</th>\n",
       "      <th>distrito_carabanchel</th>\n",
       "      <th>distrito_centro</th>\n",
       "      <th>distrito_chamartin</th>\n",
       "      <th>distrito_chamberi</th>\n",
       "      <th>distrito_ciudad lineal</th>\n",
       "      <th>distrito_corredor de henares</th>\n",
       "      <th>distrito_fuencarral</th>\n",
       "      <th>distrito_hortaleza</th>\n",
       "      <th>distrito_latina</th>\n",
       "      <th>distrito_moncloa</th>\n",
       "      <th>distrito_moratalaz</th>\n",
       "      <th>distrito_noroeste</th>\n",
       "      <th>distrito_norte</th>\n",
       "      <th>distrito_puente de vallecas</th>\n",
       "      <th>distrito_retiro</th>\n",
       "      <th>distrito_san blas</th>\n",
       "      <th>distrito_sur</th>\n",
       "      <th>distrito_sureste</th>\n",
       "      <th>distrito_suroeste</th>\n",
       "      <th>distrito_tetuan</th>\n",
       "      <th>distrito_usera</th>\n",
       "      <th>distrito_vicalvaro</th>\n",
       "      <th>distrito_villa de vallecas</th>\n",
       "      <th>distrito_villaverde</th>\n",
       "    </tr>\n",
       "  </thead>\n",
       "  <tbody>\n",
       "    <tr>\n",
       "      <th>24788</th>\n",
       "      <td>1</td>\n",
       "      <td>220</td>\n",
       "      <td>3</td>\n",
       "      <td>-4</td>\n",
       "      <td>2</td>\n",
       "      <td>1</td>\n",
       "      <td>0</td>\n",
       "      <td>0</td>\n",
       "      <td>0</td>\n",
       "      <td>0</td>\n",
       "      <td>0</td>\n",
       "      <td>0</td>\n",
       "      <td>0</td>\n",
       "      <td>0</td>\n",
       "      <td>0</td>\n",
       "      <td>0</td>\n",
       "      <td>0</td>\n",
       "      <td>0</td>\n",
       "      <td>0</td>\n",
       "      <td>1</td>\n",
       "      <td>0</td>\n",
       "      <td>0</td>\n",
       "      <td>0</td>\n",
       "      <td>0</td>\n",
       "      <td>0</td>\n",
       "      <td>0</td>\n",
       "      <td>0</td>\n",
       "      <td>0</td>\n",
       "      <td>0</td>\n",
       "      <td>0</td>\n",
       "      <td>0</td>\n",
       "      <td>0</td>\n",
       "    </tr>\n",
       "    <tr>\n",
       "      <th>8023</th>\n",
       "      <td>0</td>\n",
       "      <td>51</td>\n",
       "      <td>2</td>\n",
       "      <td>-2</td>\n",
       "      <td>0</td>\n",
       "      <td>0</td>\n",
       "      <td>0</td>\n",
       "      <td>0</td>\n",
       "      <td>0</td>\n",
       "      <td>0</td>\n",
       "      <td>0</td>\n",
       "      <td>0</td>\n",
       "      <td>1</td>\n",
       "      <td>0</td>\n",
       "      <td>0</td>\n",
       "      <td>0</td>\n",
       "      <td>0</td>\n",
       "      <td>0</td>\n",
       "      <td>0</td>\n",
       "      <td>0</td>\n",
       "      <td>0</td>\n",
       "      <td>0</td>\n",
       "      <td>0</td>\n",
       "      <td>0</td>\n",
       "      <td>0</td>\n",
       "      <td>0</td>\n",
       "      <td>0</td>\n",
       "      <td>0</td>\n",
       "      <td>0</td>\n",
       "      <td>0</td>\n",
       "      <td>0</td>\n",
       "      <td>0</td>\n",
       "    </tr>\n",
       "    <tr>\n",
       "      <th>31702</th>\n",
       "      <td>0</td>\n",
       "      <td>112</td>\n",
       "      <td>3</td>\n",
       "      <td>3</td>\n",
       "      <td>1</td>\n",
       "      <td>1</td>\n",
       "      <td>0</td>\n",
       "      <td>0</td>\n",
       "      <td>0</td>\n",
       "      <td>0</td>\n",
       "      <td>0</td>\n",
       "      <td>0</td>\n",
       "      <td>0</td>\n",
       "      <td>0</td>\n",
       "      <td>0</td>\n",
       "      <td>0</td>\n",
       "      <td>0</td>\n",
       "      <td>0</td>\n",
       "      <td>0</td>\n",
       "      <td>0</td>\n",
       "      <td>0</td>\n",
       "      <td>0</td>\n",
       "      <td>0</td>\n",
       "      <td>0</td>\n",
       "      <td>1</td>\n",
       "      <td>0</td>\n",
       "      <td>0</td>\n",
       "      <td>0</td>\n",
       "      <td>0</td>\n",
       "      <td>0</td>\n",
       "      <td>0</td>\n",
       "      <td>0</td>\n",
       "    </tr>\n",
       "    <tr>\n",
       "      <th>35765</th>\n",
       "      <td>1</td>\n",
       "      <td>1000</td>\n",
       "      <td>7</td>\n",
       "      <td>-4</td>\n",
       "      <td>2</td>\n",
       "      <td>1</td>\n",
       "      <td>0</td>\n",
       "      <td>0</td>\n",
       "      <td>0</td>\n",
       "      <td>0</td>\n",
       "      <td>0</td>\n",
       "      <td>0</td>\n",
       "      <td>0</td>\n",
       "      <td>0</td>\n",
       "      <td>0</td>\n",
       "      <td>0</td>\n",
       "      <td>0</td>\n",
       "      <td>0</td>\n",
       "      <td>0</td>\n",
       "      <td>0</td>\n",
       "      <td>0</td>\n",
       "      <td>0</td>\n",
       "      <td>0</td>\n",
       "      <td>0</td>\n",
       "      <td>0</td>\n",
       "      <td>1</td>\n",
       "      <td>0</td>\n",
       "      <td>0</td>\n",
       "      <td>0</td>\n",
       "      <td>0</td>\n",
       "      <td>0</td>\n",
       "      <td>0</td>\n",
       "    </tr>\n",
       "    <tr>\n",
       "      <th>31782</th>\n",
       "      <td>0</td>\n",
       "      <td>107</td>\n",
       "      <td>4</td>\n",
       "      <td>2</td>\n",
       "      <td>1</td>\n",
       "      <td>1</td>\n",
       "      <td>0</td>\n",
       "      <td>0</td>\n",
       "      <td>0</td>\n",
       "      <td>0</td>\n",
       "      <td>0</td>\n",
       "      <td>0</td>\n",
       "      <td>0</td>\n",
       "      <td>0</td>\n",
       "      <td>0</td>\n",
       "      <td>0</td>\n",
       "      <td>0</td>\n",
       "      <td>0</td>\n",
       "      <td>0</td>\n",
       "      <td>0</td>\n",
       "      <td>0</td>\n",
       "      <td>0</td>\n",
       "      <td>0</td>\n",
       "      <td>0</td>\n",
       "      <td>1</td>\n",
       "      <td>0</td>\n",
       "      <td>0</td>\n",
       "      <td>0</td>\n",
       "      <td>0</td>\n",
       "      <td>0</td>\n",
       "      <td>0</td>\n",
       "      <td>0</td>\n",
       "    </tr>\n",
       "    <tr>\n",
       "      <th>...</th>\n",
       "      <td>...</td>\n",
       "      <td>...</td>\n",
       "      <td>...</td>\n",
       "      <td>...</td>\n",
       "      <td>...</td>\n",
       "      <td>...</td>\n",
       "      <td>...</td>\n",
       "      <td>...</td>\n",
       "      <td>...</td>\n",
       "      <td>...</td>\n",
       "      <td>...</td>\n",
       "      <td>...</td>\n",
       "      <td>...</td>\n",
       "      <td>...</td>\n",
       "      <td>...</td>\n",
       "      <td>...</td>\n",
       "      <td>...</td>\n",
       "      <td>...</td>\n",
       "      <td>...</td>\n",
       "      <td>...</td>\n",
       "      <td>...</td>\n",
       "      <td>...</td>\n",
       "      <td>...</td>\n",
       "      <td>...</td>\n",
       "      <td>...</td>\n",
       "      <td>...</td>\n",
       "      <td>...</td>\n",
       "      <td>...</td>\n",
       "      <td>...</td>\n",
       "      <td>...</td>\n",
       "      <td>...</td>\n",
       "      <td>...</td>\n",
       "    </tr>\n",
       "    <tr>\n",
       "      <th>16850</th>\n",
       "      <td>0</td>\n",
       "      <td>139</td>\n",
       "      <td>5</td>\n",
       "      <td>8</td>\n",
       "      <td>1</td>\n",
       "      <td>0</td>\n",
       "      <td>0</td>\n",
       "      <td>1</td>\n",
       "      <td>0</td>\n",
       "      <td>0</td>\n",
       "      <td>0</td>\n",
       "      <td>0</td>\n",
       "      <td>0</td>\n",
       "      <td>0</td>\n",
       "      <td>0</td>\n",
       "      <td>0</td>\n",
       "      <td>0</td>\n",
       "      <td>0</td>\n",
       "      <td>0</td>\n",
       "      <td>0</td>\n",
       "      <td>0</td>\n",
       "      <td>0</td>\n",
       "      <td>0</td>\n",
       "      <td>0</td>\n",
       "      <td>0</td>\n",
       "      <td>0</td>\n",
       "      <td>0</td>\n",
       "      <td>0</td>\n",
       "      <td>0</td>\n",
       "      <td>0</td>\n",
       "      <td>0</td>\n",
       "      <td>0</td>\n",
       "    </tr>\n",
       "    <tr>\n",
       "      <th>6265</th>\n",
       "      <td>0</td>\n",
       "      <td>100</td>\n",
       "      <td>3</td>\n",
       "      <td>7</td>\n",
       "      <td>1</td>\n",
       "      <td>0</td>\n",
       "      <td>0</td>\n",
       "      <td>0</td>\n",
       "      <td>0</td>\n",
       "      <td>0</td>\n",
       "      <td>0</td>\n",
       "      <td>0</td>\n",
       "      <td>0</td>\n",
       "      <td>0</td>\n",
       "      <td>0</td>\n",
       "      <td>0</td>\n",
       "      <td>1</td>\n",
       "      <td>0</td>\n",
       "      <td>0</td>\n",
       "      <td>0</td>\n",
       "      <td>0</td>\n",
       "      <td>0</td>\n",
       "      <td>0</td>\n",
       "      <td>0</td>\n",
       "      <td>0</td>\n",
       "      <td>0</td>\n",
       "      <td>0</td>\n",
       "      <td>0</td>\n",
       "      <td>0</td>\n",
       "      <td>0</td>\n",
       "      <td>0</td>\n",
       "      <td>0</td>\n",
       "    </tr>\n",
       "    <tr>\n",
       "      <th>11284</th>\n",
       "      <td>0</td>\n",
       "      <td>110</td>\n",
       "      <td>4</td>\n",
       "      <td>2</td>\n",
       "      <td>1</td>\n",
       "      <td>0</td>\n",
       "      <td>0</td>\n",
       "      <td>0</td>\n",
       "      <td>0</td>\n",
       "      <td>1</td>\n",
       "      <td>0</td>\n",
       "      <td>0</td>\n",
       "      <td>0</td>\n",
       "      <td>0</td>\n",
       "      <td>0</td>\n",
       "      <td>0</td>\n",
       "      <td>0</td>\n",
       "      <td>0</td>\n",
       "      <td>0</td>\n",
       "      <td>0</td>\n",
       "      <td>0</td>\n",
       "      <td>0</td>\n",
       "      <td>0</td>\n",
       "      <td>0</td>\n",
       "      <td>0</td>\n",
       "      <td>0</td>\n",
       "      <td>0</td>\n",
       "      <td>0</td>\n",
       "      <td>0</td>\n",
       "      <td>0</td>\n",
       "      <td>0</td>\n",
       "      <td>0</td>\n",
       "    </tr>\n",
       "    <tr>\n",
       "      <th>860</th>\n",
       "      <td>0</td>\n",
       "      <td>67</td>\n",
       "      <td>2</td>\n",
       "      <td>0</td>\n",
       "      <td>0</td>\n",
       "      <td>0</td>\n",
       "      <td>0</td>\n",
       "      <td>0</td>\n",
       "      <td>0</td>\n",
       "      <td>0</td>\n",
       "      <td>0</td>\n",
       "      <td>0</td>\n",
       "      <td>0</td>\n",
       "      <td>0</td>\n",
       "      <td>0</td>\n",
       "      <td>0</td>\n",
       "      <td>0</td>\n",
       "      <td>0</td>\n",
       "      <td>0</td>\n",
       "      <td>0</td>\n",
       "      <td>0</td>\n",
       "      <td>0</td>\n",
       "      <td>0</td>\n",
       "      <td>0</td>\n",
       "      <td>0</td>\n",
       "      <td>0</td>\n",
       "      <td>0</td>\n",
       "      <td>0</td>\n",
       "      <td>0</td>\n",
       "      <td>1</td>\n",
       "      <td>0</td>\n",
       "      <td>0</td>\n",
       "    </tr>\n",
       "    <tr>\n",
       "      <th>15795</th>\n",
       "      <td>0</td>\n",
       "      <td>291</td>\n",
       "      <td>4</td>\n",
       "      <td>5</td>\n",
       "      <td>1</td>\n",
       "      <td>0</td>\n",
       "      <td>0</td>\n",
       "      <td>1</td>\n",
       "      <td>0</td>\n",
       "      <td>0</td>\n",
       "      <td>0</td>\n",
       "      <td>0</td>\n",
       "      <td>0</td>\n",
       "      <td>0</td>\n",
       "      <td>0</td>\n",
       "      <td>0</td>\n",
       "      <td>0</td>\n",
       "      <td>0</td>\n",
       "      <td>0</td>\n",
       "      <td>0</td>\n",
       "      <td>0</td>\n",
       "      <td>0</td>\n",
       "      <td>0</td>\n",
       "      <td>0</td>\n",
       "      <td>0</td>\n",
       "      <td>0</td>\n",
       "      <td>0</td>\n",
       "      <td>0</td>\n",
       "      <td>0</td>\n",
       "      <td>0</td>\n",
       "      <td>0</td>\n",
       "      <td>0</td>\n",
       "    </tr>\n",
       "  </tbody>\n",
       "</table>\n",
       "<p>28627 rows × 32 columns</p>\n",
       "</div>"
      ],
      "text/plain": [
       "       descripcion  superficie  habitaciones  plantas  ascensor  \\\n",
       "24788            1         220             3       -4         2   \n",
       "8023             0          51             2       -2         0   \n",
       "31702            0         112             3        3         1   \n",
       "35765            1        1000             7       -4         2   \n",
       "31782            0         107             4        2         1   \n",
       "...            ...         ...           ...      ...       ...   \n",
       "16850            0         139             5        8         1   \n",
       "6265             0         100             3        7         1   \n",
       "11284            0         110             4        2         1   \n",
       "860              0          67             2        0         0   \n",
       "15795            0         291             4        5         1   \n",
       "\n",
       "       zona_exterior  distrito_barajas  distrito_barrio de salamanca  \\\n",
       "24788              1                 0                             0   \n",
       "8023               0                 0                             0   \n",
       "31702              1                 0                             0   \n",
       "35765              1                 0                             0   \n",
       "31782              1                 0                             0   \n",
       "...              ...               ...                           ...   \n",
       "16850              0                 0                             1   \n",
       "6265               0                 0                             0   \n",
       "11284              0                 0                             0   \n",
       "860                0                 0                             0   \n",
       "15795              0                 0                             1   \n",
       "\n",
       "       distrito_carabanchel  distrito_centro  distrito_chamartin  \\\n",
       "24788                     0                0                   0   \n",
       "8023                      0                0                   0   \n",
       "31702                     0                0                   0   \n",
       "35765                     0                0                   0   \n",
       "31782                     0                0                   0   \n",
       "...                     ...              ...                 ...   \n",
       "16850                     0                0                   0   \n",
       "6265                      0                0                   0   \n",
       "11284                     0                1                   0   \n",
       "860                       0                0                   0   \n",
       "15795                     0                0                   0   \n",
       "\n",
       "       distrito_chamberi  distrito_ciudad lineal  \\\n",
       "24788                  0                       0   \n",
       "8023                   0                       1   \n",
       "31702                  0                       0   \n",
       "35765                  0                       0   \n",
       "31782                  0                       0   \n",
       "...                  ...                     ...   \n",
       "16850                  0                       0   \n",
       "6265                   0                       0   \n",
       "11284                  0                       0   \n",
       "860                    0                       0   \n",
       "15795                  0                       0   \n",
       "\n",
       "       distrito_corredor de henares  distrito_fuencarral  distrito_hortaleza  \\\n",
       "24788                             0                    0                   0   \n",
       "8023                              0                    0                   0   \n",
       "31702                             0                    0                   0   \n",
       "35765                             0                    0                   0   \n",
       "31782                             0                    0                   0   \n",
       "...                             ...                  ...                 ...   \n",
       "16850                             0                    0                   0   \n",
       "6265                              0                    0                   0   \n",
       "11284                             0                    0                   0   \n",
       "860                               0                    0                   0   \n",
       "15795                             0                    0                   0   \n",
       "\n",
       "       distrito_latina  distrito_moncloa  distrito_moratalaz  \\\n",
       "24788                0                 0                   0   \n",
       "8023                 0                 0                   0   \n",
       "31702                0                 0                   0   \n",
       "35765                0                 0                   0   \n",
       "31782                0                 0                   0   \n",
       "...                ...               ...                 ...   \n",
       "16850                0                 0                   0   \n",
       "6265                 1                 0                   0   \n",
       "11284                0                 0                   0   \n",
       "860                  0                 0                   0   \n",
       "15795                0                 0                   0   \n",
       "\n",
       "       distrito_noroeste  distrito_norte  distrito_puente de vallecas  \\\n",
       "24788                  1               0                            0   \n",
       "8023                   0               0                            0   \n",
       "31702                  0               0                            0   \n",
       "35765                  0               0                            0   \n",
       "31782                  0               0                            0   \n",
       "...                  ...             ...                          ...   \n",
       "16850                  0               0                            0   \n",
       "6265                   0               0                            0   \n",
       "11284                  0               0                            0   \n",
       "860                    0               0                            0   \n",
       "15795                  0               0                            0   \n",
       "\n",
       "       distrito_retiro  distrito_san blas  distrito_sur  distrito_sureste  \\\n",
       "24788                0                  0             0                 0   \n",
       "8023                 0                  0             0                 0   \n",
       "31702                0                  0             1                 0   \n",
       "35765                0                  0             0                 1   \n",
       "31782                0                  0             1                 0   \n",
       "...                ...                ...           ...               ...   \n",
       "16850                0                  0             0                 0   \n",
       "6265                 0                  0             0                 0   \n",
       "11284                0                  0             0                 0   \n",
       "860                  0                  0             0                 0   \n",
       "15795                0                  0             0                 0   \n",
       "\n",
       "       distrito_suroeste  distrito_tetuan  distrito_usera  distrito_vicalvaro  \\\n",
       "24788                  0                0               0                   0   \n",
       "8023                   0                0               0                   0   \n",
       "31702                  0                0               0                   0   \n",
       "35765                  0                0               0                   0   \n",
       "31782                  0                0               0                   0   \n",
       "...                  ...              ...             ...                 ...   \n",
       "16850                  0                0               0                   0   \n",
       "6265                   0                0               0                   0   \n",
       "11284                  0                0               0                   0   \n",
       "860                    0                0               0                   1   \n",
       "15795                  0                0               0                   0   \n",
       "\n",
       "       distrito_villa de vallecas  distrito_villaverde  \n",
       "24788                           0                    0  \n",
       "8023                            0                    0  \n",
       "31702                           0                    0  \n",
       "35765                           0                    0  \n",
       "31782                           0                    0  \n",
       "...                           ...                  ...  \n",
       "16850                           0                    0  \n",
       "6265                            0                    0  \n",
       "11284                           0                    0  \n",
       "860                             0                    0  \n",
       "15795                           0                    0  \n",
       "\n",
       "[28627 rows x 32 columns]"
      ]
     },
     "execution_count": 19,
     "metadata": {},
     "output_type": "execute_result"
    }
   ],
   "source": [
    "X_train"
   ]
  },
  {
   "cell_type": "code",
   "execution_count": 20,
   "id": "c046de5b",
   "metadata": {},
   "outputs": [],
   "source": [
    "linreg=LinReg()\n",
    "lasso=Lasso()\n",
    "ridge=Ridge()\n",
    "elastic=ElasticNet()\n",
    "svr=SVR()\n",
    "rfr=RFR(random_state=42)\n",
    "etr=ETR(random_state=42)\n",
    "gbr=GBR(random_state=42)\n",
    "xgbr=XGBR(random_state=42)\n",
    "lazy=LazyRegressor(random_state=42)\n",
    "ctr=CTR(random_state=42)\n",
    "lgbmr=LGBMR(random_state=42)"
   ]
  },
  {
   "cell_type": "code",
   "execution_count": 21,
   "id": "9804e16c",
   "metadata": {},
   "outputs": [
    {
     "data": {
      "text/plain": [
       "'linreg.fit(X_train, y_train)   # sacar los betas, ajustate\\n\\nlasso.fit(X_train, y_train)\\n\\nridge.fit(X_train, y_train)\\n\\nelastic.fit(X_train, y_train)'"
      ]
     },
     "execution_count": 21,
     "metadata": {},
     "output_type": "execute_result"
    }
   ],
   "source": [
    "\"\"\"linreg.fit(X_train, y_train)   # sacar los betas, ajustate\n",
    "\n",
    "lasso.fit(X_train, y_train)\n",
    "\n",
    "ridge.fit(X_train, y_train)\n",
    "\n",
    "elastic.fit(X_train, y_train)\"\"\""
   ]
  },
  {
   "cell_type": "code",
   "execution_count": 22,
   "id": "9f192683",
   "metadata": {},
   "outputs": [
    {
     "data": {
      "text/html": [
       "<style>#sk-container-id-1 {color: black;}#sk-container-id-1 pre{padding: 0;}#sk-container-id-1 div.sk-toggleable {background-color: white;}#sk-container-id-1 label.sk-toggleable__label {cursor: pointer;display: block;width: 100%;margin-bottom: 0;padding: 0.3em;box-sizing: border-box;text-align: center;}#sk-container-id-1 label.sk-toggleable__label-arrow:before {content: \"▸\";float: left;margin-right: 0.25em;color: #696969;}#sk-container-id-1 label.sk-toggleable__label-arrow:hover:before {color: black;}#sk-container-id-1 div.sk-estimator:hover label.sk-toggleable__label-arrow:before {color: black;}#sk-container-id-1 div.sk-toggleable__content {max-height: 0;max-width: 0;overflow: hidden;text-align: left;background-color: #f0f8ff;}#sk-container-id-1 div.sk-toggleable__content pre {margin: 0.2em;color: black;border-radius: 0.25em;background-color: #f0f8ff;}#sk-container-id-1 input.sk-toggleable__control:checked~div.sk-toggleable__content {max-height: 200px;max-width: 100%;overflow: auto;}#sk-container-id-1 input.sk-toggleable__control:checked~label.sk-toggleable__label-arrow:before {content: \"▾\";}#sk-container-id-1 div.sk-estimator input.sk-toggleable__control:checked~label.sk-toggleable__label {background-color: #d4ebff;}#sk-container-id-1 div.sk-label input.sk-toggleable__control:checked~label.sk-toggleable__label {background-color: #d4ebff;}#sk-container-id-1 input.sk-hidden--visually {border: 0;clip: rect(1px 1px 1px 1px);clip: rect(1px, 1px, 1px, 1px);height: 1px;margin: -1px;overflow: hidden;padding: 0;position: absolute;width: 1px;}#sk-container-id-1 div.sk-estimator {font-family: monospace;background-color: #f0f8ff;border: 1px dotted black;border-radius: 0.25em;box-sizing: border-box;margin-bottom: 0.5em;}#sk-container-id-1 div.sk-estimator:hover {background-color: #d4ebff;}#sk-container-id-1 div.sk-parallel-item::after {content: \"\";width: 100%;border-bottom: 1px solid gray;flex-grow: 1;}#sk-container-id-1 div.sk-label:hover label.sk-toggleable__label {background-color: #d4ebff;}#sk-container-id-1 div.sk-serial::before {content: \"\";position: absolute;border-left: 1px solid gray;box-sizing: border-box;top: 0;bottom: 0;left: 50%;z-index: 0;}#sk-container-id-1 div.sk-serial {display: flex;flex-direction: column;align-items: center;background-color: white;padding-right: 0.2em;padding-left: 0.2em;position: relative;}#sk-container-id-1 div.sk-item {position: relative;z-index: 1;}#sk-container-id-1 div.sk-parallel {display: flex;align-items: stretch;justify-content: center;background-color: white;position: relative;}#sk-container-id-1 div.sk-item::before, #sk-container-id-1 div.sk-parallel-item::before {content: \"\";position: absolute;border-left: 1px solid gray;box-sizing: border-box;top: 0;bottom: 0;left: 50%;z-index: -1;}#sk-container-id-1 div.sk-parallel-item {display: flex;flex-direction: column;z-index: 1;position: relative;background-color: white;}#sk-container-id-1 div.sk-parallel-item:first-child::after {align-self: flex-end;width: 50%;}#sk-container-id-1 div.sk-parallel-item:last-child::after {align-self: flex-start;width: 50%;}#sk-container-id-1 div.sk-parallel-item:only-child::after {width: 0;}#sk-container-id-1 div.sk-dashed-wrapped {border: 1px dashed gray;margin: 0 0.4em 0.5em 0.4em;box-sizing: border-box;padding-bottom: 0.4em;background-color: white;}#sk-container-id-1 div.sk-label label {font-family: monospace;font-weight: bold;display: inline-block;line-height: 1.2em;}#sk-container-id-1 div.sk-label-container {text-align: center;}#sk-container-id-1 div.sk-container {/* jupyter's `normalize.less` sets `[hidden] { display: none; }` but bootstrap.min.css set `[hidden] { display: none !important; }` so we also need the `!important` here to be able to override the default hidden behavior on the sphinx rendered scikit-learn.org. See: https://github.com/scikit-learn/scikit-learn/issues/21755 */display: inline-block !important;position: relative;}#sk-container-id-1 div.sk-text-repr-fallback {display: none;}</style><div id=\"sk-container-id-1\" class=\"sk-top-container\"><div class=\"sk-text-repr-fallback\"><pre>ExtraTreeRegressor(random_state=42)</pre><b>In a Jupyter environment, please rerun this cell to show the HTML representation or trust the notebook. <br />On GitHub, the HTML representation is unable to render, please try loading this page with nbviewer.org.</b></div><div class=\"sk-container\" hidden><div class=\"sk-item\"><div class=\"sk-estimator sk-toggleable\"><input class=\"sk-toggleable__control sk-hidden--visually\" id=\"sk-estimator-id-1\" type=\"checkbox\" checked><label for=\"sk-estimator-id-1\" class=\"sk-toggleable__label sk-toggleable__label-arrow\">ExtraTreeRegressor</label><div class=\"sk-toggleable__content\"><pre>ExtraTreeRegressor(random_state=42)</pre></div></div></div></div></div>"
      ],
      "text/plain": [
       "ExtraTreeRegressor(random_state=42)"
      ]
     },
     "execution_count": 22,
     "metadata": {},
     "output_type": "execute_result"
    }
   ],
   "source": [
    "#svr.fit(X_train, y_train)\n",
    "\n",
    "rfr.fit(X_train, y_train)\n",
    "\n",
    "etr.fit(X_train, y_train)"
   ]
  },
  {
   "cell_type": "code",
   "execution_count": 23,
   "id": "ac04dd27",
   "metadata": {},
   "outputs": [
    {
     "data": {
      "text/html": [
       "<style>#sk-container-id-2 {color: black;}#sk-container-id-2 pre{padding: 0;}#sk-container-id-2 div.sk-toggleable {background-color: white;}#sk-container-id-2 label.sk-toggleable__label {cursor: pointer;display: block;width: 100%;margin-bottom: 0;padding: 0.3em;box-sizing: border-box;text-align: center;}#sk-container-id-2 label.sk-toggleable__label-arrow:before {content: \"▸\";float: left;margin-right: 0.25em;color: #696969;}#sk-container-id-2 label.sk-toggleable__label-arrow:hover:before {color: black;}#sk-container-id-2 div.sk-estimator:hover label.sk-toggleable__label-arrow:before {color: black;}#sk-container-id-2 div.sk-toggleable__content {max-height: 0;max-width: 0;overflow: hidden;text-align: left;background-color: #f0f8ff;}#sk-container-id-2 div.sk-toggleable__content pre {margin: 0.2em;color: black;border-radius: 0.25em;background-color: #f0f8ff;}#sk-container-id-2 input.sk-toggleable__control:checked~div.sk-toggleable__content {max-height: 200px;max-width: 100%;overflow: auto;}#sk-container-id-2 input.sk-toggleable__control:checked~label.sk-toggleable__label-arrow:before {content: \"▾\";}#sk-container-id-2 div.sk-estimator input.sk-toggleable__control:checked~label.sk-toggleable__label {background-color: #d4ebff;}#sk-container-id-2 div.sk-label input.sk-toggleable__control:checked~label.sk-toggleable__label {background-color: #d4ebff;}#sk-container-id-2 input.sk-hidden--visually {border: 0;clip: rect(1px 1px 1px 1px);clip: rect(1px, 1px, 1px, 1px);height: 1px;margin: -1px;overflow: hidden;padding: 0;position: absolute;width: 1px;}#sk-container-id-2 div.sk-estimator {font-family: monospace;background-color: #f0f8ff;border: 1px dotted black;border-radius: 0.25em;box-sizing: border-box;margin-bottom: 0.5em;}#sk-container-id-2 div.sk-estimator:hover {background-color: #d4ebff;}#sk-container-id-2 div.sk-parallel-item::after {content: \"\";width: 100%;border-bottom: 1px solid gray;flex-grow: 1;}#sk-container-id-2 div.sk-label:hover label.sk-toggleable__label {background-color: #d4ebff;}#sk-container-id-2 div.sk-serial::before {content: \"\";position: absolute;border-left: 1px solid gray;box-sizing: border-box;top: 0;bottom: 0;left: 50%;z-index: 0;}#sk-container-id-2 div.sk-serial {display: flex;flex-direction: column;align-items: center;background-color: white;padding-right: 0.2em;padding-left: 0.2em;position: relative;}#sk-container-id-2 div.sk-item {position: relative;z-index: 1;}#sk-container-id-2 div.sk-parallel {display: flex;align-items: stretch;justify-content: center;background-color: white;position: relative;}#sk-container-id-2 div.sk-item::before, #sk-container-id-2 div.sk-parallel-item::before {content: \"\";position: absolute;border-left: 1px solid gray;box-sizing: border-box;top: 0;bottom: 0;left: 50%;z-index: -1;}#sk-container-id-2 div.sk-parallel-item {display: flex;flex-direction: column;z-index: 1;position: relative;background-color: white;}#sk-container-id-2 div.sk-parallel-item:first-child::after {align-self: flex-end;width: 50%;}#sk-container-id-2 div.sk-parallel-item:last-child::after {align-self: flex-start;width: 50%;}#sk-container-id-2 div.sk-parallel-item:only-child::after {width: 0;}#sk-container-id-2 div.sk-dashed-wrapped {border: 1px dashed gray;margin: 0 0.4em 0.5em 0.4em;box-sizing: border-box;padding-bottom: 0.4em;background-color: white;}#sk-container-id-2 div.sk-label label {font-family: monospace;font-weight: bold;display: inline-block;line-height: 1.2em;}#sk-container-id-2 div.sk-label-container {text-align: center;}#sk-container-id-2 div.sk-container {/* jupyter's `normalize.less` sets `[hidden] { display: none; }` but bootstrap.min.css set `[hidden] { display: none !important; }` so we also need the `!important` here to be able to override the default hidden behavior on the sphinx rendered scikit-learn.org. See: https://github.com/scikit-learn/scikit-learn/issues/21755 */display: inline-block !important;position: relative;}#sk-container-id-2 div.sk-text-repr-fallback {display: none;}</style><div id=\"sk-container-id-2\" class=\"sk-top-container\"><div class=\"sk-text-repr-fallback\"><pre>XGBRegressor(base_score=None, booster=None, callbacks=None,\n",
       "             colsample_bylevel=None, colsample_bynode=None,\n",
       "             colsample_bytree=None, device=None, early_stopping_rounds=None,\n",
       "             enable_categorical=False, eval_metric=None, feature_types=None,\n",
       "             gamma=None, grow_policy=None, importance_type=None,\n",
       "             interaction_constraints=None, learning_rate=None, max_bin=None,\n",
       "             max_cat_threshold=None, max_cat_to_onehot=None,\n",
       "             max_delta_step=None, max_depth=None, max_leaves=None,\n",
       "             min_child_weight=None, missing=nan, monotone_constraints=None,\n",
       "             multi_strategy=None, n_estimators=None, n_jobs=None,\n",
       "             num_parallel_tree=None, random_state=42, ...)</pre><b>In a Jupyter environment, please rerun this cell to show the HTML representation or trust the notebook. <br />On GitHub, the HTML representation is unable to render, please try loading this page with nbviewer.org.</b></div><div class=\"sk-container\" hidden><div class=\"sk-item\"><div class=\"sk-estimator sk-toggleable\"><input class=\"sk-toggleable__control sk-hidden--visually\" id=\"sk-estimator-id-2\" type=\"checkbox\" checked><label for=\"sk-estimator-id-2\" class=\"sk-toggleable__label sk-toggleable__label-arrow\">XGBRegressor</label><div class=\"sk-toggleable__content\"><pre>XGBRegressor(base_score=None, booster=None, callbacks=None,\n",
       "             colsample_bylevel=None, colsample_bynode=None,\n",
       "             colsample_bytree=None, device=None, early_stopping_rounds=None,\n",
       "             enable_categorical=False, eval_metric=None, feature_types=None,\n",
       "             gamma=None, grow_policy=None, importance_type=None,\n",
       "             interaction_constraints=None, learning_rate=None, max_bin=None,\n",
       "             max_cat_threshold=None, max_cat_to_onehot=None,\n",
       "             max_delta_step=None, max_depth=None, max_leaves=None,\n",
       "             min_child_weight=None, missing=nan, monotone_constraints=None,\n",
       "             multi_strategy=None, n_estimators=None, n_jobs=None,\n",
       "             num_parallel_tree=None, random_state=42, ...)</pre></div></div></div></div></div>"
      ],
      "text/plain": [
       "XGBRegressor(base_score=None, booster=None, callbacks=None,\n",
       "             colsample_bylevel=None, colsample_bynode=None,\n",
       "             colsample_bytree=None, device=None, early_stopping_rounds=None,\n",
       "             enable_categorical=False, eval_metric=None, feature_types=None,\n",
       "             gamma=None, grow_policy=None, importance_type=None,\n",
       "             interaction_constraints=None, learning_rate=None, max_bin=None,\n",
       "             max_cat_threshold=None, max_cat_to_onehot=None,\n",
       "             max_delta_step=None, max_depth=None, max_leaves=None,\n",
       "             min_child_weight=None, missing=nan, monotone_constraints=None,\n",
       "             multi_strategy=None, n_estimators=None, n_jobs=None,\n",
       "             num_parallel_tree=None, random_state=42, ...)"
      ]
     },
     "execution_count": 23,
     "metadata": {},
     "output_type": "execute_result"
    }
   ],
   "source": [
    "gbr.fit(X_train, y_train)\n",
    "\n",
    "xgbr.fit(X_train, y_train)"
   ]
  },
  {
   "cell_type": "code",
   "execution_count": 24,
   "id": "aa411270",
   "metadata": {},
   "outputs": [],
   "source": [
    "#lazy.fit(X_train, X_test, y_train, y_test)"
   ]
  },
  {
   "cell_type": "code",
   "execution_count": 25,
   "id": "713ecfe4",
   "metadata": {},
   "outputs": [],
   "source": [
    "from sklearn.metrics import mean_squared_error as mse"
   ]
  },
  {
   "cell_type": "code",
   "execution_count": 26,
   "id": "f1c71015",
   "metadata": {},
   "outputs": [
    {
     "data": {
      "text/plain": [
       "'from sklearn.linear_model import LinearRegression\\nfrom sklearn.ensemble import RandomForestRegressor\\nfrom sklearn.tree import DecisionTreeRegressor'"
      ]
     },
     "execution_count": 26,
     "metadata": {},
     "output_type": "execute_result"
    }
   ],
   "source": [
    "\"\"\"from sklearn.linear_model import LinearRegression\n",
    "from sklearn.ensemble import RandomForestRegressor\n",
    "from sklearn.tree import DecisionTreeRegressor\"\"\""
   ]
  },
  {
   "cell_type": "code",
   "execution_count": 27,
   "id": "7b24683f",
   "metadata": {},
   "outputs": [],
   "source": [
    "from sklearn.model_selection import GridSearchCV "
   ]
  },
  {
   "cell_type": "code",
   "execution_count": 28,
   "id": "adc72152",
   "metadata": {},
   "outputs": [
    {
     "data": {
      "text/plain": [
       "\"modelo1 = RFR()\\n\\nmodelo1.fit(X_train, y_train)\\n\\n\\n#R2\\ntrain_score = modelo1.score(X_train, y_train)\\ntest_score = modelo1.score(X_test, y_test)\\n\\nprint ('Train: ',train_score)\\nprint('Test: ', test_score)\""
      ]
     },
     "execution_count": 28,
     "metadata": {},
     "output_type": "execute_result"
    }
   ],
   "source": [
    "\"\"\"modelo1 = RFR()\n",
    "\n",
    "modelo1.fit(X_train, y_train)\n",
    "\n",
    "\n",
    "#R2\n",
    "train_score = modelo1.score(X_train, y_train)\n",
    "test_score = modelo1.score(X_test, y_test)\n",
    "\n",
    "print ('Train: ',train_score)\n",
    "print('Test: ', test_score)\"\"\""
   ]
  },
  {
   "cell_type": "code",
   "execution_count": 29,
   "id": "a6fdad2f",
   "metadata": {},
   "outputs": [
    {
     "data": {
      "text/plain": [
       "\"params = {'n_estimators': [10, 20, 50, 100, 150, 200, 300],\\n          'max_depth': [5, 10, 20, 25]}\""
      ]
     },
     "execution_count": 29,
     "metadata": {},
     "output_type": "execute_result"
    }
   ],
   "source": [
    "\"\"\"params = {'n_estimators': [10, 20, 50, 100, 150, 200, 300],\n",
    "          'max_depth': [5, 10, 20, 25]}\"\"\""
   ]
  },
  {
   "cell_type": "code",
   "execution_count": 30,
   "id": "210d28ca",
   "metadata": {},
   "outputs": [
    {
     "data": {
      "text/plain": [
       "\"def grid(modelo, params):\\n\\n    g = GridSearchCV(modelo,                    # modelo de ML de sklearn\\n                     params,                    # dictio de parametros\\n                     cv=5,                      # cross-validation, 5 cortes\\n                     return_train_score=True,   # error de entrenamiento\\n                     n_jobs=-1                  # usa todos los cores\\n                    )\\n\\n\\n    g.fit(X, y)\\n\\n    # ajuste de todos los modelos y combinaciones\\n    print('Acierto test: {:.2f}'.format(g.score(X_test, y_test)))\\n    print('Acierto train: {:.2f}'.format(g.score(X_train, y_train)))\\n    print('Mejores parametros: {}'.format(g.best_params_))\\n    print('Mejor acierto cv: {:.2f}'.format(g.best_score_))\\n\\n\\n    return g.best_estimator_.fit(X_train, y_train)\""
      ]
     },
     "execution_count": 30,
     "metadata": {},
     "output_type": "execute_result"
    }
   ],
   "source": [
    "\"\"\"def grid(modelo, params):\n",
    "\n",
    "    g = GridSearchCV(modelo,                    # modelo de ML de sklearn\n",
    "                     params,                    # dictio de parametros\n",
    "                     cv=5,                      # cross-validation, 5 cortes\n",
    "                     return_train_score=True,   # error de entrenamiento\n",
    "                     n_jobs=-1                  # usa todos los cores\n",
    "                    )\n",
    "\n",
    "\n",
    "    g.fit(X, y)\n",
    "\n",
    "    # ajuste de todos los modelos y combinaciones\n",
    "    print('Acierto test: {:.2f}'.format(g.score(X_test, y_test)))\n",
    "    print('Acierto train: {:.2f}'.format(g.score(X_train, y_train)))\n",
    "    print('Mejores parametros: {}'.format(g.best_params_))\n",
    "    print('Mejor acierto cv: {:.2f}'.format(g.best_score_))\n",
    "\n",
    "\n",
    "    return g.best_estimator_.fit(X_train, y_train)\"\"\""
   ]
  },
  {
   "cell_type": "code",
   "execution_count": 31,
   "id": "3c8a6dba",
   "metadata": {},
   "outputs": [],
   "source": [
    "#modelo_grid = grid(RFR(), params)"
   ]
  },
  {
   "cell_type": "code",
   "execution_count": 32,
   "id": "3d41bcbd",
   "metadata": {},
   "outputs": [],
   "source": [
    "#modelo_grid.score(X_train, y_train)"
   ]
  },
  {
   "cell_type": "code",
   "execution_count": 33,
   "id": "c717aab2",
   "metadata": {},
   "outputs": [],
   "source": [
    "#modelo_grid.score(X_test, y_test)"
   ]
  },
  {
   "cell_type": "code",
   "execution_count": null,
   "id": "8ea3f7ab",
   "metadata": {},
   "outputs": [],
   "source": []
  },
  {
   "cell_type": "code",
   "execution_count": 34,
   "id": "5f29d8c8",
   "metadata": {},
   "outputs": [
    {
     "data": {
      "text/plain": [
       "'y_pred = linreg.predict(X_test)\\n\\nmse(y_test, y_pred, squared=False)'"
      ]
     },
     "execution_count": 34,
     "metadata": {},
     "output_type": "execute_result"
    }
   ],
   "source": [
    "\"\"\"y_pred = linreg.predict(X_test)\n",
    "\n",
    "mse(y_test, y_pred, squared=False)\"\"\""
   ]
  },
  {
   "cell_type": "code",
   "execution_count": 35,
   "id": "35f8c57d",
   "metadata": {},
   "outputs": [
    {
     "data": {
      "text/plain": [
       "'y_pred = lasso.predict(X_test)\\n\\nmse(y_test, y_pred, squared=False)'"
      ]
     },
     "execution_count": 35,
     "metadata": {},
     "output_type": "execute_result"
    }
   ],
   "source": [
    "\"\"\"y_pred = lasso.predict(X_test)\n",
    "\n",
    "mse(y_test, y_pred, squared=False)\"\"\""
   ]
  },
  {
   "cell_type": "code",
   "execution_count": 36,
   "id": "abe75a13",
   "metadata": {},
   "outputs": [
    {
     "data": {
      "text/plain": [
       "'y_pred = ridge.predict(X_test)\\n\\nmse(y_test, y_pred, squared=False)'"
      ]
     },
     "execution_count": 36,
     "metadata": {},
     "output_type": "execute_result"
    }
   ],
   "source": [
    "\"\"\"y_pred = ridge.predict(X_test)\n",
    "\n",
    "mse(y_test, y_pred, squared=False)\"\"\""
   ]
  },
  {
   "cell_type": "code",
   "execution_count": 37,
   "id": "9f3625d5",
   "metadata": {},
   "outputs": [
    {
     "data": {
      "text/plain": [
       "'y_pred = elastic.predict(X_test)\\n\\nmse(y_test, y_pred, squared=False)'"
      ]
     },
     "execution_count": 37,
     "metadata": {},
     "output_type": "execute_result"
    }
   ],
   "source": [
    "\"\"\"y_pred = elastic.predict(X_test)\n",
    "\n",
    "mse(y_test, y_pred, squared=False)\"\"\""
   ]
  },
  {
   "cell_type": "code",
   "execution_count": 38,
   "id": "691a192a",
   "metadata": {},
   "outputs": [
    {
     "data": {
      "text/plain": [
       "'y_pred = svr.predict(X_test)\\n\\nmse(y_test, y_pred, squared=False)'"
      ]
     },
     "execution_count": 38,
     "metadata": {},
     "output_type": "execute_result"
    }
   ],
   "source": [
    "\"\"\"y_pred = svr.predict(X_test)\n",
    "\n",
    "mse(y_test, y_pred, squared=False)\"\"\""
   ]
  },
  {
   "cell_type": "code",
   "execution_count": 39,
   "id": "d5769e6c",
   "metadata": {},
   "outputs": [
    {
     "data": {
      "text/plain": [
       "'rfr = RFR(n_estimators=300, random_state=10)\\n\\nrfr.fit(X_train, y_train)\\n\\ny_pred = rfr.predict(X_test)\\n\\nmse(y_test, y_pred, squared=False)'"
      ]
     },
     "execution_count": 39,
     "metadata": {},
     "output_type": "execute_result"
    }
   ],
   "source": [
    "\"\"\"rfr = RFR(n_estimators=300, random_state=10)\n",
    "\n",
    "rfr.fit(X_train, y_train)\n",
    "\n",
    "y_pred = rfr.predict(X_test)\n",
    "\n",
    "mse(y_test, y_pred, squared=False)\"\"\""
   ]
  },
  {
   "cell_type": "code",
   "execution_count": 40,
   "id": "687bb685",
   "metadata": {
    "scrolled": true
   },
   "outputs": [
    {
     "data": {
      "text/plain": [
       "{'descripcion': 0.9504836967951458,\n",
       " 'superficie': 61.743345226097766,\n",
       " 'habitaciones': 6.359299005175243,\n",
       " 'plantas': 2.3220656163844464,\n",
       " 'ascensor': 0.7166469056432725,\n",
       " 'zona_exterior': 12.54368044401977,\n",
       " 'distrito_barajas': 0.00722063045825389,\n",
       " 'distrito_barrio de salamanca': 6.753468829156197,\n",
       " 'distrito_carabanchel': 0.02293583611730073,\n",
       " 'distrito_centro': 1.1502639156267218,\n",
       " 'distrito_chamartin': 1.3430140775802355,\n",
       " 'distrito_chamberi': 0.7507388660656685,\n",
       " 'distrito_ciudad lineal': 0.05426100873156808,\n",
       " 'distrito_corredor de henares': 0.03251021615778142,\n",
       " 'distrito_fuencarral': 0.16338587654922562,\n",
       " 'distrito_hortaleza': 0.3106341103029763,\n",
       " 'distrito_latina': 0.011910574641236214,\n",
       " 'distrito_moncloa': 0.2623773585832184,\n",
       " 'distrito_moratalaz': 0.0037620730484080257,\n",
       " 'distrito_noroeste': 1.1009090198018217,\n",
       " 'distrito_norte': 2.1687966501694094,\n",
       " 'distrito_puente de vallecas': 0.025314223705068133,\n",
       " 'distrito_retiro': 0.6002607690400199,\n",
       " 'distrito_san blas': 0.04553121356272829,\n",
       " 'distrito_sur': 0.03597384348644996,\n",
       " 'distrito_sureste': 0.21551668894880865,\n",
       " 'distrito_suroeste': 0.06997086830472919,\n",
       " 'distrito_tetuan': 0.09980138736961712,\n",
       " 'distrito_usera': 0.009007630104368792,\n",
       " 'distrito_vicalvaro': 0.04369213249913709,\n",
       " 'distrito_villa de vallecas': 0.05097159070146383,\n",
       " 'distrito_villaverde': 0.03224971517193675}"
      ]
     },
     "execution_count": 40,
     "metadata": {},
     "output_type": "execute_result"
    }
   ],
   "source": [
    "dict(zip(X.columns, rfr.feature_importances_*100))"
   ]
  },
  {
   "cell_type": "code",
   "execution_count": 41,
   "id": "ed09cd70",
   "metadata": {},
   "outputs": [
    {
     "data": {
      "text/plain": [
       "410831.5404736663"
      ]
     },
     "execution_count": 41,
     "metadata": {},
     "output_type": "execute_result"
    }
   ],
   "source": [
    "y_pred = etr.predict(X_test)\n",
    "\n",
    "mse(y_test, y_pred, squared=False)"
   ]
  },
  {
   "cell_type": "code",
   "execution_count": 42,
   "id": "519f5109",
   "metadata": {},
   "outputs": [
    {
     "data": {
      "text/plain": [
       "396234.0687624154"
      ]
     },
     "execution_count": 42,
     "metadata": {},
     "output_type": "execute_result"
    }
   ],
   "source": [
    "y_pred = gbr.predict(X_test)\n",
    "\n",
    "mse(y_test, y_pred, squared=False)"
   ]
  },
  {
   "cell_type": "code",
   "execution_count": 43,
   "id": "4518206f",
   "metadata": {},
   "outputs": [
    {
     "data": {
      "text/plain": [
       "371639.6361846248"
      ]
     },
     "execution_count": 43,
     "metadata": {},
     "output_type": "execute_result"
    }
   ],
   "source": [
    "y_pred = xgbr.predict(X_test)\n",
    "\n",
    "mse(y_test, y_pred, squared=False)"
   ]
  },
  {
   "cell_type": "code",
   "execution_count": 44,
   "id": "fa5ff5e1",
   "metadata": {},
   "outputs": [
    {
     "data": {
      "text/plain": [
       "{'descripcion': 0.9504836967951458,\n",
       " 'superficie': 61.743345226097766,\n",
       " 'habitaciones': 6.359299005175243,\n",
       " 'plantas': 2.3220656163844464,\n",
       " 'ascensor': 0.7166469056432725,\n",
       " 'zona_exterior': 12.54368044401977,\n",
       " 'distrito_barajas': 0.00722063045825389,\n",
       " 'distrito_barrio de salamanca': 6.753468829156197,\n",
       " 'distrito_carabanchel': 0.02293583611730073,\n",
       " 'distrito_centro': 1.1502639156267218,\n",
       " 'distrito_chamartin': 1.3430140775802355,\n",
       " 'distrito_chamberi': 0.7507388660656685,\n",
       " 'distrito_ciudad lineal': 0.05426100873156808,\n",
       " 'distrito_corredor de henares': 0.03251021615778142,\n",
       " 'distrito_fuencarral': 0.16338587654922562,\n",
       " 'distrito_hortaleza': 0.3106341103029763,\n",
       " 'distrito_latina': 0.011910574641236214,\n",
       " 'distrito_moncloa': 0.2623773585832184,\n",
       " 'distrito_moratalaz': 0.0037620730484080257,\n",
       " 'distrito_noroeste': 1.1009090198018217,\n",
       " 'distrito_norte': 2.1687966501694094,\n",
       " 'distrito_puente de vallecas': 0.025314223705068133,\n",
       " 'distrito_retiro': 0.6002607690400199,\n",
       " 'distrito_san blas': 0.04553121356272829,\n",
       " 'distrito_sur': 0.03597384348644996,\n",
       " 'distrito_sureste': 0.21551668894880865,\n",
       " 'distrito_suroeste': 0.06997086830472919,\n",
       " 'distrito_tetuan': 0.09980138736961712,\n",
       " 'distrito_usera': 0.009007630104368792,\n",
       " 'distrito_vicalvaro': 0.04369213249913709,\n",
       " 'distrito_villa de vallecas': 0.05097159070146383,\n",
       " 'distrito_villaverde': 0.03224971517193675}"
      ]
     },
     "execution_count": 44,
     "metadata": {},
     "output_type": "execute_result"
    }
   ],
   "source": [
    "dict(zip(X.columns, rfr.feature_importances_*100))"
   ]
  },
  {
   "cell_type": "code",
   "execution_count": 45,
   "id": "f62c3053",
   "metadata": {},
   "outputs": [
    {
     "name": "stdout",
     "output_type": "stream",
     "text": [
      "Test accuracy: 0.8147\n"
     ]
    }
   ],
   "source": [
    "print(f\"Test accuracy: {rfr.score(X_test, y_test):0.4f}\")"
   ]
  },
  {
   "cell_type": "code",
   "execution_count": 46,
   "id": "0a195ea7",
   "metadata": {},
   "outputs": [
    {
     "data": {
      "text/plain": [
       "637370.6351721439"
      ]
     },
     "execution_count": 46,
     "metadata": {},
     "output_type": "execute_result"
    }
   ],
   "source": [
    "mad_total.precio.mean()"
   ]
  },
  {
   "cell_type": "code",
   "execution_count": 47,
   "id": "597b7589",
   "metadata": {},
   "outputs": [
    {
     "data": {
      "text/plain": [
       "58.308245732759666"
      ]
     },
     "execution_count": 47,
     "metadata": {},
     "output_type": "execute_result"
    }
   ],
   "source": [
    "mse(y_test, y_pred, squared=False)*100/mad_total.precio.mean()"
   ]
  },
  {
   "cell_type": "code",
   "execution_count": 48,
   "id": "9b98ce1c",
   "metadata": {},
   "outputs": [],
   "source": [
    "df1 = mad_total[mad_total['distrito']=='arganzuela']"
   ]
  },
  {
   "cell_type": "code",
   "execution_count": 49,
   "id": "193e59b7",
   "metadata": {},
   "outputs": [],
   "source": [
    "df1 = df1.drop(columns=['distrito_€/m2','€/m2'])"
   ]
  },
  {
   "cell_type": "code",
   "execution_count": 50,
   "id": "ed145a80",
   "metadata": {},
   "outputs": [],
   "source": [
    "X = df1.drop('precio', axis=1)\n",
    "\n",
    "y = df1.precio"
   ]
  },
  {
   "cell_type": "code",
   "execution_count": 51,
   "id": "47612640",
   "metadata": {},
   "outputs": [],
   "source": [
    "X = X.drop(columns=['zona','distrito','media_alq'])"
   ]
  },
  {
   "cell_type": "code",
   "execution_count": 52,
   "id": "672f6a3c",
   "metadata": {},
   "outputs": [],
   "source": [
    "from sklearn.preprocessing import StandardScaler"
   ]
  },
  {
   "cell_type": "code",
   "execution_count": 53,
   "id": "cd7be0c2",
   "metadata": {},
   "outputs": [],
   "source": [
    "scaler = StandardScaler()\n",
    "\n",
    "X[['descripcion', 'superficie', 'habitaciones', 'plantas', 'caract', 'ascensor']] = scaler.fit_transform(X[['descripcion', 'superficie', 'habitaciones', 'plantas', 'caract', 'ascensor']])"
   ]
  },
  {
   "cell_type": "code",
   "execution_count": 54,
   "id": "7de3207e",
   "metadata": {},
   "outputs": [
    {
     "data": {
      "text/plain": [
       "((539, 6), (135, 6), (539,), (135,))"
      ]
     },
     "execution_count": 54,
     "metadata": {},
     "output_type": "execute_result"
    }
   ],
   "source": [
    "X_train, X_test, y_train, y_test = tts(X, y,\n",
    "                                      train_size=0.8,\n",
    "                                      test_size=0.2,\n",
    "                                      random_state=42)\n",
    "\n",
    "X_train.shape, X_test.shape, y_train.shape, y_test.shape"
   ]
  },
  {
   "cell_type": "code",
   "execution_count": 55,
   "id": "fbccc43d",
   "metadata": {
    "scrolled": true
   },
   "outputs": [
    {
     "data": {
      "image/png": "[encoded data removed]",
      "text/plain": [
       "<Figure size 1500x1000 with 2 Axes>"
      ]
     },
     "metadata": {},
     "output_type": "display_data"
    }
   ],
   "source": [
    "plt.figure(figsize=(15, 10))\n",
    "\n",
    "sns.set(style='white')\n",
    "\n",
    "mask=np.triu(np.ones_like(X.corr(method='spearman'), dtype=bool))\n",
    "\n",
    "cmap=sns.diverging_palette(0, 10, as_cmap=True)\n",
    "\n",
    "\n",
    "sns.heatmap(X.corr(method='spearman'),\n",
    "           mask=mask,\n",
    "          cmap=cmap,\n",
    "          center=0,\n",
    "          square=True,\n",
    "          annot=True,\n",
    "          linewidths=0.5,\n",
    "          cbar_kws={'shrink': 0.5});"
   ]
  },
  {
   "cell_type": "code",
   "execution_count": null,
   "id": "57a1546b",
   "metadata": {},
   "outputs": [],
   "source": []
  },
  {
   "cell_type": "code",
   "execution_count": null,
   "id": "f2c4b9e5",
   "metadata": {},
   "outputs": [],
   "source": []
  },
  {
   "cell_type": "code",
   "execution_count": 56,
   "id": "1480c2d3",
   "metadata": {
    "scrolled": true
   },
   "outputs": [
    {
     "data": {
      "text/plain": [
       "75287.23363002898"
      ]
     },
     "execution_count": 56,
     "metadata": {},
     "output_type": "execute_result"
    }
   ],
   "source": [
    "rfr = RFR(n_estimators=500, random_state=20)\n",
    "\n",
    "rfr.fit(X_train, y_train)\n",
    "\n",
    "y_pred = rfr.predict(X_test)\n",
    "\n",
    "mse(y_test, y_pred, squared=False)"
   ]
  },
  {
   "cell_type": "code",
   "execution_count": 57,
   "id": "6f16217b",
   "metadata": {},
   "outputs": [
    {
     "data": {
      "text/plain": [
       "{'descripcion': 1.8697503247380465,\n",
       " 'superficie': 84.12951860319997,\n",
       " 'habitaciones': 3.8435516988685623,\n",
       " 'plantas': 8.561409906865581,\n",
       " 'caract': 1.161227121161441,\n",
       " 'ascensor': 0.4345423451663937}"
      ]
     },
     "execution_count": 57,
     "metadata": {},
     "output_type": "execute_result"
    }
   ],
   "source": [
    "dict(zip(X.columns, rfr.feature_importances_*100))"
   ]
  },
  {
   "cell_type": "code",
   "execution_count": 58,
   "id": "a0d1c28e",
   "metadata": {},
   "outputs": [
    {
     "name": "stdout",
     "output_type": "stream",
     "text": [
      "Test accuracy: 0.8706\n"
     ]
    }
   ],
   "source": [
    "print(f\"Test accuracy: {rfr.score(X_test, y_test):0.4f}\")"
   ]
  },
  {
   "cell_type": "code",
   "execution_count": 59,
   "id": "e81b6055",
   "metadata": {},
   "outputs": [
    {
     "data": {
      "text/plain": [
       "435468.09643916914"
      ]
     },
     "execution_count": 59,
     "metadata": {},
     "output_type": "execute_result"
    }
   ],
   "source": [
    "df1.precio.mean()"
   ]
  },
  {
   "cell_type": "code",
   "execution_count": 60,
   "id": "9b5778eb",
   "metadata": {},
   "outputs": [
    {
     "data": {
      "text/plain": [
       "17.288805826570098"
      ]
     },
     "execution_count": 60,
     "metadata": {},
     "output_type": "execute_result"
    }
   ],
   "source": [
    "mse(y_test, y_pred, squared=False)*100/df1.precio.mean()"
   ]
  },
  {
   "cell_type": "code",
   "execution_count": null,
   "id": "360ac276",
   "metadata": {},
   "outputs": [],
   "source": []
  },
  {
   "cell_type": "code",
   "execution_count": null,
   "id": "f9a3ee77",
   "metadata": {},
   "outputs": [],
   "source": []
  },
  {
   "cell_type": "code",
   "execution_count": null,
   "id": "60e2c0e0",
   "metadata": {},
   "outputs": [],
   "source": []
  },
  {
   "cell_type": "code",
   "execution_count": null,
   "id": "26fda46e",
   "metadata": {},
   "outputs": [],
   "source": []
  },
  {
   "cell_type": "code",
   "execution_count": null,
   "id": "f7a8fe49",
   "metadata": {},
   "outputs": [],
   "source": []
  }
 ],
 "metadata": {
  "kernelspec": {
   "display_name": "Python 3 (ipykernel)",
   "language": "python",
   "name": "python3"
  },
  "language_info": {
   "codemirror_mode": {
    "name": "ipython",
    "version": 3
   },
   "file_extension": ".py",
   "mimetype": "text/x-python",
   "name": "python",
   "nbconvert_exporter": "python",
   "pygments_lexer": "ipython3",
   "version": "3.11.5"
  }
 },
 "nbformat": 4,
 "nbformat_minor": 5
}
