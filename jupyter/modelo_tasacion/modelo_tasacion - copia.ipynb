{
 "cells": [
  {
   "cell_type": "code",
   "execution_count": 1,
   "id": "518d3c6c",
   "metadata": {},
   "outputs": [],
   "source": [
    "import pandas as pd\n",
    "import numpy as np\n",
    "pd.set_option('display.max_columns', None)\n",
    "pd.set_option('display.max_rows', 200)\n",
    "from datetime import datetime\n",
    "import warnings\n",
    "warnings.filterwarnings('ignore')\n",
    "import pylab as plt\n",
    "import seaborn as sns\n",
    "from sklearn.model_selection import train_test_split as tts\n",
    "from sklearn.preprocessing import StandardScaler\n",
    "from sklearn.linear_model import LinearRegression as LinReg  \n",
    "from sklearn.linear_model import Lasso       \n",
    "from sklearn.linear_model import Ridge      \n",
    "from sklearn.linear_model import ElasticNet\n",
    "from sklearn.svm import SVR\n",
    "from sklearn.ensemble import RandomForestRegressor as RFR  \n",
    "from sklearn.tree import ExtraTreeRegressor as ETR\n"
   ]
  },
  {
   "cell_type": "code",
   "execution_count": 2,
   "id": "ccee2cb5",
   "metadata": {},
   "outputs": [],
   "source": [
    "#%pip install lazypredict"
   ]
  },
  {
   "cell_type": "code",
   "execution_count": 3,
   "id": "99dc3d16",
   "metadata": {},
   "outputs": [
    {
     "data": {
      "text/plain": [
       "'%pip install xgboost\\n\\n%pip install catboost\\n\\n%pip install lightgbm'"
      ]
     },
     "execution_count": 3,
     "metadata": {},
     "output_type": "execute_result"
    }
   ],
   "source": [
    "\"\"\"%pip install xgboost\n",
    "\n",
    "%pip install catboost\n",
    "\n",
    "%pip install lightgbm\"\"\""
   ]
  },
  {
   "cell_type": "code",
   "execution_count": 4,
   "id": "c1188c7c",
   "metadata": {},
   "outputs": [],
   "source": [
    "from catboost import CatBoostRegressor as CTR\n",
    "from lightgbm import LGBMRegressor as LGBMR\n",
    "from sklearn.ensemble import GradientBoostingRegressor as GBR\n",
    "from xgboost import XGBRegressor as XGBR\n",
    "from lazypredict.Supervised import LazyRegressor "
   ]
  },
  {
   "cell_type": "code",
   "execution_count": 5,
   "id": "ad6f23af",
   "metadata": {},
   "outputs": [],
   "source": [
    "mad_total = pd.read_csv('../analisis_exploratorio/mad_total_limp.csv')"
   ]
  },
  {
   "cell_type": "code",
   "execution_count": 6,
   "id": "a1811822",
   "metadata": {},
   "outputs": [],
   "source": [
    "mad_centro = pd.read_csv('../analisis_exploratorio/mad_int_limp.csv')"
   ]
  },
  {
   "cell_type": "code",
   "execution_count": 7,
   "id": "d3003099",
   "metadata": {},
   "outputs": [],
   "source": [
    "mad_exterior = pd.read_csv('../analisis_exploratorio/mad_ext_limp.csv')"
   ]
  },
  {
   "cell_type": "code",
   "execution_count": 8,
   "id": "62779ff1",
   "metadata": {},
   "outputs": [],
   "source": [
    "alquiler = pd.read_csv('../analisis_exploratorio/alquiler_limp.csv')"
   ]
  },
  {
   "cell_type": "code",
   "execution_count": null,
   "id": "77e62455",
   "metadata": {},
   "outputs": [],
   "source": []
  },
  {
   "cell_type": "code",
   "execution_count": null,
   "id": "d30f3dad",
   "metadata": {},
   "outputs": [],
   "source": []
  },
  {
   "cell_type": "code",
   "execution_count": 9,
   "id": "d28c5823",
   "metadata": {},
   "outputs": [
    {
     "data": {
      "text/html": [
       "<div>\n",
       "<style scoped>\n",
       "    .dataframe tbody tr th:only-of-type {\n",
       "        vertical-align: middle;\n",
       "    }\n",
       "\n",
       "    .dataframe tbody tr th {\n",
       "        vertical-align: top;\n",
       "    }\n",
       "\n",
       "    .dataframe thead th {\n",
       "        text-align: right;\n",
       "    }\n",
       "</style>\n",
       "<table border=\"1\" class=\"dataframe\">\n",
       "  <thead>\n",
       "    <tr style=\"text-align: right;\">\n",
       "      <th></th>\n",
       "      <th>descripcion</th>\n",
       "      <th>zona</th>\n",
       "      <th>distrito</th>\n",
       "      <th>precio</th>\n",
       "      <th>superficie</th>\n",
       "      <th>habitaciones</th>\n",
       "      <th>plantas</th>\n",
       "      <th>caract</th>\n",
       "      <th>ascensor</th>\n",
       "      <th>€/m2</th>\n",
       "      <th>distrito_€/m2</th>\n",
       "      <th>media_alq</th>\n",
       "    </tr>\n",
       "  </thead>\n",
       "  <tbody>\n",
       "    <tr>\n",
       "      <th>0</th>\n",
       "      <td>0</td>\n",
       "      <td>central</td>\n",
       "      <td>villaverde</td>\n",
       "      <td>26100</td>\n",
       "      <td>59</td>\n",
       "      <td>2</td>\n",
       "      <td>3</td>\n",
       "      <td>3</td>\n",
       "      <td>0</td>\n",
       "      <td>442.37</td>\n",
       "      <td>2109.77</td>\n",
       "      <td>1022.74</td>\n",
       "    </tr>\n",
       "    <tr>\n",
       "      <th>1</th>\n",
       "      <td>0</td>\n",
       "      <td>central</td>\n",
       "      <td>villaverde</td>\n",
       "      <td>50600</td>\n",
       "      <td>53</td>\n",
       "      <td>3</td>\n",
       "      <td>2</td>\n",
       "      <td>3</td>\n",
       "      <td>3</td>\n",
       "      <td>954.72</td>\n",
       "      <td>2109.77</td>\n",
       "      <td>1022.74</td>\n",
       "    </tr>\n",
       "    <tr>\n",
       "      <th>2</th>\n",
       "      <td>0</td>\n",
       "      <td>central</td>\n",
       "      <td>villaverde</td>\n",
       "      <td>51700</td>\n",
       "      <td>60</td>\n",
       "      <td>3</td>\n",
       "      <td>3</td>\n",
       "      <td>1</td>\n",
       "      <td>0</td>\n",
       "      <td>861.67</td>\n",
       "      <td>2109.77</td>\n",
       "      <td>1022.74</td>\n",
       "    </tr>\n",
       "    <tr>\n",
       "      <th>3</th>\n",
       "      <td>0</td>\n",
       "      <td>central</td>\n",
       "      <td>villaverde</td>\n",
       "      <td>51700</td>\n",
       "      <td>60</td>\n",
       "      <td>3</td>\n",
       "      <td>3</td>\n",
       "      <td>3</td>\n",
       "      <td>0</td>\n",
       "      <td>861.67</td>\n",
       "      <td>2109.77</td>\n",
       "      <td>1022.74</td>\n",
       "    </tr>\n",
       "    <tr>\n",
       "      <th>4</th>\n",
       "      <td>0</td>\n",
       "      <td>central</td>\n",
       "      <td>villaverde</td>\n",
       "      <td>51700</td>\n",
       "      <td>59</td>\n",
       "      <td>3</td>\n",
       "      <td>4</td>\n",
       "      <td>1</td>\n",
       "      <td>0</td>\n",
       "      <td>876.27</td>\n",
       "      <td>2109.77</td>\n",
       "      <td>1022.74</td>\n",
       "    </tr>\n",
       "    <tr>\n",
       "      <th>...</th>\n",
       "      <td>...</td>\n",
       "      <td>...</td>\n",
       "      <td>...</td>\n",
       "      <td>...</td>\n",
       "      <td>...</td>\n",
       "      <td>...</td>\n",
       "      <td>...</td>\n",
       "      <td>...</td>\n",
       "      <td>...</td>\n",
       "      <td>...</td>\n",
       "      <td>...</td>\n",
       "      <td>...</td>\n",
       "    </tr>\n",
       "    <tr>\n",
       "      <th>35779</th>\n",
       "      <td>1</td>\n",
       "      <td>exterior</td>\n",
       "      <td>sureste</td>\n",
       "      <td>1400000</td>\n",
       "      <td>805</td>\n",
       "      <td>12</td>\n",
       "      <td>-4</td>\n",
       "      <td>2</td>\n",
       "      <td>2</td>\n",
       "      <td>1739.13</td>\n",
       "      <td>1291.27</td>\n",
       "      <td>1140.37</td>\n",
       "    </tr>\n",
       "    <tr>\n",
       "      <th>35780</th>\n",
       "      <td>1</td>\n",
       "      <td>exterior</td>\n",
       "      <td>sureste</td>\n",
       "      <td>1400000</td>\n",
       "      <td>950</td>\n",
       "      <td>10</td>\n",
       "      <td>-4</td>\n",
       "      <td>2</td>\n",
       "      <td>2</td>\n",
       "      <td>1473.68</td>\n",
       "      <td>1291.27</td>\n",
       "      <td>1140.37</td>\n",
       "    </tr>\n",
       "    <tr>\n",
       "      <th>35781</th>\n",
       "      <td>1</td>\n",
       "      <td>exterior</td>\n",
       "      <td>sureste</td>\n",
       "      <td>1500000</td>\n",
       "      <td>500</td>\n",
       "      <td>5</td>\n",
       "      <td>-4</td>\n",
       "      <td>2</td>\n",
       "      <td>2</td>\n",
       "      <td>3000.00</td>\n",
       "      <td>1291.27</td>\n",
       "      <td>1140.37</td>\n",
       "    </tr>\n",
       "    <tr>\n",
       "      <th>35782</th>\n",
       "      <td>1</td>\n",
       "      <td>exterior</td>\n",
       "      <td>sureste</td>\n",
       "      <td>2000000</td>\n",
       "      <td>3000</td>\n",
       "      <td>1</td>\n",
       "      <td>-4</td>\n",
       "      <td>2</td>\n",
       "      <td>2</td>\n",
       "      <td>666.67</td>\n",
       "      <td>1291.27</td>\n",
       "      <td>1140.37</td>\n",
       "    </tr>\n",
       "    <tr>\n",
       "      <th>35783</th>\n",
       "      <td>1</td>\n",
       "      <td>exterior</td>\n",
       "      <td>sureste</td>\n",
       "      <td>2100000</td>\n",
       "      <td>600</td>\n",
       "      <td>7</td>\n",
       "      <td>-4</td>\n",
       "      <td>2</td>\n",
       "      <td>2</td>\n",
       "      <td>3500.00</td>\n",
       "      <td>1291.27</td>\n",
       "      <td>1140.37</td>\n",
       "    </tr>\n",
       "  </tbody>\n",
       "</table>\n",
       "<p>35784 rows × 12 columns</p>\n",
       "</div>"
      ],
      "text/plain": [
       "       descripcion      zona    distrito   precio  superficie  habitaciones  \\\n",
       "0                0   central  villaverde    26100          59             2   \n",
       "1                0   central  villaverde    50600          53             3   \n",
       "2                0   central  villaverde    51700          60             3   \n",
       "3                0   central  villaverde    51700          60             3   \n",
       "4                0   central  villaverde    51700          59             3   \n",
       "...            ...       ...         ...      ...         ...           ...   \n",
       "35779            1  exterior     sureste  1400000         805            12   \n",
       "35780            1  exterior     sureste  1400000         950            10   \n",
       "35781            1  exterior     sureste  1500000         500             5   \n",
       "35782            1  exterior     sureste  2000000        3000             1   \n",
       "35783            1  exterior     sureste  2100000         600             7   \n",
       "\n",
       "       plantas  caract  ascensor    €/m2  distrito_€/m2  media_alq  \n",
       "0            3       3         0  442.37        2109.77    1022.74  \n",
       "1            2       3         3  954.72        2109.77    1022.74  \n",
       "2            3       1         0  861.67        2109.77    1022.74  \n",
       "3            3       3         0  861.67        2109.77    1022.74  \n",
       "4            4       1         0  876.27        2109.77    1022.74  \n",
       "...        ...     ...       ...     ...            ...        ...  \n",
       "35779       -4       2         2 1739.13        1291.27    1140.37  \n",
       "35780       -4       2         2 1473.68        1291.27    1140.37  \n",
       "35781       -4       2         2 3000.00        1291.27    1140.37  \n",
       "35782       -4       2         2  666.67        1291.27    1140.37  \n",
       "35783       -4       2         2 3500.00        1291.27    1140.37  \n",
       "\n",
       "[35784 rows x 12 columns]"
      ]
     },
     "execution_count": 9,
     "metadata": {},
     "output_type": "execute_result"
    }
   ],
   "source": [
    "mad_total"
   ]
  },
  {
   "cell_type": "code",
   "execution_count": 10,
   "id": "5c41c189",
   "metadata": {},
   "outputs": [],
   "source": [
    "modelo_num = mad_total.drop(columns=['distrito_€/m2','€/m2','zona','distrito'])"
   ]
  },
  {
   "cell_type": "code",
   "execution_count": 11,
   "id": "80ed52b3",
   "metadata": {},
   "outputs": [],
   "source": [
    "modelo = mad_total.drop(columns=['distrito_€/m2','€/m2'])"
   ]
  },
  {
   "cell_type": "code",
   "execution_count": 12,
   "id": "ceeddef7",
   "metadata": {
    "scrolled": false
   },
   "outputs": [
    {
     "data": {
      "image/png": "[encoded data removed]",
      "text/plain": [
       "<Figure size 1500x1000 with 2 Axes>"
      ]
     },
     "metadata": {},
     "output_type": "display_data"
    }
   ],
   "source": [
    "plt.figure(figsize=(15, 10))\n",
    "\n",
    "sns.set(style='white')\n",
    "\n",
    "mask=np.triu(np.ones_like(modelo_num.corr(method='spearman'), dtype=bool))\n",
    "\n",
    "cmap=sns.diverging_palette(0, 10, as_cmap=True)\n",
    "\n",
    "\n",
    "sns.heatmap(modelo_num.corr(method='spearman'),\n",
    "           mask=mask,\n",
    "          cmap=cmap,\n",
    "          center=0,\n",
    "          square=True,\n",
    "          annot=True,\n",
    "          linewidths=0.5,\n",
    "          cbar_kws={'shrink': 0.5});"
   ]
  },
  {
   "cell_type": "code",
   "execution_count": 13,
   "id": "840149b2",
   "metadata": {},
   "outputs": [],
   "source": [
    "X = modelo.drop('precio', axis=1)\n",
    "\n",
    "y = modelo.precio"
   ]
  },
  {
   "cell_type": "code",
   "execution_count": 14,
   "id": "62b509bc",
   "metadata": {},
   "outputs": [],
   "source": [
    "X = X.drop(columns=['media_alq','caract'])"
   ]
  },
  {
   "cell_type": "code",
   "execution_count": 15,
   "id": "27535fd9",
   "metadata": {},
   "outputs": [
    {
     "data": {
      "text/plain": [
       "((28627, 7), (7157, 7), (28627,), (7157,))"
      ]
     },
     "execution_count": 15,
     "metadata": {},
     "output_type": "execute_result"
    }
   ],
   "source": [
    "X_train, X_test, y_train, y_test = tts(X, y,\n",
    "                                      train_size=0.8,\n",
    "                                      test_size=0.2,\n",
    "                                      random_state=42)\n",
    "\n",
    "X_train.shape, X_test.shape, y_train.shape, y_test.shape"
   ]
  },
  {
   "cell_type": "code",
   "execution_count": 16,
   "id": "7edc6e86",
   "metadata": {},
   "outputs": [
    {
     "data": {
      "text/plain": [
       "'from lazypredict.Supervised import LazyRegressor\\n\\nreg = LazyRegressor(verbose=0, ignore_warnings=True, custom_metric=None)\\n\\nmodels, predictions = reg.fit(X_train, X_test, y_train, y_test)\\n\\nprint(models)'"
      ]
     },
     "execution_count": 16,
     "metadata": {},
     "output_type": "execute_result"
    }
   ],
   "source": [
    "\"\"\"from lazypredict.Supervised import LazyRegressor\n",
    "\n",
    "reg = LazyRegressor(verbose=0, ignore_warnings=True, custom_metric=None)\n",
    "\n",
    "models, predictions = reg.fit(X_train, X_test, y_train, y_test)\n",
    "\n",
    "print(models)\"\"\""
   ]
  },
  {
   "cell_type": "code",
   "execution_count": 17,
   "id": "0e4625a6",
   "metadata": {},
   "outputs": [],
   "source": [
    "X = pd.get_dummies(X, columns=['zona'], dtype=int, drop_first=True)\n",
    "\n",
    "X_train = pd.get_dummies(X_train, columns=['zona'], dtype=int, drop_first=True)\n",
    "\n",
    "X_test = pd.get_dummies(X_test, columns=['zona'], dtype=int, drop_first=True)"
   ]
  },
  {
   "cell_type": "code",
   "execution_count": 18,
   "id": "57a694f0",
   "metadata": {},
   "outputs": [],
   "source": [
    "X = pd.get_dummies(X, columns=['distrito'], dtype=int, drop_first=True)\n",
    "\n",
    "X_train = pd.get_dummies(X_train, columns=['distrito'], dtype=int, drop_first=True)\n",
    "\n",
    "X_test = pd.get_dummies(X_test, columns=['distrito'], dtype=int, drop_first=True)"
   ]
  },
  {
   "cell_type": "code",
   "execution_count": 19,
   "id": "228e2805",
   "metadata": {},
   "outputs": [
    {
     "data": {
      "text/html": [
       "<div>\n",
       "<style scoped>\n",
       "    .dataframe tbody tr th:only-of-type {\n",
       "        vertical-align: middle;\n",
       "    }\n",
       "\n",
       "    .dataframe tbody tr th {\n",
       "        vertical-align: top;\n",
       "    }\n",
       "\n",
       "    .dataframe thead th {\n",
       "        text-align: right;\n",
       "    }\n",
       "</style>\n",
       "<table border=\"1\" class=\"dataframe\">\n",
       "  <thead>\n",
       "    <tr style=\"text-align: right;\">\n",
       "      <th></th>\n",
       "      <th>descripcion</th>\n",
       "      <th>superficie</th>\n",
       "      <th>habitaciones</th>\n",
       "      <th>plantas</th>\n",
       "      <th>ascensor</th>\n",
       "      <th>zona_exterior</th>\n",
       "      <th>distrito_barajas</th>\n",
       "      <th>distrito_barrio de salamanca</th>\n",
       "      <th>distrito_carabanchel</th>\n",
       "      <th>distrito_centro</th>\n",
       "      <th>distrito_chamartin</th>\n",
       "      <th>distrito_chamberi</th>\n",
       "      <th>distrito_ciudad lineal</th>\n",
       "      <th>distrito_corredor de henares</th>\n",
       "      <th>distrito_fuencarral</th>\n",
       "      <th>distrito_hortaleza</th>\n",
       "      <th>distrito_latina</th>\n",
       "      <th>distrito_moncloa</th>\n",
       "      <th>distrito_moratalaz</th>\n",
       "      <th>distrito_noroeste</th>\n",
       "      <th>distrito_norte</th>\n",
       "      <th>distrito_puente de vallecas</th>\n",
       "      <th>distrito_retiro</th>\n",
       "      <th>distrito_san blas</th>\n",
       "      <th>distrito_sur</th>\n",
       "      <th>distrito_sureste</th>\n",
       "      <th>distrito_suroeste</th>\n",
       "      <th>distrito_tetuan</th>\n",
       "      <th>distrito_usera</th>\n",
       "      <th>distrito_vicalvaro</th>\n",
       "      <th>distrito_villa de vallecas</th>\n",
       "      <th>distrito_villaverde</th>\n",
       "    </tr>\n",
       "  </thead>\n",
       "  <tbody>\n",
       "    <tr>\n",
       "      <th>24788</th>\n",
       "      <td>1</td>\n",
       "      <td>220</td>\n",
       "      <td>3</td>\n",
       "      <td>-4</td>\n",
       "      <td>2</td>\n",
       "      <td>1</td>\n",
       "      <td>0</td>\n",
       "      <td>0</td>\n",
       "      <td>0</td>\n",
       "      <td>0</td>\n",
       "      <td>0</td>\n",
       "      <td>0</td>\n",
       "      <td>0</td>\n",
       "      <td>0</td>\n",
       "      <td>0</td>\n",
       "      <td>0</td>\n",
       "      <td>0</td>\n",
       "      <td>0</td>\n",
       "      <td>0</td>\n",
       "      <td>1</td>\n",
       "      <td>0</td>\n",
       "      <td>0</td>\n",
       "      <td>0</td>\n",
       "      <td>0</td>\n",
       "      <td>0</td>\n",
       "      <td>0</td>\n",
       "      <td>0</td>\n",
       "      <td>0</td>\n",
       "      <td>0</td>\n",
       "      <td>0</td>\n",
       "      <td>0</td>\n",
       "      <td>0</td>\n",
       "    </tr>\n",
       "    <tr>\n",
       "      <th>8023</th>\n",
       "      <td>0</td>\n",
       "      <td>51</td>\n",
       "      <td>2</td>\n",
       "      <td>-2</td>\n",
       "      <td>0</td>\n",
       "      <td>0</td>\n",
       "      <td>0</td>\n",
       "      <td>0</td>\n",
       "      <td>0</td>\n",
       "      <td>0</td>\n",
       "      <td>0</td>\n",
       "      <td>0</td>\n",
       "      <td>1</td>\n",
       "      <td>0</td>\n",
       "      <td>0</td>\n",
       "      <td>0</td>\n",
       "      <td>0</td>\n",
       "      <td>0</td>\n",
       "      <td>0</td>\n",
       "      <td>0</td>\n",
       "      <td>0</td>\n",
       "      <td>0</td>\n",
       "      <td>0</td>\n",
       "      <td>0</td>\n",
       "      <td>0</td>\n",
       "      <td>0</td>\n",
       "      <td>0</td>\n",
       "      <td>0</td>\n",
       "      <td>0</td>\n",
       "      <td>0</td>\n",
       "      <td>0</td>\n",
       "      <td>0</td>\n",
       "    </tr>\n",
       "    <tr>\n",
       "      <th>31702</th>\n",
       "      <td>0</td>\n",
       "      <td>112</td>\n",
       "      <td>3</td>\n",
       "      <td>3</td>\n",
       "      <td>1</td>\n",
       "      <td>1</td>\n",
       "      <td>0</td>\n",
       "      <td>0</td>\n",
       "      <td>0</td>\n",
       "      <td>0</td>\n",
       "      <td>0</td>\n",
       "      <td>0</td>\n",
       "      <td>0</td>\n",
       "      <td>0</td>\n",
       "      <td>0</td>\n",
       "      <td>0</td>\n",
       "      <td>0</td>\n",
       "      <td>0</td>\n",
       "      <td>0</td>\n",
       "      <td>0</td>\n",
       "      <td>0</td>\n",
       "      <td>0</td>\n",
       "      <td>0</td>\n",
       "      <td>0</td>\n",
       "      <td>1</td>\n",
       "      <td>0</td>\n",
       "      <td>0</td>\n",
       "      <td>0</td>\n",
       "      <td>0</td>\n",
       "      <td>0</td>\n",
       "      <td>0</td>\n",
       "      <td>0</td>\n",
       "    </tr>\n",
       "    <tr>\n",
       "      <th>35765</th>\n",
       "      <td>1</td>\n",
       "      <td>1000</td>\n",
       "      <td>7</td>\n",
       "      <td>-4</td>\n",
       "      <td>2</td>\n",
       "      <td>1</td>\n",
       "      <td>0</td>\n",
       "      <td>0</td>\n",
       "      <td>0</td>\n",
       "      <td>0</td>\n",
       "      <td>0</td>\n",
       "      <td>0</td>\n",
       "      <td>0</td>\n",
       "      <td>0</td>\n",
       "      <td>0</td>\n",
       "      <td>0</td>\n",
       "      <td>0</td>\n",
       "      <td>0</td>\n",
       "      <td>0</td>\n",
       "      <td>0</td>\n",
       "      <td>0</td>\n",
       "      <td>0</td>\n",
       "      <td>0</td>\n",
       "      <td>0</td>\n",
       "      <td>0</td>\n",
       "      <td>1</td>\n",
       "      <td>0</td>\n",
       "      <td>0</td>\n",
       "      <td>0</td>\n",
       "      <td>0</td>\n",
       "      <td>0</td>\n",
       "      <td>0</td>\n",
       "    </tr>\n",
       "    <tr>\n",
       "      <th>31782</th>\n",
       "      <td>0</td>\n",
       "      <td>107</td>\n",
       "      <td>4</td>\n",
       "      <td>2</td>\n",
       "      <td>1</td>\n",
       "      <td>1</td>\n",
       "      <td>0</td>\n",
       "      <td>0</td>\n",
       "      <td>0</td>\n",
       "      <td>0</td>\n",
       "      <td>0</td>\n",
       "      <td>0</td>\n",
       "      <td>0</td>\n",
       "      <td>0</td>\n",
       "      <td>0</td>\n",
       "      <td>0</td>\n",
       "      <td>0</td>\n",
       "      <td>0</td>\n",
       "      <td>0</td>\n",
       "      <td>0</td>\n",
       "      <td>0</td>\n",
       "      <td>0</td>\n",
       "      <td>0</td>\n",
       "      <td>0</td>\n",
       "      <td>1</td>\n",
       "      <td>0</td>\n",
       "      <td>0</td>\n",
       "      <td>0</td>\n",
       "      <td>0</td>\n",
       "      <td>0</td>\n",
       "      <td>0</td>\n",
       "      <td>0</td>\n",
       "    </tr>\n",
       "    <tr>\n",
       "      <th>...</th>\n",
       "      <td>...</td>\n",
       "      <td>...</td>\n",
       "      <td>...</td>\n",
       "      <td>...</td>\n",
       "      <td>...</td>\n",
       "      <td>...</td>\n",
       "      <td>...</td>\n",
       "      <td>...</td>\n",
       "      <td>...</td>\n",
       "      <td>...</td>\n",
       "      <td>...</td>\n",
       "      <td>...</td>\n",
       "      <td>...</td>\n",
       "      <td>...</td>\n",
       "      <td>...</td>\n",
       "      <td>...</td>\n",
       "      <td>...</td>\n",
       "      <td>...</td>\n",
       "      <td>...</td>\n",
       "      <td>...</td>\n",
       "      <td>...</td>\n",
       "      <td>...</td>\n",
       "      <td>...</td>\n",
       "      <td>...</td>\n",
       "      <td>...</td>\n",
       "      <td>...</td>\n",
       "      <td>...</td>\n",
       "      <td>...</td>\n",
       "      <td>...</td>\n",
       "      <td>...</td>\n",
       "      <td>...</td>\n",
       "      <td>...</td>\n",
       "    </tr>\n",
       "    <tr>\n",
       "      <th>16850</th>\n",
       "      <td>0</td>\n",
       "      <td>139</td>\n",
       "      <td>5</td>\n",
       "      <td>8</td>\n",
       "      <td>1</td>\n",
       "      <td>0</td>\n",
       "      <td>0</td>\n",
       "      <td>1</td>\n",
       "      <td>0</td>\n",
       "      <td>0</td>\n",
       "      <td>0</td>\n",
       "      <td>0</td>\n",
       "      <td>0</td>\n",
       "      <td>0</td>\n",
       "      <td>0</td>\n",
       "      <td>0</td>\n",
       "      <td>0</td>\n",
       "      <td>0</td>\n",
       "      <td>0</td>\n",
       "      <td>0</td>\n",
       "      <td>0</td>\n",
       "      <td>0</td>\n",
       "      <td>0</td>\n",
       "      <td>0</td>\n",
       "      <td>0</td>\n",
       "      <td>0</td>\n",
       "      <td>0</td>\n",
       "      <td>0</td>\n",
       "      <td>0</td>\n",
       "      <td>0</td>\n",
       "      <td>0</td>\n",
       "      <td>0</td>\n",
       "    </tr>\n",
       "    <tr>\n",
       "      <th>6265</th>\n",
       "      <td>0</td>\n",
       "      <td>100</td>\n",
       "      <td>3</td>\n",
       "      <td>7</td>\n",
       "      <td>1</td>\n",
       "      <td>0</td>\n",
       "      <td>0</td>\n",
       "      <td>0</td>\n",
       "      <td>0</td>\n",
       "      <td>0</td>\n",
       "      <td>0</td>\n",
       "      <td>0</td>\n",
       "      <td>0</td>\n",
       "      <td>0</td>\n",
       "      <td>0</td>\n",
       "      <td>0</td>\n",
       "      <td>1</td>\n",
       "      <td>0</td>\n",
       "      <td>0</td>\n",
       "      <td>0</td>\n",
       "      <td>0</td>\n",
       "      <td>0</td>\n",
       "      <td>0</td>\n",
       "      <td>0</td>\n",
       "      <td>0</td>\n",
       "      <td>0</td>\n",
       "      <td>0</td>\n",
       "      <td>0</td>\n",
       "      <td>0</td>\n",
       "      <td>0</td>\n",
       "      <td>0</td>\n",
       "      <td>0</td>\n",
       "    </tr>\n",
       "    <tr>\n",
       "      <th>11284</th>\n",
       "      <td>0</td>\n",
       "      <td>110</td>\n",
       "      <td>4</td>\n",
       "      <td>2</td>\n",
       "      <td>1</td>\n",
       "      <td>0</td>\n",
       "      <td>0</td>\n",
       "      <td>0</td>\n",
       "      <td>0</td>\n",
       "      <td>1</td>\n",
       "      <td>0</td>\n",
       "      <td>0</td>\n",
       "      <td>0</td>\n",
       "      <td>0</td>\n",
       "      <td>0</td>\n",
       "      <td>0</td>\n",
       "      <td>0</td>\n",
       "      <td>0</td>\n",
       "      <td>0</td>\n",
       "      <td>0</td>\n",
       "      <td>0</td>\n",
       "      <td>0</td>\n",
       "      <td>0</td>\n",
       "      <td>0</td>\n",
       "      <td>0</td>\n",
       "      <td>0</td>\n",
       "      <td>0</td>\n",
       "      <td>0</td>\n",
       "      <td>0</td>\n",
       "      <td>0</td>\n",
       "      <td>0</td>\n",
       "      <td>0</td>\n",
       "    </tr>\n",
       "    <tr>\n",
       "      <th>860</th>\n",
       "      <td>0</td>\n",
       "      <td>67</td>\n",
       "      <td>2</td>\n",
       "      <td>0</td>\n",
       "      <td>0</td>\n",
       "      <td>0</td>\n",
       "      <td>0</td>\n",
       "      <td>0</td>\n",
       "      <td>0</td>\n",
       "      <td>0</td>\n",
       "      <td>0</td>\n",
       "      <td>0</td>\n",
       "      <td>0</td>\n",
       "      <td>0</td>\n",
       "      <td>0</td>\n",
       "      <td>0</td>\n",
       "      <td>0</td>\n",
       "      <td>0</td>\n",
       "      <td>0</td>\n",
       "      <td>0</td>\n",
       "      <td>0</td>\n",
       "      <td>0</td>\n",
       "      <td>0</td>\n",
       "      <td>0</td>\n",
       "      <td>0</td>\n",
       "      <td>0</td>\n",
       "      <td>0</td>\n",
       "      <td>0</td>\n",
       "      <td>0</td>\n",
       "      <td>1</td>\n",
       "      <td>0</td>\n",
       "      <td>0</td>\n",
       "    </tr>\n",
       "    <tr>\n",
       "      <th>15795</th>\n",
       "      <td>0</td>\n",
       "      <td>291</td>\n",
       "      <td>4</td>\n",
       "      <td>5</td>\n",
       "      <td>1</td>\n",
       "      <td>0</td>\n",
       "      <td>0</td>\n",
       "      <td>1</td>\n",
       "      <td>0</td>\n",
       "      <td>0</td>\n",
       "      <td>0</td>\n",
       "      <td>0</td>\n",
       "      <td>0</td>\n",
       "      <td>0</td>\n",
       "      <td>0</td>\n",
       "      <td>0</td>\n",
       "      <td>0</td>\n",
       "      <td>0</td>\n",
       "      <td>0</td>\n",
       "      <td>0</td>\n",
       "      <td>0</td>\n",
       "      <td>0</td>\n",
       "      <td>0</td>\n",
       "      <td>0</td>\n",
       "      <td>0</td>\n",
       "      <td>0</td>\n",
       "      <td>0</td>\n",
       "      <td>0</td>\n",
       "      <td>0</td>\n",
       "      <td>0</td>\n",
       "      <td>0</td>\n",
       "      <td>0</td>\n",
       "    </tr>\n",
       "  </tbody>\n",
       "</table>\n",
       "<p>28627 rows × 32 columns</p>\n",
       "</div>"
      ],
      "text/plain": [
       "       descripcion  superficie  habitaciones  plantas  ascensor  \\\n",
       "24788            1         220             3       -4         2   \n",
       "8023             0          51             2       -2         0   \n",
       "31702            0         112             3        3         1   \n",
       "35765            1        1000             7       -4         2   \n",
       "31782            0         107             4        2         1   \n",
       "...            ...         ...           ...      ...       ...   \n",
       "16850            0         139             5        8         1   \n",
       "6265             0         100             3        7         1   \n",
       "11284            0         110             4        2         1   \n",
       "860              0          67             2        0         0   \n",
       "15795            0         291             4        5         1   \n",
       "\n",
       "       zona_exterior  distrito_barajas  distrito_barrio de salamanca  \\\n",
       "24788              1                 0                             0   \n",
       "8023               0                 0                             0   \n",
       "31702              1                 0                             0   \n",
       "35765              1                 0                             0   \n",
       "31782              1                 0                             0   \n",
       "...              ...               ...                           ...   \n",
       "16850              0                 0                             1   \n",
       "6265               0                 0                             0   \n",
       "11284              0                 0                             0   \n",
       "860                0                 0                             0   \n",
       "15795              0                 0                             1   \n",
       "\n",
       "       distrito_carabanchel  distrito_centro  distrito_chamartin  \\\n",
       "24788                     0                0                   0   \n",
       "8023                      0                0                   0   \n",
       "31702                     0                0                   0   \n",
       "35765                     0                0                   0   \n",
       "31782                     0                0                   0   \n",
       "...                     ...              ...                 ...   \n",
       "16850                     0                0                   0   \n",
       "6265                      0                0                   0   \n",
       "11284                     0                1                   0   \n",
       "860                       0                0                   0   \n",
       "15795                     0                0                   0   \n",
       "\n",
       "       distrito_chamberi  distrito_ciudad lineal  \\\n",
       "24788                  0                       0   \n",
       "8023                   0                       1   \n",
       "31702                  0                       0   \n",
       "35765                  0                       0   \n",
       "31782                  0                       0   \n",
       "...                  ...                     ...   \n",
       "16850                  0                       0   \n",
       "6265                   0                       0   \n",
       "11284                  0                       0   \n",
       "860                    0                       0   \n",
       "15795                  0                       0   \n",
       "\n",
       "       distrito_corredor de henares  distrito_fuencarral  distrito_hortaleza  \\\n",
       "24788                             0                    0                   0   \n",
       "8023                              0                    0                   0   \n",
       "31702                             0                    0                   0   \n",
       "35765                             0                    0                   0   \n",
       "31782                             0                    0                   0   \n",
       "...                             ...                  ...                 ...   \n",
       "16850                             0                    0                   0   \n",
       "6265                              0                    0                   0   \n",
       "11284                             0                    0                   0   \n",
       "860                               0                    0                   0   \n",
       "15795                             0                    0                   0   \n",
       "\n",
       "       distrito_latina  distrito_moncloa  distrito_moratalaz  \\\n",
       "24788                0                 0                   0   \n",
       "8023                 0                 0                   0   \n",
       "31702                0                 0                   0   \n",
       "35765                0                 0                   0   \n",
       "31782                0                 0                   0   \n",
       "...                ...               ...                 ...   \n",
       "16850                0                 0                   0   \n",
       "6265                 1                 0                   0   \n",
       "11284                0                 0                   0   \n",
       "860                  0                 0                   0   \n",
       "15795                0                 0                   0   \n",
       "\n",
       "       distrito_noroeste  distrito_norte  distrito_puente de vallecas  \\\n",
       "24788                  1               0                            0   \n",
       "8023                   0               0                            0   \n",
       "31702                  0               0                            0   \n",
       "35765                  0               0                            0   \n",
       "31782                  0               0                            0   \n",
       "...                  ...             ...                          ...   \n",
       "16850                  0               0                            0   \n",
       "6265                   0               0                            0   \n",
       "11284                  0               0                            0   \n",
       "860                    0               0                            0   \n",
       "15795                  0               0                            0   \n",
       "\n",
       "       distrito_retiro  distrito_san blas  distrito_sur  distrito_sureste  \\\n",
       "24788                0                  0             0                 0   \n",
       "8023                 0                  0             0                 0   \n",
       "31702                0                  0             1                 0   \n",
       "35765                0                  0             0                 1   \n",
       "31782                0                  0             1                 0   \n",
       "...                ...                ...           ...               ...   \n",
       "16850                0                  0             0                 0   \n",
       "6265                 0                  0             0                 0   \n",
       "11284                0                  0             0                 0   \n",
       "860                  0                  0             0                 0   \n",
       "15795                0                  0             0                 0   \n",
       "\n",
       "       distrito_suroeste  distrito_tetuan  distrito_usera  distrito_vicalvaro  \\\n",
       "24788                  0                0               0                   0   \n",
       "8023                   0                0               0                   0   \n",
       "31702                  0                0               0                   0   \n",
       "35765                  0                0               0                   0   \n",
       "31782                  0                0               0                   0   \n",
       "...                  ...              ...             ...                 ...   \n",
       "16850                  0                0               0                   0   \n",
       "6265                   0                0               0                   0   \n",
       "11284                  0                0               0                   0   \n",
       "860                    0                0               0                   1   \n",
       "15795                  0                0               0                   0   \n",
       "\n",
       "       distrito_villa de vallecas  distrito_villaverde  \n",
       "24788                           0                    0  \n",
       "8023                            0                    0  \n",
       "31702                           0                    0  \n",
       "35765                           0                    0  \n",
       "31782                           0                    0  \n",
       "...                           ...                  ...  \n",
       "16850                           0                    0  \n",
       "6265                            0                    0  \n",
       "11284                           0                    0  \n",
       "860                             0                    0  \n",
       "15795                           0                    0  \n",
       "\n",
       "[28627 rows x 32 columns]"
      ]
     },
     "execution_count": 19,
     "metadata": {},
     "output_type": "execute_result"
    }
   ],
   "source": [
    "X_train"
   ]
  },
  {
   "cell_type": "code",
   "execution_count": 20,
   "id": "d5041734",
   "metadata": {},
   "outputs": [],
   "source": [
    "from sklearn.metrics import mean_squared_error as mse"
   ]
  },
  {
   "cell_type": "code",
   "execution_count": 21,
   "id": "3d21c5f4",
   "metadata": {},
   "outputs": [
    {
     "data": {
      "text/plain": [
       "array(['villaverde', 'barrio de salamanca', 'villa de vallecas',\n",
       "       'vicalvaro', 'usera', 'tetuan', 'san blas', 'retiro',\n",
       "       'puente de vallecas', 'moratalaz', 'moncloa', 'latina',\n",
       "       'hortaleza', 'fuencarral', 'ciudad lineal', 'chamberi',\n",
       "       'chamartin', 'centro', 'carabanchel', 'barajas', 'arganzuela',\n",
       "       'corredor de henares', 'noroeste', 'norte', 'suroeste', 'sur',\n",
       "       'sureste'], dtype=object)"
      ]
     },
     "execution_count": 21,
     "metadata": {},
     "output_type": "execute_result"
    }
   ],
   "source": [
    "mad_total.distrito.unique()"
   ]
  },
  {
   "cell_type": "code",
   "execution_count": 22,
   "id": "146fe0df",
   "metadata": {},
   "outputs": [],
   "source": [
    "df1 = mad_total[mad_total['distrito']=='villaverde']"
   ]
  },
  {
   "cell_type": "code",
   "execution_count": 23,
   "id": "1f365028",
   "metadata": {},
   "outputs": [
    {
     "data": {
      "text/plain": [
       "(507, 12)"
      ]
     },
     "execution_count": 23,
     "metadata": {},
     "output_type": "execute_result"
    }
   ],
   "source": [
    "df1.shape"
   ]
  },
  {
   "cell_type": "code",
   "execution_count": 24,
   "id": "72757d1b",
   "metadata": {},
   "outputs": [
    {
     "data": {
      "text/html": [
       "<div>\n",
       "<style scoped>\n",
       "    .dataframe tbody tr th:only-of-type {\n",
       "        vertical-align: middle;\n",
       "    }\n",
       "\n",
       "    .dataframe tbody tr th {\n",
       "        vertical-align: top;\n",
       "    }\n",
       "\n",
       "    .dataframe thead th {\n",
       "        text-align: right;\n",
       "    }\n",
       "</style>\n",
       "<table border=\"1\" class=\"dataframe\">\n",
       "  <thead>\n",
       "    <tr style=\"text-align: right;\">\n",
       "      <th></th>\n",
       "      <th>descripcion</th>\n",
       "      <th>zona</th>\n",
       "      <th>distrito</th>\n",
       "      <th>precio</th>\n",
       "      <th>superficie</th>\n",
       "      <th>habitaciones</th>\n",
       "      <th>plantas</th>\n",
       "      <th>caract</th>\n",
       "      <th>ascensor</th>\n",
       "      <th>€/m2</th>\n",
       "      <th>distrito_€/m2</th>\n",
       "      <th>media_alq</th>\n",
       "    </tr>\n",
       "  </thead>\n",
       "  <tbody>\n",
       "    <tr>\n",
       "      <th>0</th>\n",
       "      <td>0</td>\n",
       "      <td>central</td>\n",
       "      <td>villaverde</td>\n",
       "      <td>26100</td>\n",
       "      <td>59</td>\n",
       "      <td>2</td>\n",
       "      <td>3</td>\n",
       "      <td>3</td>\n",
       "      <td>0</td>\n",
       "      <td>442.37</td>\n",
       "      <td>2109.77</td>\n",
       "      <td>1022.74</td>\n",
       "    </tr>\n",
       "    <tr>\n",
       "      <th>1</th>\n",
       "      <td>0</td>\n",
       "      <td>central</td>\n",
       "      <td>villaverde</td>\n",
       "      <td>50600</td>\n",
       "      <td>53</td>\n",
       "      <td>3</td>\n",
       "      <td>2</td>\n",
       "      <td>3</td>\n",
       "      <td>3</td>\n",
       "      <td>954.72</td>\n",
       "      <td>2109.77</td>\n",
       "      <td>1022.74</td>\n",
       "    </tr>\n",
       "    <tr>\n",
       "      <th>2</th>\n",
       "      <td>0</td>\n",
       "      <td>central</td>\n",
       "      <td>villaverde</td>\n",
       "      <td>51700</td>\n",
       "      <td>60</td>\n",
       "      <td>3</td>\n",
       "      <td>3</td>\n",
       "      <td>1</td>\n",
       "      <td>0</td>\n",
       "      <td>861.67</td>\n",
       "      <td>2109.77</td>\n",
       "      <td>1022.74</td>\n",
       "    </tr>\n",
       "    <tr>\n",
       "      <th>3</th>\n",
       "      <td>0</td>\n",
       "      <td>central</td>\n",
       "      <td>villaverde</td>\n",
       "      <td>51700</td>\n",
       "      <td>60</td>\n",
       "      <td>3</td>\n",
       "      <td>3</td>\n",
       "      <td>3</td>\n",
       "      <td>0</td>\n",
       "      <td>861.67</td>\n",
       "      <td>2109.77</td>\n",
       "      <td>1022.74</td>\n",
       "    </tr>\n",
       "    <tr>\n",
       "      <th>4</th>\n",
       "      <td>0</td>\n",
       "      <td>central</td>\n",
       "      <td>villaverde</td>\n",
       "      <td>51700</td>\n",
       "      <td>59</td>\n",
       "      <td>3</td>\n",
       "      <td>4</td>\n",
       "      <td>1</td>\n",
       "      <td>0</td>\n",
       "      <td>876.27</td>\n",
       "      <td>2109.77</td>\n",
       "      <td>1022.74</td>\n",
       "    </tr>\n",
       "    <tr>\n",
       "      <th>...</th>\n",
       "      <td>...</td>\n",
       "      <td>...</td>\n",
       "      <td>...</td>\n",
       "      <td>...</td>\n",
       "      <td>...</td>\n",
       "      <td>...</td>\n",
       "      <td>...</td>\n",
       "      <td>...</td>\n",
       "      <td>...</td>\n",
       "      <td>...</td>\n",
       "      <td>...</td>\n",
       "      <td>...</td>\n",
       "    </tr>\n",
       "    <tr>\n",
       "      <th>503</th>\n",
       "      <td>2</td>\n",
       "      <td>central</td>\n",
       "      <td>villaverde</td>\n",
       "      <td>375000</td>\n",
       "      <td>160</td>\n",
       "      <td>3</td>\n",
       "      <td>-3</td>\n",
       "      <td>1</td>\n",
       "      <td>1</td>\n",
       "      <td>2343.75</td>\n",
       "      <td>2109.77</td>\n",
       "      <td>1022.74</td>\n",
       "    </tr>\n",
       "    <tr>\n",
       "      <th>502</th>\n",
       "      <td>2</td>\n",
       "      <td>central</td>\n",
       "      <td>villaverde</td>\n",
       "      <td>375000</td>\n",
       "      <td>111</td>\n",
       "      <td>3</td>\n",
       "      <td>4</td>\n",
       "      <td>1</td>\n",
       "      <td>1</td>\n",
       "      <td>3378.38</td>\n",
       "      <td>2109.77</td>\n",
       "      <td>1022.74</td>\n",
       "    </tr>\n",
       "    <tr>\n",
       "      <th>504</th>\n",
       "      <td>2</td>\n",
       "      <td>central</td>\n",
       "      <td>villaverde</td>\n",
       "      <td>382000</td>\n",
       "      <td>119</td>\n",
       "      <td>3</td>\n",
       "      <td>5</td>\n",
       "      <td>1</td>\n",
       "      <td>1</td>\n",
       "      <td>3210.08</td>\n",
       "      <td>2109.77</td>\n",
       "      <td>1022.74</td>\n",
       "    </tr>\n",
       "    <tr>\n",
       "      <th>505</th>\n",
       "      <td>0</td>\n",
       "      <td>central</td>\n",
       "      <td>villaverde</td>\n",
       "      <td>450000</td>\n",
       "      <td>151</td>\n",
       "      <td>3</td>\n",
       "      <td>5</td>\n",
       "      <td>1</td>\n",
       "      <td>1</td>\n",
       "      <td>2980.13</td>\n",
       "      <td>2109.77</td>\n",
       "      <td>1022.74</td>\n",
       "    </tr>\n",
       "    <tr>\n",
       "      <th>506</th>\n",
       "      <td>1</td>\n",
       "      <td>central</td>\n",
       "      <td>villaverde</td>\n",
       "      <td>799000</td>\n",
       "      <td>558</td>\n",
       "      <td>8</td>\n",
       "      <td>-4</td>\n",
       "      <td>2</td>\n",
       "      <td>2</td>\n",
       "      <td>1431.90</td>\n",
       "      <td>2109.77</td>\n",
       "      <td>1022.74</td>\n",
       "    </tr>\n",
       "  </tbody>\n",
       "</table>\n",
       "<p>507 rows × 12 columns</p>\n",
       "</div>"
      ],
      "text/plain": [
       "     descripcion     zona    distrito  precio  superficie  habitaciones  \\\n",
       "0              0  central  villaverde   26100          59             2   \n",
       "1              0  central  villaverde   50600          53             3   \n",
       "2              0  central  villaverde   51700          60             3   \n",
       "3              0  central  villaverde   51700          60             3   \n",
       "4              0  central  villaverde   51700          59             3   \n",
       "..           ...      ...         ...     ...         ...           ...   \n",
       "503            2  central  villaverde  375000         160             3   \n",
       "502            2  central  villaverde  375000         111             3   \n",
       "504            2  central  villaverde  382000         119             3   \n",
       "505            0  central  villaverde  450000         151             3   \n",
       "506            1  central  villaverde  799000         558             8   \n",
       "\n",
       "     plantas  caract  ascensor    €/m2  distrito_€/m2  media_alq  \n",
       "0          3       3         0  442.37        2109.77    1022.74  \n",
       "1          2       3         3  954.72        2109.77    1022.74  \n",
       "2          3       1         0  861.67        2109.77    1022.74  \n",
       "3          3       3         0  861.67        2109.77    1022.74  \n",
       "4          4       1         0  876.27        2109.77    1022.74  \n",
       "..       ...     ...       ...     ...            ...        ...  \n",
       "503       -3       1         1 2343.75        2109.77    1022.74  \n",
       "502        4       1         1 3378.38        2109.77    1022.74  \n",
       "504        5       1         1 3210.08        2109.77    1022.74  \n",
       "505        5       1         1 2980.13        2109.77    1022.74  \n",
       "506       -4       2         2 1431.90        2109.77    1022.74  \n",
       "\n",
       "[507 rows x 12 columns]"
      ]
     },
     "execution_count": 24,
     "metadata": {},
     "output_type": "execute_result"
    }
   ],
   "source": [
    "df1.sort_values(by='precio')"
   ]
  },
  {
   "cell_type": "code",
   "execution_count": 25,
   "id": "97646c90",
   "metadata": {},
   "outputs": [
    {
     "data": {
      "text/html": [
       "<div>\n",
       "<style scoped>\n",
       "    .dataframe tbody tr th:only-of-type {\n",
       "        vertical-align: middle;\n",
       "    }\n",
       "\n",
       "    .dataframe tbody tr th {\n",
       "        vertical-align: top;\n",
       "    }\n",
       "\n",
       "    .dataframe thead th {\n",
       "        text-align: right;\n",
       "    }\n",
       "</style>\n",
       "<table border=\"1\" class=\"dataframe\">\n",
       "  <thead>\n",
       "    <tr style=\"text-align: right;\">\n",
       "      <th></th>\n",
       "      <th>descripcion</th>\n",
       "      <th>zona</th>\n",
       "      <th>distrito</th>\n",
       "      <th>precio</th>\n",
       "      <th>superficie</th>\n",
       "      <th>habitaciones</th>\n",
       "      <th>plantas</th>\n",
       "      <th>caract</th>\n",
       "      <th>ascensor</th>\n",
       "      <th>€/m2</th>\n",
       "      <th>distrito_€/m2</th>\n",
       "      <th>media_alq</th>\n",
       "    </tr>\n",
       "  </thead>\n",
       "  <tbody>\n",
       "    <tr>\n",
       "      <th>0</th>\n",
       "      <td>0</td>\n",
       "      <td>central</td>\n",
       "      <td>villaverde</td>\n",
       "      <td>26100</td>\n",
       "      <td>59</td>\n",
       "      <td>2</td>\n",
       "      <td>3</td>\n",
       "      <td>3</td>\n",
       "      <td>0</td>\n",
       "      <td>442.37</td>\n",
       "      <td>2109.77</td>\n",
       "      <td>1022.74</td>\n",
       "    </tr>\n",
       "    <tr>\n",
       "      <th>1</th>\n",
       "      <td>0</td>\n",
       "      <td>central</td>\n",
       "      <td>villaverde</td>\n",
       "      <td>50600</td>\n",
       "      <td>53</td>\n",
       "      <td>3</td>\n",
       "      <td>2</td>\n",
       "      <td>3</td>\n",
       "      <td>3</td>\n",
       "      <td>954.72</td>\n",
       "      <td>2109.77</td>\n",
       "      <td>1022.74</td>\n",
       "    </tr>\n",
       "    <tr>\n",
       "      <th>2</th>\n",
       "      <td>0</td>\n",
       "      <td>central</td>\n",
       "      <td>villaverde</td>\n",
       "      <td>51700</td>\n",
       "      <td>60</td>\n",
       "      <td>3</td>\n",
       "      <td>3</td>\n",
       "      <td>1</td>\n",
       "      <td>0</td>\n",
       "      <td>861.67</td>\n",
       "      <td>2109.77</td>\n",
       "      <td>1022.74</td>\n",
       "    </tr>\n",
       "    <tr>\n",
       "      <th>3</th>\n",
       "      <td>0</td>\n",
       "      <td>central</td>\n",
       "      <td>villaverde</td>\n",
       "      <td>51700</td>\n",
       "      <td>60</td>\n",
       "      <td>3</td>\n",
       "      <td>3</td>\n",
       "      <td>3</td>\n",
       "      <td>0</td>\n",
       "      <td>861.67</td>\n",
       "      <td>2109.77</td>\n",
       "      <td>1022.74</td>\n",
       "    </tr>\n",
       "    <tr>\n",
       "      <th>4</th>\n",
       "      <td>0</td>\n",
       "      <td>central</td>\n",
       "      <td>villaverde</td>\n",
       "      <td>51700</td>\n",
       "      <td>59</td>\n",
       "      <td>3</td>\n",
       "      <td>4</td>\n",
       "      <td>1</td>\n",
       "      <td>0</td>\n",
       "      <td>876.27</td>\n",
       "      <td>2109.77</td>\n",
       "      <td>1022.74</td>\n",
       "    </tr>\n",
       "    <tr>\n",
       "      <th>...</th>\n",
       "      <td>...</td>\n",
       "      <td>...</td>\n",
       "      <td>...</td>\n",
       "      <td>...</td>\n",
       "      <td>...</td>\n",
       "      <td>...</td>\n",
       "      <td>...</td>\n",
       "      <td>...</td>\n",
       "      <td>...</td>\n",
       "      <td>...</td>\n",
       "      <td>...</td>\n",
       "      <td>...</td>\n",
       "    </tr>\n",
       "    <tr>\n",
       "      <th>502</th>\n",
       "      <td>2</td>\n",
       "      <td>central</td>\n",
       "      <td>villaverde</td>\n",
       "      <td>375000</td>\n",
       "      <td>111</td>\n",
       "      <td>3</td>\n",
       "      <td>4</td>\n",
       "      <td>1</td>\n",
       "      <td>1</td>\n",
       "      <td>3378.38</td>\n",
       "      <td>2109.77</td>\n",
       "      <td>1022.74</td>\n",
       "    </tr>\n",
       "    <tr>\n",
       "      <th>503</th>\n",
       "      <td>2</td>\n",
       "      <td>central</td>\n",
       "      <td>villaverde</td>\n",
       "      <td>375000</td>\n",
       "      <td>160</td>\n",
       "      <td>3</td>\n",
       "      <td>-3</td>\n",
       "      <td>1</td>\n",
       "      <td>1</td>\n",
       "      <td>2343.75</td>\n",
       "      <td>2109.77</td>\n",
       "      <td>1022.74</td>\n",
       "    </tr>\n",
       "    <tr>\n",
       "      <th>504</th>\n",
       "      <td>2</td>\n",
       "      <td>central</td>\n",
       "      <td>villaverde</td>\n",
       "      <td>382000</td>\n",
       "      <td>119</td>\n",
       "      <td>3</td>\n",
       "      <td>5</td>\n",
       "      <td>1</td>\n",
       "      <td>1</td>\n",
       "      <td>3210.08</td>\n",
       "      <td>2109.77</td>\n",
       "      <td>1022.74</td>\n",
       "    </tr>\n",
       "    <tr>\n",
       "      <th>505</th>\n",
       "      <td>0</td>\n",
       "      <td>central</td>\n",
       "      <td>villaverde</td>\n",
       "      <td>450000</td>\n",
       "      <td>151</td>\n",
       "      <td>3</td>\n",
       "      <td>5</td>\n",
       "      <td>1</td>\n",
       "      <td>1</td>\n",
       "      <td>2980.13</td>\n",
       "      <td>2109.77</td>\n",
       "      <td>1022.74</td>\n",
       "    </tr>\n",
       "    <tr>\n",
       "      <th>506</th>\n",
       "      <td>1</td>\n",
       "      <td>central</td>\n",
       "      <td>villaverde</td>\n",
       "      <td>799000</td>\n",
       "      <td>558</td>\n",
       "      <td>8</td>\n",
       "      <td>-4</td>\n",
       "      <td>2</td>\n",
       "      <td>2</td>\n",
       "      <td>1431.90</td>\n",
       "      <td>2109.77</td>\n",
       "      <td>1022.74</td>\n",
       "    </tr>\n",
       "  </tbody>\n",
       "</table>\n",
       "<p>507 rows × 12 columns</p>\n",
       "</div>"
      ],
      "text/plain": [
       "     descripcion     zona    distrito  precio  superficie  habitaciones  \\\n",
       "0              0  central  villaverde   26100          59             2   \n",
       "1              0  central  villaverde   50600          53             3   \n",
       "2              0  central  villaverde   51700          60             3   \n",
       "3              0  central  villaverde   51700          60             3   \n",
       "4              0  central  villaverde   51700          59             3   \n",
       "..           ...      ...         ...     ...         ...           ...   \n",
       "502            2  central  villaverde  375000         111             3   \n",
       "503            2  central  villaverde  375000         160             3   \n",
       "504            2  central  villaverde  382000         119             3   \n",
       "505            0  central  villaverde  450000         151             3   \n",
       "506            1  central  villaverde  799000         558             8   \n",
       "\n",
       "     plantas  caract  ascensor    €/m2  distrito_€/m2  media_alq  \n",
       "0          3       3         0  442.37        2109.77    1022.74  \n",
       "1          2       3         3  954.72        2109.77    1022.74  \n",
       "2          3       1         0  861.67        2109.77    1022.74  \n",
       "3          3       3         0  861.67        2109.77    1022.74  \n",
       "4          4       1         0  876.27        2109.77    1022.74  \n",
       "..       ...     ...       ...     ...            ...        ...  \n",
       "502        4       1         1 3378.38        2109.77    1022.74  \n",
       "503       -3       1         1 2343.75        2109.77    1022.74  \n",
       "504        5       1         1 3210.08        2109.77    1022.74  \n",
       "505        5       1         1 2980.13        2109.77    1022.74  \n",
       "506       -4       2         2 1431.90        2109.77    1022.74  \n",
       "\n",
       "[507 rows x 12 columns]"
      ]
     },
     "execution_count": 25,
     "metadata": {},
     "output_type": "execute_result"
    }
   ],
   "source": [
    "df1"
   ]
  },
  {
   "cell_type": "code",
   "execution_count": 26,
   "id": "4b2b83ea",
   "metadata": {},
   "outputs": [
    {
     "data": {
      "text/plain": [
       "count      507.00\n",
       "mean    165198.89\n",
       "std      76517.41\n",
       "min      26100.00\n",
       "25%     109500.00\n",
       "50%     146000.00\n",
       "75%     215000.00\n",
       "max     799000.00\n",
       "Name: precio, dtype: float64"
      ]
     },
     "execution_count": 26,
     "metadata": {},
     "output_type": "execute_result"
    }
   ],
   "source": [
    "df1.precio.describe()"
   ]
  },
  {
   "cell_type": "code",
   "execution_count": 27,
   "id": "b4b2bee8",
   "metadata": {
    "scrolled": true
   },
   "outputs": [
    {
     "data": {
      "image/png": "[encoded data removed]",
      "text/plain": [
       "<Figure size 640x480 with 1 Axes>"
      ]
     },
     "metadata": {},
     "output_type": "display_data"
    }
   ],
   "source": [
    "sns.boxplot(x=df1['precio'])\n",
    "plt.show()"
   ]
  },
  {
   "cell_type": "code",
   "execution_count": 28,
   "id": "eb9a61f1",
   "metadata": {},
   "outputs": [
    {
     "data": {
      "text/plain": [
       "\"def remove_outliers(data, threshold=1.5):\\n    q1 = data.quantile(0.25)\\n    q3 = data.quantile(0.75)\\n    iqr = q3 - q1\\n    lower_bound = q1 - threshold * iqr\\n    upper_bound = q3 + threshold * iqr\\n    return data[~((data < lower_bound) | (data > upper_bound))].dropna()\\ndf1['precio'] = remove_outliers(df1['precio'])\\ndf1 = df1.dropna()\""
      ]
     },
     "execution_count": 28,
     "metadata": {},
     "output_type": "execute_result"
    }
   ],
   "source": [
    "\"\"\"def remove_outliers(data, threshold=1.5):\n",
    "    q1 = data.quantile(0.25)\n",
    "    q3 = data.quantile(0.75)\n",
    "    iqr = q3 - q1\n",
    "    lower_bound = q1 - threshold * iqr\n",
    "    upper_bound = q3 + threshold * iqr\n",
    "    return data[~((data < lower_bound) | (data > upper_bound))].dropna()\n",
    "df1['precio'] = remove_outliers(df1['precio'])\n",
    "df1 = df1.dropna()\"\"\""
   ]
  },
  {
   "cell_type": "code",
   "execution_count": 29,
   "id": "537c203f",
   "metadata": {},
   "outputs": [
    {
     "data": {
      "text/plain": [
       "(507, 12)"
      ]
     },
     "execution_count": 29,
     "metadata": {},
     "output_type": "execute_result"
    }
   ],
   "source": [
    "df1.shape"
   ]
  },
  {
   "cell_type": "code",
   "execution_count": 30,
   "id": "5ba14557",
   "metadata": {},
   "outputs": [],
   "source": [
    "df1 = df1.drop(columns=['distrito_€/m2','€/m2','zona','distrito','media_alq'])"
   ]
  },
  {
   "cell_type": "code",
   "execution_count": 31,
   "id": "732ccd98",
   "metadata": {},
   "outputs": [],
   "source": [
    "X = df1.drop('precio', axis=1)\n",
    "\n",
    "y = df1.precio"
   ]
  },
  {
   "cell_type": "code",
   "execution_count": 32,
   "id": "1554c6eb",
   "metadata": {},
   "outputs": [],
   "source": [
    "#X = X.drop(columns=['zona','distrito','media_alq'])"
   ]
  },
  {
   "cell_type": "code",
   "execution_count": 33,
   "id": "b347053b",
   "metadata": {},
   "outputs": [],
   "source": [
    "from sklearn.preprocessing import StandardScaler"
   ]
  },
  {
   "cell_type": "code",
   "execution_count": 34,
   "id": "e24fa30b",
   "metadata": {},
   "outputs": [
    {
     "data": {
      "text/plain": [
       "\"scaler = StandardScaler()\\n\\nX[['descripcion', 'superficie', 'habitaciones',\\n   'plantas', 'caract', 'ascensor']] = scaler.fit_transform(X[['descripcion', 'superficie', 'habitaciones',\\n                                                               'plantas', 'caract', 'ascensor']])\""
      ]
     },
     "execution_count": 34,
     "metadata": {},
     "output_type": "execute_result"
    }
   ],
   "source": [
    "\"\"\"scaler = StandardScaler()\n",
    "\n",
    "X[['descripcion', 'superficie', 'habitaciones',\n",
    "   'plantas', 'caract', 'ascensor']] = scaler.fit_transform(X[['descripcion', 'superficie', 'habitaciones',\n",
    "                                                               'plantas', 'caract', 'ascensor']])\"\"\""
   ]
  },
  {
   "cell_type": "code",
   "execution_count": 35,
   "id": "b9eca8c8",
   "metadata": {},
   "outputs": [
    {
     "data": {
      "text/plain": [
       "((405, 6), (102, 6), (405,), (102,))"
      ]
     },
     "execution_count": 35,
     "metadata": {},
     "output_type": "execute_result"
    }
   ],
   "source": [
    "X_train, X_test, y_train, y_test = tts(X, y,\n",
    "                                      train_size=0.8,\n",
    "                                      test_size=0.2,\n",
    "                                      random_state=42)\n",
    "\n",
    "X_train.shape, X_test.shape, y_train.shape, y_test.shape"
   ]
  },
  {
   "cell_type": "code",
   "execution_count": 36,
   "id": "dc3e62bc",
   "metadata": {
    "scrolled": true
   },
   "outputs": [
    {
     "data": {
      "text/plain": [
       "\"plt.figure(figsize=(15, 10))\\n\\nsns.set(style='white')\\n\\nmask=np.triu(np.ones_like(X.corr(method='spearman'), dtype=bool))\\n\\ncmap=sns.diverging_palette(0, 10, as_cmap=True)\\n\\n\\nsns.heatmap(X.corr(method='spearman'),\\n           mask=mask,\\n          cmap=cmap,\\n          center=0,\\n          square=True,\\n          annot=True,\\n          linewidths=0.5,\\n          cbar_kws={'shrink': 0.5});\""
      ]
     },
     "execution_count": 36,
     "metadata": {},
     "output_type": "execute_result"
    }
   ],
   "source": [
    "\"\"\"plt.figure(figsize=(15, 10))\n",
    "\n",
    "sns.set(style='white')\n",
    "\n",
    "mask=np.triu(np.ones_like(X.corr(method='spearman'), dtype=bool))\n",
    "\n",
    "cmap=sns.diverging_palette(0, 10, as_cmap=True)\n",
    "\n",
    "\n",
    "sns.heatmap(X.corr(method='spearman'),\n",
    "           mask=mask,\n",
    "          cmap=cmap,\n",
    "          center=0,\n",
    "          square=True,\n",
    "          annot=True,\n",
    "          linewidths=0.5,\n",
    "          cbar_kws={'shrink': 0.5});\"\"\""
   ]
  },
  {
   "cell_type": "code",
   "execution_count": null,
   "id": "0b641ba0",
   "metadata": {},
   "outputs": [],
   "source": []
  },
  {
   "cell_type": "code",
   "execution_count": null,
   "id": "89863e07",
   "metadata": {},
   "outputs": [],
   "source": []
  },
  {
   "cell_type": "code",
   "execution_count": 37,
   "id": "4fee5bb1",
   "metadata": {
    "scrolled": false
   },
   "outputs": [
    {
     "data": {
      "text/plain": [
       "43433.38444412808"
      ]
     },
     "execution_count": 37,
     "metadata": {},
     "output_type": "execute_result"
    }
   ],
   "source": [
    "rfr = RFR(n_estimators=500, random_state=20)\n",
    "\n",
    "rfr.fit(X_train, y_train)\n",
    "\n",
    "y_pred = rfr.predict(X_test)\n",
    "\n",
    "mse(y_test, y_pred, squared=False)"
   ]
  },
  {
   "cell_type": "code",
   "execution_count": 38,
   "id": "07673079",
   "metadata": {},
   "outputs": [
    {
     "name": "stdout",
     "output_type": "stream",
     "text": [
      "Test accuracy: 0.7018\n"
     ]
    }
   ],
   "source": [
    "print(f\"Test accuracy: {rfr.score(X_test, y_test):0.4f}\")"
   ]
  },
  {
   "cell_type": "code",
   "execution_count": 39,
   "id": "659177e0",
   "metadata": {},
   "outputs": [
    {
     "data": {
      "text/plain": [
       "26.291571042793727"
      ]
     },
     "execution_count": 39,
     "metadata": {},
     "output_type": "execute_result"
    }
   ],
   "source": [
    "mse(y_test, y_pred, squared=False)*100/df1.precio.mean()"
   ]
  },
  {
   "cell_type": "code",
   "execution_count": 40,
   "id": "5d92c0f9",
   "metadata": {},
   "outputs": [
    {
     "data": {
      "text/plain": [
       "{'descripcion': 2.168447480513122,\n",
       " 'superficie': 66.16504472612374,\n",
       " 'habitaciones': 10.69840284442896,\n",
       " 'plantas': 9.95283464383179,\n",
       " 'caract': 3.760916935214482,\n",
       " 'ascensor': 7.254353369887885}"
      ]
     },
     "execution_count": 40,
     "metadata": {},
     "output_type": "execute_result"
    }
   ],
   "source": [
    "dict(zip(X.columns, rfr.feature_importances_*100))"
   ]
  },
  {
   "cell_type": "code",
   "execution_count": null,
   "id": "516e455a",
   "metadata": {},
   "outputs": [],
   "source": []
  },
  {
   "cell_type": "code",
   "execution_count": null,
   "id": "4e70e1a6",
   "metadata": {},
   "outputs": [],
   "source": []
  },
  {
   "cell_type": "code",
   "execution_count": null,
   "id": "0c6aad4d",
   "metadata": {},
   "outputs": [],
   "source": []
  },
  {
   "cell_type": "code",
   "execution_count": 41,
   "id": "36b2023d",
   "metadata": {},
   "outputs": [
    {
     "data": {
      "text/plain": [
       "49359.35317580968"
      ]
     },
     "execution_count": 41,
     "metadata": {},
     "output_type": "execute_result"
    }
   ],
   "source": [
    "linreg=LinReg()\n",
    "\n",
    "linreg.fit(X_train, y_train)\n",
    "\n",
    "y_pred = linreg.predict(X_test)\n",
    "\n",
    "mse(y_test, y_pred, squared=False)"
   ]
  },
  {
   "cell_type": "code",
   "execution_count": 42,
   "id": "2f815c2c",
   "metadata": {},
   "outputs": [
    {
     "name": "stdout",
     "output_type": "stream",
     "text": [
      "Test accuracy: 0.6148\n"
     ]
    }
   ],
   "source": [
    "print(f\"Test accuracy: {linreg.score(X_test, y_test):0.4f}\")"
   ]
  },
  {
   "cell_type": "code",
   "execution_count": 43,
   "id": "47e6d8f5",
   "metadata": {},
   "outputs": [
    {
     "data": {
      "text/plain": [
       "29.8787432123216"
      ]
     },
     "execution_count": 43,
     "metadata": {},
     "output_type": "execute_result"
    }
   ],
   "source": [
    "mse(y_test, y_pred, squared=False)*100/df1.precio.mean()"
   ]
  },
  {
   "cell_type": "code",
   "execution_count": null,
   "id": "ad526170",
   "metadata": {},
   "outputs": [],
   "source": []
  },
  {
   "cell_type": "code",
   "execution_count": null,
   "id": "030afaf5",
   "metadata": {},
   "outputs": [],
   "source": []
  },
  {
   "cell_type": "code",
   "execution_count": 44,
   "id": "1e2ddfd3",
   "metadata": {},
   "outputs": [
    {
     "data": {
      "text/plain": [
       "49325.808875307564"
      ]
     },
     "execution_count": 44,
     "metadata": {},
     "output_type": "execute_result"
    }
   ],
   "source": [
    "xgbr=XGBR(random_state=42)\n",
    "\n",
    "xgbr.fit(X_train, y_train)\n",
    "\n",
    "y_pred = xgbr.predict(X_test)\n",
    "\n",
    "mse(y_test, y_pred, squared=False)"
   ]
  },
  {
   "cell_type": "code",
   "execution_count": 45,
   "id": "0c057b3c",
   "metadata": {},
   "outputs": [
    {
     "name": "stdout",
     "output_type": "stream",
     "text": [
      "Test accuracy: 0.6154\n"
     ]
    }
   ],
   "source": [
    "print(f\"Test accuracy: {xgbr.score(X_test, y_test):0.4f}\")"
   ]
  },
  {
   "cell_type": "code",
   "execution_count": 46,
   "id": "1e6fdcd9",
   "metadata": {},
   "outputs": [
    {
     "data": {
      "text/plain": [
       "29.85843780966833"
      ]
     },
     "execution_count": 46,
     "metadata": {},
     "output_type": "execute_result"
    }
   ],
   "source": [
    "mse(y_test, y_pred, squared=False)*100/df1.precio.mean()"
   ]
  },
  {
   "cell_type": "code",
   "execution_count": 47,
   "id": "0708af92",
   "metadata": {},
   "outputs": [
    {
     "data": {
      "text/plain": [
       "{'descripcion': 5.592051,\n",
       " 'superficie': 26.864546,\n",
       " 'habitaciones': 6.84198,\n",
       " 'plantas': 7.7920637,\n",
       " 'caract': 12.766546,\n",
       " 'ascensor': 40.142815}"
      ]
     },
     "execution_count": 47,
     "metadata": {},
     "output_type": "execute_result"
    }
   ],
   "source": [
    "dict(zip(X.columns, xgbr.feature_importances_*100))"
   ]
  },
  {
   "cell_type": "code",
   "execution_count": null,
   "id": "3e00ac81",
   "metadata": {},
   "outputs": [],
   "source": []
  },
  {
   "cell_type": "code",
   "execution_count": null,
   "id": "919403b7",
   "metadata": {},
   "outputs": [],
   "source": []
  },
  {
   "cell_type": "code",
   "execution_count": 48,
   "id": "39e55017",
   "metadata": {},
   "outputs": [
    {
     "data": {
      "text/plain": [
       "42784.91071728582"
      ]
     },
     "execution_count": 48,
     "metadata": {},
     "output_type": "execute_result"
    }
   ],
   "source": [
    "gbr=GBR(random_state=42)\n",
    "\n",
    "gbr.fit(X_train, y_train)\n",
    "\n",
    "y_pred = gbr.predict(X_test)\n",
    "\n",
    "mse(y_test, y_pred, squared=False)"
   ]
  },
  {
   "cell_type": "code",
   "execution_count": 49,
   "id": "fc9d8067",
   "metadata": {},
   "outputs": [
    {
     "name": "stdout",
     "output_type": "stream",
     "text": [
      "Test accuracy: 0.7106\n"
     ]
    }
   ],
   "source": [
    "print(f\"Test accuracy: {gbr.score(X_test, y_test):0.4f}\")"
   ]
  },
  {
   "cell_type": "code",
   "execution_count": 50,
   "id": "d7f7ab9e",
   "metadata": {},
   "outputs": [
    {
     "data": {
      "text/plain": [
       "25.89902983798408"
      ]
     },
     "execution_count": 50,
     "metadata": {},
     "output_type": "execute_result"
    }
   ],
   "source": [
    "mse(y_test, y_pred, squared=False)*100/df1.precio.mean()"
   ]
  },
  {
   "cell_type": "code",
   "execution_count": 51,
   "id": "b426a745",
   "metadata": {
    "scrolled": true
   },
   "outputs": [
    {
     "data": {
      "text/plain": [
       "{'descripcion': 1.9600101526364802,\n",
       " 'superficie': 69.18431907737198,\n",
       " 'habitaciones': 9.87888775542066,\n",
       " 'plantas': 5.943746431247234,\n",
       " 'caract': 3.8346139952667233,\n",
       " 'ascensor': 9.198422588056932}"
      ]
     },
     "execution_count": 51,
     "metadata": {},
     "output_type": "execute_result"
    }
   ],
   "source": [
    "dict(zip(X.columns, gbr.feature_importances_*100))"
   ]
  },
  {
   "cell_type": "code",
   "execution_count": 52,
   "id": "04966f8e",
   "metadata": {},
   "outputs": [
    {
     "data": {
      "text/html": [
       "<div>\n",
       "<style scoped>\n",
       "    .dataframe tbody tr th:only-of-type {\n",
       "        vertical-align: middle;\n",
       "    }\n",
       "\n",
       "    .dataframe tbody tr th {\n",
       "        vertical-align: top;\n",
       "    }\n",
       "\n",
       "    .dataframe thead th {\n",
       "        text-align: right;\n",
       "    }\n",
       "</style>\n",
       "<table border=\"1\" class=\"dataframe\">\n",
       "  <thead>\n",
       "    <tr style=\"text-align: right;\">\n",
       "      <th></th>\n",
       "      <th>descripcion</th>\n",
       "      <th>precio</th>\n",
       "      <th>superficie</th>\n",
       "      <th>habitaciones</th>\n",
       "      <th>plantas</th>\n",
       "      <th>caract</th>\n",
       "      <th>ascensor</th>\n",
       "    </tr>\n",
       "  </thead>\n",
       "  <tbody>\n",
       "    <tr>\n",
       "      <th>0</th>\n",
       "      <td>0</td>\n",
       "      <td>26100</td>\n",
       "      <td>59</td>\n",
       "      <td>2</td>\n",
       "      <td>3</td>\n",
       "      <td>3</td>\n",
       "      <td>0</td>\n",
       "    </tr>\n",
       "    <tr>\n",
       "      <th>1</th>\n",
       "      <td>0</td>\n",
       "      <td>50600</td>\n",
       "      <td>53</td>\n",
       "      <td>3</td>\n",
       "      <td>2</td>\n",
       "      <td>3</td>\n",
       "      <td>3</td>\n",
       "    </tr>\n",
       "    <tr>\n",
       "      <th>2</th>\n",
       "      <td>0</td>\n",
       "      <td>51700</td>\n",
       "      <td>60</td>\n",
       "      <td>3</td>\n",
       "      <td>3</td>\n",
       "      <td>1</td>\n",
       "      <td>0</td>\n",
       "    </tr>\n",
       "    <tr>\n",
       "      <th>3</th>\n",
       "      <td>0</td>\n",
       "      <td>51700</td>\n",
       "      <td>60</td>\n",
       "      <td>3</td>\n",
       "      <td>3</td>\n",
       "      <td>3</td>\n",
       "      <td>0</td>\n",
       "    </tr>\n",
       "    <tr>\n",
       "      <th>4</th>\n",
       "      <td>0</td>\n",
       "      <td>51700</td>\n",
       "      <td>59</td>\n",
       "      <td>3</td>\n",
       "      <td>4</td>\n",
       "      <td>1</td>\n",
       "      <td>0</td>\n",
       "    </tr>\n",
       "    <tr>\n",
       "      <th>...</th>\n",
       "      <td>...</td>\n",
       "      <td>...</td>\n",
       "      <td>...</td>\n",
       "      <td>...</td>\n",
       "      <td>...</td>\n",
       "      <td>...</td>\n",
       "      <td>...</td>\n",
       "    </tr>\n",
       "    <tr>\n",
       "      <th>502</th>\n",
       "      <td>2</td>\n",
       "      <td>375000</td>\n",
       "      <td>111</td>\n",
       "      <td>3</td>\n",
       "      <td>4</td>\n",
       "      <td>1</td>\n",
       "      <td>1</td>\n",
       "    </tr>\n",
       "    <tr>\n",
       "      <th>503</th>\n",
       "      <td>2</td>\n",
       "      <td>375000</td>\n",
       "      <td>160</td>\n",
       "      <td>3</td>\n",
       "      <td>-3</td>\n",
       "      <td>1</td>\n",
       "      <td>1</td>\n",
       "    </tr>\n",
       "    <tr>\n",
       "      <th>504</th>\n",
       "      <td>2</td>\n",
       "      <td>382000</td>\n",
       "      <td>119</td>\n",
       "      <td>3</td>\n",
       "      <td>5</td>\n",
       "      <td>1</td>\n",
       "      <td>1</td>\n",
       "    </tr>\n",
       "    <tr>\n",
       "      <th>505</th>\n",
       "      <td>0</td>\n",
       "      <td>450000</td>\n",
       "      <td>151</td>\n",
       "      <td>3</td>\n",
       "      <td>5</td>\n",
       "      <td>1</td>\n",
       "      <td>1</td>\n",
       "    </tr>\n",
       "    <tr>\n",
       "      <th>506</th>\n",
       "      <td>1</td>\n",
       "      <td>799000</td>\n",
       "      <td>558</td>\n",
       "      <td>8</td>\n",
       "      <td>-4</td>\n",
       "      <td>2</td>\n",
       "      <td>2</td>\n",
       "    </tr>\n",
       "  </tbody>\n",
       "</table>\n",
       "<p>507 rows × 7 columns</p>\n",
       "</div>"
      ],
      "text/plain": [
       "     descripcion  precio  superficie  habitaciones  plantas  caract  ascensor\n",
       "0              0   26100          59             2        3       3         0\n",
       "1              0   50600          53             3        2       3         3\n",
       "2              0   51700          60             3        3       1         0\n",
       "3              0   51700          60             3        3       3         0\n",
       "4              0   51700          59             3        4       1         0\n",
       "..           ...     ...         ...           ...      ...     ...       ...\n",
       "502            2  375000         111             3        4       1         1\n",
       "503            2  375000         160             3       -3       1         1\n",
       "504            2  382000         119             3        5       1         1\n",
       "505            0  450000         151             3        5       1         1\n",
       "506            1  799000         558             8       -4       2         2\n",
       "\n",
       "[507 rows x 7 columns]"
      ]
     },
     "execution_count": 52,
     "metadata": {},
     "output_type": "execute_result"
    }
   ],
   "source": [
    "df1"
   ]
  },
  {
   "cell_type": "code",
   "execution_count": 53,
   "id": "3a835e3d",
   "metadata": {},
   "outputs": [],
   "source": [
    "X1 = df1.drop(columns='precio')\n",
    "y1 = df1.precio"
   ]
  },
  {
   "cell_type": "code",
   "execution_count": 54,
   "id": "ff5693db",
   "metadata": {},
   "outputs": [
    {
     "data": {
      "text/plain": [
       "11647.044929993643"
      ]
     },
     "execution_count": 54,
     "metadata": {},
     "output_type": "execute_result"
    }
   ],
   "source": [
    "xgbr=XGBR(random_state=42)\n",
    "xgbr.fit(X1, y1)\n",
    "y1_pred = xgbr.predict(X1)\n",
    "mse(y1_pred, y1, squared=False)"
   ]
  },
  {
   "cell_type": "code",
   "execution_count": 55,
   "id": "48a2ccab",
   "metadata": {
    "collapsed": true
   },
   "outputs": [
    {
     "data": {
      "text/plain": [
       "{'descripcion': 7.7857957,\n",
       " 'superficie': 30.365145,\n",
       " 'habitaciones': 7.7122083,\n",
       " 'plantas': 9.203278,\n",
       " 'caract': 13.920453,\n",
       " 'ascensor': 31.013128}"
      ]
     },
     "execution_count": 55,
     "metadata": {},
     "output_type": "execute_result"
    }
   ],
   "source": [
    "dict(zip(X.columns, xgbr.feature_importances_*100))"
   ]
  },
  {
   "cell_type": "code",
   "execution_count": 62,
   "id": "fef75e8b",
   "metadata": {},
   "outputs": [
    {
     "data": {
      "text/plain": [
       "165198.89349112427"
      ]
     },
     "execution_count": 62,
     "metadata": {},
     "output_type": "execute_result"
    }
   ],
   "source": [
    "df1.precio.mean()"
   ]
  },
  {
   "cell_type": "code",
   "execution_count": 56,
   "id": "9c575233",
   "metadata": {},
   "outputs": [
    {
     "name": "stdout",
     "output_type": "stream",
     "text": [
      "Test accuracy: 0.9768\n"
     ]
    }
   ],
   "source": [
    "print(f\"Test accuracy: {xgbr.score(X1, y1):0.4f}\")"
   ]
  },
  {
   "cell_type": "code",
   "execution_count": 57,
   "id": "d93b0035",
   "metadata": {},
   "outputs": [
    {
     "data": {
      "text/plain": [
       "7.050316551072667"
      ]
     },
     "execution_count": 57,
     "metadata": {},
     "output_type": "execute_result"
    }
   ],
   "source": [
    "mse(y1_pred, y1, squared=False)*100/df1.precio.mean()"
   ]
  },
  {
   "cell_type": "code",
   "execution_count": 63,
   "id": "4409530e",
   "metadata": {},
   "outputs": [
    {
     "data": {
      "text/plain": [
       "19000.052148176743"
      ]
     },
     "execution_count": 63,
     "metadata": {},
     "output_type": "execute_result"
    }
   ],
   "source": [
    "rfr=RFR(random_state=42)\n",
    "rfr.fit(X1, y1)\n",
    "y1_pred = rfr.predict(X1)\n",
    "mse(y1_pred, y1, squared=False)"
   ]
  },
  {
   "cell_type": "code",
   "execution_count": 59,
   "id": "c88e5621",
   "metadata": {},
   "outputs": [
    {
     "data": {
      "text/plain": [
       "{'descripcion': 2.1991180317918047,\n",
       " 'superficie': 67.12052822315127,\n",
       " 'habitaciones': 9.872640576381805,\n",
       " 'plantas': 9.985670931543886,\n",
       " 'caract': 4.064899330278626,\n",
       " 'ascensor': 6.757142906852612}"
      ]
     },
     "execution_count": 59,
     "metadata": {},
     "output_type": "execute_result"
    }
   ],
   "source": [
    "dict(zip(X.columns, rfr.feature_importances_*100))"
   ]
  },
  {
   "cell_type": "code",
   "execution_count": 60,
   "id": "fed951d5",
   "metadata": {},
   "outputs": [
    {
     "name": "stdout",
     "output_type": "stream",
     "text": [
      "Test accuracy: 0.9371\n"
     ]
    }
   ],
   "source": [
    "print(f\"Test accuracy: {rfr.score(X1, y1):0.4f}\")"
   ]
  },
  {
   "cell_type": "code",
   "execution_count": 61,
   "id": "b5fae3bf",
   "metadata": {},
   "outputs": [
    {
     "data": {
      "text/plain": [
       "11.604889279937208"
      ]
     },
     "execution_count": 61,
     "metadata": {},
     "output_type": "execute_result"
    }
   ],
   "source": [
    "mse(y1_pred, y1, squared=False)*100/df1.precio.mean()"
   ]
  }
 ],
 "metadata": {
  "kernelspec": {
   "display_name": "Python 3 (ipykernel)",
   "language": "python",
   "name": "python3"
  },
  "language_info": {
   "codemirror_mode": {
    "name": "ipython",
    "version": 3
   },
   "file_extension": ".py",
   "mimetype": "text/x-python",
   "name": "python",
   "nbconvert_exporter": "python",
   "pygments_lexer": "ipython3",
   "version": "3.11.5"
  }
 },
 "nbformat": 4,
 "nbformat_minor": 5
}
