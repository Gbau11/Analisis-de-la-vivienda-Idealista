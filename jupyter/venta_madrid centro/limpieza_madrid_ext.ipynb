{
 "cells": [
  {
   "cell_type": "code",
   "execution_count": 1,
   "id": "b03f9104",
   "metadata": {},
   "outputs": [],
   "source": [
    "import pandas as pd\n",
    "import numpy as np\n",
    "pd.set_option('display.max_columns', None)\n",
    "#pd.set_option('display.max_rows', 150)"
   ]
  },
  {
   "cell_type": "code",
   "execution_count": 2,
   "id": "4e07c013",
   "metadata": {},
   "outputs": [],
   "source": [
    "corredorhenares_0_240k = pd.read_csv('../../data_madrid_ext/corredorhenares_0_240k.csv')\n",
    "corredorhenares_240k_max = pd.read_csv('../../data_madrid_ext/corredorhenares_240k_max.csv')\n",
    "noroeste_400k_800k = pd.read_csv('../../data_madrid_ext/noroeste_400k_800k.csv')\n",
    "noroeste_800k_max = pd.read_csv('../../data_madrid_ext/noroeste_800k_max.csv')\n",
    "noroeste_min_400k = pd.read_csv('../../data_madrid_ext/noroeste_min_400k.csv')\n",
    "norte_397k_max = pd.read_csv('../../data_madrid_ext/norte_397k_max.csv')\n",
    "suroeste_total = pd.read_csv('../../data_madrid_ext/suroeste_total.csv')\n",
    "norte_min_397k = pd.read_csv('../../data_madrid_ext/norte_min_397k.csv')\n",
    "sur_0_220k = pd.read_csv('../../data_madrid_ext/sur_0_220k.csv')\n",
    "sur_220k_max = pd.read_csv('../../data_madrid_ext/sur_220k_max.csv')\n",
    "sureste_total = pd.read_csv('../../data_madrid_ext/sureste_total.csv')"
   ]
  },
  {
   "cell_type": "code",
   "execution_count": 3,
   "id": "ab48dfc4",
   "metadata": {},
   "outputs": [],
   "source": [
    "prueba_sureste_total = pd.read_csv('../../data_madrid_ext/prueba_sureste_total.csv')"
   ]
  },
  {
   "cell_type": "code",
   "execution_count": 8,
   "id": "6302f2a3",
   "metadata": {},
   "outputs": [
    {
     "data": {
      "text/plain": [
       "((1270, 6), (1099, 6), (1707, 6), (1398, 6))"
      ]
     },
     "execution_count": 8,
     "metadata": {},
     "output_type": "execute_result"
    }
   ],
   "source": [
    "corredorhenares_0_240k.shape, corredorhenares_240k_max.shape, noroeste_400k_800k.shape, noroeste_800k_max.shape"
   ]
  },
  {
   "cell_type": "code",
   "execution_count": null,
   "id": "415f909b",
   "metadata": {},
   "outputs": [],
   "source": [
    "corredorhenares_0_240k.columns, corredorhenares_240k_max.columns, noroeste_400k_800k.columns, noroeste_800k_max.columns"
   ]
  },
  {
   "cell_type": "code",
   "execution_count": 7,
   "id": "38fccbd5",
   "metadata": {},
   "outputs": [
    {
     "data": {
      "text/plain": [
       "((1720, 6), (1825, 6), (1203, 6), (1835, 5))"
      ]
     },
     "execution_count": 7,
     "metadata": {},
     "output_type": "execute_result"
    }
   ],
   "source": [
    "noroeste_min_400k.shape, norte_397k_max.shape, suroeste_total.shape, norte_min_397k.shape"
   ]
  },
  {
   "cell_type": "code",
   "execution_count": null,
   "id": "25815493",
   "metadata": {},
   "outputs": [],
   "source": [
    "noroeste_min_400k.columns, norte_397k_max.columns, suroeste_total.columns, norte_min_397k.columns"
   ]
  },
  {
   "cell_type": "code",
   "execution_count": 6,
   "id": "d896bda1",
   "metadata": {},
   "outputs": [
    {
     "data": {
      "text/plain": [
       "((2194, 6), (2044, 6), (1777, 5))"
      ]
     },
     "execution_count": 6,
     "metadata": {},
     "output_type": "execute_result"
    }
   ],
   "source": [
    "sur_0_220k.shape, sur_220k_max.shape, sureste_total.shape"
   ]
  },
  {
   "cell_type": "code",
   "execution_count": null,
   "id": "72a4dc69",
   "metadata": {},
   "outputs": [],
   "source": [
    "sur_0_220k.columns, sur_220k_max.columns, sureste_total.columns"
   ]
  },
  {
   "cell_type": "code",
   "execution_count": 4,
   "id": "fa1fb0de",
   "metadata": {},
   "outputs": [],
   "source": [
    "columnas_interesantes = ['item-link', 'item-link href', 'item-price', 'item-detail', 'item-detail 2', 'item-detail 3']\n",
    "columnas_interesantes2 = ['item-link', 'item-link href', 'item-price', 'item-detail', 'item-detail 2']"
   ]
  },
  {
   "cell_type": "code",
   "execution_count": 5,
   "id": "d7e6a8dd",
   "metadata": {},
   "outputs": [],
   "source": [
    "corredorhenares_0_240k = corredorhenares_0_240k.loc[:, columnas_interesantes]\n",
    "corredorhenares_240k_max = corredorhenares_240k_max.loc[:, columnas_interesantes]\n",
    "noroeste_400k_800k = noroeste_400k_800k.loc[:, columnas_interesantes]\n",
    "noroeste_800k_max = noroeste_800k_max.loc[:, columnas_interesantes]\n",
    "noroeste_min_400k = noroeste_min_400k.loc[:, columnas_interesantes]\n",
    "norte_397k_max = norte_397k_max.loc[:, columnas_interesantes]\n",
    "suroeste_total = suroeste_total.loc[:, columnas_interesantes]\n",
    "norte_min_397k = norte_min_397k.loc[:, columnas_interesantes2]\n",
    "sur_0_220k = sur_0_220k.loc[:, columnas_interesantes]\n",
    "sur_220k_max = sur_220k_max.loc[:, columnas_interesantes]\n",
    "sureste_total = sureste_total.loc[:, columnas_interesantes2]"
   ]
  },
  {
   "cell_type": "code",
   "execution_count": 9,
   "id": "f25bda22",
   "metadata": {},
   "outputs": [],
   "source": [
    "norte_min_397k['item-detail 3'] = None\n",
    "sureste_total['item-detail 3'] = None"
   ]
  },
  {
   "cell_type": "code",
   "execution_count": 10,
   "id": "a0a0a9e4",
   "metadata": {},
   "outputs": [],
   "source": [
    "corredorhenares_0_240k['zona'] = 'corredorhenares'\n",
    "corredorhenares_240k_max['zona'] = 'corredorhenares'\n",
    "noroeste_400k_800k['zona'] = 'noroeste'\n",
    "noroeste_800k_max['zona'] = 'noroeste'\n",
    "noroeste_min_400k['zona'] = 'noroeste'\n",
    "norte_397k_max['zona'] = 'norte'\n",
    "suroeste_total['zona'] = 'suroeste'\n",
    "norte_min_397k['zona'] = 'norte'\n",
    "sur_0_220k['zona'] = 'sur'\n",
    "sur_220k_max['zona'] = 'sur'\n",
    "sureste_total['zona'] = 'sureste'"
   ]
  },
  {
   "cell_type": "code",
   "execution_count": 13,
   "id": "d63dd689",
   "metadata": {},
   "outputs": [],
   "source": [
    "lst_madrid_ext = [corredorhenares_0_240k,corredorhenares_240k_max,noroeste_400k_800k,noroeste_800k_max,noroeste_min_400k,norte_397k_max,suroeste_total,norte_min_397k,sur_0_220k,sur_220k_max,sureste_total]"
   ]
  },
  {
   "cell_type": "code",
   "execution_count": 14,
   "id": "55b7cf16",
   "metadata": {
    "scrolled": true
   },
   "outputs": [
    {
     "data": {
      "text/html": [
       "<div>\n",
       "<style scoped>\n",
       "    .dataframe tbody tr th:only-of-type {\n",
       "        vertical-align: middle;\n",
       "    }\n",
       "\n",
       "    .dataframe tbody tr th {\n",
       "        vertical-align: top;\n",
       "    }\n",
       "\n",
       "    .dataframe thead th {\n",
       "        text-align: right;\n",
       "    }\n",
       "</style>\n",
       "<table border=\"1\" class=\"dataframe\">\n",
       "  <thead>\n",
       "    <tr style=\"text-align: right;\">\n",
       "      <th></th>\n",
       "      <th>item-link</th>\n",
       "      <th>item-link href</th>\n",
       "      <th>item-price</th>\n",
       "      <th>item-detail</th>\n",
       "      <th>item-detail 2</th>\n",
       "      <th>item-detail 3</th>\n",
       "      <th>zona</th>\n",
       "    </tr>\n",
       "  </thead>\n",
       "  <tbody>\n",
       "    <tr>\n",
       "      <th>0</th>\n",
       "      <td>Casa de pueblo en calle de las Golondrinas, 2,...</td>\n",
       "      <td>https://www.idealista.com/inmueble/93823398/</td>\n",
       "      <td>24.0</td>\n",
       "      <td>1 hab.</td>\n",
       "      <td>45 m²</td>\n",
       "      <td>NaN</td>\n",
       "      <td>corredorhenares</td>\n",
       "    </tr>\n",
       "    <tr>\n",
       "      <th>1</th>\n",
       "      <td>Chalet adosado en calle Gran Via, Los Santos d...</td>\n",
       "      <td>https://www.idealista.com/inmueble/103882635/</td>\n",
       "      <td>29.9</td>\n",
       "      <td>2 hab.</td>\n",
       "      <td>72 m²</td>\n",
       "      <td>NaN</td>\n",
       "      <td>corredorhenares</td>\n",
       "    </tr>\n",
       "    <tr>\n",
       "      <th>2</th>\n",
       "      <td>Casa o chalet independiente en calle de Sergio...</td>\n",
       "      <td>https://www.idealista.com/inmueble/104195456/</td>\n",
       "      <td>47.7</td>\n",
       "      <td>3 hab.</td>\n",
       "      <td>92 m²</td>\n",
       "      <td>NaN</td>\n",
       "      <td>corredorhenares</td>\n",
       "    </tr>\n",
       "    <tr>\n",
       "      <th>3</th>\n",
       "      <td>Chalet adosado en calle de Sergio Caballero, P...</td>\n",
       "      <td>https://www.idealista.com/inmueble/96562054/</td>\n",
       "      <td>47.7</td>\n",
       "      <td>3 hab.</td>\n",
       "      <td>92 m²</td>\n",
       "      <td>NaN</td>\n",
       "      <td>corredorhenares</td>\n",
       "    </tr>\n",
       "    <tr>\n",
       "      <th>4</th>\n",
       "      <td>Casa o chalet independiente en calle Barrio Ol...</td>\n",
       "      <td>https://www.idealista.com/inmueble/102907597/</td>\n",
       "      <td>49.0</td>\n",
       "      <td>3 hab.</td>\n",
       "      <td>134 m²</td>\n",
       "      <td>NaN</td>\n",
       "      <td>corredorhenares</td>\n",
       "    </tr>\n",
       "    <tr>\n",
       "      <th>...</th>\n",
       "      <td>...</td>\n",
       "      <td>...</td>\n",
       "      <td>...</td>\n",
       "      <td>...</td>\n",
       "      <td>...</td>\n",
       "      <td>...</td>\n",
       "      <td>...</td>\n",
       "    </tr>\n",
       "    <tr>\n",
       "      <th>1772</th>\n",
       "      <td>Casa o chalet independiente en Chinchón</td>\n",
       "      <td>https://www.idealista.com/inmueble/99405606/</td>\n",
       "      <td>1.400.000</td>\n",
       "      <td>12 hab.</td>\n",
       "      <td>805 m²</td>\n",
       "      <td>None</td>\n",
       "      <td>sureste</td>\n",
       "    </tr>\n",
       "    <tr>\n",
       "      <th>1773</th>\n",
       "      <td>Finca rústica en Chinchón</td>\n",
       "      <td>https://www.idealista.com/inmueble/98066612/</td>\n",
       "      <td>1.400.000</td>\n",
       "      <td>10 hab.</td>\n",
       "      <td>950 m²</td>\n",
       "      <td>None</td>\n",
       "      <td>sureste</td>\n",
       "    </tr>\n",
       "    <tr>\n",
       "      <th>1774</th>\n",
       "      <td>Casa o chalet independiente en Centro, Aranjuez</td>\n",
       "      <td>https://www.idealista.com/inmueble/104098500/</td>\n",
       "      <td>1.500.000</td>\n",
       "      <td>5 hab.</td>\n",
       "      <td>500 m²</td>\n",
       "      <td>None</td>\n",
       "      <td>sureste</td>\n",
       "    </tr>\n",
       "    <tr>\n",
       "      <th>1775</th>\n",
       "      <td>Finca rústica en El Mirador - Grillero, Arganda</td>\n",
       "      <td>https://www.idealista.com/inmueble/103242472/</td>\n",
       "      <td>2.000.000</td>\n",
       "      <td>1 hab.</td>\n",
       "      <td>3.000 m²</td>\n",
       "      <td>None</td>\n",
       "      <td>sureste</td>\n",
       "    </tr>\n",
       "    <tr>\n",
       "      <th>1776</th>\n",
       "      <td>Casa o chalet independiente en Diseminado de l...</td>\n",
       "      <td>https://www.idealista.com/inmueble/103014794/</td>\n",
       "      <td>2.100.000</td>\n",
       "      <td>7 hab.</td>\n",
       "      <td>600 m²</td>\n",
       "      <td>None</td>\n",
       "      <td>sureste</td>\n",
       "    </tr>\n",
       "  </tbody>\n",
       "</table>\n",
       "<p>18072 rows × 7 columns</p>\n",
       "</div>"
      ],
      "text/plain": [
       "                                              item-link  \\\n",
       "0     Casa de pueblo en calle de las Golondrinas, 2,...   \n",
       "1     Chalet adosado en calle Gran Via, Los Santos d...   \n",
       "2     Casa o chalet independiente en calle de Sergio...   \n",
       "3     Chalet adosado en calle de Sergio Caballero, P...   \n",
       "4     Casa o chalet independiente en calle Barrio Ol...   \n",
       "...                                                 ...   \n",
       "1772            Casa o chalet independiente en Chinchón   \n",
       "1773                          Finca rústica en Chinchón   \n",
       "1774    Casa o chalet independiente en Centro, Aranjuez   \n",
       "1775    Finca rústica en El Mirador - Grillero, Arganda   \n",
       "1776  Casa o chalet independiente en Diseminado de l...   \n",
       "\n",
       "                                     item-link href item-price item-detail  \\\n",
       "0      https://www.idealista.com/inmueble/93823398/       24.0      1 hab.   \n",
       "1     https://www.idealista.com/inmueble/103882635/       29.9      2 hab.   \n",
       "2     https://www.idealista.com/inmueble/104195456/       47.7      3 hab.   \n",
       "3      https://www.idealista.com/inmueble/96562054/       47.7      3 hab.   \n",
       "4     https://www.idealista.com/inmueble/102907597/       49.0      3 hab.   \n",
       "...                                             ...        ...         ...   \n",
       "1772   https://www.idealista.com/inmueble/99405606/  1.400.000     12 hab.   \n",
       "1773   https://www.idealista.com/inmueble/98066612/  1.400.000     10 hab.   \n",
       "1774  https://www.idealista.com/inmueble/104098500/  1.500.000      5 hab.   \n",
       "1775  https://www.idealista.com/inmueble/103242472/  2.000.000      1 hab.   \n",
       "1776  https://www.idealista.com/inmueble/103014794/  2.100.000      7 hab.   \n",
       "\n",
       "     item-detail 2 item-detail 3             zona  \n",
       "0            45 m²           NaN  corredorhenares  \n",
       "1            72 m²           NaN  corredorhenares  \n",
       "2            92 m²           NaN  corredorhenares  \n",
       "3            92 m²           NaN  corredorhenares  \n",
       "4           134 m²           NaN  corredorhenares  \n",
       "...            ...           ...              ...  \n",
       "1772        805 m²          None          sureste  \n",
       "1773        950 m²          None          sureste  \n",
       "1774        500 m²          None          sureste  \n",
       "1775      3.000 m²          None          sureste  \n",
       "1776        600 m²          None          sureste  \n",
       "\n",
       "[18072 rows x 7 columns]"
      ]
     },
     "execution_count": 14,
     "metadata": {},
     "output_type": "execute_result"
    }
   ],
   "source": [
    "chamartin = pd.concat(lst_madrid_ext)\n",
    "\n",
    "chamartin"
   ]
  },
  {
   "cell_type": "code",
   "execution_count": 15,
   "id": "a573e551",
   "metadata": {
    "scrolled": true
   },
   "outputs": [
    {
     "data": {
      "text/plain": [
       "item-link             2\n",
       "item-link href        2\n",
       "item-price            2\n",
       "item-detail           2\n",
       "item-detail 2        39\n",
       "item-detail 3     10194\n",
       "zona                  0\n",
       "dtype: int64"
      ]
     },
     "execution_count": 15,
     "metadata": {},
     "output_type": "execute_result"
    }
   ],
   "source": [
    "chamartin.isna().sum()"
   ]
  },
  {
   "cell_type": "code",
   "execution_count": 18,
   "id": "a91b0ea1",
   "metadata": {},
   "outputs": [
    {
     "name": "stdout",
     "output_type": "stream",
     "text": [
      "Número de filas duplicadas: 31\n"
     ]
    }
   ],
   "source": [
    "num_filas_duplicadas = chamartin.duplicated().sum()\n",
    "\n",
    "print(\"Número de filas duplicadas:\", num_filas_duplicadas)"
   ]
  },
  {
   "cell_type": "code",
   "execution_count": null,
   "id": "e6964e31",
   "metadata": {},
   "outputs": [],
   "source": [
    "chamartin = chamartin.drop_duplicates()"
   ]
  },
  {
   "cell_type": "code",
   "execution_count": null,
   "id": "5a4eff1b",
   "metadata": {},
   "outputs": [],
   "source": [
    "chamartin.isna().sum()"
   ]
  },
  {
   "cell_type": "code",
   "execution_count": null,
   "id": "76946b1f",
   "metadata": {},
   "outputs": [],
   "source": [
    "chamartin.reset_index(drop=True, inplace=True)"
   ]
  },
  {
   "cell_type": "code",
   "execution_count": null,
   "id": "aba3257c",
   "metadata": {},
   "outputs": [],
   "source": [
    "chamartin = chamartin.dropna(subset=['item-link', 'item-link href', 'item-price', 'item-detail', 'item-detail 2'])\n",
    "chamartin"
   ]
  },
  {
   "cell_type": "code",
   "execution_count": null,
   "id": "33d1026a",
   "metadata": {
    "scrolled": true
   },
   "outputs": [],
   "source": [
    "mask = ~chamartin['item-detail 2'].str.contains('m²', na=False)\n",
    "\n",
    "chamartin['nueva_columna'] = chamartin.loc[mask, 'item-detail 2']\n",
    "\n",
    "chamartin.loc[mask, 'item-detail 2'] = None"
   ]
  },
  {
   "cell_type": "code",
   "execution_count": null,
   "id": "51ad732c",
   "metadata": {},
   "outputs": [],
   "source": [
    "mask = ~chamartin['item-detail'].str.contains('hab', na=False)\n",
    "\n",
    "chamartin['nueva_columna2'] = chamartin.loc[mask, 'item-detail']\n",
    "\n",
    "chamartin.loc[mask, 'item-detail'] = None"
   ]
  },
  {
   "cell_type": "code",
   "execution_count": null,
   "id": "819caf5f",
   "metadata": {},
   "outputs": [],
   "source": [
    "chamartin['superficie'] = chamartin['item-detail 2'].combine_first(chamartin['nueva_columna2'])\n",
    "\n",
    "chamartin.drop(columns=['item-detail 2', 'nueva_columna2'], inplace=True)"
   ]
  },
  {
   "cell_type": "code",
   "execution_count": null,
   "id": "fdb8fff3",
   "metadata": {
    "scrolled": true
   },
   "outputs": [],
   "source": [
    "chamartin"
   ]
  },
  {
   "cell_type": "code",
   "execution_count": null,
   "id": "5d6ff8d5",
   "metadata": {},
   "outputs": [],
   "source": [
    "chamartin['detalles'] = chamartin['item-detail 3'].combine_first(chamartin['nueva_columna'])\n",
    "\n",
    "chamartin.drop(columns=['item-detail 3', 'nueva_columna'], inplace=True)"
   ]
  },
  {
   "cell_type": "code",
   "execution_count": null,
   "id": "11cb2221",
   "metadata": {},
   "outputs": [],
   "source": [
    "chamartin['superficie'] = chamartin['superficie'].str.replace('m²', '')\n",
    "\n",
    "chamartin['superficie'] = chamartin['superficie'].str.replace('.', '')\n",
    "\n",
    "chamartin['superficie'] = pd.to_numeric(chamartin['superficie'])"
   ]
  },
  {
   "cell_type": "code",
   "execution_count": null,
   "id": "6e2f4f89",
   "metadata": {},
   "outputs": [],
   "source": [
    "chamartin['item-detail'] = chamartin['item-detail'].str.replace('hab.', '')\n",
    "\n",
    "chamartin['item-detail'] = pd.to_numeric(chamartin['item-detail'])"
   ]
  },
  {
   "cell_type": "code",
   "execution_count": null,
   "id": "d59e4ee8",
   "metadata": {},
   "outputs": [],
   "source": [
    "chamartin['item-detail'] = chamartin['item-detail'].fillna(\n",
    "    pd.cut(chamartin['superficie'], bins=[0, 40, float('inf')], labels=['1', '2'], right=False)\n",
    ")"
   ]
  },
  {
   "cell_type": "code",
   "execution_count": null,
   "id": "3d3da491",
   "metadata": {},
   "outputs": [],
   "source": [
    "chamartin.rename(columns={\n",
    "    'item-link': 'descripcion',\n",
    "    'item-link href': 'link',\n",
    "    'item-price': 'precio',\n",
    "    'item-detail': 'habitaciones',\n",
    "}, inplace=True)"
   ]
  },
  {
   "cell_type": "code",
   "execution_count": null,
   "id": "ac066562",
   "metadata": {},
   "outputs": [],
   "source": [
    "chamartin.isna().sum()"
   ]
  },
  {
   "cell_type": "code",
   "execution_count": null,
   "id": "33fbfd4b",
   "metadata": {},
   "outputs": [],
   "source": [
    "chamartin['detalles'].fillna('chalet', inplace=True)"
   ]
  },
  {
   "cell_type": "code",
   "execution_count": null,
   "id": "1ef29a2b",
   "metadata": {},
   "outputs": [],
   "source": [
    "chamartin['precio'].unique()"
   ]
  },
  {
   "cell_type": "code",
   "execution_count": null,
   "id": "b28e0157",
   "metadata": {},
   "outputs": [],
   "source": [
    "chamartin['precio'] = chamartin['precio'].astype(str).str.replace('.', '')"
   ]
  },
  {
   "cell_type": "code",
   "execution_count": null,
   "id": "6d97bf59",
   "metadata": {},
   "outputs": [],
   "source": [
    "chamartin.isna().sum()"
   ]
  },
  {
   "cell_type": "code",
   "execution_count": null,
   "id": "5c4e52e0",
   "metadata": {},
   "outputs": [],
   "source": [
    "chamartin['precio'] = chamartin['precio'].astype(int)\n",
    "\n",
    "chamartin['habitaciones'] = chamartin['habitaciones'].astype(int)"
   ]
  },
  {
   "cell_type": "code",
   "execution_count": null,
   "id": "bf6acb79",
   "metadata": {},
   "outputs": [],
   "source": [
    "sin_ascensor = chamartin['detalles'].str.contains('sin ascensor', case=False, regex=True)\n",
    "\n",
    "con_ascensor = chamartin['detalles'].str.contains('con ascensor', case=False, regex=True)\n",
    "\n",
    "chalet = chamartin['detalles'].str.contains('chalet', case=False, regex=True)\n",
    "\n",
    "chamartin['ascensor'] = ''\n",
    "\n",
    "chamartin.loc[sin_ascensor, 'ascensor'] = 0\n",
    "\n",
    "chamartin.loc[con_ascensor, 'ascensor'] = 1\n",
    "\n",
    "chamartin.loc[chalet, 'ascensor'] = 2"
   ]
  },
  {
   "cell_type": "code",
   "execution_count": null,
   "id": "15d8a39d",
   "metadata": {},
   "outputs": [],
   "source": [
    "condi = ~chamartin['ascensor'].astype(str).isin(['0', '1', '2'])\n",
    "\n",
    "chamartin.loc[condi, 'ascensor'] = 3\n",
    "\n",
    "chamartin['ascensor'] = chamartin['ascensor'].astype(int)"
   ]
  },
  {
   "cell_type": "code",
   "execution_count": null,
   "id": "35e20128",
   "metadata": {
    "scrolled": true
   },
   "outputs": [],
   "source": [
    "interior = chamartin['detalles'].str.contains('interior', case=False, regex=True)\n",
    "\n",
    "exterior = chamartin['detalles'].str.contains('exterior', case=False, regex=True)\n",
    "\n",
    "chalet = chamartin['detalles'].str.contains('chalet', case=False, regex=True)\n",
    "\n",
    "chamartin['caract'] = ''\n",
    "\n",
    "chamartin.loc[interior, 'caract'] = 0\n",
    "\n",
    "chamartin.loc[exterior, 'caract'] = 1\n",
    "\n",
    "chamartin.loc[chalet, 'caract'] = 2"
   ]
  },
  {
   "cell_type": "code",
   "execution_count": null,
   "id": "19f7e8cf",
   "metadata": {},
   "outputs": [],
   "source": [
    "condi = ~chamartin['caract'].astype(str).isin(['0', '1', '2'])\n",
    "\n",
    "chamartin.loc[condi, 'caract'] = 3\n",
    "\n",
    "chamartin['caract'] = chamartin['caract'].astype(int)"
   ]
  },
  {
   "cell_type": "code",
   "execution_count": null,
   "id": "2fa8aaf0",
   "metadata": {},
   "outputs": [],
   "source": [
    "chamartin['detalles'] = chamartin['detalles'].str.lower()"
   ]
  },
  {
   "cell_type": "code",
   "execution_count": null,
   "id": "ecc84e2c",
   "metadata": {},
   "outputs": [],
   "source": [
    "condiciones = {\n",
    "    'chalet': -4, 'sótano': -2, 'entreplanta': -1, 'bajo': 0, '10': 10,\n",
    "    '11': 11, '12': 12, '13': 13, '14': 14, '15': 15, '16': 16, '17': 17,\n",
    "    '18': 18, '19': 19, '20': 20, '21': 21, '22': 22, '23': 23, '24': 24, \n",
    "    '25': 25, '26': 26, '27': 27, '28': 28, '29': 29, '30': 30\n",
    "}\n",
    "\n",
    "chamartin['planta'] = None\n",
    "\n",
    "for condicion, valor in condiciones.items():\n",
    "\n",
    "    mask = chamartin['detalles'].str.contains(condicion, case=False, na=False)\n",
    "\n",
    "    chamartin.loc[mask, 'planta'] = valor"
   ]
  },
  {
   "cell_type": "code",
   "execution_count": null,
   "id": "c3845fae",
   "metadata": {},
   "outputs": [],
   "source": [
    "words_to_remove = ['sótano', 'entreplanta', 'bajo', '10ª', '11ª', '12ª', '13ª', '14ª', '15ª', '16ª', '17ª',\n",
    "                   '18ª', '19ª', '20ª', '21ª', '22ª', '23ª', '24ª', '25ª', '26ª', '27ª', '28ª', '29ª', '30ª' \n",
    "                  ]\n",
    "\n",
    "# Crear la expresión regular para buscar las palabras en la lista\n",
    "pattern = '|'.join(r'\\b{}\\b'.format(word) for word in words_to_remove)\n",
    "\n",
    "# Aplicar el reemplazo en la columna 'col1'\n",
    "chamartin['detalles'] = chamartin['detalles'].str.replace(pattern, '', regex=True)"
   ]
  },
  {
   "cell_type": "code",
   "execution_count": null,
   "id": "0fd17dfe",
   "metadata": {},
   "outputs": [],
   "source": [
    "condicion2 = {'1': 1, '2': 2, '3': 3, '4': 4,\n",
    "    '5': 5, '6': 6, '7': 7, '8': 8, '9': 9,\n",
    "}\n",
    "\n",
    "chamartin['planta2'] = None\n",
    "\n",
    "for condicion, valor in condicion2.items():\n",
    "\n",
    "    mask2 = chamartin['detalles'].str.contains(condicion, case=False, na=False)\n",
    "\n",
    "    chamartin.loc[mask2, 'planta2'] = valor"
   ]
  },
  {
   "cell_type": "code",
   "execution_count": null,
   "id": "d58512d6",
   "metadata": {},
   "outputs": [],
   "source": [
    "condi = ~chamartin['caract'].astype(str).isin(['0', '1', '2'])\n",
    "\n",
    "chamartin.loc[condi, 'caract'] = 3\n",
    "\n",
    "chamartin['caract'] = chamartin['caract'].astype(int)"
   ]
  },
  {
   "cell_type": "code",
   "execution_count": null,
   "id": "131c53a2",
   "metadata": {},
   "outputs": [],
   "source": [
    "chamartin['plantas'] = chamartin['planta'].combine_first(chamartin['planta2'])\n",
    "\n",
    "chamartin.drop(columns=['planta', 'planta2'], inplace=True)"
   ]
  },
  {
   "cell_type": "code",
   "execution_count": null,
   "id": "d5f5d589",
   "metadata": {},
   "outputs": [],
   "source": [
    "chamartin['plantas'].fillna(-3, inplace=True)"
   ]
  },
  {
   "cell_type": "code",
   "execution_count": null,
   "id": "1e9344bb",
   "metadata": {},
   "outputs": [],
   "source": [
    "chamartin.drop(columns='detalles',inplace=True)"
   ]
  },
  {
   "cell_type": "code",
   "execution_count": null,
   "id": "f6684667",
   "metadata": {},
   "outputs": [],
   "source": [
    "chamartin['descripcion'] = chamartin['descripcion'].str.lower()"
   ]
  },
  {
   "cell_type": "code",
   "execution_count": null,
   "id": "91a958c1",
   "metadata": {},
   "outputs": [],
   "source": [
    "chamartin"
   ]
  },
  {
   "cell_type": "code",
   "execution_count": null,
   "id": "05934ee0",
   "metadata": {},
   "outputs": [],
   "source": [
    "mappings = {'piso': 0, 'chalet': 1, 'ático': 2, 'dúplex': 3, 'estudio': 4}\n",
    "\n",
    "chamartin['descripcion'] = chamartin['descripcion'].replace(mappings, regex=True)"
   ]
  },
  {
   "cell_type": "code",
   "execution_count": null,
   "id": "4160bc8a",
   "metadata": {},
   "outputs": [],
   "source": [
    "chamartin[chamartin['descripcion']==1]"
   ]
  },
  {
   "cell_type": "code",
   "execution_count": null,
   "id": "8db11cb9",
   "metadata": {
    "scrolled": true
   },
   "outputs": [],
   "source": [
    "chamartin[chamartin['ascensor']==2]"
   ]
  },
  {
   "cell_type": "code",
   "execution_count": null,
   "id": "9f2b7357",
   "metadata": {
    "scrolled": true
   },
   "outputs": [],
   "source": [
    "chamartin.plantas.value_counts()"
   ]
  },
  {
   "cell_type": "code",
   "execution_count": null,
   "id": "922a75ce",
   "metadata": {},
   "outputs": [],
   "source": [
    "chamartin.descripcion.value_counts()"
   ]
  },
  {
   "cell_type": "code",
   "execution_count": null,
   "id": "06eeee60",
   "metadata": {},
   "outputs": [],
   "source": [
    "chamartin.ascensor.value_counts()"
   ]
  },
  {
   "cell_type": "code",
   "execution_count": null,
   "id": "72253647",
   "metadata": {},
   "outputs": [],
   "source": [
    "chamartin.caract.value_counts()"
   ]
  },
  {
   "cell_type": "code",
   "execution_count": null,
   "id": "14a4beb7",
   "metadata": {
    "scrolled": true
   },
   "outputs": [],
   "source": [
    "prueba = chamartin[(chamartin['plantas']==-4) & (chamartin['descripcion']==0)]\n",
    "\n",
    "prueba"
   ]
  },
  {
   "cell_type": "code",
   "execution_count": null,
   "id": "e73dffe7",
   "metadata": {},
   "outputs": [],
   "source": [
    "indices = [38, 49, 1585, 2808, 4039, 4089, 4113, 4117, 4214, 4227, 4413, 7292, 8031, 8259, 12491, 13856, 13907, 13917, 17027, 17047]\n",
    "\n",
    "chamartin.loc[indices, 'ascensor'] = 3"
   ]
  },
  {
   "cell_type": "code",
   "execution_count": null,
   "id": "8fe7db2f",
   "metadata": {},
   "outputs": [],
   "source": [
    "indices = [38, 49, 1585, 2808, 4039, 4089, 4113, 4117, 4214, 4227, 4413, 7292, 8031, 8259, 12491, 13856, 13907, 13917, 17027, 17047]\n",
    "\n",
    "chamartin.loc[indices, 'plantas'] = -3"
   ]
  },
  {
   "cell_type": "code",
   "execution_count": null,
   "id": "b93a2494",
   "metadata": {},
   "outputs": [],
   "source": [
    "madrid_centro = chamartin.drop(columns='link')"
   ]
  },
  {
   "cell_type": "code",
   "execution_count": null,
   "id": "5bd266b5",
   "metadata": {},
   "outputs": [],
   "source": [
    "nuevo_orden_columnas = ['descripcion', 'zona', 'precio','superficie','habitaciones','plantas','caract','ascensor']\n",
    "\n",
    "madrid_centro = madrid_centro[nuevo_orden_columnas]\n",
    "\n",
    "madrid_centro"
   ]
  },
  {
   "cell_type": "code",
   "execution_count": null,
   "id": "a83ebf53",
   "metadata": {},
   "outputs": [],
   "source": [
    "madrid_centro.to_csv('madrid_centro_compra_03.2024.csv')"
   ]
  }
 ],
 "metadata": {
  "kernelspec": {
   "display_name": "Python 3 (ipykernel)",
   "language": "python",
   "name": "python3"
  },
  "language_info": {
   "codemirror_mode": {
    "name": "ipython",
    "version": 3
   },
   "file_extension": ".py",
   "mimetype": "text/x-python",
   "name": "python",
   "nbconvert_exporter": "python",
   "pygments_lexer": "ipython3",
   "version": "3.11.5"
  }
 },
 "nbformat": 4,
 "nbformat_minor": 5
}
