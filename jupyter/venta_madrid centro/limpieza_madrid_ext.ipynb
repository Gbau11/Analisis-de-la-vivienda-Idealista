{
 "cells": [
  {
   "cell_type": "code",
   "execution_count": 1,
   "id": "b03f9104",
   "metadata": {},
   "outputs": [],
   "source": [
    "import pandas as pd\n",
    "import numpy as np\n",
    "pd.set_option('display.max_columns', None)\n",
    "pd.set_option('display.max_rows', 200)"
   ]
  },
  {
   "cell_type": "code",
   "execution_count": 2,
   "id": "4e07c013",
   "metadata": {},
   "outputs": [],
   "source": [
    "corredorhenares_0_240k = pd.read_csv('../../data_madrid_ext/corredorhenares_0_240k.csv')\n",
    "corredorhenares_240k_max = pd.read_csv('../../data_madrid_ext/corredorhenares_240k_max.csv')\n",
    "noroeste_400k_800k = pd.read_csv('../../data_madrid_ext/noroeste_400k_800k.csv')\n",
    "noroeste_800k_max = pd.read_csv('../../data_madrid_ext/noroeste_800k_max.csv')\n",
    "noroeste_min_400k = pd.read_csv('../../data_madrid_ext/noroeste_min_400k.csv')\n",
    "norte_397k_max = pd.read_csv('../../data_madrid_ext/norte_397k_max.csv')\n",
    "suroeste_total = pd.read_csv('../../data_madrid_ext/suroeste_total.csv')\n",
    "norte_min_397k = pd.read_csv('../../data_madrid_ext/norte_min_397k.csv')\n",
    "sur_0_220k = pd.read_csv('../../data_madrid_ext/sur_0_220k.csv')\n",
    "sur_220k_max = pd.read_csv('../../data_madrid_ext/sur_220k_max.csv')\n",
    "sureste_total = pd.read_csv('../../data_madrid_ext/sureste_total.csv')"
   ]
  },
  {
   "cell_type": "code",
   "execution_count": 3,
   "id": "1dc66660",
   "metadata": {},
   "outputs": [],
   "source": [
    "prueba_sureste_total = pd.read_csv('../../data_madrid_ext/prueba_sureste_total.csv')"
   ]
  },
  {
   "cell_type": "code",
   "execution_count": 4,
   "id": "9754d9c1",
   "metadata": {},
   "outputs": [
    {
     "data": {
      "text/plain": [
       "((1270, 13), (1099, 17), (1707, 15), (1398, 19))"
      ]
     },
     "execution_count": 4,
     "metadata": {},
     "output_type": "execute_result"
    }
   ],
   "source": [
    "corredorhenares_0_240k.shape, corredorhenares_240k_max.shape, noroeste_400k_800k.shape, noroeste_800k_max.shape"
   ]
  },
  {
   "cell_type": "code",
   "execution_count": 5,
   "id": "415f909b",
   "metadata": {},
   "outputs": [
    {
     "data": {
      "text/plain": [
       "(Index(['item-multimedia-pictures', 'item-multimedia-pictures 2', 'item-link',\n",
       "        'item-link href', 'item-price', 'item-detail', 'item-detail 2',\n",
       "        'ellipsis', 'hidden-contact-phones_text',\n",
       "        'hidden-contact-phones_text 2', 'icon-chat', 'gallery-fallback src',\n",
       "        'item-detail 3'],\n",
       "       dtype='object'),\n",
       " Index(['item-multimedia-pictures', 'item-multimedia-pictures 2',\n",
       "        'logo-branding href', 'logo-branding src', 'item-link',\n",
       "        'item-link href', 'item-price', 'item-parking', 'item-detail',\n",
       "        'item-detail 2', 'item-detail 3', 'ellipsis',\n",
       "        'hidden-contact-phones_text', 'hidden-contact-phones_text 2',\n",
       "        'icon-chat', 'gallery-fallback src', 'item-ribbon'],\n",
       "       dtype='object'),\n",
       " Index(['item-multimedia-pictures', 'item-multimedia-pictures 2', 'item-link',\n",
       "        'item-link href', 'item-price', 'item-parking', 'item-detail',\n",
       "        'item-detail 2', 'item-detail 3', 'ellipsis',\n",
       "        'hidden-contact-phones_text', 'hidden-contact-phones_text 2',\n",
       "        'icon-chat', 'item-ribbon', 'gallery-fallback src'],\n",
       "       dtype='object'),\n",
       " Index(['item-multimedia-pictures', 'item-multimedia-pictures 2', 'item-link',\n",
       "        'item-link href', 'item-price', 'item-parking', 'item-detail',\n",
       "        'item-detail 2', 'ellipsis', 'hidden-contact-phones_text',\n",
       "        'hidden-contact-phones_text 2', 'icon-chat', 'item-detail 3',\n",
       "        'pricedown_price', 'pricedown_icon', 'gallery-fallback src',\n",
       "        'listing-tags', 'logo-branding href', 'logo-branding src'],\n",
       "       dtype='object'))"
      ]
     },
     "execution_count": 5,
     "metadata": {},
     "output_type": "execute_result"
    }
   ],
   "source": [
    "corredorhenares_0_240k.columns, corredorhenares_240k_max.columns, noroeste_400k_800k.columns, noroeste_800k_max.columns"
   ]
  },
  {
   "cell_type": "code",
   "execution_count": 6,
   "id": "d88ea8b5",
   "metadata": {},
   "outputs": [
    {
     "data": {
      "text/plain": [
       "((1720, 15), (1825, 16), (1203, 18), (1835, 12))"
      ]
     },
     "execution_count": 6,
     "metadata": {},
     "output_type": "execute_result"
    }
   ],
   "source": [
    "noroeste_min_400k.shape, norte_397k_max.shape, suroeste_total.shape, norte_min_397k.shape"
   ]
  },
  {
   "cell_type": "code",
   "execution_count": 7,
   "id": "25815493",
   "metadata": {},
   "outputs": [
    {
     "data": {
      "text/plain": [
       "(Index(['item-multimedia-pictures', 'item-multimedia-pictures 2', 'item-link',\n",
       "        'item-link href', 'item-price', 'item-detail', 'item-detail 2',\n",
       "        'item-detail 3', 'ellipsis', 'hidden-contact-phones_text',\n",
       "        'hidden-contact-phones_text 2', 'icon-chat', 'gallery-fallback src',\n",
       "        'logo-branding href', 'logo-branding src'],\n",
       "       dtype='object'),\n",
       " Index(['item-multimedia-pictures', 'item-multimedia-pictures 2',\n",
       "        'logo-branding href', 'logo-branding src', 'item-link',\n",
       "        'item-link href', 'item-price', 'item-parking', 'item-detail',\n",
       "        'item-detail 2', 'ellipsis', 'hidden-contact-phones_text',\n",
       "        'hidden-contact-phones_text 2', 'icon-chat', 'item-detail 3',\n",
       "        'gallery-fallback src'],\n",
       "       dtype='object'),\n",
       " Index(['item-multimedia-pictures', 'item-multimedia-pictures 2', 'item-link',\n",
       "        'item-link href', 'item-price', 'txt-big', 'item-detail',\n",
       "        'item-detail 2', 'item-detail 3', 'ellipsis',\n",
       "        'hidden-contact-phones_text', 'hidden-contact-phones_text 2',\n",
       "        'icon-chat', 'favorite-btn', 'trash-btn', 'gallery-fallback src',\n",
       "        'logo-branding href', 'logo-branding src'],\n",
       "       dtype='object'),\n",
       " Index(['item-multimedia-pictures', 'item-multimedia-pictures 2', 'item-link',\n",
       "        'item-link href', 'item-price', 'item-detail', 'item-detail 2',\n",
       "        'ellipsis', 'hidden-contact-phones_text',\n",
       "        'hidden-contact-phones_text 2', 'icon-chat', 'gallery-fallback src'],\n",
       "       dtype='object'))"
      ]
     },
     "execution_count": 7,
     "metadata": {},
     "output_type": "execute_result"
    }
   ],
   "source": [
    "noroeste_min_400k.columns, norte_397k_max.columns, suroeste_total.columns, norte_min_397k.columns"
   ]
  },
  {
   "cell_type": "code",
   "execution_count": 8,
   "id": "7424ae7a",
   "metadata": {},
   "outputs": [
    {
     "data": {
      "text/plain": [
       "((2194, 15), (2044, 16), (1777, 14))"
      ]
     },
     "execution_count": 8,
     "metadata": {},
     "output_type": "execute_result"
    }
   ],
   "source": [
    "sur_0_220k.shape, sur_220k_max.shape, sureste_total.shape"
   ]
  },
  {
   "cell_type": "code",
   "execution_count": 9,
   "id": "72a4dc69",
   "metadata": {},
   "outputs": [
    {
     "data": {
      "text/plain": [
       "(Index(['item-multimedia-pictures', 'item-multimedia-pictures 2', 'item-link',\n",
       "        'item-link href', 'item-price', 'item-detail', 'item-detail 2',\n",
       "        'item-detail 3', 'ellipsis', 'hidden-contact-phones_text',\n",
       "        'hidden-contact-phones_text 2', 'icon-chat', 'logo-branding href',\n",
       "        'logo-branding src', 'gallery-fallback src'],\n",
       "       dtype='object'),\n",
       " Index(['item-multimedia-pictures', 'item-multimedia-pictures 2',\n",
       "        'logo-branding href', 'logo-branding src', 'item-link',\n",
       "        'item-link href', 'item-price', 'item-detail', 'item-detail 2',\n",
       "        'item-detail 3', 'ellipsis', 'hidden-contact-phones_text',\n",
       "        'hidden-contact-phones_text 2', 'icon-chat', 'item-parking',\n",
       "        'gallery-fallback src'],\n",
       "       dtype='object'),\n",
       " Index(['item-multimedia-pictures', 'item-multimedia-pictures 2', 'item-link',\n",
       "        'item-link href', 'item-price', 'item-detail', 'item-detail 2',\n",
       "        'ellipsis', 'hidden-contact-phones_text',\n",
       "        'hidden-contact-phones_text 2', 'icon-chat', 'logo-branding href',\n",
       "        'logo-branding src', 'gallery-fallback src'],\n",
       "       dtype='object'))"
      ]
     },
     "execution_count": 9,
     "metadata": {},
     "output_type": "execute_result"
    }
   ],
   "source": [
    "sur_0_220k.columns, sur_220k_max.columns, sureste_total.columns"
   ]
  },
  {
   "cell_type": "code",
   "execution_count": 10,
   "id": "e11ce4bb",
   "metadata": {},
   "outputs": [],
   "source": [
    "columnas_interesantes = ['item-link', 'item-link href', 'item-price', 'item-detail', 'item-detail 2', 'item-detail 3']\n",
    "columnas_interesantes2 = ['item-link', 'item-link href', 'item-price', 'item-detail', 'item-detail 2']"
   ]
  },
  {
   "cell_type": "code",
   "execution_count": 11,
   "id": "4b9ba66d",
   "metadata": {},
   "outputs": [],
   "source": [
    "corredorhenares_0_240k = corredorhenares_0_240k.loc[:, columnas_interesantes]\n",
    "corredorhenares_240k_max = corredorhenares_240k_max.loc[:, columnas_interesantes]\n",
    "noroeste_400k_800k = noroeste_400k_800k.loc[:, columnas_interesantes]\n",
    "noroeste_800k_max = noroeste_800k_max.loc[:, columnas_interesantes]\n",
    "noroeste_min_400k = noroeste_min_400k.loc[:, columnas_interesantes]\n",
    "norte_397k_max = norte_397k_max.loc[:, columnas_interesantes]\n",
    "suroeste_total = suroeste_total.loc[:, columnas_interesantes]\n",
    "norte_min_397k = norte_min_397k.loc[:, columnas_interesantes2]\n",
    "sur_0_220k = sur_0_220k.loc[:, columnas_interesantes]\n",
    "sur_220k_max = sur_220k_max.loc[:, columnas_interesantes]\n",
    "sureste_total = sureste_total.loc[:, columnas_interesantes2]"
   ]
  },
  {
   "cell_type": "code",
   "execution_count": 12,
   "id": "c5bab0bf",
   "metadata": {},
   "outputs": [],
   "source": [
    "norte_min_397k['item-detail 3'] = None\n",
    "sureste_total['item-detail 3'] = None"
   ]
  },
  {
   "cell_type": "code",
   "execution_count": 13,
   "id": "a0a0a9e4",
   "metadata": {},
   "outputs": [],
   "source": [
    "corredorhenares_0_240k['zona'] = 'corredorhenares'\n",
    "corredorhenares_240k_max['zona'] = 'corredorhenares'\n",
    "noroeste_400k_800k['zona'] = 'noroeste'\n",
    "noroeste_800k_max['zona'] = 'noroeste'\n",
    "noroeste_min_400k['zona'] = 'noroeste'\n",
    "norte_397k_max['zona'] = 'norte'\n",
    "suroeste_total['zona'] = 'suroeste'\n",
    "norte_min_397k['zona'] = 'norte'\n",
    "sur_0_220k['zona'] = 'sur'\n",
    "sur_220k_max['zona'] = 'sur'\n",
    "sureste_total['zona'] = 'sureste'"
   ]
  },
  {
   "cell_type": "code",
   "execution_count": 14,
   "id": "d63dd689",
   "metadata": {},
   "outputs": [],
   "source": [
    "lst_madrid_ext = [corredorhenares_0_240k,corredorhenares_240k_max,noroeste_400k_800k,noroeste_800k_max,noroeste_min_400k,norte_397k_max,suroeste_total,norte_min_397k,sur_0_220k,sur_220k_max,sureste_total]"
   ]
  },
  {
   "cell_type": "code",
   "execution_count": 15,
   "id": "55b7cf16",
   "metadata": {
    "scrolled": true
   },
   "outputs": [
    {
     "data": {
      "text/html": [
       "<div>\n",
       "<style scoped>\n",
       "    .dataframe tbody tr th:only-of-type {\n",
       "        vertical-align: middle;\n",
       "    }\n",
       "\n",
       "    .dataframe tbody tr th {\n",
       "        vertical-align: top;\n",
       "    }\n",
       "\n",
       "    .dataframe thead th {\n",
       "        text-align: right;\n",
       "    }\n",
       "</style>\n",
       "<table border=\"1\" class=\"dataframe\">\n",
       "  <thead>\n",
       "    <tr style=\"text-align: right;\">\n",
       "      <th></th>\n",
       "      <th>item-link</th>\n",
       "      <th>item-link href</th>\n",
       "      <th>item-price</th>\n",
       "      <th>item-detail</th>\n",
       "      <th>item-detail 2</th>\n",
       "      <th>item-detail 3</th>\n",
       "      <th>zona</th>\n",
       "    </tr>\n",
       "  </thead>\n",
       "  <tbody>\n",
       "    <tr>\n",
       "      <th>0</th>\n",
       "      <td>Casa de pueblo en calle de las Golondrinas, 2,...</td>\n",
       "      <td>https://www.idealista.com/inmueble/93823398/</td>\n",
       "      <td>24.0</td>\n",
       "      <td>1 hab.</td>\n",
       "      <td>45 m²</td>\n",
       "      <td>NaN</td>\n",
       "      <td>corredorhenares</td>\n",
       "    </tr>\n",
       "    <tr>\n",
       "      <th>1</th>\n",
       "      <td>Chalet adosado en calle Gran Via, Los Santos d...</td>\n",
       "      <td>https://www.idealista.com/inmueble/103882635/</td>\n",
       "      <td>29.9</td>\n",
       "      <td>2 hab.</td>\n",
       "      <td>72 m²</td>\n",
       "      <td>NaN</td>\n",
       "      <td>corredorhenares</td>\n",
       "    </tr>\n",
       "    <tr>\n",
       "      <th>2</th>\n",
       "      <td>Casa o chalet independiente en calle de Sergio...</td>\n",
       "      <td>https://www.idealista.com/inmueble/104195456/</td>\n",
       "      <td>47.7</td>\n",
       "      <td>3 hab.</td>\n",
       "      <td>92 m²</td>\n",
       "      <td>NaN</td>\n",
       "      <td>corredorhenares</td>\n",
       "    </tr>\n",
       "    <tr>\n",
       "      <th>3</th>\n",
       "      <td>Chalet adosado en calle de Sergio Caballero, P...</td>\n",
       "      <td>https://www.idealista.com/inmueble/96562054/</td>\n",
       "      <td>47.7</td>\n",
       "      <td>3 hab.</td>\n",
       "      <td>92 m²</td>\n",
       "      <td>NaN</td>\n",
       "      <td>corredorhenares</td>\n",
       "    </tr>\n",
       "    <tr>\n",
       "      <th>4</th>\n",
       "      <td>Casa o chalet independiente en calle Barrio Ol...</td>\n",
       "      <td>https://www.idealista.com/inmueble/102907597/</td>\n",
       "      <td>49.0</td>\n",
       "      <td>3 hab.</td>\n",
       "      <td>134 m²</td>\n",
       "      <td>NaN</td>\n",
       "      <td>corredorhenares</td>\n",
       "    </tr>\n",
       "    <tr>\n",
       "      <th>...</th>\n",
       "      <td>...</td>\n",
       "      <td>...</td>\n",
       "      <td>...</td>\n",
       "      <td>...</td>\n",
       "      <td>...</td>\n",
       "      <td>...</td>\n",
       "      <td>...</td>\n",
       "    </tr>\n",
       "    <tr>\n",
       "      <th>1772</th>\n",
       "      <td>Casa o chalet independiente en Chinchón</td>\n",
       "      <td>https://www.idealista.com/inmueble/99405606/</td>\n",
       "      <td>1.400.000</td>\n",
       "      <td>12 hab.</td>\n",
       "      <td>805 m²</td>\n",
       "      <td>None</td>\n",
       "      <td>sureste</td>\n",
       "    </tr>\n",
       "    <tr>\n",
       "      <th>1773</th>\n",
       "      <td>Finca rústica en Chinchón</td>\n",
       "      <td>https://www.idealista.com/inmueble/98066612/</td>\n",
       "      <td>1.400.000</td>\n",
       "      <td>10 hab.</td>\n",
       "      <td>950 m²</td>\n",
       "      <td>None</td>\n",
       "      <td>sureste</td>\n",
       "    </tr>\n",
       "    <tr>\n",
       "      <th>1774</th>\n",
       "      <td>Casa o chalet independiente en Centro, Aranjuez</td>\n",
       "      <td>https://www.idealista.com/inmueble/104098500/</td>\n",
       "      <td>1.500.000</td>\n",
       "      <td>5 hab.</td>\n",
       "      <td>500 m²</td>\n",
       "      <td>None</td>\n",
       "      <td>sureste</td>\n",
       "    </tr>\n",
       "    <tr>\n",
       "      <th>1775</th>\n",
       "      <td>Finca rústica en El Mirador - Grillero, Arganda</td>\n",
       "      <td>https://www.idealista.com/inmueble/103242472/</td>\n",
       "      <td>2.000.000</td>\n",
       "      <td>1 hab.</td>\n",
       "      <td>3.000 m²</td>\n",
       "      <td>None</td>\n",
       "      <td>sureste</td>\n",
       "    </tr>\n",
       "    <tr>\n",
       "      <th>1776</th>\n",
       "      <td>Casa o chalet independiente en Diseminado de l...</td>\n",
       "      <td>https://www.idealista.com/inmueble/103014794/</td>\n",
       "      <td>2.100.000</td>\n",
       "      <td>7 hab.</td>\n",
       "      <td>600 m²</td>\n",
       "      <td>None</td>\n",
       "      <td>sureste</td>\n",
       "    </tr>\n",
       "  </tbody>\n",
       "</table>\n",
       "<p>18072 rows × 7 columns</p>\n",
       "</div>"
      ],
      "text/plain": [
       "                                              item-link  \\\n",
       "0     Casa de pueblo en calle de las Golondrinas, 2,...   \n",
       "1     Chalet adosado en calle Gran Via, Los Santos d...   \n",
       "2     Casa o chalet independiente en calle de Sergio...   \n",
       "3     Chalet adosado en calle de Sergio Caballero, P...   \n",
       "4     Casa o chalet independiente en calle Barrio Ol...   \n",
       "...                                                 ...   \n",
       "1772            Casa o chalet independiente en Chinchón   \n",
       "1773                          Finca rústica en Chinchón   \n",
       "1774    Casa o chalet independiente en Centro, Aranjuez   \n",
       "1775    Finca rústica en El Mirador - Grillero, Arganda   \n",
       "1776  Casa o chalet independiente en Diseminado de l...   \n",
       "\n",
       "                                     item-link href item-price item-detail  \\\n",
       "0      https://www.idealista.com/inmueble/93823398/       24.0      1 hab.   \n",
       "1     https://www.idealista.com/inmueble/103882635/       29.9      2 hab.   \n",
       "2     https://www.idealista.com/inmueble/104195456/       47.7      3 hab.   \n",
       "3      https://www.idealista.com/inmueble/96562054/       47.7      3 hab.   \n",
       "4     https://www.idealista.com/inmueble/102907597/       49.0      3 hab.   \n",
       "...                                             ...        ...         ...   \n",
       "1772   https://www.idealista.com/inmueble/99405606/  1.400.000     12 hab.   \n",
       "1773   https://www.idealista.com/inmueble/98066612/  1.400.000     10 hab.   \n",
       "1774  https://www.idealista.com/inmueble/104098500/  1.500.000      5 hab.   \n",
       "1775  https://www.idealista.com/inmueble/103242472/  2.000.000      1 hab.   \n",
       "1776  https://www.idealista.com/inmueble/103014794/  2.100.000      7 hab.   \n",
       "\n",
       "     item-detail 2 item-detail 3             zona  \n",
       "0            45 m²           NaN  corredorhenares  \n",
       "1            72 m²           NaN  corredorhenares  \n",
       "2            92 m²           NaN  corredorhenares  \n",
       "3            92 m²           NaN  corredorhenares  \n",
       "4           134 m²           NaN  corredorhenares  \n",
       "...            ...           ...              ...  \n",
       "1772        805 m²          None          sureste  \n",
       "1773        950 m²          None          sureste  \n",
       "1774        500 m²          None          sureste  \n",
       "1775      3.000 m²          None          sureste  \n",
       "1776        600 m²          None          sureste  \n",
       "\n",
       "[18072 rows x 7 columns]"
      ]
     },
     "execution_count": 15,
     "metadata": {},
     "output_type": "execute_result"
    }
   ],
   "source": [
    "chamartin = pd.concat(lst_madrid_ext)\n",
    "\n",
    "chamartin"
   ]
  },
  {
   "cell_type": "code",
   "execution_count": 16,
   "id": "a573e551",
   "metadata": {
    "scrolled": true
   },
   "outputs": [
    {
     "data": {
      "text/plain": [
       "item-link             2\n",
       "item-link href        2\n",
       "item-price            2\n",
       "item-detail           2\n",
       "item-detail 2        39\n",
       "item-detail 3     10194\n",
       "zona                  0\n",
       "dtype: int64"
      ]
     },
     "execution_count": 16,
     "metadata": {},
     "output_type": "execute_result"
    }
   ],
   "source": [
    "chamartin.isna().sum()"
   ]
  },
  {
   "cell_type": "code",
   "execution_count": 17,
   "id": "60e90065",
   "metadata": {},
   "outputs": [
    {
     "name": "stdout",
     "output_type": "stream",
     "text": [
      "Número de filas duplicadas: 31\n"
     ]
    }
   ],
   "source": [
    "num_filas_duplicadas = chamartin.duplicated().sum()\n",
    "\n",
    "print(\"Número de filas duplicadas:\", num_filas_duplicadas)"
   ]
  },
  {
   "cell_type": "code",
   "execution_count": 18,
   "id": "e6964e31",
   "metadata": {},
   "outputs": [],
   "source": [
    "chamartin = chamartin.drop_duplicates()"
   ]
  },
  {
   "cell_type": "code",
   "execution_count": 19,
   "id": "5a4eff1b",
   "metadata": {},
   "outputs": [
    {
     "data": {
      "text/plain": [
       "item-link             1\n",
       "item-link href        1\n",
       "item-price            1\n",
       "item-detail           1\n",
       "item-detail 2        38\n",
       "item-detail 3     10179\n",
       "zona                  0\n",
       "dtype: int64"
      ]
     },
     "execution_count": 19,
     "metadata": {},
     "output_type": "execute_result"
    }
   ],
   "source": [
    "chamartin.isna().sum()"
   ]
  },
  {
   "cell_type": "code",
   "execution_count": 20,
   "id": "76946b1f",
   "metadata": {},
   "outputs": [],
   "source": [
    "chamartin.reset_index(drop=True, inplace=True)"
   ]
  },
  {
   "cell_type": "code",
   "execution_count": 21,
   "id": "aba3257c",
   "metadata": {
    "scrolled": true
   },
   "outputs": [],
   "source": [
    "chamartin = chamartin.dropna(subset=['item-link', 'item-link href', 'item-price', 'item-detail', 'item-detail 2'])"
   ]
  },
  {
   "cell_type": "code",
   "execution_count": 22,
   "id": "58a31659",
   "metadata": {},
   "outputs": [
    {
     "data": {
      "text/html": [
       "<div>\n",
       "<style scoped>\n",
       "    .dataframe tbody tr th:only-of-type {\n",
       "        vertical-align: middle;\n",
       "    }\n",
       "\n",
       "    .dataframe tbody tr th {\n",
       "        vertical-align: top;\n",
       "    }\n",
       "\n",
       "    .dataframe thead th {\n",
       "        text-align: right;\n",
       "    }\n",
       "</style>\n",
       "<table border=\"1\" class=\"dataframe\">\n",
       "  <thead>\n",
       "    <tr style=\"text-align: right;\">\n",
       "      <th></th>\n",
       "      <th>item-link</th>\n",
       "      <th>item-link href</th>\n",
       "      <th>item-price</th>\n",
       "      <th>item-detail</th>\n",
       "      <th>item-detail 2</th>\n",
       "      <th>item-detail 3</th>\n",
       "      <th>zona</th>\n",
       "    </tr>\n",
       "  </thead>\n",
       "  <tbody>\n",
       "    <tr>\n",
       "      <th>0</th>\n",
       "      <td>Casa de pueblo en calle de las Golondrinas, 2,...</td>\n",
       "      <td>https://www.idealista.com/inmueble/93823398/</td>\n",
       "      <td>24.0</td>\n",
       "      <td>1 hab.</td>\n",
       "      <td>45 m²</td>\n",
       "      <td>NaN</td>\n",
       "      <td>corredorhenares</td>\n",
       "    </tr>\n",
       "    <tr>\n",
       "      <th>1</th>\n",
       "      <td>Chalet adosado en calle Gran Via, Los Santos d...</td>\n",
       "      <td>https://www.idealista.com/inmueble/103882635/</td>\n",
       "      <td>29.9</td>\n",
       "      <td>2 hab.</td>\n",
       "      <td>72 m²</td>\n",
       "      <td>NaN</td>\n",
       "      <td>corredorhenares</td>\n",
       "    </tr>\n",
       "    <tr>\n",
       "      <th>2</th>\n",
       "      <td>Casa o chalet independiente en calle de Sergio...</td>\n",
       "      <td>https://www.idealista.com/inmueble/104195456/</td>\n",
       "      <td>47.7</td>\n",
       "      <td>3 hab.</td>\n",
       "      <td>92 m²</td>\n",
       "      <td>NaN</td>\n",
       "      <td>corredorhenares</td>\n",
       "    </tr>\n",
       "    <tr>\n",
       "      <th>3</th>\n",
       "      <td>Chalet adosado en calle de Sergio Caballero, P...</td>\n",
       "      <td>https://www.idealista.com/inmueble/96562054/</td>\n",
       "      <td>47.7</td>\n",
       "      <td>3 hab.</td>\n",
       "      <td>92 m²</td>\n",
       "      <td>NaN</td>\n",
       "      <td>corredorhenares</td>\n",
       "    </tr>\n",
       "    <tr>\n",
       "      <th>4</th>\n",
       "      <td>Casa o chalet independiente en calle Barrio Ol...</td>\n",
       "      <td>https://www.idealista.com/inmueble/102907597/</td>\n",
       "      <td>49.0</td>\n",
       "      <td>3 hab.</td>\n",
       "      <td>134 m²</td>\n",
       "      <td>NaN</td>\n",
       "      <td>corredorhenares</td>\n",
       "    </tr>\n",
       "    <tr>\n",
       "      <th>...</th>\n",
       "      <td>...</td>\n",
       "      <td>...</td>\n",
       "      <td>...</td>\n",
       "      <td>...</td>\n",
       "      <td>...</td>\n",
       "      <td>...</td>\n",
       "      <td>...</td>\n",
       "    </tr>\n",
       "    <tr>\n",
       "      <th>18036</th>\n",
       "      <td>Casa o chalet independiente en Chinchón</td>\n",
       "      <td>https://www.idealista.com/inmueble/99405606/</td>\n",
       "      <td>1.400.000</td>\n",
       "      <td>12 hab.</td>\n",
       "      <td>805 m²</td>\n",
       "      <td>None</td>\n",
       "      <td>sureste</td>\n",
       "    </tr>\n",
       "    <tr>\n",
       "      <th>18037</th>\n",
       "      <td>Finca rústica en Chinchón</td>\n",
       "      <td>https://www.idealista.com/inmueble/98066612/</td>\n",
       "      <td>1.400.000</td>\n",
       "      <td>10 hab.</td>\n",
       "      <td>950 m²</td>\n",
       "      <td>None</td>\n",
       "      <td>sureste</td>\n",
       "    </tr>\n",
       "    <tr>\n",
       "      <th>18038</th>\n",
       "      <td>Casa o chalet independiente en Centro, Aranjuez</td>\n",
       "      <td>https://www.idealista.com/inmueble/104098500/</td>\n",
       "      <td>1.500.000</td>\n",
       "      <td>5 hab.</td>\n",
       "      <td>500 m²</td>\n",
       "      <td>None</td>\n",
       "      <td>sureste</td>\n",
       "    </tr>\n",
       "    <tr>\n",
       "      <th>18039</th>\n",
       "      <td>Finca rústica en El Mirador - Grillero, Arganda</td>\n",
       "      <td>https://www.idealista.com/inmueble/103242472/</td>\n",
       "      <td>2.000.000</td>\n",
       "      <td>1 hab.</td>\n",
       "      <td>3.000 m²</td>\n",
       "      <td>None</td>\n",
       "      <td>sureste</td>\n",
       "    </tr>\n",
       "    <tr>\n",
       "      <th>18040</th>\n",
       "      <td>Casa o chalet independiente en Diseminado de l...</td>\n",
       "      <td>https://www.idealista.com/inmueble/103014794/</td>\n",
       "      <td>2.100.000</td>\n",
       "      <td>7 hab.</td>\n",
       "      <td>600 m²</td>\n",
       "      <td>None</td>\n",
       "      <td>sureste</td>\n",
       "    </tr>\n",
       "  </tbody>\n",
       "</table>\n",
       "<p>18003 rows × 7 columns</p>\n",
       "</div>"
      ],
      "text/plain": [
       "                                               item-link  \\\n",
       "0      Casa de pueblo en calle de las Golondrinas, 2,...   \n",
       "1      Chalet adosado en calle Gran Via, Los Santos d...   \n",
       "2      Casa o chalet independiente en calle de Sergio...   \n",
       "3      Chalet adosado en calle de Sergio Caballero, P...   \n",
       "4      Casa o chalet independiente en calle Barrio Ol...   \n",
       "...                                                  ...   \n",
       "18036            Casa o chalet independiente en Chinchón   \n",
       "18037                          Finca rústica en Chinchón   \n",
       "18038    Casa o chalet independiente en Centro, Aranjuez   \n",
       "18039    Finca rústica en El Mirador - Grillero, Arganda   \n",
       "18040  Casa o chalet independiente en Diseminado de l...   \n",
       "\n",
       "                                      item-link href item-price item-detail  \\\n",
       "0       https://www.idealista.com/inmueble/93823398/       24.0      1 hab.   \n",
       "1      https://www.idealista.com/inmueble/103882635/       29.9      2 hab.   \n",
       "2      https://www.idealista.com/inmueble/104195456/       47.7      3 hab.   \n",
       "3       https://www.idealista.com/inmueble/96562054/       47.7      3 hab.   \n",
       "4      https://www.idealista.com/inmueble/102907597/       49.0      3 hab.   \n",
       "...                                              ...        ...         ...   \n",
       "18036   https://www.idealista.com/inmueble/99405606/  1.400.000     12 hab.   \n",
       "18037   https://www.idealista.com/inmueble/98066612/  1.400.000     10 hab.   \n",
       "18038  https://www.idealista.com/inmueble/104098500/  1.500.000      5 hab.   \n",
       "18039  https://www.idealista.com/inmueble/103242472/  2.000.000      1 hab.   \n",
       "18040  https://www.idealista.com/inmueble/103014794/  2.100.000      7 hab.   \n",
       "\n",
       "      item-detail 2 item-detail 3             zona  \n",
       "0             45 m²           NaN  corredorhenares  \n",
       "1             72 m²           NaN  corredorhenares  \n",
       "2             92 m²           NaN  corredorhenares  \n",
       "3             92 m²           NaN  corredorhenares  \n",
       "4            134 m²           NaN  corredorhenares  \n",
       "...             ...           ...              ...  \n",
       "18036        805 m²          None          sureste  \n",
       "18037        950 m²          None          sureste  \n",
       "18038        500 m²          None          sureste  \n",
       "18039      3.000 m²          None          sureste  \n",
       "18040        600 m²          None          sureste  \n",
       "\n",
       "[18003 rows x 7 columns]"
      ]
     },
     "execution_count": 22,
     "metadata": {},
     "output_type": "execute_result"
    }
   ],
   "source": [
    "chamartin"
   ]
  },
  {
   "cell_type": "code",
   "execution_count": 23,
   "id": "00cef97e",
   "metadata": {
    "scrolled": true
   },
   "outputs": [
    {
     "data": {
      "text/plain": [
       "item-link             0\n",
       "item-link href        0\n",
       "item-price            0\n",
       "item-detail           0\n",
       "item-detail 2         0\n",
       "item-detail 3     10141\n",
       "zona                  0\n",
       "dtype: int64"
      ]
     },
     "execution_count": 23,
     "metadata": {},
     "output_type": "execute_result"
    }
   ],
   "source": [
    "chamartin.isna().sum()"
   ]
  },
  {
   "cell_type": "code",
   "execution_count": 24,
   "id": "65de0f16",
   "metadata": {},
   "outputs": [],
   "source": [
    "chamartin.reset_index(drop=True, inplace=True)"
   ]
  },
  {
   "cell_type": "code",
   "execution_count": 25,
   "id": "62ebf85c",
   "metadata": {},
   "outputs": [],
   "source": [
    "chamartin['item-link'] = chamartin['item-link'].str.lower()"
   ]
  },
  {
   "cell_type": "code",
   "execution_count": null,
   "id": "02941f37",
   "metadata": {},
   "outputs": [],
   "source": []
  },
  {
   "cell_type": "code",
   "execution_count": 26,
   "id": "cfa3a04e",
   "metadata": {},
   "outputs": [
    {
     "data": {
      "text/plain": [
       "\"chamartin['item-link'] = chamartin.apply(lambda row: '1' if 'chalet' in str(row['item-link']) else row['item-link'], axis=1)\\nchamartin['item-link'] = chamartin.apply(lambda row: '1' if 'casa' in str(row['item-link']) else row['item-link'], axis=1)\\nchamartin['item-link'] = chamartin.apply(lambda row: '1' if 'finca' in str(row['item-link']) else row['item-detail 3'], axis=1)\\nchamartin['item-link'] = chamartin.apply(lambda row: '0' if 'piso' in str(row['item-link']) else row['item-link'], axis=1)\\nchamartin['item-link'] = chamartin.apply(lambda row: '2' if 'ático' in str(row['item-link']) else row['item-link'], axis=1)\\nchamartin['item-link'] = chamartin.apply(lambda row: '3' if 'duplex' in str(row['item-link']) else row['item-link'], axis=1)\\nchamartin['item-link'] = chamartin.apply(lambda row: '4' if 'estudio' in str(row['item-link']) else row['item-link'], axis=1)\\n\""
      ]
     },
     "execution_count": 26,
     "metadata": {},
     "output_type": "execute_result"
    }
   ],
   "source": [
    "\"\"\"chamartin['item-link'] = chamartin.apply(lambda row: '1' if 'chalet' in str(row['item-link']) else row['item-link'], axis=1)\n",
    "chamartin['item-link'] = chamartin.apply(lambda row: '1' if 'casa' in str(row['item-link']) else row['item-link'], axis=1)\n",
    "chamartin['item-link'] = chamartin.apply(lambda row: '1' if 'finca' in str(row['item-link']) else row['item-detail 3'], axis=1)\n",
    "chamartin['item-link'] = chamartin.apply(lambda row: '0' if 'piso' in str(row['item-link']) else row['item-link'], axis=1)\n",
    "chamartin['item-link'] = chamartin.apply(lambda row: '2' if 'ático' in str(row['item-link']) else row['item-link'], axis=1)\n",
    "chamartin['item-link'] = chamartin.apply(lambda row: '3' if 'duplex' in str(row['item-link']) else row['item-link'], axis=1)\n",
    "chamartin['item-link'] = chamartin.apply(lambda row: '4' if 'estudio' in str(row['item-link']) else row['item-link'], axis=1)\n",
    "\"\"\""
   ]
  },
  {
   "cell_type": "code",
   "execution_count": null,
   "id": "712f2d10",
   "metadata": {},
   "outputs": [],
   "source": []
  },
  {
   "cell_type": "code",
   "execution_count": 27,
   "id": "f18b5b35",
   "metadata": {},
   "outputs": [
    {
     "data": {
      "text/plain": [
       "item-link             0\n",
       "item-link href        0\n",
       "item-price            0\n",
       "item-detail           0\n",
       "item-detail 2         0\n",
       "item-detail 3     10141\n",
       "zona                  0\n",
       "dtype: int64"
      ]
     },
     "execution_count": 27,
     "metadata": {},
     "output_type": "execute_result"
    }
   ],
   "source": [
    "chamartin.isna().sum()"
   ]
  },
  {
   "cell_type": "code",
   "execution_count": 28,
   "id": "bc6f4742",
   "metadata": {
    "scrolled": true
   },
   "outputs": [
    {
     "data": {
      "text/html": [
       "<div>\n",
       "<style scoped>\n",
       "    .dataframe tbody tr th:only-of-type {\n",
       "        vertical-align: middle;\n",
       "    }\n",
       "\n",
       "    .dataframe tbody tr th {\n",
       "        vertical-align: top;\n",
       "    }\n",
       "\n",
       "    .dataframe thead th {\n",
       "        text-align: right;\n",
       "    }\n",
       "</style>\n",
       "<table border=\"1\" class=\"dataframe\">\n",
       "  <thead>\n",
       "    <tr style=\"text-align: right;\">\n",
       "      <th></th>\n",
       "      <th>item-link</th>\n",
       "      <th>item-link href</th>\n",
       "      <th>item-price</th>\n",
       "      <th>item-detail</th>\n",
       "      <th>item-detail 2</th>\n",
       "      <th>item-detail 3</th>\n",
       "      <th>zona</th>\n",
       "    </tr>\n",
       "  </thead>\n",
       "  <tbody>\n",
       "    <tr>\n",
       "      <th>0</th>\n",
       "      <td>casa de pueblo en calle de las golondrinas, 2,...</td>\n",
       "      <td>https://www.idealista.com/inmueble/93823398/</td>\n",
       "      <td>24.0</td>\n",
       "      <td>1 hab.</td>\n",
       "      <td>45 m²</td>\n",
       "      <td>NaN</td>\n",
       "      <td>corredorhenares</td>\n",
       "    </tr>\n",
       "    <tr>\n",
       "      <th>1</th>\n",
       "      <td>chalet adosado en calle gran via, los santos d...</td>\n",
       "      <td>https://www.idealista.com/inmueble/103882635/</td>\n",
       "      <td>29.9</td>\n",
       "      <td>2 hab.</td>\n",
       "      <td>72 m²</td>\n",
       "      <td>NaN</td>\n",
       "      <td>corredorhenares</td>\n",
       "    </tr>\n",
       "    <tr>\n",
       "      <th>2</th>\n",
       "      <td>casa o chalet independiente en calle de sergio...</td>\n",
       "      <td>https://www.idealista.com/inmueble/104195456/</td>\n",
       "      <td>47.7</td>\n",
       "      <td>3 hab.</td>\n",
       "      <td>92 m²</td>\n",
       "      <td>NaN</td>\n",
       "      <td>corredorhenares</td>\n",
       "    </tr>\n",
       "    <tr>\n",
       "      <th>3</th>\n",
       "      <td>chalet adosado en calle de sergio caballero, p...</td>\n",
       "      <td>https://www.idealista.com/inmueble/96562054/</td>\n",
       "      <td>47.7</td>\n",
       "      <td>3 hab.</td>\n",
       "      <td>92 m²</td>\n",
       "      <td>NaN</td>\n",
       "      <td>corredorhenares</td>\n",
       "    </tr>\n",
       "    <tr>\n",
       "      <th>4</th>\n",
       "      <td>casa o chalet independiente en calle barrio ol...</td>\n",
       "      <td>https://www.idealista.com/inmueble/102907597/</td>\n",
       "      <td>49.0</td>\n",
       "      <td>3 hab.</td>\n",
       "      <td>134 m²</td>\n",
       "      <td>NaN</td>\n",
       "      <td>corredorhenares</td>\n",
       "    </tr>\n",
       "    <tr>\n",
       "      <th>...</th>\n",
       "      <td>...</td>\n",
       "      <td>...</td>\n",
       "      <td>...</td>\n",
       "      <td>...</td>\n",
       "      <td>...</td>\n",
       "      <td>...</td>\n",
       "      <td>...</td>\n",
       "    </tr>\n",
       "    <tr>\n",
       "      <th>17998</th>\n",
       "      <td>casa o chalet independiente en chinchón</td>\n",
       "      <td>https://www.idealista.com/inmueble/99405606/</td>\n",
       "      <td>1.400.000</td>\n",
       "      <td>12 hab.</td>\n",
       "      <td>805 m²</td>\n",
       "      <td>None</td>\n",
       "      <td>sureste</td>\n",
       "    </tr>\n",
       "    <tr>\n",
       "      <th>17999</th>\n",
       "      <td>finca rústica en chinchón</td>\n",
       "      <td>https://www.idealista.com/inmueble/98066612/</td>\n",
       "      <td>1.400.000</td>\n",
       "      <td>10 hab.</td>\n",
       "      <td>950 m²</td>\n",
       "      <td>None</td>\n",
       "      <td>sureste</td>\n",
       "    </tr>\n",
       "    <tr>\n",
       "      <th>18000</th>\n",
       "      <td>casa o chalet independiente en centro, aranjuez</td>\n",
       "      <td>https://www.idealista.com/inmueble/104098500/</td>\n",
       "      <td>1.500.000</td>\n",
       "      <td>5 hab.</td>\n",
       "      <td>500 m²</td>\n",
       "      <td>None</td>\n",
       "      <td>sureste</td>\n",
       "    </tr>\n",
       "    <tr>\n",
       "      <th>18001</th>\n",
       "      <td>finca rústica en el mirador - grillero, arganda</td>\n",
       "      <td>https://www.idealista.com/inmueble/103242472/</td>\n",
       "      <td>2.000.000</td>\n",
       "      <td>1 hab.</td>\n",
       "      <td>3.000 m²</td>\n",
       "      <td>None</td>\n",
       "      <td>sureste</td>\n",
       "    </tr>\n",
       "    <tr>\n",
       "      <th>18002</th>\n",
       "      <td>casa o chalet independiente en diseminado de l...</td>\n",
       "      <td>https://www.idealista.com/inmueble/103014794/</td>\n",
       "      <td>2.100.000</td>\n",
       "      <td>7 hab.</td>\n",
       "      <td>600 m²</td>\n",
       "      <td>None</td>\n",
       "      <td>sureste</td>\n",
       "    </tr>\n",
       "  </tbody>\n",
       "</table>\n",
       "<p>18003 rows × 7 columns</p>\n",
       "</div>"
      ],
      "text/plain": [
       "                                               item-link  \\\n",
       "0      casa de pueblo en calle de las golondrinas, 2,...   \n",
       "1      chalet adosado en calle gran via, los santos d...   \n",
       "2      casa o chalet independiente en calle de sergio...   \n",
       "3      chalet adosado en calle de sergio caballero, p...   \n",
       "4      casa o chalet independiente en calle barrio ol...   \n",
       "...                                                  ...   \n",
       "17998            casa o chalet independiente en chinchón   \n",
       "17999                          finca rústica en chinchón   \n",
       "18000    casa o chalet independiente en centro, aranjuez   \n",
       "18001    finca rústica en el mirador - grillero, arganda   \n",
       "18002  casa o chalet independiente en diseminado de l...   \n",
       "\n",
       "                                      item-link href item-price item-detail  \\\n",
       "0       https://www.idealista.com/inmueble/93823398/       24.0      1 hab.   \n",
       "1      https://www.idealista.com/inmueble/103882635/       29.9      2 hab.   \n",
       "2      https://www.idealista.com/inmueble/104195456/       47.7      3 hab.   \n",
       "3       https://www.idealista.com/inmueble/96562054/       47.7      3 hab.   \n",
       "4      https://www.idealista.com/inmueble/102907597/       49.0      3 hab.   \n",
       "...                                              ...        ...         ...   \n",
       "17998   https://www.idealista.com/inmueble/99405606/  1.400.000     12 hab.   \n",
       "17999   https://www.idealista.com/inmueble/98066612/  1.400.000     10 hab.   \n",
       "18000  https://www.idealista.com/inmueble/104098500/  1.500.000      5 hab.   \n",
       "18001  https://www.idealista.com/inmueble/103242472/  2.000.000      1 hab.   \n",
       "18002  https://www.idealista.com/inmueble/103014794/  2.100.000      7 hab.   \n",
       "\n",
       "      item-detail 2 item-detail 3             zona  \n",
       "0             45 m²           NaN  corredorhenares  \n",
       "1             72 m²           NaN  corredorhenares  \n",
       "2             92 m²           NaN  corredorhenares  \n",
       "3             92 m²           NaN  corredorhenares  \n",
       "4            134 m²           NaN  corredorhenares  \n",
       "...             ...           ...              ...  \n",
       "17998        805 m²          None          sureste  \n",
       "17999        950 m²          None          sureste  \n",
       "18000        500 m²          None          sureste  \n",
       "18001      3.000 m²          None          sureste  \n",
       "18002        600 m²          None          sureste  \n",
       "\n",
       "[18003 rows x 7 columns]"
      ]
     },
     "execution_count": 28,
     "metadata": {},
     "output_type": "execute_result"
    }
   ],
   "source": [
    "chamartin"
   ]
  },
  {
   "cell_type": "code",
   "execution_count": 29,
   "id": "831d4dc4",
   "metadata": {},
   "outputs": [
    {
     "data": {
      "text/html": [
       "<div>\n",
       "<style scoped>\n",
       "    .dataframe tbody tr th:only-of-type {\n",
       "        vertical-align: middle;\n",
       "    }\n",
       "\n",
       "    .dataframe tbody tr th {\n",
       "        vertical-align: top;\n",
       "    }\n",
       "\n",
       "    .dataframe thead th {\n",
       "        text-align: right;\n",
       "    }\n",
       "</style>\n",
       "<table border=\"1\" class=\"dataframe\">\n",
       "  <thead>\n",
       "    <tr style=\"text-align: right;\">\n",
       "      <th></th>\n",
       "      <th>item-link</th>\n",
       "      <th>item-link href</th>\n",
       "      <th>item-price</th>\n",
       "      <th>item-detail</th>\n",
       "      <th>item-detail 2</th>\n",
       "      <th>item-detail 3</th>\n",
       "      <th>zona</th>\n",
       "    </tr>\n",
       "  </thead>\n",
       "  <tbody>\n",
       "    <tr>\n",
       "      <th>0</th>\n",
       "      <td>casa de pueblo en calle de las golondrinas, 2,...</td>\n",
       "      <td>https://www.idealista.com/inmueble/93823398/</td>\n",
       "      <td>24.0</td>\n",
       "      <td>1 hab.</td>\n",
       "      <td>45 m²</td>\n",
       "      <td>NaN</td>\n",
       "      <td>corredorhenares</td>\n",
       "    </tr>\n",
       "    <tr>\n",
       "      <th>1</th>\n",
       "      <td>chalet adosado en calle gran via, los santos d...</td>\n",
       "      <td>https://www.idealista.com/inmueble/103882635/</td>\n",
       "      <td>29.9</td>\n",
       "      <td>2 hab.</td>\n",
       "      <td>72 m²</td>\n",
       "      <td>NaN</td>\n",
       "      <td>corredorhenares</td>\n",
       "    </tr>\n",
       "    <tr>\n",
       "      <th>2</th>\n",
       "      <td>casa o chalet independiente en calle de sergio...</td>\n",
       "      <td>https://www.idealista.com/inmueble/104195456/</td>\n",
       "      <td>47.7</td>\n",
       "      <td>3 hab.</td>\n",
       "      <td>92 m²</td>\n",
       "      <td>NaN</td>\n",
       "      <td>corredorhenares</td>\n",
       "    </tr>\n",
       "    <tr>\n",
       "      <th>3</th>\n",
       "      <td>chalet adosado en calle de sergio caballero, p...</td>\n",
       "      <td>https://www.idealista.com/inmueble/96562054/</td>\n",
       "      <td>47.7</td>\n",
       "      <td>3 hab.</td>\n",
       "      <td>92 m²</td>\n",
       "      <td>NaN</td>\n",
       "      <td>corredorhenares</td>\n",
       "    </tr>\n",
       "    <tr>\n",
       "      <th>4</th>\n",
       "      <td>casa o chalet independiente en calle barrio ol...</td>\n",
       "      <td>https://www.idealista.com/inmueble/102907597/</td>\n",
       "      <td>49.0</td>\n",
       "      <td>3 hab.</td>\n",
       "      <td>134 m²</td>\n",
       "      <td>NaN</td>\n",
       "      <td>corredorhenares</td>\n",
       "    </tr>\n",
       "    <tr>\n",
       "      <th>...</th>\n",
       "      <td>...</td>\n",
       "      <td>...</td>\n",
       "      <td>...</td>\n",
       "      <td>...</td>\n",
       "      <td>...</td>\n",
       "      <td>...</td>\n",
       "      <td>...</td>\n",
       "    </tr>\n",
       "    <tr>\n",
       "      <th>17998</th>\n",
       "      <td>casa o chalet independiente en chinchón</td>\n",
       "      <td>https://www.idealista.com/inmueble/99405606/</td>\n",
       "      <td>1.400.000</td>\n",
       "      <td>12 hab.</td>\n",
       "      <td>805 m²</td>\n",
       "      <td>None</td>\n",
       "      <td>sureste</td>\n",
       "    </tr>\n",
       "    <tr>\n",
       "      <th>17999</th>\n",
       "      <td>finca rústica en chinchón</td>\n",
       "      <td>https://www.idealista.com/inmueble/98066612/</td>\n",
       "      <td>1.400.000</td>\n",
       "      <td>10 hab.</td>\n",
       "      <td>950 m²</td>\n",
       "      <td>None</td>\n",
       "      <td>sureste</td>\n",
       "    </tr>\n",
       "    <tr>\n",
       "      <th>18000</th>\n",
       "      <td>casa o chalet independiente en centro, aranjuez</td>\n",
       "      <td>https://www.idealista.com/inmueble/104098500/</td>\n",
       "      <td>1.500.000</td>\n",
       "      <td>5 hab.</td>\n",
       "      <td>500 m²</td>\n",
       "      <td>None</td>\n",
       "      <td>sureste</td>\n",
       "    </tr>\n",
       "    <tr>\n",
       "      <th>18001</th>\n",
       "      <td>finca rústica en el mirador - grillero, arganda</td>\n",
       "      <td>https://www.idealista.com/inmueble/103242472/</td>\n",
       "      <td>2.000.000</td>\n",
       "      <td>1 hab.</td>\n",
       "      <td>3.000 m²</td>\n",
       "      <td>None</td>\n",
       "      <td>sureste</td>\n",
       "    </tr>\n",
       "    <tr>\n",
       "      <th>18002</th>\n",
       "      <td>casa o chalet independiente en diseminado de l...</td>\n",
       "      <td>https://www.idealista.com/inmueble/103014794/</td>\n",
       "      <td>2.100.000</td>\n",
       "      <td>7 hab.</td>\n",
       "      <td>600 m²</td>\n",
       "      <td>None</td>\n",
       "      <td>sureste</td>\n",
       "    </tr>\n",
       "  </tbody>\n",
       "</table>\n",
       "<p>10141 rows × 7 columns</p>\n",
       "</div>"
      ],
      "text/plain": [
       "                                               item-link  \\\n",
       "0      casa de pueblo en calle de las golondrinas, 2,...   \n",
       "1      chalet adosado en calle gran via, los santos d...   \n",
       "2      casa o chalet independiente en calle de sergio...   \n",
       "3      chalet adosado en calle de sergio caballero, p...   \n",
       "4      casa o chalet independiente en calle barrio ol...   \n",
       "...                                                  ...   \n",
       "17998            casa o chalet independiente en chinchón   \n",
       "17999                          finca rústica en chinchón   \n",
       "18000    casa o chalet independiente en centro, aranjuez   \n",
       "18001    finca rústica en el mirador - grillero, arganda   \n",
       "18002  casa o chalet independiente en diseminado de l...   \n",
       "\n",
       "                                      item-link href item-price item-detail  \\\n",
       "0       https://www.idealista.com/inmueble/93823398/       24.0      1 hab.   \n",
       "1      https://www.idealista.com/inmueble/103882635/       29.9      2 hab.   \n",
       "2      https://www.idealista.com/inmueble/104195456/       47.7      3 hab.   \n",
       "3       https://www.idealista.com/inmueble/96562054/       47.7      3 hab.   \n",
       "4      https://www.idealista.com/inmueble/102907597/       49.0      3 hab.   \n",
       "...                                              ...        ...         ...   \n",
       "17998   https://www.idealista.com/inmueble/99405606/  1.400.000     12 hab.   \n",
       "17999   https://www.idealista.com/inmueble/98066612/  1.400.000     10 hab.   \n",
       "18000  https://www.idealista.com/inmueble/104098500/  1.500.000      5 hab.   \n",
       "18001  https://www.idealista.com/inmueble/103242472/  2.000.000      1 hab.   \n",
       "18002  https://www.idealista.com/inmueble/103014794/  2.100.000      7 hab.   \n",
       "\n",
       "      item-detail 2 item-detail 3             zona  \n",
       "0             45 m²           NaN  corredorhenares  \n",
       "1             72 m²           NaN  corredorhenares  \n",
       "2             92 m²           NaN  corredorhenares  \n",
       "3             92 m²           NaN  corredorhenares  \n",
       "4            134 m²           NaN  corredorhenares  \n",
       "...             ...           ...              ...  \n",
       "17998        805 m²          None          sureste  \n",
       "17999        950 m²          None          sureste  \n",
       "18000        500 m²          None          sureste  \n",
       "18001      3.000 m²          None          sureste  \n",
       "18002        600 m²          None          sureste  \n",
       "\n",
       "[10141 rows x 7 columns]"
      ]
     },
     "execution_count": 29,
     "metadata": {},
     "output_type": "execute_result"
    }
   ],
   "source": [
    "filas_con_nulos = chamartin[chamartin.isnull().any(axis=1)]\n",
    "\n",
    "filas_con_nulos"
   ]
  },
  {
   "cell_type": "code",
   "execution_count": 30,
   "id": "33d1026a",
   "metadata": {
    "scrolled": true
   },
   "outputs": [],
   "source": [
    "mask = ~chamartin['item-detail 2'].str.contains('m²', na=False)\n",
    "\n",
    "chamartin['nueva_columna'] = chamartin.loc[mask, 'item-detail 2']\n",
    "\n",
    "chamartin.loc[mask, 'item-detail 2'] = None"
   ]
  },
  {
   "cell_type": "code",
   "execution_count": 31,
   "id": "51ad732c",
   "metadata": {},
   "outputs": [],
   "source": [
    "mask = ~chamartin['item-detail'].str.contains('hab', na=False)\n",
    "\n",
    "chamartin['nueva_columna2'] = chamartin.loc[mask, 'item-detail']\n",
    "\n",
    "chamartin.loc[mask, 'item-detail'] = None"
   ]
  },
  {
   "cell_type": "code",
   "execution_count": 32,
   "id": "595514c6",
   "metadata": {},
   "outputs": [
    {
     "data": {
      "text/plain": [
       "item-link             0\n",
       "item-link href        0\n",
       "item-price            0\n",
       "item-detail         195\n",
       "item-detail 2       195\n",
       "item-detail 3     10141\n",
       "zona                  0\n",
       "nueva_columna     17808\n",
       "nueva_columna2    17808\n",
       "dtype: int64"
      ]
     },
     "execution_count": 32,
     "metadata": {},
     "output_type": "execute_result"
    }
   ],
   "source": [
    "chamartin.isna().sum()"
   ]
  },
  {
   "cell_type": "code",
   "execution_count": 33,
   "id": "819caf5f",
   "metadata": {},
   "outputs": [],
   "source": [
    "chamartin['superficie'] = chamartin['item-detail 2'].combine_first(chamartin['nueva_columna2'])\n",
    "\n",
    "chamartin.drop(columns=['item-detail 2', 'nueva_columna2'], inplace=True)"
   ]
  },
  {
   "cell_type": "code",
   "execution_count": 34,
   "id": "bfd2abf5",
   "metadata": {},
   "outputs": [
    {
     "data": {
      "text/plain": [
       "item-link             0\n",
       "item-link href        0\n",
       "item-price            0\n",
       "item-detail         195\n",
       "item-detail 3     10141\n",
       "zona                  0\n",
       "nueva_columna     17808\n",
       "superficie            0\n",
       "dtype: int64"
      ]
     },
     "execution_count": 34,
     "metadata": {},
     "output_type": "execute_result"
    }
   ],
   "source": [
    "chamartin.isna().sum()"
   ]
  },
  {
   "cell_type": "code",
   "execution_count": 35,
   "id": "fdb8fff3",
   "metadata": {
    "scrolled": true
   },
   "outputs": [
    {
     "data": {
      "text/html": [
       "<div>\n",
       "<style scoped>\n",
       "    .dataframe tbody tr th:only-of-type {\n",
       "        vertical-align: middle;\n",
       "    }\n",
       "\n",
       "    .dataframe tbody tr th {\n",
       "        vertical-align: top;\n",
       "    }\n",
       "\n",
       "    .dataframe thead th {\n",
       "        text-align: right;\n",
       "    }\n",
       "</style>\n",
       "<table border=\"1\" class=\"dataframe\">\n",
       "  <thead>\n",
       "    <tr style=\"text-align: right;\">\n",
       "      <th></th>\n",
       "      <th>item-link</th>\n",
       "      <th>item-link href</th>\n",
       "      <th>item-price</th>\n",
       "      <th>item-detail</th>\n",
       "      <th>item-detail 3</th>\n",
       "      <th>zona</th>\n",
       "      <th>nueva_columna</th>\n",
       "      <th>superficie</th>\n",
       "    </tr>\n",
       "  </thead>\n",
       "  <tbody>\n",
       "    <tr>\n",
       "      <th>0</th>\n",
       "      <td>casa de pueblo en calle de las golondrinas, 2,...</td>\n",
       "      <td>https://www.idealista.com/inmueble/93823398/</td>\n",
       "      <td>24.0</td>\n",
       "      <td>1 hab.</td>\n",
       "      <td>NaN</td>\n",
       "      <td>corredorhenares</td>\n",
       "      <td>NaN</td>\n",
       "      <td>45 m²</td>\n",
       "    </tr>\n",
       "    <tr>\n",
       "      <th>1</th>\n",
       "      <td>chalet adosado en calle gran via, los santos d...</td>\n",
       "      <td>https://www.idealista.com/inmueble/103882635/</td>\n",
       "      <td>29.9</td>\n",
       "      <td>2 hab.</td>\n",
       "      <td>NaN</td>\n",
       "      <td>corredorhenares</td>\n",
       "      <td>NaN</td>\n",
       "      <td>72 m²</td>\n",
       "    </tr>\n",
       "    <tr>\n",
       "      <th>2</th>\n",
       "      <td>casa o chalet independiente en calle de sergio...</td>\n",
       "      <td>https://www.idealista.com/inmueble/104195456/</td>\n",
       "      <td>47.7</td>\n",
       "      <td>3 hab.</td>\n",
       "      <td>NaN</td>\n",
       "      <td>corredorhenares</td>\n",
       "      <td>NaN</td>\n",
       "      <td>92 m²</td>\n",
       "    </tr>\n",
       "    <tr>\n",
       "      <th>3</th>\n",
       "      <td>chalet adosado en calle de sergio caballero, p...</td>\n",
       "      <td>https://www.idealista.com/inmueble/96562054/</td>\n",
       "      <td>47.7</td>\n",
       "      <td>3 hab.</td>\n",
       "      <td>NaN</td>\n",
       "      <td>corredorhenares</td>\n",
       "      <td>NaN</td>\n",
       "      <td>92 m²</td>\n",
       "    </tr>\n",
       "    <tr>\n",
       "      <th>4</th>\n",
       "      <td>casa o chalet independiente en calle barrio ol...</td>\n",
       "      <td>https://www.idealista.com/inmueble/102907597/</td>\n",
       "      <td>49.0</td>\n",
       "      <td>3 hab.</td>\n",
       "      <td>NaN</td>\n",
       "      <td>corredorhenares</td>\n",
       "      <td>NaN</td>\n",
       "      <td>134 m²</td>\n",
       "    </tr>\n",
       "    <tr>\n",
       "      <th>...</th>\n",
       "      <td>...</td>\n",
       "      <td>...</td>\n",
       "      <td>...</td>\n",
       "      <td>...</td>\n",
       "      <td>...</td>\n",
       "      <td>...</td>\n",
       "      <td>...</td>\n",
       "      <td>...</td>\n",
       "    </tr>\n",
       "    <tr>\n",
       "      <th>17998</th>\n",
       "      <td>casa o chalet independiente en chinchón</td>\n",
       "      <td>https://www.idealista.com/inmueble/99405606/</td>\n",
       "      <td>1.400.000</td>\n",
       "      <td>12 hab.</td>\n",
       "      <td>None</td>\n",
       "      <td>sureste</td>\n",
       "      <td>NaN</td>\n",
       "      <td>805 m²</td>\n",
       "    </tr>\n",
       "    <tr>\n",
       "      <th>17999</th>\n",
       "      <td>finca rústica en chinchón</td>\n",
       "      <td>https://www.idealista.com/inmueble/98066612/</td>\n",
       "      <td>1.400.000</td>\n",
       "      <td>10 hab.</td>\n",
       "      <td>None</td>\n",
       "      <td>sureste</td>\n",
       "      <td>NaN</td>\n",
       "      <td>950 m²</td>\n",
       "    </tr>\n",
       "    <tr>\n",
       "      <th>18000</th>\n",
       "      <td>casa o chalet independiente en centro, aranjuez</td>\n",
       "      <td>https://www.idealista.com/inmueble/104098500/</td>\n",
       "      <td>1.500.000</td>\n",
       "      <td>5 hab.</td>\n",
       "      <td>None</td>\n",
       "      <td>sureste</td>\n",
       "      <td>NaN</td>\n",
       "      <td>500 m²</td>\n",
       "    </tr>\n",
       "    <tr>\n",
       "      <th>18001</th>\n",
       "      <td>finca rústica en el mirador - grillero, arganda</td>\n",
       "      <td>https://www.idealista.com/inmueble/103242472/</td>\n",
       "      <td>2.000.000</td>\n",
       "      <td>1 hab.</td>\n",
       "      <td>None</td>\n",
       "      <td>sureste</td>\n",
       "      <td>NaN</td>\n",
       "      <td>3.000 m²</td>\n",
       "    </tr>\n",
       "    <tr>\n",
       "      <th>18002</th>\n",
       "      <td>casa o chalet independiente en diseminado de l...</td>\n",
       "      <td>https://www.idealista.com/inmueble/103014794/</td>\n",
       "      <td>2.100.000</td>\n",
       "      <td>7 hab.</td>\n",
       "      <td>None</td>\n",
       "      <td>sureste</td>\n",
       "      <td>NaN</td>\n",
       "      <td>600 m²</td>\n",
       "    </tr>\n",
       "  </tbody>\n",
       "</table>\n",
       "<p>18003 rows × 8 columns</p>\n",
       "</div>"
      ],
      "text/plain": [
       "                                               item-link  \\\n",
       "0      casa de pueblo en calle de las golondrinas, 2,...   \n",
       "1      chalet adosado en calle gran via, los santos d...   \n",
       "2      casa o chalet independiente en calle de sergio...   \n",
       "3      chalet adosado en calle de sergio caballero, p...   \n",
       "4      casa o chalet independiente en calle barrio ol...   \n",
       "...                                                  ...   \n",
       "17998            casa o chalet independiente en chinchón   \n",
       "17999                          finca rústica en chinchón   \n",
       "18000    casa o chalet independiente en centro, aranjuez   \n",
       "18001    finca rústica en el mirador - grillero, arganda   \n",
       "18002  casa o chalet independiente en diseminado de l...   \n",
       "\n",
       "                                      item-link href item-price item-detail  \\\n",
       "0       https://www.idealista.com/inmueble/93823398/       24.0      1 hab.   \n",
       "1      https://www.idealista.com/inmueble/103882635/       29.9      2 hab.   \n",
       "2      https://www.idealista.com/inmueble/104195456/       47.7      3 hab.   \n",
       "3       https://www.idealista.com/inmueble/96562054/       47.7      3 hab.   \n",
       "4      https://www.idealista.com/inmueble/102907597/       49.0      3 hab.   \n",
       "...                                              ...        ...         ...   \n",
       "17998   https://www.idealista.com/inmueble/99405606/  1.400.000     12 hab.   \n",
       "17999   https://www.idealista.com/inmueble/98066612/  1.400.000     10 hab.   \n",
       "18000  https://www.idealista.com/inmueble/104098500/  1.500.000      5 hab.   \n",
       "18001  https://www.idealista.com/inmueble/103242472/  2.000.000      1 hab.   \n",
       "18002  https://www.idealista.com/inmueble/103014794/  2.100.000      7 hab.   \n",
       "\n",
       "      item-detail 3             zona nueva_columna superficie  \n",
       "0               NaN  corredorhenares           NaN      45 m²  \n",
       "1               NaN  corredorhenares           NaN      72 m²  \n",
       "2               NaN  corredorhenares           NaN      92 m²  \n",
       "3               NaN  corredorhenares           NaN      92 m²  \n",
       "4               NaN  corredorhenares           NaN     134 m²  \n",
       "...             ...              ...           ...        ...  \n",
       "17998          None          sureste           NaN     805 m²  \n",
       "17999          None          sureste           NaN     950 m²  \n",
       "18000          None          sureste           NaN     500 m²  \n",
       "18001          None          sureste           NaN   3.000 m²  \n",
       "18002          None          sureste           NaN     600 m²  \n",
       "\n",
       "[18003 rows x 8 columns]"
      ]
     },
     "execution_count": 35,
     "metadata": {},
     "output_type": "execute_result"
    }
   ],
   "source": [
    "chamartin"
   ]
  },
  {
   "cell_type": "code",
   "execution_count": 36,
   "id": "5d6ff8d5",
   "metadata": {},
   "outputs": [],
   "source": [
    "chamartin['detalles'] = chamartin['item-detail 3'].combine_first(chamartin['nueva_columna'])\n",
    "\n",
    "chamartin.drop(columns=['item-detail 3', 'nueva_columna'], inplace=True)"
   ]
  },
  {
   "cell_type": "code",
   "execution_count": 37,
   "id": "897b2325",
   "metadata": {},
   "outputs": [
    {
     "data": {
      "text/html": [
       "<div>\n",
       "<style scoped>\n",
       "    .dataframe tbody tr th:only-of-type {\n",
       "        vertical-align: middle;\n",
       "    }\n",
       "\n",
       "    .dataframe tbody tr th {\n",
       "        vertical-align: top;\n",
       "    }\n",
       "\n",
       "    .dataframe thead th {\n",
       "        text-align: right;\n",
       "    }\n",
       "</style>\n",
       "<table border=\"1\" class=\"dataframe\">\n",
       "  <thead>\n",
       "    <tr style=\"text-align: right;\">\n",
       "      <th></th>\n",
       "      <th>item-link</th>\n",
       "      <th>item-link href</th>\n",
       "      <th>item-price</th>\n",
       "      <th>item-detail</th>\n",
       "      <th>zona</th>\n",
       "      <th>superficie</th>\n",
       "      <th>detalles</th>\n",
       "    </tr>\n",
       "  </thead>\n",
       "  <tbody>\n",
       "    <tr>\n",
       "      <th>0</th>\n",
       "      <td>casa de pueblo en calle de las golondrinas, 2,...</td>\n",
       "      <td>https://www.idealista.com/inmueble/93823398/</td>\n",
       "      <td>24.0</td>\n",
       "      <td>1 hab.</td>\n",
       "      <td>corredorhenares</td>\n",
       "      <td>45 m²</td>\n",
       "      <td>NaN</td>\n",
       "    </tr>\n",
       "    <tr>\n",
       "      <th>1</th>\n",
       "      <td>chalet adosado en calle gran via, los santos d...</td>\n",
       "      <td>https://www.idealista.com/inmueble/103882635/</td>\n",
       "      <td>29.9</td>\n",
       "      <td>2 hab.</td>\n",
       "      <td>corredorhenares</td>\n",
       "      <td>72 m²</td>\n",
       "      <td>NaN</td>\n",
       "    </tr>\n",
       "    <tr>\n",
       "      <th>2</th>\n",
       "      <td>casa o chalet independiente en calle de sergio...</td>\n",
       "      <td>https://www.idealista.com/inmueble/104195456/</td>\n",
       "      <td>47.7</td>\n",
       "      <td>3 hab.</td>\n",
       "      <td>corredorhenares</td>\n",
       "      <td>92 m²</td>\n",
       "      <td>NaN</td>\n",
       "    </tr>\n",
       "    <tr>\n",
       "      <th>3</th>\n",
       "      <td>chalet adosado en calle de sergio caballero, p...</td>\n",
       "      <td>https://www.idealista.com/inmueble/96562054/</td>\n",
       "      <td>47.7</td>\n",
       "      <td>3 hab.</td>\n",
       "      <td>corredorhenares</td>\n",
       "      <td>92 m²</td>\n",
       "      <td>NaN</td>\n",
       "    </tr>\n",
       "    <tr>\n",
       "      <th>4</th>\n",
       "      <td>casa o chalet independiente en calle barrio ol...</td>\n",
       "      <td>https://www.idealista.com/inmueble/102907597/</td>\n",
       "      <td>49.0</td>\n",
       "      <td>3 hab.</td>\n",
       "      <td>corredorhenares</td>\n",
       "      <td>134 m²</td>\n",
       "      <td>NaN</td>\n",
       "    </tr>\n",
       "    <tr>\n",
       "      <th>...</th>\n",
       "      <td>...</td>\n",
       "      <td>...</td>\n",
       "      <td>...</td>\n",
       "      <td>...</td>\n",
       "      <td>...</td>\n",
       "      <td>...</td>\n",
       "      <td>...</td>\n",
       "    </tr>\n",
       "    <tr>\n",
       "      <th>17998</th>\n",
       "      <td>casa o chalet independiente en chinchón</td>\n",
       "      <td>https://www.idealista.com/inmueble/99405606/</td>\n",
       "      <td>1.400.000</td>\n",
       "      <td>12 hab.</td>\n",
       "      <td>sureste</td>\n",
       "      <td>805 m²</td>\n",
       "      <td>NaN</td>\n",
       "    </tr>\n",
       "    <tr>\n",
       "      <th>17999</th>\n",
       "      <td>finca rústica en chinchón</td>\n",
       "      <td>https://www.idealista.com/inmueble/98066612/</td>\n",
       "      <td>1.400.000</td>\n",
       "      <td>10 hab.</td>\n",
       "      <td>sureste</td>\n",
       "      <td>950 m²</td>\n",
       "      <td>NaN</td>\n",
       "    </tr>\n",
       "    <tr>\n",
       "      <th>18000</th>\n",
       "      <td>casa o chalet independiente en centro, aranjuez</td>\n",
       "      <td>https://www.idealista.com/inmueble/104098500/</td>\n",
       "      <td>1.500.000</td>\n",
       "      <td>5 hab.</td>\n",
       "      <td>sureste</td>\n",
       "      <td>500 m²</td>\n",
       "      <td>NaN</td>\n",
       "    </tr>\n",
       "    <tr>\n",
       "      <th>18001</th>\n",
       "      <td>finca rústica en el mirador - grillero, arganda</td>\n",
       "      <td>https://www.idealista.com/inmueble/103242472/</td>\n",
       "      <td>2.000.000</td>\n",
       "      <td>1 hab.</td>\n",
       "      <td>sureste</td>\n",
       "      <td>3.000 m²</td>\n",
       "      <td>NaN</td>\n",
       "    </tr>\n",
       "    <tr>\n",
       "      <th>18002</th>\n",
       "      <td>casa o chalet independiente en diseminado de l...</td>\n",
       "      <td>https://www.idealista.com/inmueble/103014794/</td>\n",
       "      <td>2.100.000</td>\n",
       "      <td>7 hab.</td>\n",
       "      <td>sureste</td>\n",
       "      <td>600 m²</td>\n",
       "      <td>NaN</td>\n",
       "    </tr>\n",
       "  </tbody>\n",
       "</table>\n",
       "<p>18003 rows × 7 columns</p>\n",
       "</div>"
      ],
      "text/plain": [
       "                                               item-link  \\\n",
       "0      casa de pueblo en calle de las golondrinas, 2,...   \n",
       "1      chalet adosado en calle gran via, los santos d...   \n",
       "2      casa o chalet independiente en calle de sergio...   \n",
       "3      chalet adosado en calle de sergio caballero, p...   \n",
       "4      casa o chalet independiente en calle barrio ol...   \n",
       "...                                                  ...   \n",
       "17998            casa o chalet independiente en chinchón   \n",
       "17999                          finca rústica en chinchón   \n",
       "18000    casa o chalet independiente en centro, aranjuez   \n",
       "18001    finca rústica en el mirador - grillero, arganda   \n",
       "18002  casa o chalet independiente en diseminado de l...   \n",
       "\n",
       "                                      item-link href item-price item-detail  \\\n",
       "0       https://www.idealista.com/inmueble/93823398/       24.0      1 hab.   \n",
       "1      https://www.idealista.com/inmueble/103882635/       29.9      2 hab.   \n",
       "2      https://www.idealista.com/inmueble/104195456/       47.7      3 hab.   \n",
       "3       https://www.idealista.com/inmueble/96562054/       47.7      3 hab.   \n",
       "4      https://www.idealista.com/inmueble/102907597/       49.0      3 hab.   \n",
       "...                                              ...        ...         ...   \n",
       "17998   https://www.idealista.com/inmueble/99405606/  1.400.000     12 hab.   \n",
       "17999   https://www.idealista.com/inmueble/98066612/  1.400.000     10 hab.   \n",
       "18000  https://www.idealista.com/inmueble/104098500/  1.500.000      5 hab.   \n",
       "18001  https://www.idealista.com/inmueble/103242472/  2.000.000      1 hab.   \n",
       "18002  https://www.idealista.com/inmueble/103014794/  2.100.000      7 hab.   \n",
       "\n",
       "                  zona superficie detalles  \n",
       "0      corredorhenares      45 m²      NaN  \n",
       "1      corredorhenares      72 m²      NaN  \n",
       "2      corredorhenares      92 m²      NaN  \n",
       "3      corredorhenares      92 m²      NaN  \n",
       "4      corredorhenares     134 m²      NaN  \n",
       "...                ...        ...      ...  \n",
       "17998          sureste     805 m²      NaN  \n",
       "17999          sureste     950 m²      NaN  \n",
       "18000          sureste     500 m²      NaN  \n",
       "18001          sureste   3.000 m²      NaN  \n",
       "18002          sureste     600 m²      NaN  \n",
       "\n",
       "[18003 rows x 7 columns]"
      ]
     },
     "execution_count": 37,
     "metadata": {},
     "output_type": "execute_result"
    }
   ],
   "source": [
    "chamartin"
   ]
  },
  {
   "cell_type": "code",
   "execution_count": 38,
   "id": "b82aef48",
   "metadata": {
    "scrolled": true
   },
   "outputs": [
    {
     "data": {
      "text/plain": [
       "item-link            0\n",
       "item-link href       0\n",
       "item-price           0\n",
       "item-detail        195\n",
       "zona                 0\n",
       "superficie           0\n",
       "detalles          9946\n",
       "dtype: int64"
      ]
     },
     "execution_count": 38,
     "metadata": {},
     "output_type": "execute_result"
    }
   ],
   "source": [
    "chamartin.isna().sum()"
   ]
  },
  {
   "cell_type": "code",
   "execution_count": 39,
   "id": "95f3c192",
   "metadata": {},
   "outputs": [],
   "source": [
    "columnas_interesantes = ['item-detail','item-link','superficie','detalles']\n",
    "\n",
    "# Seleccionar las columnas de interés usando loc\n",
    "df_filtrado = chamartin.loc[:, columnas_interesantes]"
   ]
  },
  {
   "cell_type": "code",
   "execution_count": 40,
   "id": "fb0a9974",
   "metadata": {
    "scrolled": true
   },
   "outputs": [],
   "source": [
    "filas_con_nulos = df_filtrado[df_filtrado.isnull().any(axis=1)]"
   ]
  },
  {
   "cell_type": "code",
   "execution_count": 41,
   "id": "aa52ff18",
   "metadata": {},
   "outputs": [],
   "source": [
    "chamartin['item-detail'].fillna(5,inplace=True)"
   ]
  },
  {
   "cell_type": "code",
   "execution_count": 42,
   "id": "11cb2221",
   "metadata": {},
   "outputs": [],
   "source": [
    "chamartin['superficie'] = chamartin['superficie'].astype(str)\n",
    "\n",
    "chamartin['superficie'] = chamartin['superficie'].str.replace('m²', '')\n",
    "\n",
    "chamartin['superficie'] = chamartin['superficie'].str.replace('.', '')\n",
    "\n",
    "chamartin['superficie'] = pd.to_numeric(chamartin['superficie'])"
   ]
  },
  {
   "cell_type": "code",
   "execution_count": 43,
   "id": "6e2f4f89",
   "metadata": {},
   "outputs": [],
   "source": [
    "chamartin['item-detail'] = chamartin['item-detail'].astype(str)\n",
    "\n",
    "chamartin['item-detail'] = chamartin['item-detail'].str.replace('hab.', '')\n",
    "\n",
    "chamartin['item-detail'] = pd.to_numeric(chamartin['item-detail'])"
   ]
  },
  {
   "cell_type": "code",
   "execution_count": null,
   "id": "b214b8d9",
   "metadata": {},
   "outputs": [],
   "source": []
  },
  {
   "cell_type": "code",
   "execution_count": 44,
   "id": "d59e4ee8",
   "metadata": {},
   "outputs": [
    {
     "data": {
      "text/plain": [
       "\"chamartin['item-detail'] = chamartin['item-detail'].fillna(\\n    pd.cut(chamartin['superficie'], bins=[0, 40, float('inf')], labels=['1', '2'], right=False)\\n)\""
      ]
     },
     "execution_count": 44,
     "metadata": {},
     "output_type": "execute_result"
    }
   ],
   "source": [
    "\"\"\"chamartin['item-detail'] = chamartin['item-detail'].fillna(\n",
    "    pd.cut(chamartin['superficie'], bins=[0, 40, float('inf')], labels=['1', '2'], right=False)\n",
    ")\"\"\""
   ]
  },
  {
   "cell_type": "code",
   "execution_count": 45,
   "id": "3d3da491",
   "metadata": {},
   "outputs": [],
   "source": [
    "chamartin.rename(columns={\n",
    "    'item-link': 'descripcion',\n",
    "    'item-link href': 'link',\n",
    "    'item-price': 'precio',\n",
    "    'item-detail': 'habitaciones',\n",
    "}, inplace=True)"
   ]
  },
  {
   "cell_type": "code",
   "execution_count": 46,
   "id": "ac066562",
   "metadata": {
    "scrolled": true
   },
   "outputs": [
    {
     "data": {
      "text/plain": [
       "descripcion        0\n",
       "link               0\n",
       "precio             0\n",
       "habitaciones       0\n",
       "zona               0\n",
       "superficie         0\n",
       "detalles        9946\n",
       "dtype: int64"
      ]
     },
     "execution_count": 46,
     "metadata": {},
     "output_type": "execute_result"
    }
   ],
   "source": [
    "chamartin.isna().sum()"
   ]
  },
  {
   "cell_type": "code",
   "execution_count": 47,
   "id": "31194fdd",
   "metadata": {},
   "outputs": [],
   "source": [
    "chamartin['detalles'] = chamartin.apply(lambda row: '1' if 'chalet' in str(row['descripcion']) else row['detalles'], axis=1)\n",
    "chamartin['detalles'] = chamartin.apply(lambda row: '1' if 'casa' in str(row['descripcion']) else row['detalles'], axis=1)\n",
    "chamartin['detalles'] = chamartin.apply(lambda row: '1' if 'finca' in str(row['descripcion']) else row['detalles'], axis=1)\n",
    "chamartin['detalles'] = chamartin.apply(lambda row: '5' if 'estudio' in str(row['descripcion']) else row['detalles'], axis=1)\n",
    "chamartin['detalles'] = chamartin.apply(lambda row: '6' if 'dúplex' in str(row['descripcion']) else row['detalles'], axis=1)\n",
    "chamartin['detalles'] = chamartin.apply(lambda row: '0' if 'piso' in str(row['descripcion']) else row['detalles'], axis=1)"
   ]
  },
  {
   "cell_type": "code",
   "execution_count": 48,
   "id": "bc713839",
   "metadata": {},
   "outputs": [
    {
     "data": {
      "text/html": [
       "<div>\n",
       "<style scoped>\n",
       "    .dataframe tbody tr th:only-of-type {\n",
       "        vertical-align: middle;\n",
       "    }\n",
       "\n",
       "    .dataframe tbody tr th {\n",
       "        vertical-align: top;\n",
       "    }\n",
       "\n",
       "    .dataframe thead th {\n",
       "        text-align: right;\n",
       "    }\n",
       "</style>\n",
       "<table border=\"1\" class=\"dataframe\">\n",
       "  <thead>\n",
       "    <tr style=\"text-align: right;\">\n",
       "      <th></th>\n",
       "      <th>descripcion</th>\n",
       "      <th>link</th>\n",
       "      <th>precio</th>\n",
       "      <th>habitaciones</th>\n",
       "      <th>zona</th>\n",
       "      <th>superficie</th>\n",
       "      <th>detalles</th>\n",
       "    </tr>\n",
       "  </thead>\n",
       "  <tbody>\n",
       "    <tr>\n",
       "      <th>0</th>\n",
       "      <td>casa de pueblo en calle de las golondrinas, 2,...</td>\n",
       "      <td>https://www.idealista.com/inmueble/93823398/</td>\n",
       "      <td>24.0</td>\n",
       "      <td>1</td>\n",
       "      <td>corredorhenares</td>\n",
       "      <td>45</td>\n",
       "      <td>1</td>\n",
       "    </tr>\n",
       "    <tr>\n",
       "      <th>1</th>\n",
       "      <td>chalet adosado en calle gran via, los santos d...</td>\n",
       "      <td>https://www.idealista.com/inmueble/103882635/</td>\n",
       "      <td>29.9</td>\n",
       "      <td>2</td>\n",
       "      <td>corredorhenares</td>\n",
       "      <td>72</td>\n",
       "      <td>1</td>\n",
       "    </tr>\n",
       "    <tr>\n",
       "      <th>2</th>\n",
       "      <td>casa o chalet independiente en calle de sergio...</td>\n",
       "      <td>https://www.idealista.com/inmueble/104195456/</td>\n",
       "      <td>47.7</td>\n",
       "      <td>3</td>\n",
       "      <td>corredorhenares</td>\n",
       "      <td>92</td>\n",
       "      <td>1</td>\n",
       "    </tr>\n",
       "    <tr>\n",
       "      <th>3</th>\n",
       "      <td>chalet adosado en calle de sergio caballero, p...</td>\n",
       "      <td>https://www.idealista.com/inmueble/96562054/</td>\n",
       "      <td>47.7</td>\n",
       "      <td>3</td>\n",
       "      <td>corredorhenares</td>\n",
       "      <td>92</td>\n",
       "      <td>1</td>\n",
       "    </tr>\n",
       "    <tr>\n",
       "      <th>4</th>\n",
       "      <td>casa o chalet independiente en calle barrio ol...</td>\n",
       "      <td>https://www.idealista.com/inmueble/102907597/</td>\n",
       "      <td>49.0</td>\n",
       "      <td>3</td>\n",
       "      <td>corredorhenares</td>\n",
       "      <td>134</td>\n",
       "      <td>1</td>\n",
       "    </tr>\n",
       "    <tr>\n",
       "      <th>...</th>\n",
       "      <td>...</td>\n",
       "      <td>...</td>\n",
       "      <td>...</td>\n",
       "      <td>...</td>\n",
       "      <td>...</td>\n",
       "      <td>...</td>\n",
       "      <td>...</td>\n",
       "    </tr>\n",
       "    <tr>\n",
       "      <th>17998</th>\n",
       "      <td>casa o chalet independiente en chinchón</td>\n",
       "      <td>https://www.idealista.com/inmueble/99405606/</td>\n",
       "      <td>1.400.000</td>\n",
       "      <td>12</td>\n",
       "      <td>sureste</td>\n",
       "      <td>805</td>\n",
       "      <td>1</td>\n",
       "    </tr>\n",
       "    <tr>\n",
       "      <th>17999</th>\n",
       "      <td>finca rústica en chinchón</td>\n",
       "      <td>https://www.idealista.com/inmueble/98066612/</td>\n",
       "      <td>1.400.000</td>\n",
       "      <td>10</td>\n",
       "      <td>sureste</td>\n",
       "      <td>950</td>\n",
       "      <td>1</td>\n",
       "    </tr>\n",
       "    <tr>\n",
       "      <th>18000</th>\n",
       "      <td>casa o chalet independiente en centro, aranjuez</td>\n",
       "      <td>https://www.idealista.com/inmueble/104098500/</td>\n",
       "      <td>1.500.000</td>\n",
       "      <td>5</td>\n",
       "      <td>sureste</td>\n",
       "      <td>500</td>\n",
       "      <td>1</td>\n",
       "    </tr>\n",
       "    <tr>\n",
       "      <th>18001</th>\n",
       "      <td>finca rústica en el mirador - grillero, arganda</td>\n",
       "      <td>https://www.idealista.com/inmueble/103242472/</td>\n",
       "      <td>2.000.000</td>\n",
       "      <td>1</td>\n",
       "      <td>sureste</td>\n",
       "      <td>3000</td>\n",
       "      <td>1</td>\n",
       "    </tr>\n",
       "    <tr>\n",
       "      <th>18002</th>\n",
       "      <td>casa o chalet independiente en diseminado de l...</td>\n",
       "      <td>https://www.idealista.com/inmueble/103014794/</td>\n",
       "      <td>2.100.000</td>\n",
       "      <td>7</td>\n",
       "      <td>sureste</td>\n",
       "      <td>600</td>\n",
       "      <td>1</td>\n",
       "    </tr>\n",
       "  </tbody>\n",
       "</table>\n",
       "<p>18003 rows × 7 columns</p>\n",
       "</div>"
      ],
      "text/plain": [
       "                                             descripcion  \\\n",
       "0      casa de pueblo en calle de las golondrinas, 2,...   \n",
       "1      chalet adosado en calle gran via, los santos d...   \n",
       "2      casa o chalet independiente en calle de sergio...   \n",
       "3      chalet adosado en calle de sergio caballero, p...   \n",
       "4      casa o chalet independiente en calle barrio ol...   \n",
       "...                                                  ...   \n",
       "17998            casa o chalet independiente en chinchón   \n",
       "17999                          finca rústica en chinchón   \n",
       "18000    casa o chalet independiente en centro, aranjuez   \n",
       "18001    finca rústica en el mirador - grillero, arganda   \n",
       "18002  casa o chalet independiente en diseminado de l...   \n",
       "\n",
       "                                                link     precio  habitaciones  \\\n",
       "0       https://www.idealista.com/inmueble/93823398/       24.0             1   \n",
       "1      https://www.idealista.com/inmueble/103882635/       29.9             2   \n",
       "2      https://www.idealista.com/inmueble/104195456/       47.7             3   \n",
       "3       https://www.idealista.com/inmueble/96562054/       47.7             3   \n",
       "4      https://www.idealista.com/inmueble/102907597/       49.0             3   \n",
       "...                                              ...        ...           ...   \n",
       "17998   https://www.idealista.com/inmueble/99405606/  1.400.000            12   \n",
       "17999   https://www.idealista.com/inmueble/98066612/  1.400.000            10   \n",
       "18000  https://www.idealista.com/inmueble/104098500/  1.500.000             5   \n",
       "18001  https://www.idealista.com/inmueble/103242472/  2.000.000             1   \n",
       "18002  https://www.idealista.com/inmueble/103014794/  2.100.000             7   \n",
       "\n",
       "                  zona  superficie detalles  \n",
       "0      corredorhenares          45        1  \n",
       "1      corredorhenares          72        1  \n",
       "2      corredorhenares          92        1  \n",
       "3      corredorhenares          92        1  \n",
       "4      corredorhenares         134        1  \n",
       "...                ...         ...      ...  \n",
       "17998          sureste         805        1  \n",
       "17999          sureste         950        1  \n",
       "18000          sureste         500        1  \n",
       "18001          sureste        3000        1  \n",
       "18002          sureste         600        1  \n",
       "\n",
       "[18003 rows x 7 columns]"
      ]
     },
     "execution_count": 48,
     "metadata": {},
     "output_type": "execute_result"
    }
   ],
   "source": [
    "chamartin"
   ]
  },
  {
   "cell_type": "code",
   "execution_count": 49,
   "id": "53dbd334",
   "metadata": {},
   "outputs": [],
   "source": [
    "columnas_interesantes2 = ['descripcion','habitaciones','superficie','detalles']\n",
    "\n",
    "# Seleccionar las columnas de interés usando loc\n",
    "df_filtrado2 = chamartin.loc[:, columnas_interesantes2]"
   ]
  },
  {
   "cell_type": "code",
   "execution_count": null,
   "id": "4f2dab9b",
   "metadata": {},
   "outputs": [],
   "source": []
  },
  {
   "cell_type": "code",
   "execution_count": 50,
   "id": "92d53d82",
   "metadata": {},
   "outputs": [
    {
     "ename": "SyntaxError",
     "evalue": "invalid syntax (4008939058.py, line 1)",
     "output_type": "error",
     "traceback": [
      "\u001b[1;36m  Cell \u001b[1;32mIn[50], line 1\u001b[1;36m\u001b[0m\n\u001b[1;33m    df..value_counts()\u001b[0m\n\u001b[1;37m       ^\u001b[0m\n\u001b[1;31mSyntaxError\u001b[0m\u001b[1;31m:\u001b[0m invalid syntax\n"
     ]
    }
   ],
   "source": [
    "df..value_counts()"
   ]
  },
  {
   "cell_type": "code",
   "execution_count": null,
   "id": "9cd54ea2",
   "metadata": {},
   "outputs": [],
   "source": [
    "\"\"\"prueba = chamartin.loc[chamartin['descripcion'].str.contains('chalet', case=False, na=False), 'detalles'] = 'chalet'\n",
    "\n",
    "prueba\"\"\""
   ]
  },
  {
   "cell_type": "code",
   "execution_count": null,
   "id": "96105709",
   "metadata": {},
   "outputs": [],
   "source": [
    "#chamartin['detalles'] = chamartin.apply(lambda row: 'chalet' if 'chalet' in str(row['descripcion']) else row['detalles'], axis=1)"
   ]
  },
  {
   "cell_type": "code",
   "execution_count": null,
   "id": "3eeef4ba",
   "metadata": {
    "scrolled": true
   },
   "outputs": [],
   "source": [
    "chamartin"
   ]
  },
  {
   "cell_type": "code",
   "execution_count": null,
   "id": "4a6463f1",
   "metadata": {
    "scrolled": true
   },
   "outputs": [],
   "source": [
    "chamartin.isna().sum()"
   ]
  },
  {
   "cell_type": "code",
   "execution_count": null,
   "id": "fd7ce90c",
   "metadata": {},
   "outputs": [],
   "source": [
    "filas_con_nulos2 = df_filtrado2[df_filtrado2.isnull().any(axis=1)]\n",
    "filas_con_nulos2"
   ]
  },
  {
   "cell_type": "code",
   "execution_count": null,
   "id": "f704bb7c",
   "metadata": {
    "scrolled": true
   },
   "outputs": [],
   "source": [
    "chamartin.detalles.unique()"
   ]
  },
  {
   "cell_type": "code",
   "execution_count": null,
   "id": "33fbfd4b",
   "metadata": {},
   "outputs": [],
   "source": [
    "chamartin['detalles'].fillna('chalet', inplace=True)"
   ]
  },
  {
   "cell_type": "code",
   "execution_count": null,
   "id": "1ef29a2b",
   "metadata": {},
   "outputs": [],
   "source": [
    "chamartin['precio'].unique()"
   ]
  },
  {
   "cell_type": "code",
   "execution_count": null,
   "id": "b28e0157",
   "metadata": {},
   "outputs": [],
   "source": [
    "chamartin['precio'] = chamartin['precio'].astype(str).str.replace('.', '')"
   ]
  },
  {
   "cell_type": "code",
   "execution_count": null,
   "id": "6d97bf59",
   "metadata": {},
   "outputs": [],
   "source": [
    "chamartin.isna().sum()"
   ]
  },
  {
   "cell_type": "code",
   "execution_count": null,
   "id": "5c4e52e0",
   "metadata": {},
   "outputs": [],
   "source": [
    "chamartin['precio'] = chamartin['precio'].astype(int)\n",
    "\n",
    "chamartin['habitaciones'] = chamartin['habitaciones'].astype(int)"
   ]
  },
  {
   "cell_type": "code",
   "execution_count": null,
   "id": "bf6acb79",
   "metadata": {},
   "outputs": [],
   "source": [
    "sin_ascensor = chamartin['detalles'].str.contains('sin ascensor', case=False, regex=True)\n",
    "\n",
    "con_ascensor = chamartin['detalles'].str.contains('con ascensor', case=False, regex=True)\n",
    "\n",
    "chalet = chamartin['detalles'].str.contains('chalet', case=False, regex=True)\n",
    "\n",
    "chamartin['ascensor'] = ''\n",
    "\n",
    "chamartin.loc[sin_ascensor, 'ascensor'] = 0\n",
    "\n",
    "chamartin.loc[con_ascensor, 'ascensor'] = 1\n",
    "\n",
    "chamartin.loc[chalet, 'ascensor'] = 2"
   ]
  },
  {
   "cell_type": "code",
   "execution_count": null,
   "id": "15d8a39d",
   "metadata": {},
   "outputs": [],
   "source": [
    "condi = ~chamartin['ascensor'].astype(str).isin(['0', '1', '2'])\n",
    "\n",
    "chamartin.loc[condi, 'ascensor'] = 3\n",
    "\n",
    "chamartin['ascensor'] = chamartin['ascensor'].astype(int)"
   ]
  },
  {
   "cell_type": "code",
   "execution_count": null,
   "id": "35e20128",
   "metadata": {
    "scrolled": true
   },
   "outputs": [],
   "source": [
    "interior = chamartin['detalles'].str.contains('interior', case=False, regex=True)\n",
    "\n",
    "exterior = chamartin['detalles'].str.contains('exterior', case=False, regex=True)\n",
    "\n",
    "chalet = chamartin['detalles'].str.contains('chalet', case=False, regex=True)\n",
    "\n",
    "chamartin['caract'] = ''\n",
    "\n",
    "chamartin.loc[interior, 'caract'] = 0\n",
    "\n",
    "chamartin.loc[exterior, 'caract'] = 1\n",
    "\n",
    "chamartin.loc[chalet, 'caract'] = 2"
   ]
  },
  {
   "cell_type": "code",
   "execution_count": null,
   "id": "19f7e8cf",
   "metadata": {},
   "outputs": [],
   "source": [
    "condi = ~chamartin['caract'].astype(str).isin(['0', '1', '2'])\n",
    "\n",
    "chamartin.loc[condi, 'caract'] = 3\n",
    "\n",
    "chamartin['caract'] = chamartin['caract'].astype(int)"
   ]
  },
  {
   "cell_type": "code",
   "execution_count": null,
   "id": "2fa8aaf0",
   "metadata": {},
   "outputs": [],
   "source": [
    "chamartin['detalles'] = chamartin['detalles'].str.lower()"
   ]
  },
  {
   "cell_type": "code",
   "execution_count": null,
   "id": "ecc84e2c",
   "metadata": {},
   "outputs": [],
   "source": [
    "condiciones = {\n",
    "    'chalet': -4, 'sótano': -2, 'entreplanta': -1, 'bajo': 0, '10': 10,\n",
    "    '11': 11, '12': 12, '13': 13, '14': 14, '15': 15, '16': 16, '17': 17,\n",
    "    '18': 18, '19': 19, '20': 20, '21': 21, '22': 22, '23': 23, '24': 24, \n",
    "    '25': 25, '26': 26, '27': 27, '28': 28, '29': 29, '30': 30\n",
    "}\n",
    "\n",
    "chamartin['planta'] = None\n",
    "\n",
    "for condicion, valor in condiciones.items():\n",
    "\n",
    "    mask = chamartin['detalles'].str.contains(condicion, case=False, na=False)\n",
    "\n",
    "    chamartin.loc[mask, 'planta'] = valor"
   ]
  },
  {
   "cell_type": "code",
   "execution_count": null,
   "id": "c3845fae",
   "metadata": {},
   "outputs": [],
   "source": [
    "words_to_remove = ['sótano', 'entreplanta', 'bajo', '10ª', '11ª', '12ª', '13ª', '14ª', '15ª', '16ª', '17ª',\n",
    "                   '18ª', '19ª', '20ª', '21ª', '22ª', '23ª', '24ª', '25ª', '26ª', '27ª', '28ª', '29ª', '30ª' \n",
    "                  ]\n",
    "\n",
    "# Crear la expresión regular para buscar las palabras en la lista\n",
    "pattern = '|'.join(r'\\b{}\\b'.format(word) for word in words_to_remove)\n",
    "\n",
    "# Aplicar el reemplazo en la columna 'col1'\n",
    "chamartin['detalles'] = chamartin['detalles'].str.replace(pattern, '', regex=True)"
   ]
  },
  {
   "cell_type": "code",
   "execution_count": null,
   "id": "0fd17dfe",
   "metadata": {},
   "outputs": [],
   "source": [
    "condicion2 = {'1': 1, '2': 2, '3': 3, '4': 4,\n",
    "    '5': 5, '6': 6, '7': 7, '8': 8, '9': 9,\n",
    "}\n",
    "\n",
    "chamartin['planta2'] = None\n",
    "\n",
    "for condicion, valor in condicion2.items():\n",
    "\n",
    "    mask2 = chamartin['detalles'].str.contains(condicion, case=False, na=False)\n",
    "\n",
    "    chamartin.loc[mask2, 'planta2'] = valor"
   ]
  },
  {
   "cell_type": "code",
   "execution_count": null,
   "id": "d58512d6",
   "metadata": {},
   "outputs": [],
   "source": [
    "condi = ~chamartin['caract'].astype(str).isin(['0', '1', '2'])\n",
    "\n",
    "chamartin.loc[condi, 'caract'] = 3\n",
    "\n",
    "chamartin['caract'] = chamartin['caract'].astype(int)"
   ]
  },
  {
   "cell_type": "code",
   "execution_count": null,
   "id": "131c53a2",
   "metadata": {},
   "outputs": [],
   "source": [
    "chamartin['plantas'] = chamartin['planta'].combine_first(chamartin['planta2'])\n",
    "\n",
    "chamartin.drop(columns=['planta', 'planta2'], inplace=True)"
   ]
  },
  {
   "cell_type": "code",
   "execution_count": null,
   "id": "d5f5d589",
   "metadata": {},
   "outputs": [],
   "source": [
    "chamartin['plantas'].fillna(-3, inplace=True)"
   ]
  },
  {
   "cell_type": "code",
   "execution_count": null,
   "id": "1e9344bb",
   "metadata": {},
   "outputs": [],
   "source": [
    "chamartin.drop(columns='detalles',inplace=True)"
   ]
  },
  {
   "cell_type": "code",
   "execution_count": null,
   "id": "f6684667",
   "metadata": {},
   "outputs": [],
   "source": [
    "chamartin['descripcion'] = chamartin['descripcion'].str.lower()"
   ]
  },
  {
   "cell_type": "code",
   "execution_count": null,
   "id": "91a958c1",
   "metadata": {},
   "outputs": [],
   "source": [
    "chamartin"
   ]
  },
  {
   "cell_type": "code",
   "execution_count": null,
   "id": "05934ee0",
   "metadata": {},
   "outputs": [],
   "source": [
    "mappings = {'piso': 0, 'chalet': 1, 'ático': 2, 'dúplex': 3, 'estudio': 4}\n",
    "\n",
    "chamartin['descripcion'] = chamartin['descripcion'].replace(mappings, regex=True)"
   ]
  },
  {
   "cell_type": "code",
   "execution_count": null,
   "id": "4160bc8a",
   "metadata": {},
   "outputs": [],
   "source": [
    "chamartin[chamartin['descripcion']==1]"
   ]
  },
  {
   "cell_type": "code",
   "execution_count": null,
   "id": "8db11cb9",
   "metadata": {
    "scrolled": true
   },
   "outputs": [],
   "source": [
    "chamartin[chamartin['ascensor']==2]"
   ]
  },
  {
   "cell_type": "code",
   "execution_count": null,
   "id": "9f2b7357",
   "metadata": {
    "scrolled": true
   },
   "outputs": [],
   "source": [
    "chamartin.plantas.value_counts()"
   ]
  },
  {
   "cell_type": "code",
   "execution_count": null,
   "id": "922a75ce",
   "metadata": {},
   "outputs": [],
   "source": [
    "chamartin.descripcion.value_counts()"
   ]
  },
  {
   "cell_type": "code",
   "execution_count": null,
   "id": "06eeee60",
   "metadata": {},
   "outputs": [],
   "source": [
    "chamartin.ascensor.value_counts()"
   ]
  },
  {
   "cell_type": "code",
   "execution_count": null,
   "id": "72253647",
   "metadata": {},
   "outputs": [],
   "source": [
    "chamartin.caract.value_counts()"
   ]
  },
  {
   "cell_type": "code",
   "execution_count": null,
   "id": "14a4beb7",
   "metadata": {
    "scrolled": true
   },
   "outputs": [],
   "source": [
    "prueba = chamartin[(chamartin['plantas']==-4) & (chamartin['descripcion']==0)]\n",
    "\n",
    "prueba"
   ]
  },
  {
   "cell_type": "code",
   "execution_count": null,
   "id": "e73dffe7",
   "metadata": {},
   "outputs": [],
   "source": [
    "indices = [38, 49, 1585, 2808, 4039, 4089, 4113, 4117, 4214, 4227, 4413, 7292, 8031, 8259, 12491, 13856, 13907, 13917, 17027, 17047]\n",
    "\n",
    "chamartin.loc[indices, 'ascensor'] = 3"
   ]
  },
  {
   "cell_type": "code",
   "execution_count": null,
   "id": "8fe7db2f",
   "metadata": {},
   "outputs": [],
   "source": [
    "indices = [38, 49, 1585, 2808, 4039, 4089, 4113, 4117, 4214, 4227, 4413, 7292, 8031, 8259, 12491, 13856, 13907, 13917, 17027, 17047]\n",
    "\n",
    "chamartin.loc[indices, 'plantas'] = -3"
   ]
  },
  {
   "cell_type": "code",
   "execution_count": null,
   "id": "b93a2494",
   "metadata": {},
   "outputs": [],
   "source": [
    "madrid_centro = chamartin.drop(columns='link')"
   ]
  },
  {
   "cell_type": "code",
   "execution_count": null,
   "id": "5bd266b5",
   "metadata": {},
   "outputs": [],
   "source": [
    "nuevo_orden_columnas = ['descripcion', 'zona', 'precio','superficie','habitaciones','plantas','caract','ascensor']\n",
    "\n",
    "madrid_centro = madrid_centro[nuevo_orden_columnas]\n",
    "\n",
    "madrid_centro"
   ]
  },
  {
   "cell_type": "code",
   "execution_count": null,
   "id": "a83ebf53",
   "metadata": {},
   "outputs": [],
   "source": [
    "madrid_centro.to_csv('madrid_centro_compra_03.2024.csv')"
   ]
  }
 ],
 "metadata": {
  "kernelspec": {
   "display_name": "Python 3 (ipykernel)",
   "language": "python",
   "name": "python3"
  },
  "language_info": {
   "codemirror_mode": {
    "name": "ipython",
    "version": 3
   },
   "file_extension": ".py",
   "mimetype": "text/x-python",
   "name": "python",
   "nbconvert_exporter": "python",
   "pygments_lexer": "ipython3",
   "version": "3.11.5"
  }
 },
 "nbformat": 4,
 "nbformat_minor": 5
}
