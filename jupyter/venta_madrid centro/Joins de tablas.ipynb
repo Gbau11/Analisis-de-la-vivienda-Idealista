{
 "cells": [
  {
   "cell_type": "code",
   "execution_count": 2,
   "id": "8f6713ff",
   "metadata": {},
   "outputs": [],
   "source": [
    "import pandas as pd\n",
    "import numpy as np\n",
    "pd.set_option('display.max_columns', None)"
   ]
  },
  {
   "cell_type": "code",
   "execution_count": 6,
   "id": "1ea3f6e1",
   "metadata": {},
   "outputs": [],
   "source": [
    "arganzuela = pd.read_csv('../../data/arganzuela_total.csv')\n",
    "barajas = pd.read_csv('../../data/barajas_total.csv')\n",
    "bsalamanca_min_900k = pd.read_csv('../../data/barriosalamanca_min-900k.csv')\n",
    "bsalamanca_900k_max = pd.read_csv('../../data/barriosalamanca_900k-max.csv')\n",
    "arganzuela = pd.read_csv('../../data/arganzuela_total.csv')\n",
    "arganzuela = pd.read_csv('../../data/arganzuela_total.csv')\n",
    "arganzuela = pd.read_csv('../../data/arganzuela_total.csv')\n",
    "arganzuela = pd.read_csv('../../data/arganzuela_total.csv')\n",
    "arganzuela = pd.read_csv('../../data/arganzuela_total.csv')\n",
    "arganzuela = pd.read_csv('../../data/arganzuela_total.csv')"
   ]
  },
  {
   "cell_type": "code",
   "execution_count": null,
   "id": "57422472",
   "metadata": {},
   "outputs": [],
   "source": []
  },
  {
   "cell_type": "code",
   "execution_count": null,
   "id": "a2d6aaf8",
   "metadata": {},
   "outputs": [],
   "source": []
  },
  {
   "cell_type": "code",
   "execution_count": null,
   "id": "53961568",
   "metadata": {},
   "outputs": [],
   "source": []
  },
  {
   "cell_type": "code",
   "execution_count": null,
   "id": "9f0256d5",
   "metadata": {},
   "outputs": [],
   "source": []
  },
  {
   "cell_type": "code",
   "execution_count": null,
   "id": "89ca476c",
   "metadata": {},
   "outputs": [],
   "source": []
  },
  {
   "cell_type": "code",
   "execution_count": null,
   "id": "92edfdef",
   "metadata": {},
   "outputs": [],
   "source": []
  },
  {
   "cell_type": "code",
   "execution_count": null,
   "id": "15ef6734",
   "metadata": {},
   "outputs": [],
   "source": []
  },
  {
   "cell_type": "code",
   "execution_count": null,
   "id": "4d120e89",
   "metadata": {},
   "outputs": [],
   "source": []
  },
  {
   "cell_type": "code",
   "execution_count": null,
   "id": "0628e743",
   "metadata": {},
   "outputs": [],
   "source": []
  }
 ],
 "metadata": {
  "kernelspec": {
   "display_name": "Python 3 (ipykernel)",
   "language": "python",
   "name": "python3"
  },
  "language_info": {
   "codemirror_mode": {
    "name": "ipython",
    "version": 3
   },
   "file_extension": ".py",
   "mimetype": "text/x-python",
   "name": "python",
   "nbconvert_exporter": "python",
   "pygments_lexer": "ipython3",
   "version": "3.11.5"
  }
 },
 "nbformat": 4,
 "nbformat_minor": 5
}
