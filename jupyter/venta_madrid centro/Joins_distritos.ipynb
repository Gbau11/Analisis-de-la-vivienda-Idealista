{
 "cells": [
  {
   "cell_type": "code",
   "execution_count": 2,
   "id": "356a4715",
   "metadata": {},
   "outputs": [],
   "source": [
    "import pandas as pd\n",
    "import numpy as np\n",
    "pd.set_option('display.max_columns', None)"
   ]
  },
  {
   "cell_type": "code",
   "execution_count": 7,
   "id": "35481ee0",
   "metadata": {},
   "outputs": [],
   "source": [
    "arganzuela = pd.read_csv('../../data/arganzuela_total.csv')\n",
    "barajas = pd.read_csv('../../data/barajas_total.csv')\n",
    "bsalamanca_min_900k = pd.read_csv('../../data/barriosalamanca_min-900k.csv')\n",
    "bsalamanca_900k_max = pd.read_csv('../../data/barriosalamanca_900k-max.csv')\n",
    "carabanchel = pd.read_csv('../../data/carabanchel_total.csv')\n",
    "centro_min_700k = pd.read_csv('../../data/centro_min-700k.csv')\n",
    "centro_700k_max = pd.read_csv('../../data/centro_700k-max.csv')\n",
    "chamartin = pd.read_csv('../../data/chamartin_total.csv')\n",
    "chamberi = pd.read_csv('../../data/chamberi_total.csv')\n",
    "ciudadlineal = pd.read_csv('../../data/ciudadlineal_total.csv')\n",
    "fuencarral = pd.read_csv('../../data/fuencarral_total.csv')\n",
    "hortaleza = pd.read_csv('../../data/hortaleza_total.csv')\n",
    "latina = pd.read_csv('../../data/latina_total.csv')\n",
    "moncloa = pd.read_csv('../../data/moncloa_total.csv')\n",
    "moratalaz = pd.read_csv('../../data/moratalaz_total.csv')\n",
    "puentevallecas = pd.read_csv('../../data/puentevallecas_total.csv')\n",
    "retiro = pd.read_csv('../../data/retiro_total.csv')\n",
    "sanblas = pd.read_csv('../../data/sanblas_total.csv')\n",
    "tetuan = pd.read_csv('../../data/tetuan_total.csv')\n",
    "usera = pd.read_csv('../../data/usera_total.csv')\n",
    "vicalvaro = pd.read_csv('../../data/vicalvaro_total.csv')\n",
    "villavallecas = pd.read_csv('../../data/villavallecas_total.csv')\n",
    "villaverde = pd.read_csv('../../data/villaverde_total.csv')"
   ]
  },
  {
   "cell_type": "code",
   "execution_count": 10,
   "id": "16914f83",
   "metadata": {},
   "outputs": [
    {
     "data": {
      "text/plain": [
       "((894, 15), (1374, 17), (1458, 15), (969, 15))"
      ]
     },
     "execution_count": 10,
     "metadata": {},
     "output_type": "execute_result"
    }
   ],
   "source": [
    "chamberi.shape, ciudadlineal.shape, centro_700k_max.shape, chamartin.shape"
   ]
  },
  {
   "cell_type": "code",
   "execution_count": null,
   "id": "1a8dd04b",
   "metadata": {},
   "outputs": [],
   "source": []
  },
  {
   "cell_type": "code",
   "execution_count": null,
   "id": "f327c0be",
   "metadata": {},
   "outputs": [],
   "source": []
  },
  {
   "cell_type": "code",
   "execution_count": null,
   "id": "c6b90001",
   "metadata": {},
   "outputs": [],
   "source": []
  },
  {
   "cell_type": "code",
   "execution_count": null,
   "id": "14ff66d6",
   "metadata": {},
   "outputs": [],
   "source": []
  },
  {
   "cell_type": "code",
   "execution_count": null,
   "id": "d1a3f8af",
   "metadata": {},
   "outputs": [],
   "source": []
  },
  {
   "cell_type": "code",
   "execution_count": null,
   "id": "844d66c4",
   "metadata": {},
   "outputs": [],
   "source": []
  },
  {
   "cell_type": "code",
   "execution_count": null,
   "id": "642f9e82",
   "metadata": {},
   "outputs": [],
   "source": []
  },
  {
   "cell_type": "code",
   "execution_count": null,
   "id": "ed77e84f",
   "metadata": {},
   "outputs": [],
   "source": []
  }
 ],
 "metadata": {
  "kernelspec": {
   "display_name": "Python 3 (ipykernel)",
   "language": "python",
   "name": "python3"
  },
  "language_info": {
   "codemirror_mode": {
    "name": "ipython",
    "version": 3
   },
   "file_extension": ".py",
   "mimetype": "text/x-python",
   "name": "python",
   "nbconvert_exporter": "python",
   "pygments_lexer": "ipython3",
   "version": "3.11.5"
  }
 },
 "nbformat": 4,
 "nbformat_minor": 5
}
